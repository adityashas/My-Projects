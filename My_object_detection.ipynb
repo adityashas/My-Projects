{
 "cells": [
  {
   "cell_type": "code",
   "execution_count": null,
   "metadata": {},
   "outputs": [],
   "source": [
    "import numpy as np\n",
    "import argparse\n",
    "import cv2\n",
    "from imutils.video import VideoStream\n",
    "from imutils.video import FPS\n",
    "import numpy as np\n",
    "import argparse\n",
    "import imutils\n",
    "import time\n",
    "import cv2"
   ]
  },
  {
   "cell_type": "code",
   "execution_count": 7,
   "metadata": {},
   "outputs": [],
   "source": [
    "CLASSES = [\"background\", \"aeroplane\", \"bicycle\", \"bird\", \"boat\",\n",
    "\"bottle\", \"bus\", \"car\", \"cat\", \"chair\", \"cow\", \"diningtable\",\n",
    "\"dog\", \"horse\", \"motorbike\", \"person\", \"pottedplant\", \"sheep\",\n",
    "\"sofa\", \"train\", \"tvmonitor\"]\n",
    "COLORS = np.random.uniform(0, 255, size=(len(CLASSES), 3))"
   ]
  },
  {
   "cell_type": "code",
   "execution_count": 2,
   "metadata": {},
   "outputs": [],
   "source": [
    "CLASSES = [\"background\",  \"person\"]"
   ]
  },
  {
   "cell_type": "code",
   "execution_count": 8,
   "metadata": {},
   "outputs": [],
   "source": [
    "net = cv2.dnn.readNetFromCaffe('MobileNetSSD_deploy.prototxt.txt', 'MobileNetSSD_deploy.caffemodel')"
   ]
  },
  {
   "cell_type": "code",
   "execution_count": null,
   "metadata": {},
   "outputs": [],
   "source": [
    "cam = cv2.VideoCapture(0)\n",
    "\n",
    "\n",
    "while(cam.isOpened()):  # check !\n",
    "    # capture frame-by-frame\n",
    " ret, frame = cam.read()\n",
    "\n",
    " if ret: # check ! (some webcam's need a \"warmup\")\n",
    "        (h, w) = frame.shape[:2]\n",
    "        blob = cv2.dnn.blobFromImage(cv2.resize(frame, (300, 300)),0.007843, (300, 300), 127.5)\n",
    " \n",
    "        net.setInput(blob)\n",
    "        detections = net.forward()\n",
    "        \n",
    "        for i in np.arange(0, detections.shape[2]):\n",
    "            confidence = detections[0, 0, i, 2]\n",
    "            idx = int(detections[0, 0, i, 1])\n",
    "            box = detections[0, 0, i, 3:7] * np.array([w, h, w, h])\n",
    "            (startX, startY, endX, endY) = box.astype(\"int\")    \n",
    "            label = \"{}: {:.2f}%\".format(CLASSES[idx],confidence * 100)\n",
    "            cv2.rectangle(frame, (startX, startY), (endX, endY),COLORS[idx], 2)\n",
    "            y = startY - 15 if startY - 15 > 15 else startY + 15\n",
    "            cv2.putText(frame, label, (startX, y),cv2.FONT_HERSHEY_SIMPLEX, 0.5, COLORS[idx], 2)\n",
    "            \n",
    " cv2.imshow(\"Frame\", frame)\n",
    " key = cv2.waitKey(1) & 0xFF\n",
    " \n",
    "# if the `q` key was pressed, break from the loop\n",
    " if key == ord(\"q\"):\n",
    "   break\n",
    "\n",
    "#Close all the windows: \n",
    "cam.release()\n",
    "cv2.destroyAllWindows()"
   ]
  },
  {
   "cell_type": "code",
   "execution_count": null,
   "metadata": {},
   "outputs": [],
   "source": [
    "cam = cv2.VideoCapture(\"/home/seshu/xvidia/Face_Recognition/airtel/AirtelStore2133.104651.mp4\")\n",
    "\n",
    "count=0\n",
    "while(cam.isOpened()):  # check !\n",
    "    # capture frame-by-frame\n",
    " ret, frame = cam.read()\n",
    "\n",
    " if ret: # check ! (some webcam's need a \"warmup\")\n",
    "        (h, w) = frame.shape[:2]\n",
    "        blob = cv2.dnn.blobFromImage(cv2.resize(frame, (300, 300)),0.007843, (300, 300), 127.5)\n",
    " \n",
    "        net.setInput(blob)\n",
    "        detections = net.forward()\n",
    "        \n",
    "        for i in np.arange(0, detections.shape[2]):\n",
    "            confidence = detections[0, 0, i, 2]\n",
    "            idx = int(15)            \n",
    "            box = detections[0, 0, i, 3:7] * np.array([w, h, w, h])\n",
    "            (startX, startY, endX, endY) = box.astype(\"int\")    \n",
    "            label = \"{}: {:.2f}%\".format(CLASSES[idx],confidence * 100)\n",
    "            cv2.rectangle(frame, (startX, startY), (endX, endY),COLORS[idx], 2)\n",
    "            y = startY - 15 if startY - 15 > 15 else startY + 15\n",
    "            cv2.putText(frame, label, (startX, y),cv2.FONT_HERSHEY_SIMPLEX, 0.5, COLORS[idx], 2)\n",
    "            \n",
    " cv2.imshow(\"Frame\", frame)\n",
    " key = cv2.waitKey(1) & 0xFF\n",
    " \n",
    "# if the `q` key was pressed, break from the loop\n",
    " if key == ord(\"q\"):\n",
    "   break\n",
    "\n",
    "#Close all the windows: \n",
    "cam.release()\n",
    "cv2.destroyAllWindows()"
   ]
  },
  {
   "cell_type": "code",
   "execution_count": null,
   "metadata": {},
   "outputs": [],
   "source": [
    "hog = cv2.HOGDescriptor()\n",
    "hog.setSVMDetector(cv2.HOGDescriptor_getDefaultPeopleDetector())"
   ]
  },
  {
   "cell_type": "code",
   "execution_count": null,
   "metadata": {},
   "outputs": [],
   "source": [
    "from imutils.object_detection import non_max_suppression\n",
    "cam = cv2.VideoCapture(\"/home/seshu/xvidia/Face_Recognition/airtel/AirtelStore2133.104651.mp4\")\n",
    "\n",
    "\n",
    "while(cam.isOpened()):  # check !\n",
    "    # capture frame-by-frame\n",
    "    ret, image = cam.read()\n",
    "\t# load the image and resize it to (1) reduce detection time\n",
    "\t# and (2) improve detection accuracy\n",
    "    #image = cv2.imread(frame)\n",
    "    image = imutils.resize(image, width=min(400, image.shape[1]))\n",
    "    orig = image.copy()\n",
    " \n",
    "\t# detect people in the image\n",
    "    (rects, weights) = hog.detectMultiScale(image, winStride=(4, 4),padding=(8, 8), scale=1.05)\n",
    " \n",
    "\t# draw the original bounding boxes\n",
    "    for (x, y, w, h) in rects:\n",
    "     cv2.rectangle(orig, (x, y), (x + w, y + h), (0, 0, 255), 2)\n",
    " \n",
    "\t# apply non-maxima suppression to the bounding boxes using a\n",
    "\t# fairly large overlap threshold to try to maintain overlapping\n",
    "\t# boxes that are still people\n",
    "     rects = np.array([[x, y, x + w, y + h] for (x, y, w, h) in rects])\n",
    "     pick = non_max_suppression(rects, probs=None, overlapThresh=0.65)\n",
    " \n",
    "\t# draw the final bounding boxes\n",
    "     for (xA, yA, xB, yB) in pick:\n",
    "      cv2.rectangle(image, (xA, yA), (xB, yB), (0, 255, 0), 2)\n",
    " \n",
    "\t# show some information on the number of bounding boxes\n",
    "    #filename = imagePath[imagePath.rfind(\"/\") + 1:]\n",
    "    #print(\"[INFO] {}: {} original boxes, {} after suppression\".format(filename, len(rects), len(pick)))\n",
    " \n",
    "\t# show the output images\n",
    "     cv2.imshow(\"Before NMS\", orig)\n",
    "     cv2.imshow(\"After NMS\", image)\n",
    "     cv2.waitKey(0)"
   ]
  },
  {
   "cell_type": "code",
   "execution_count": null,
   "metadata": {},
   "outputs": [],
   "source": []
  }
 ],
 "metadata": {
  "kernelspec": {
   "display_name": "Python 3",
   "language": "python",
   "name": "python3"
  },
  "language_info": {
   "codemirror_mode": {
    "name": "ipython",
    "version": 3
   },
   "file_extension": ".py",
   "mimetype": "text/x-python",
   "name": "python",
   "nbconvert_exporter": "python",
   "pygments_lexer": "ipython3",
   "version": "3.5.2"
  }
 },
 "nbformat": 4,
 "nbformat_minor": 2
}
