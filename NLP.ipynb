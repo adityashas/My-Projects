{
 "cells": [
  {
   "cell_type": "code",
   "execution_count": 1,
   "metadata": {},
   "outputs": [
    {
     "name": "stderr",
     "output_type": "stream",
     "text": [
      "Using TensorFlow backend.\n",
      "/home/ubuntu/anaconda3/envs/tensorflow_p36/lib/python3.6/importlib/_bootstrap.py:205: RuntimeWarning: compiletime version 3.5 of module 'tensorflow.python.framework.fast_tensor_util' does not match runtime version 3.6\n",
      "  return f(*args, **kwds)\n"
     ]
    }
   ],
   "source": [
    "import numpy as np # linear algebra\n",
    "import pandas as pd # data processing, CSV file I/O (e.g. pd.read_csv)\n",
    "\n",
    "from sklearn.feature_extraction.text import CountVectorizer\n",
    "from keras.preprocessing.text import Tokenizer\n",
    "from keras.preprocessing.sequence import pad_sequences\n",
    "from keras.models import Sequential\n",
    "from keras.layers import Dense, Embedding, LSTM\n",
    "from sklearn.model_selection import train_test_split\n",
    "from keras.utils.np_utils import to_categorical\n",
    "import re\n"
   ]
  },
  {
   "cell_type": "code",
   "execution_count": 3,
   "metadata": {},
   "outputs": [],
   "source": [
    "data = pd.read_csv('Sheet_1.csv')\n",
    "# Keeping only the neccessary columns\n",
    "data = data[['class','response_text']]\n"
   ]
  },
  {
   "cell_type": "code",
   "execution_count": 4,
   "metadata": {},
   "outputs": [
    {
     "name": "stdout",
     "output_type": "stream",
     "text": [
      "50\n",
      "110\n"
     ]
    }
   ],
   "source": [
    "print(data[ data['class'] == 'flagged'].size)\n",
    "print(data[ data['class'] == 'not_flagged'].size)"
   ]
  },
  {
   "cell_type": "code",
   "execution_count": 5,
   "metadata": {},
   "outputs": [
    {
     "name": "stderr",
     "output_type": "stream",
     "text": [
      "/home/ubuntu/anaconda3/envs/tensorflow_p36/lib/python3.6/site-packages/keras/preprocessing/text.py:145: UserWarning: The `nb_words` argument in `Tokenizer` has been renamed `num_words`.\n",
      "  warnings.warn('The `nb_words` argument in `Tokenizer` '\n"
     ]
    }
   ],
   "source": [
    "max_fatures = 2000\n",
    "tokenizer = Tokenizer(nb_words=max_fatures, split=' ')\n",
    "tokenizer.fit_on_texts(data['class'].values)\n",
    "X = tokenizer.texts_to_sequences(data['class'].values)\n",
    "X = pad_sequences(X)\n",
    "\n"
   ]
  },
  {
   "cell_type": "code",
   "execution_count": 6,
   "metadata": {},
   "outputs": [
    {
     "name": "stderr",
     "output_type": "stream",
     "text": [
      "/home/ubuntu/anaconda3/envs/tensorflow_p36/lib/python3.6/site-packages/ipykernel/__main__.py:5: UserWarning: The `dropout` argument is no longer support in `Embedding`. You can apply a `keras.layers.SpatialDropout1D` layer right after the `Embedding` layer to get the same behavior.\n",
      "/home/ubuntu/anaconda3/envs/tensorflow_p36/lib/python3.6/site-packages/ipykernel/__main__.py:6: UserWarning: Update your `LSTM` call to the Keras 2 API: `LSTM(196, dropout=0.2, recurrent_dropout=0.2)`\n"
     ]
    },
    {
     "name": "stdout",
     "output_type": "stream",
     "text": [
      "_________________________________________________________________\n",
      "Layer (type)                 Output Shape              Param #   \n",
      "=================================================================\n",
      "embedding_1 (Embedding)      (None, 2, 128)            256000    \n",
      "_________________________________________________________________\n",
      "lstm_1 (LSTM)                (None, 196)               254800    \n",
      "_________________________________________________________________\n",
      "dense_1 (Dense)              (None, 2)                 394       \n",
      "=================================================================\n",
      "Total params: 511,194\n",
      "Trainable params: 511,194\n",
      "Non-trainable params: 0\n",
      "_________________________________________________________________\n",
      "None\n"
     ]
    }
   ],
   "source": [
    "embed_dim = 128\n",
    "lstm_out = 196\n",
    "\n",
    "model = Sequential()\n",
    "model.add(Embedding(max_fatures, embed_dim,input_length = X.shape[1], dropout=0.2))\n",
    "model.add(LSTM(lstm_out, dropout_U=0.2, dropout_W=0.2))\n",
    "model.add(Dense(2,activation='softmax'))\n",
    "model.compile(loss = 'categorical_crossentropy', optimizer='adam',metrics = ['accuracy'])\n",
    "print(model.summary())\n"
   ]
  },
  {
   "cell_type": "code",
   "execution_count": 12,
   "metadata": {},
   "outputs": [
    {
     "name": "stdout",
     "output_type": "stream",
     "text": [
      "(53, 2) (53, 2)\n",
      "(27, 2) (27, 2)\n"
     ]
    }
   ],
   "source": [
    "Y = pd.get_dummies(data['class']).values\n",
    "X_train, X_test, Y_train, Y_test = train_test_split(X,Y, test_size = 0.33, random_state = 42)\n",
    "print(X_train.shape,Y_train.shape)\n",
    "print(X_test.shape,Y_test.shape)\n",
    "\n"
   ]
  },
  {
   "cell_type": "code",
   "execution_count": 9,
   "metadata": {},
   "outputs": [
    {
     "name": "stdout",
     "output_type": "stream",
     "text": [
      "Epoch 1/50\n",
      "53/53 [==============================] - 0s 347us/step - loss: 0.4986 - acc: 0.6604\n",
      "Epoch 2/50\n",
      "53/53 [==============================] - 0s 303us/step - loss: 0.4488 - acc: 0.8302\n",
      "Epoch 3/50\n",
      "53/53 [==============================] - 0s 286us/step - loss: 0.3938 - acc: 0.9623\n",
      "Epoch 4/50\n",
      "53/53 [==============================] - 0s 296us/step - loss: 0.3342 - acc: 1.0000\n",
      "Epoch 5/50\n",
      "53/53 [==============================] - 0s 271us/step - loss: 0.2698 - acc: 1.0000\n",
      "Epoch 6/50\n",
      "53/53 [==============================] - 0s 265us/step - loss: 0.2063 - acc: 1.0000\n",
      "Epoch 7/50\n",
      "53/53 [==============================] - 0s 289us/step - loss: 0.1530 - acc: 1.0000\n",
      "Epoch 8/50\n",
      "53/53 [==============================] - 0s 258us/step - loss: 0.1032 - acc: 1.0000\n",
      "Epoch 9/50\n",
      "53/53 [==============================] - 0s 275us/step - loss: 0.0701 - acc: 1.0000\n",
      "Epoch 10/50\n",
      "53/53 [==============================] - 0s 237us/step - loss: 0.0415 - acc: 1.0000\n",
      "Epoch 11/50\n",
      "53/53 [==============================] - 0s 239us/step - loss: 0.0260 - acc: 1.0000\n",
      "Epoch 12/50\n",
      "53/53 [==============================] - 0s 242us/step - loss: 0.0167 - acc: 1.0000\n",
      "Epoch 13/50\n",
      "53/53 [==============================] - 0s 245us/step - loss: 0.0100 - acc: 1.0000\n"
     ]
    },
    {
     "name": "stderr",
     "output_type": "stream",
     "text": [
      "/home/ubuntu/anaconda3/envs/tensorflow_p36/lib/python3.6/site-packages/keras/models.py:939: UserWarning: The `nb_epoch` argument in `fit` has been renamed `epochs`.\n",
      "  warnings.warn('The `nb_epoch` argument in `fit` '\n"
     ]
    },
    {
     "name": "stdout",
     "output_type": "stream",
     "text": [
      "Epoch 14/50\n",
      "53/53 [==============================] - 0s 317us/step - loss: 0.0076 - acc: 1.0000\n",
      "Epoch 15/50\n",
      "53/53 [==============================] - 0s 280us/step - loss: 0.0044 - acc: 1.0000\n",
      "Epoch 16/50\n",
      "53/53 [==============================] - 0s 269us/step - loss: 0.0038 - acc: 1.0000\n",
      "Epoch 17/50\n",
      "53/53 [==============================] - 0s 255us/step - loss: 0.0022 - acc: 1.0000\n",
      "Epoch 18/50\n",
      "53/53 [==============================] - 0s 260us/step - loss: 0.0018 - acc: 1.0000\n",
      "Epoch 19/50\n",
      "53/53 [==============================] - 0s 281us/step - loss: 0.0013 - acc: 1.0000\n",
      "Epoch 20/50\n",
      "53/53 [==============================] - 0s 249us/step - loss: 0.0011 - acc: 1.0000\n",
      "Epoch 21/50\n",
      "53/53 [==============================] - 0s 243us/step - loss: 8.6063e-04 - acc: 1.0000\n",
      "Epoch 22/50\n",
      "53/53 [==============================] - 0s 268us/step - loss: 7.1827e-04 - acc: 1.0000\n",
      "Epoch 23/50\n",
      "53/53 [==============================] - 0s 237us/step - loss: 6.5050e-04 - acc: 1.0000\n",
      "Epoch 24/50\n",
      "53/53 [==============================] - 0s 253us/step - loss: 5.7820e-04 - acc: 1.0000\n",
      "Epoch 25/50\n",
      "53/53 [==============================] - 0s 262us/step - loss: 5.1905e-04 - acc: 1.0000\n",
      "Epoch 26/50\n",
      "53/53 [==============================] - 0s 293us/step - loss: 4.6335e-04 - acc: 1.0000\n",
      "Epoch 27/50\n",
      "53/53 [==============================] - 0s 247us/step - loss: 4.6118e-04 - acc: 1.0000\n",
      "Epoch 28/50\n",
      "53/53 [==============================] - 0s 293us/step - loss: 4.1076e-04 - acc: 1.0000\n",
      "Epoch 29/50\n",
      "53/53 [==============================] - 0s 255us/step - loss: 3.3338e-04 - acc: 1.0000\n",
      "Epoch 30/50\n",
      "53/53 [==============================] - 0s 257us/step - loss: 3.3625e-04 - acc: 1.0000\n",
      "Epoch 31/50\n",
      "53/53 [==============================] - 0s 262us/step - loss: 3.1998e-04 - acc: 1.0000\n",
      "Epoch 32/50\n",
      "53/53 [==============================] - 0s 247us/step - loss: 3.3144e-04 - acc: 1.0000\n",
      "Epoch 33/50\n",
      "53/53 [==============================] - 0s 247us/step - loss: 3.2136e-04 - acc: 1.0000\n",
      "Epoch 34/50\n",
      "53/53 [==============================] - 0s 237us/step - loss: 2.7271e-04 - acc: 1.0000\n",
      "Epoch 35/50\n",
      "53/53 [==============================] - 0s 245us/step - loss: 3.0128e-04 - acc: 1.0000\n",
      "Epoch 36/50\n",
      "53/53 [==============================] - 0s 259us/step - loss: 2.5330e-04 - acc: 1.0000\n",
      "Epoch 37/50\n",
      "53/53 [==============================] - 0s 275us/step - loss: 2.8798e-04 - acc: 1.0000\n",
      "Epoch 38/50\n",
      "53/53 [==============================] - 0s 252us/step - loss: 2.5782e-04 - acc: 1.0000\n",
      "Epoch 39/50\n",
      "53/53 [==============================] - 0s 267us/step - loss: 2.3826e-04 - acc: 1.0000\n",
      "Epoch 40/50\n",
      "53/53 [==============================] - 0s 268us/step - loss: 2.4355e-04 - acc: 1.0000\n",
      "Epoch 41/50\n",
      "53/53 [==============================] - 0s 239us/step - loss: 2.6279e-04 - acc: 1.0000\n",
      "Epoch 42/50\n",
      "53/53 [==============================] - 0s 278us/step - loss: 2.3563e-04 - acc: 1.0000\n",
      "Epoch 43/50\n",
      "53/53 [==============================] - 0s 258us/step - loss: 2.2738e-04 - acc: 1.0000\n",
      "Epoch 44/50\n",
      "53/53 [==============================] - 0s 244us/step - loss: 2.2281e-04 - acc: 1.0000\n",
      "Epoch 45/50\n",
      "53/53 [==============================] - 0s 298us/step - loss: 2.2004e-04 - acc: 1.0000\n",
      "Epoch 46/50\n",
      "53/53 [==============================] - 0s 258us/step - loss: 2.3806e-04 - acc: 1.0000\n",
      "Epoch 47/50\n",
      "53/53 [==============================] - 0s 251us/step - loss: 2.2418e-04 - acc: 1.0000\n",
      "Epoch 48/50\n",
      "53/53 [==============================] - 0s 253us/step - loss: 2.0363e-04 - acc: 1.0000\n",
      "Epoch 49/50\n",
      "53/53 [==============================] - 0s 278us/step - loss: 2.0940e-04 - acc: 1.0000\n",
      "Epoch 50/50\n",
      "53/53 [==============================] - 0s 249us/step - loss: 2.1329e-04 - acc: 1.0000\n"
     ]
    },
    {
     "data": {
      "text/plain": [
       "<keras.callbacks.History at 0x7f83e8189cc0>"
      ]
     },
     "execution_count": 9,
     "metadata": {},
     "output_type": "execute_result"
    }
   ],
   "source": [
    "batch_size = 32\n",
    "model.fit(X_train, Y_train, nb_epoch = 50, batch_size=batch_size, verbose = 1)"
   ]
  },
  {
   "cell_type": "code",
   "execution_count": 10,
   "metadata": {},
   "outputs": [
    {
     "ename": "ValueError",
     "evalue": "not enough values to unpack (expected 2, got 0)",
     "output_type": "error",
     "traceback": [
      "\u001b[0;31m---------------------------------------------------------------------------\u001b[0m",
      "\u001b[0;31mValueError\u001b[0m                                Traceback (most recent call last)",
      "\u001b[0;32m<ipython-input-10-1e54ca793183>\u001b[0m in \u001b[0;36m<module>\u001b[0;34m()\u001b[0m\n\u001b[1;32m      5\u001b[0m \u001b[0mX_test\u001b[0m \u001b[0;34m=\u001b[0m \u001b[0mX_test\u001b[0m\u001b[0;34m[\u001b[0m\u001b[0;34m:\u001b[0m\u001b[0;34m-\u001b[0m\u001b[0mvalidation_size\u001b[0m\u001b[0;34m]\u001b[0m\u001b[0;34m\u001b[0m\u001b[0m\n\u001b[1;32m      6\u001b[0m \u001b[0mY_test\u001b[0m \u001b[0;34m=\u001b[0m \u001b[0mY_test\u001b[0m\u001b[0;34m[\u001b[0m\u001b[0;34m:\u001b[0m\u001b[0;34m-\u001b[0m\u001b[0mvalidation_size\u001b[0m\u001b[0;34m]\u001b[0m\u001b[0;34m\u001b[0m\u001b[0m\n\u001b[0;32m----> 7\u001b[0;31m \u001b[0mscore\u001b[0m\u001b[0;34m,\u001b[0m\u001b[0macc\u001b[0m \u001b[0;34m=\u001b[0m \u001b[0mmodel\u001b[0m\u001b[0;34m.\u001b[0m\u001b[0mevaluate\u001b[0m\u001b[0;34m(\u001b[0m\u001b[0mX_test\u001b[0m\u001b[0;34m,\u001b[0m \u001b[0mY_test\u001b[0m\u001b[0;34m,\u001b[0m \u001b[0mverbose\u001b[0m \u001b[0;34m=\u001b[0m \u001b[0;36m2\u001b[0m\u001b[0;34m,\u001b[0m \u001b[0mbatch_size\u001b[0m \u001b[0;34m=\u001b[0m \u001b[0mbatch_size\u001b[0m\u001b[0;34m)\u001b[0m\u001b[0;34m\u001b[0m\u001b[0m\n\u001b[0m\u001b[1;32m      8\u001b[0m \u001b[0mprint\u001b[0m\u001b[0;34m(\u001b[0m\u001b[0;34m\"score: %.2f\"\u001b[0m \u001b[0;34m%\u001b[0m \u001b[0;34m(\u001b[0m\u001b[0mscore\u001b[0m\u001b[0;34m)\u001b[0m\u001b[0;34m)\u001b[0m\u001b[0;34m\u001b[0m\u001b[0m\n\u001b[1;32m      9\u001b[0m \u001b[0mprint\u001b[0m\u001b[0;34m(\u001b[0m\u001b[0;34m\"acc: %.2f\"\u001b[0m \u001b[0;34m%\u001b[0m \u001b[0;34m(\u001b[0m\u001b[0macc\u001b[0m\u001b[0;34m)\u001b[0m\u001b[0;34m)\u001b[0m\u001b[0;34m\u001b[0m\u001b[0m\n",
      "\u001b[0;31mValueError\u001b[0m: not enough values to unpack (expected 2, got 0)"
     ]
    }
   ],
   "source": [
    "validation_size = 1500\n",
    "\n",
    "X_validate = X_test[-validation_size:]\n",
    "Y_validate = Y_test[-validation_size:]\n",
    "X_test = X_test[:-validation_size]\n",
    "Y_test = Y_test[:-validation_size]\n",
    "score,acc = model.evaluate(X_test, Y_test, verbose = 2, batch_size = batch_size)\n",
    "print(\"score: %.2f\" % (score))\n",
    "print(\"acc: %.2f\" % (acc))"
   ]
  },
  {
   "cell_type": "code",
   "execution_count": 35,
   "metadata": {},
   "outputs": [],
   "source": [
    "pred=model.predict_classes(X_test)"
   ]
  },
  {
   "cell_type": "code",
   "execution_count": 36,
   "metadata": {},
   "outputs": [
    {
     "name": "stdout",
     "output_type": "stream",
     "text": [
      "1.0\n"
     ]
    }
   ],
   "source": [
    "from sklearn.metrics import accuracy_score\n",
    "acc=accuracy_score(pred,Y_test[:,1])\n",
    "print(acc)"
   ]
  },
  {
   "cell_type": "code",
   "execution_count": 34,
   "metadata": {},
   "outputs": [
    {
     "name": "stdout",
     "output_type": "stream",
     "text": [
      "[1 1 0 1 1 0 1 1 1 1 1 1 1 1 1 1 1 0 1 0 0 0 1 1 1 1 1]\n"
     ]
    }
   ],
   "source": [
    "print(Y_test[:,1])"
   ]
  },
  {
   "cell_type": "markdown",
   "metadata": {},
   "source": [
    "## AutoEncoders"
   ]
  },
  {
   "cell_type": "code",
   "execution_count": 37,
   "metadata": {},
   "outputs": [],
   "source": [
    "import numpy\n",
    "from keras.datasets import imdb\n",
    "from keras.models import Sequential\n",
    "from keras.layers import Dense\n",
    "from keras.layers import Flatten\n",
    "from keras.layers.embeddings import Embedding\n",
    "from keras.preprocessing import sequence\n",
    "# fix random seed for reproducibility\n",
    "seed = 7\n",
    "numpy.random.seed(seed)"
   ]
  },
  {
   "cell_type": "code",
   "execution_count": 38,
   "metadata": {},
   "outputs": [
    {
     "name": "stdout",
     "output_type": "stream",
     "text": [
      "Downloading data from https://s3.amazonaws.com/text-datasets/imdb.npz\n",
      "17465344/17464789 [==============================] - 7s 0us/step\n"
     ]
    }
   ],
   "source": [
    "top_words = 5000\n",
    "(X_train, y_train), (X_test, y_test) = imdb.load_data(num_words=top_words)"
   ]
  },
  {
   "cell_type": "code",
   "execution_count": 39,
   "metadata": {},
   "outputs": [],
   "source": [
    "max_words = 500\n",
    "X_train = sequence.pad_sequences(X_train, maxlen=max_words)\n",
    "X_test = sequence.pad_sequences(X_test, maxlen=max_words)"
   ]
  },
  {
   "cell_type": "code",
   "execution_count": 40,
   "metadata": {},
   "outputs": [
    {
     "name": "stdout",
     "output_type": "stream",
     "text": [
      "_________________________________________________________________\n",
      "Layer (type)                 Output Shape              Param #   \n",
      "=================================================================\n",
      "embedding_2 (Embedding)      (None, 500, 32)           160000    \n",
      "_________________________________________________________________\n",
      "flatten_1 (Flatten)          (None, 16000)             0         \n",
      "_________________________________________________________________\n",
      "dense_2 (Dense)              (None, 250)               4000250   \n",
      "_________________________________________________________________\n",
      "dense_3 (Dense)              (None, 1)                 251       \n",
      "=================================================================\n",
      "Total params: 4,160,501\n",
      "Trainable params: 4,160,501\n",
      "Non-trainable params: 0\n",
      "_________________________________________________________________\n",
      "None\n"
     ]
    }
   ],
   "source": [
    "# create the model\n",
    "model = Sequential()\n",
    "model.add(Embedding(top_words, 32, input_length=max_words))\n",
    "model.add(Flatten())\n",
    "model.add(Dense(250, activation='relu'))\n",
    "model.add(Dense(1, activation='sigmoid'))\n",
    "model.compile(loss='binary_crossentropy', optimizer='adam', metrics=['accuracy'])\n",
    "print(model.summary())"
   ]
  },
  {
   "cell_type": "code",
   "execution_count": 41,
   "metadata": {},
   "outputs": [
    {
     "name": "stdout",
     "output_type": "stream",
     "text": [
      "Train on 25000 samples, validate on 25000 samples\n",
      "Epoch 1/2\n",
      " - 13s - loss: 0.5111 - acc: 0.7087 - val_loss: 0.3404 - val_acc: 0.8509\n",
      "Epoch 2/2\n",
      " - 13s - loss: 0.1927 - acc: 0.9266 - val_loss: 0.3006 - val_acc: 0.8740\n",
      "Accuracy: 87.40%\n"
     ]
    }
   ],
   "source": [
    "# Fit the model\n",
    "model.fit(X_train, y_train, validation_data=(X_test, y_test), epochs=2, batch_size=128, verbose=2)\n",
    "# Final evaluation of the model\n",
    "scores = model.evaluate(X_test, y_test, verbose=0)\n",
    "print(\"Accuracy: %.2f%%\" % (scores[1]*100))"
   ]
  },
  {
   "cell_type": "code",
   "execution_count": 42,
   "metadata": {},
   "outputs": [
    {
     "name": "stdout",
     "output_type": "stream",
     "text": [
      "[1 0 0 ..., 0 1 0]\n"
     ]
    }
   ],
   "source": [
    "print(y_train)"
   ]
  },
  {
   "cell_type": "code",
   "execution_count": null,
   "metadata": {},
   "outputs": [],
   "source": []
  }
 ],
 "metadata": {
  "kernelspec": {
   "display_name": "Python [conda env:tensorflow_p36]",
   "language": "python",
   "name": "conda-env-tensorflow_p36-py"
  },
  "language_info": {
   "codemirror_mode": {
    "name": "ipython",
    "version": 3
   },
   "file_extension": ".py",
   "mimetype": "text/x-python",
   "name": "python",
   "nbconvert_exporter": "python",
   "pygments_lexer": "ipython3",
   "version": "3.6.2"
  }
 },
 "nbformat": 4,
 "nbformat_minor": 2
}
