{
 "cells": [
  {
   "cell_type": "code",
   "execution_count": 1,
   "metadata": {},
   "outputs": [
    {
     "name": "stderr",
     "output_type": "stream",
     "text": [
      "/usr/local/lib/python3.5/dist-packages/h5py/__init__.py:36: FutureWarning: Conversion of the second argument of issubdtype from `float` to `np.floating` is deprecated. In future, it will be treated as `np.float64 == np.dtype(float).type`.\n",
      "  from ._conv import register_converters as _register_converters\n",
      "Using TensorFlow backend.\n"
     ]
    },
    {
     "ename": "AssertionError",
     "evalue": "",
     "output_type": "error",
     "traceback": [
      "\u001b[0;31m---------------------------------------------------------------------------\u001b[0m",
      "\u001b[0;31mAssertionError\u001b[0m                            Traceback (most recent call last)",
      "\u001b[0;32m<ipython-input-1-8701130ba7ee>\u001b[0m in \u001b[0;36m<module>\u001b[0;34m()\u001b[0m\n\u001b[1;32m      8\u001b[0m \u001b[0;32mfrom\u001b[0m \u001b[0mpreprocess\u001b[0m \u001b[0;32mimport\u001b[0m \u001b[0;34m*\u001b[0m\u001b[0;34m\u001b[0m\u001b[0m\n\u001b[1;32m      9\u001b[0m \u001b[0;32mfrom\u001b[0m \u001b[0mmusic_utils\u001b[0m \u001b[0;32mimport\u001b[0m \u001b[0;34m*\u001b[0m\u001b[0;34m\u001b[0m\u001b[0m\n\u001b[0;32m---> 10\u001b[0;31m \u001b[0;32mfrom\u001b[0m \u001b[0mdata_utils\u001b[0m \u001b[0;32mimport\u001b[0m \u001b[0;34m*\u001b[0m\u001b[0;34m\u001b[0m\u001b[0m\n\u001b[0m\u001b[1;32m     11\u001b[0m \u001b[0;32mfrom\u001b[0m \u001b[0mkeras\u001b[0m\u001b[0;34m.\u001b[0m\u001b[0mmodels\u001b[0m \u001b[0;32mimport\u001b[0m \u001b[0mload_model\u001b[0m\u001b[0;34m,\u001b[0m \u001b[0mModel\u001b[0m\u001b[0;34m\u001b[0m\u001b[0m\n\u001b[1;32m     12\u001b[0m \u001b[0;32mfrom\u001b[0m \u001b[0mkeras\u001b[0m\u001b[0;34m.\u001b[0m\u001b[0mlayers\u001b[0m \u001b[0;32mimport\u001b[0m \u001b[0mDense\u001b[0m\u001b[0;34m,\u001b[0m \u001b[0mActivation\u001b[0m\u001b[0;34m,\u001b[0m \u001b[0mDropout\u001b[0m\u001b[0;34m,\u001b[0m \u001b[0mInput\u001b[0m\u001b[0;34m,\u001b[0m \u001b[0mLSTM\u001b[0m\u001b[0;34m,\u001b[0m \u001b[0mReshape\u001b[0m\u001b[0;34m,\u001b[0m \u001b[0mLambda\u001b[0m\u001b[0;34m,\u001b[0m \u001b[0mRepeatVector\u001b[0m\u001b[0;34m\u001b[0m\u001b[0m\n",
      "\u001b[0;32m~/voice_research/data_utils.py\u001b[0m in \u001b[0;36m<module>\u001b[0;34m()\u001b[0m\n\u001b[1;32m      3\u001b[0m \u001b[0;32mfrom\u001b[0m \u001b[0mkeras\u001b[0m\u001b[0;34m.\u001b[0m\u001b[0mutils\u001b[0m \u001b[0;32mimport\u001b[0m \u001b[0mto_categorical\u001b[0m\u001b[0;34m\u001b[0m\u001b[0m\n\u001b[1;32m      4\u001b[0m \u001b[0;34m\u001b[0m\u001b[0m\n\u001b[0;32m----> 5\u001b[0;31m \u001b[0mchords\u001b[0m\u001b[0;34m,\u001b[0m \u001b[0mabstract_grammars\u001b[0m \u001b[0;34m=\u001b[0m \u001b[0mget_musical_data\u001b[0m\u001b[0;34m(\u001b[0m\u001b[0;34m'data/Bhairav.mid'\u001b[0m\u001b[0;34m)\u001b[0m\u001b[0;34m\u001b[0m\u001b[0m\n\u001b[0m\u001b[1;32m      6\u001b[0m \u001b[0mcorpus\u001b[0m\u001b[0;34m,\u001b[0m \u001b[0mtones\u001b[0m\u001b[0;34m,\u001b[0m \u001b[0mtones_indices\u001b[0m\u001b[0;34m,\u001b[0m \u001b[0mindices_tones\u001b[0m \u001b[0;34m=\u001b[0m \u001b[0mget_corpus_data\u001b[0m\u001b[0;34m(\u001b[0m\u001b[0mabstract_grammars\u001b[0m\u001b[0;34m)\u001b[0m\u001b[0;34m\u001b[0m\u001b[0m\n\u001b[1;32m      7\u001b[0m \u001b[0mN_tones\u001b[0m \u001b[0;34m=\u001b[0m \u001b[0mlen\u001b[0m\u001b[0;34m(\u001b[0m\u001b[0mset\u001b[0m\u001b[0;34m(\u001b[0m\u001b[0mcorpus\u001b[0m\u001b[0;34m)\u001b[0m\u001b[0;34m)\u001b[0m\u001b[0;34m\u001b[0m\u001b[0m\n",
      "\u001b[0;32m~/voice_research/preprocess.py\u001b[0m in \u001b[0;36mget_musical_data\u001b[0;34m(data_fn)\u001b[0m\n\u001b[1;32m    140\u001b[0m \u001b[0;32mdef\u001b[0m \u001b[0mget_musical_data\u001b[0m\u001b[0;34m(\u001b[0m\u001b[0mdata_fn\u001b[0m\u001b[0;34m)\u001b[0m\u001b[0;34m:\u001b[0m\u001b[0;34m\u001b[0m\u001b[0m\n\u001b[1;32m    141\u001b[0m \u001b[0;34m\u001b[0m\u001b[0m\n\u001b[0;32m--> 142\u001b[0;31m     \u001b[0mmeasures\u001b[0m\u001b[0;34m,\u001b[0m \u001b[0mchords\u001b[0m \u001b[0;34m=\u001b[0m \u001b[0m__parse_midi\u001b[0m\u001b[0;34m(\u001b[0m\u001b[0mdata_fn\u001b[0m\u001b[0;34m)\u001b[0m\u001b[0;34m\u001b[0m\u001b[0m\n\u001b[0m\u001b[1;32m    143\u001b[0m     \u001b[0mabstract_grammars\u001b[0m \u001b[0;34m=\u001b[0m \u001b[0m__get_abstract_grammars\u001b[0m\u001b[0;34m(\u001b[0m\u001b[0mmeasures\u001b[0m\u001b[0;34m,\u001b[0m \u001b[0mchords\u001b[0m\u001b[0;34m)\u001b[0m\u001b[0;34m\u001b[0m\u001b[0m\n\u001b[1;32m    144\u001b[0m \u001b[0;34m\u001b[0m\u001b[0m\n",
      "\u001b[0;32m~/voice_research/preprocess.py\u001b[0m in \u001b[0;36m__parse_midi\u001b[0;34m(data_fn)\u001b[0m\n\u001b[1;32m    114\u001b[0m     \u001b[0;31m#           Decided: just cut out the last measure.\u001b[0m\u001b[0;34m\u001b[0m\u001b[0;34m\u001b[0m\u001b[0m\n\u001b[1;32m    115\u001b[0m     \u001b[0;32mdel\u001b[0m \u001b[0mchords\u001b[0m\u001b[0;34m[\u001b[0m\u001b[0mlen\u001b[0m\u001b[0;34m(\u001b[0m\u001b[0mchords\u001b[0m\u001b[0;34m)\u001b[0m \u001b[0;34m-\u001b[0m \u001b[0;36m1\u001b[0m\u001b[0;34m]\u001b[0m\u001b[0;34m\u001b[0m\u001b[0m\n\u001b[0;32m--> 116\u001b[0;31m     \u001b[0;32massert\u001b[0m \u001b[0mlen\u001b[0m\u001b[0;34m(\u001b[0m\u001b[0mchords\u001b[0m\u001b[0;34m)\u001b[0m \u001b[0;34m==\u001b[0m \u001b[0mlen\u001b[0m\u001b[0;34m(\u001b[0m\u001b[0mmeasures\u001b[0m\u001b[0;34m)\u001b[0m\u001b[0;34m\u001b[0m\u001b[0m\n\u001b[0m\u001b[1;32m    117\u001b[0m     \u001b[0mprint\u001b[0m\u001b[0;34m(\u001b[0m\u001b[0mlen\u001b[0m\u001b[0;34m(\u001b[0m\u001b[0mmeasures\u001b[0m\u001b[0;34m)\u001b[0m\u001b[0;34m,\u001b[0m\u001b[0mlen\u001b[0m\u001b[0;34m(\u001b[0m\u001b[0mchords\u001b[0m\u001b[0;34m)\u001b[0m\u001b[0;34m)\u001b[0m\u001b[0;34m\u001b[0m\u001b[0m\n\u001b[1;32m    118\u001b[0m     \u001b[0;32mreturn\u001b[0m \u001b[0mmeasures\u001b[0m\u001b[0;34m,\u001b[0m \u001b[0mchords\u001b[0m\u001b[0;34m\u001b[0m\u001b[0m\n",
      "\u001b[0;31mAssertionError\u001b[0m: "
     ]
    }
   ],
   "source": [
    "from __future__ import print_function\n",
    "import IPython\n",
    "import sys\n",
    "from music21 import *\n",
    "import numpy as np\n",
    "from grammar import *\n",
    "from qa import *\n",
    "from preprocess import * \n",
    "from music_utils import *\n",
    "from data_utils import *\n",
    "from keras.models import load_model, Model\n",
    "from keras.layers import Dense, Activation, Dropout, Input, LSTM, Reshape, Lambda, RepeatVector\n",
    "from keras.initializers import glorot_uniform\n",
    "from keras.utils import to_categorical\n",
    "from keras.optimizers import Adam\n",
    "from keras import backend as K"
   ]
  },
  {
   "cell_type": "code",
   "execution_count": 2,
   "metadata": {},
   "outputs": [
    {
     "ename": "StreamException",
     "evalue": "the object (<music21.stream.iterator.StreamIterator for Part:0x7fe44d7b4ba8 @:7>, id()=140618528772168) is already found in this Stream (<music21.stream.Part 0x7fe44d6ab780>, id()=140618528110464)",
     "output_type": "error",
     "traceback": [
      "\u001b[0;31m---------------------------------------------------------------------------\u001b[0m",
      "\u001b[0;31mStreamException\u001b[0m                           Traceback (most recent call last)",
      "\u001b[0;32m<ipython-input-2-b5f549bc47e1>\u001b[0m in \u001b[0;36m<module>\u001b[0;34m()\u001b[0m\n\u001b[0;32m----> 1\u001b[0;31m \u001b[0;32mfrom\u001b[0m \u001b[0mdata_utils\u001b[0m \u001b[0;32mimport\u001b[0m \u001b[0;34m*\u001b[0m\u001b[0;34m\u001b[0m\u001b[0m\n\u001b[0m",
      "\u001b[0;32m~/voice_research/data_utils.py\u001b[0m in \u001b[0;36m<module>\u001b[0;34m()\u001b[0m\n\u001b[1;32m      3\u001b[0m \u001b[0;32mfrom\u001b[0m \u001b[0mkeras\u001b[0m\u001b[0;34m.\u001b[0m\u001b[0mutils\u001b[0m \u001b[0;32mimport\u001b[0m \u001b[0mto_categorical\u001b[0m\u001b[0;34m\u001b[0m\u001b[0m\n\u001b[1;32m      4\u001b[0m \u001b[0;34m\u001b[0m\u001b[0m\n\u001b[0;32m----> 5\u001b[0;31m \u001b[0mchords\u001b[0m\u001b[0;34m,\u001b[0m \u001b[0mabstract_grammars\u001b[0m \u001b[0;34m=\u001b[0m \u001b[0mget_musical_data\u001b[0m\u001b[0;34m(\u001b[0m\u001b[0;34m'data/Bhairav.mid'\u001b[0m\u001b[0;34m)\u001b[0m\u001b[0;34m\u001b[0m\u001b[0m\n\u001b[0m\u001b[1;32m      6\u001b[0m \u001b[0mcorpus\u001b[0m\u001b[0;34m,\u001b[0m \u001b[0mtones\u001b[0m\u001b[0;34m,\u001b[0m \u001b[0mtones_indices\u001b[0m\u001b[0;34m,\u001b[0m \u001b[0mindices_tones\u001b[0m \u001b[0;34m=\u001b[0m \u001b[0mget_corpus_data\u001b[0m\u001b[0;34m(\u001b[0m\u001b[0mabstract_grammars\u001b[0m\u001b[0;34m)\u001b[0m\u001b[0;34m\u001b[0m\u001b[0m\n\u001b[1;32m      7\u001b[0m \u001b[0mN_tones\u001b[0m \u001b[0;34m=\u001b[0m \u001b[0mlen\u001b[0m\u001b[0;34m(\u001b[0m\u001b[0mset\u001b[0m\u001b[0;34m(\u001b[0m\u001b[0mcorpus\u001b[0m\u001b[0;34m)\u001b[0m\u001b[0;34m)\u001b[0m\u001b[0;34m\u001b[0m\u001b[0m\n",
      "\u001b[0;32m~/voice_research/preprocess.py\u001b[0m in \u001b[0;36mget_musical_data\u001b[0;34m(data_fn)\u001b[0m\n\u001b[1;32m    136\u001b[0m \u001b[0;32mdef\u001b[0m \u001b[0mget_musical_data\u001b[0m\u001b[0;34m(\u001b[0m\u001b[0mdata_fn\u001b[0m\u001b[0;34m)\u001b[0m\u001b[0;34m:\u001b[0m\u001b[0;34m\u001b[0m\u001b[0m\n\u001b[1;32m    137\u001b[0m \u001b[0;34m\u001b[0m\u001b[0m\n\u001b[0;32m--> 138\u001b[0;31m     \u001b[0mmeasures\u001b[0m\u001b[0;34m,\u001b[0m \u001b[0mchords\u001b[0m \u001b[0;34m=\u001b[0m \u001b[0m__parse_midi\u001b[0m\u001b[0;34m(\u001b[0m\u001b[0mdata_fn\u001b[0m\u001b[0;34m)\u001b[0m\u001b[0;34m\u001b[0m\u001b[0m\n\u001b[0m\u001b[1;32m    139\u001b[0m     \u001b[0mabstract_grammars\u001b[0m \u001b[0;34m=\u001b[0m \u001b[0m__get_abstract_grammars\u001b[0m\u001b[0;34m(\u001b[0m\u001b[0mmeasures\u001b[0m\u001b[0;34m,\u001b[0m \u001b[0mchords\u001b[0m\u001b[0;34m)\u001b[0m\u001b[0;34m\u001b[0m\u001b[0m\n\u001b[1;32m    140\u001b[0m \u001b[0;34m\u001b[0m\u001b[0m\n",
      "\u001b[0;32m~/voice_research/preprocess.py\u001b[0m in \u001b[0;36m__parse_midi\u001b[0;34m(data_fn)\u001b[0m\n\u001b[1;32m     69\u001b[0m         \u001b[0mcurr_part\u001b[0m\u001b[0;34m.\u001b[0m\u001b[0mappend\u001b[0m\u001b[0;34m(\u001b[0m\u001b[0mpart\u001b[0m\u001b[0;34m.\u001b[0m\u001b[0mgetElementsByClass\u001b[0m\u001b[0;34m(\u001b[0m\u001b[0minstrument\u001b[0m\u001b[0;34m.\u001b[0m\u001b[0mInstrument\u001b[0m\u001b[0;34m)\u001b[0m\u001b[0;34m)\u001b[0m\u001b[0;34m\u001b[0m\u001b[0m\n\u001b[1;32m     70\u001b[0m         \u001b[0;31m#curr_part.append(part.getElementsByClass(tempo.MetronomeMark))\u001b[0m\u001b[0;34m\u001b[0m\u001b[0;34m\u001b[0m\u001b[0m\n\u001b[0;32m---> 71\u001b[0;31m         \u001b[0mcurr_part\u001b[0m\u001b[0;34m.\u001b[0m\u001b[0mappend\u001b[0m\u001b[0;34m(\u001b[0m\u001b[0mpart\u001b[0m\u001b[0;34m.\u001b[0m\u001b[0mgetElementsByClass\u001b[0m\u001b[0;34m(\u001b[0m\u001b[0mkey\u001b[0m\u001b[0;34m.\u001b[0m\u001b[0mKeySignature\u001b[0m\u001b[0;34m)\u001b[0m\u001b[0;34m)\u001b[0m\u001b[0;34m\u001b[0m\u001b[0m\n\u001b[0m\u001b[1;32m     72\u001b[0m         \u001b[0mcurr_part\u001b[0m\u001b[0;34m.\u001b[0m\u001b[0mappend\u001b[0m\u001b[0;34m(\u001b[0m\u001b[0mpart\u001b[0m\u001b[0;34m.\u001b[0m\u001b[0mgetElementsByClass\u001b[0m\u001b[0;34m(\u001b[0m\u001b[0mmeter\u001b[0m\u001b[0;34m.\u001b[0m\u001b[0mTimeSignature\u001b[0m\u001b[0;34m)\u001b[0m\u001b[0;34m)\u001b[0m\u001b[0;34m\u001b[0m\u001b[0m\n\u001b[1;32m     73\u001b[0m         curr_part.append(part.getElementsByOffset(476, 548, \n",
      "\u001b[0;32m/usr/local/lib/python3.5/dist-packages/music21/stream/__init__.py\u001b[0m in \u001b[0;36mappend\u001b[0;34m(self, others)\u001b[0m\n\u001b[1;32m   1911\u001b[0m                     \u001b[0;34m\"is not a Music21Object.  Use an ElementWrapper object \"\u001b[0m \u001b[0;34m+\u001b[0m\u001b[0;34m\u001b[0m\u001b[0m\n\u001b[1;32m   1912\u001b[0m                     \"if this is what you intend\" )\n\u001b[0;32m-> 1913\u001b[0;31m             \u001b[0mself\u001b[0m\u001b[0;34m.\u001b[0m\u001b[0mcoreGuardBeforeAddElement\u001b[0m\u001b[0;34m(\u001b[0m\u001b[0me\u001b[0m\u001b[0;34m)\u001b[0m\u001b[0;34m\u001b[0m\u001b[0m\n\u001b[0m\u001b[1;32m   1914\u001b[0m             \u001b[0;31m# add this Stream as a location for the new elements, with the\u001b[0m\u001b[0;34m\u001b[0m\u001b[0;34m\u001b[0m\u001b[0m\n\u001b[1;32m   1915\u001b[0m             \u001b[0;31m# the offset set to the current highestTime\u001b[0m\u001b[0;34m\u001b[0m\u001b[0;34m\u001b[0m\u001b[0m\n",
      "\u001b[0;32m/usr/local/lib/python3.5/dist-packages/music21/stream/core.py\u001b[0m in \u001b[0;36mcoreGuardBeforeAddElement\u001b[0;34m(self, element, checkRedundancy)\u001b[0m\n\u001b[1;32m    311\u001b[0m                             \u001b[0;34m'the object '\u001b[0m \u001b[0;34m+\u001b[0m\u001b[0;34m\u001b[0m\u001b[0m\n\u001b[1;32m    312\u001b[0m                             \u001b[0;34m'(%s, id()=%s) is already found in this Stream (%s, id()=%s)'\u001b[0m \u001b[0;34m%\u001b[0m\u001b[0;34m\u001b[0m\u001b[0m\n\u001b[0;32m--> 313\u001b[0;31m                                                     (element, id(element), self, id(self)))\n\u001b[0m\u001b[1;32m    314\u001b[0m                 \u001b[0;31m# something was old... delete from _offsetDict\u001b[0m\u001b[0;34m\u001b[0m\u001b[0;34m\u001b[0m\u001b[0m\n\u001b[1;32m    315\u001b[0m                 \u001b[0;31m# environLocal.warn('stale object')\u001b[0m\u001b[0;34m\u001b[0m\u001b[0;34m\u001b[0m\u001b[0m\n",
      "\u001b[0;31mStreamException\u001b[0m: the object (<music21.stream.iterator.StreamIterator for Part:0x7fe44d7b4ba8 @:7>, id()=140618528772168) is already found in this Stream (<music21.stream.Part 0x7fe44d6ab780>, id()=140618528110464)"
     ]
    }
   ],
   "source": [
    "from data_utils import *"
   ]
  },
  {
   "cell_type": "code",
   "execution_count": 7,
   "metadata": {},
   "outputs": [],
   "source": [
    "midi_data = converter.parse('data/original_metheny.mid')"
   ]
  },
  {
   "cell_type": "code",
   "execution_count": 10,
   "metadata": {},
   "outputs": [],
   "source": [
    "melody_stream = midi_data[1] "
   ]
  },
  {
   "cell_type": "code",
   "execution_count": 11,
   "metadata": {},
   "outputs": [
    {
     "name": "stdout",
     "output_type": "stream",
     "text": [
      "1276\n"
     ]
    }
   ],
   "source": [
    "print(len(melody_stream))"
   ]
  },
  {
   "cell_type": "code",
   "execution_count": 18,
   "metadata": {},
   "outputs": [],
   "source": [
    "melody1 = melody_stream.getElementsByClass(stream.Voice)"
   ]
  },
  {
   "cell_type": "code",
   "execution_count": 26,
   "metadata": {},
   "outputs": [],
   "source": [
    "def __parse_midi(data_fn):\n",
    "    # Parse the MIDI data for separate melody and accompaniment parts.\n",
    "    midi_data = converter.parse(data_fn)\n",
    "    # Get melody part, compress into single voice.\n",
    "    melody_stream = midi_data[1]     # For Metheny piece, Melody is Part #5.\n",
    "    try:\n",
    "     melody1, melody2 = melody_stream.getElementsByClass(stream.Voice)\n",
    "     for j in melody2:\n",
    "        melody1.insert(j.offset, j)\n",
    "    except:   \n",
    "      melody1 = melody_stream.getElementsByClass(stream.Voice)\n",
    "    melody_voice = melody1\n",
    "\n",
    "    for i in melody_voice:\n",
    "        if i.quarterLength == 0.0:\n",
    "            i.quarterLength = 0.25\n",
    "\n",
    "    # Change key signature to adhere to comp_stream (1 sharp, mode = major).\n",
    "    # Also add Electric Guitar. \n",
    "    melody_voice.insert(0, instrument.ElectricGuitar())\n",
    "    melody_voice.insert(0, key.KeySignature(sharps=1))\n",
    "\n",
    "    # The accompaniment parts. Take only the best subset of parts from\n",
    "    # the original data. Maybe add more parts, hand-add valid instruments.\n",
    "    # Should add least add a string part (for sparse solos).\n",
    "    # Verified are good parts: 0, 1, 6, 7 '''\n",
    "    partIndices = [0, 1, 6, 7]\n",
    "    comp_stream = stream.Voice()\n",
    "    comp_stream.append([j.flat for i, j in enumerate(midi_data) \n",
    "        if i in partIndices])\n",
    "\n",
    "    # Full stream containing both the melody and the accompaniment. \n",
    "    # All parts are flattened. \n",
    "    full_stream = stream.Voice()\n",
    "    for i in range(len(comp_stream)):\n",
    "        full_stream.append(comp_stream[i])\n",
    "    full_stream.append(melody_voice)\n",
    "\n",
    "    # Extract solo stream, assuming you know the positions ..ByOffset(i, j).\n",
    "    # Note that for different instruments (with stream.flat), you NEED to use\n",
    "    # stream.Part(), not stream.Voice().\n",
    "    # Accompanied solo is in range [478, 548)\n",
    "    solo_stream = stream.Voice()\n",
    "    for part in full_stream:\n",
    "        curr_part = stream.Part()\n",
    "        curr_part.append(part.getElementsByClass(instrument.Instrument))\n",
    "        curr_part.append(part.getElementsByClass(tempo.MetronomeMark))\n",
    "        curr_part.append(part.getElementsByClass(key.KeySignature))\n",
    "        curr_part.append(part.getElementsByClass(meter.TimeSignature))\n",
    "        curr_part.append(part.getElementsByOffset(476, 548, \n",
    "                                                  includeEndBoundary=True))\n",
    "        cp = curr_part.flat\n",
    "        solo_stream.insert(cp)\n",
    "\n",
    "    # Group by measure so you can classify. \n",
    "    # Note that measure 0 is for the time signature, metronome, etc. which have\n",
    "    # an offset of 0.0.\n",
    "    melody_stream = solo_stream[-1]\n",
    "    measures = OrderedDict()\n",
    "    offsetTuples = [(int(n.offset / 4), n) for n in melody_stream]\n",
    "    measureNum = 0 # for now, don't use real m. nums (119, 120)\n",
    "    for key_x, group in groupby(offsetTuples, lambda x: x[0]):\n",
    "        measures[measureNum] = [n[1] for n in group]\n",
    "        measureNum += 1\n",
    "\n",
    "    # Get the stream of chords.\n",
    "    # offsetTuples_chords: group chords by measure number.\n",
    "    chordStream = solo_stream[0]\n",
    "    chordStream.removeByClass(note.Rest)\n",
    "    chordStream.removeByClass(note.Note)\n",
    "    offsetTuples_chords = [(int(n.offset / 4), n) for n in chordStream]\n",
    "\n",
    "    # Generate the chord structure. Use just track 1 (piano) since it is\n",
    "    # the only instrument that has chords. \n",
    "    # Group into 4s, just like before. \n",
    "    chords = OrderedDict()\n",
    "    measureNum = 0\n",
    "    for key_x, group in groupby(offsetTuples_chords, lambda x: x[0]):\n",
    "        chords[measureNum] = [n[1] for n in group]\n",
    "        measureNum += 1\n",
    "\n",
    "    # Fix for the below problem.\n",
    "    #   1) Find out why len(measures) != len(chords).\n",
    "    #   ANSWER: resolves at end but melody ends 1/16 before last measure so doesn't\n",
    "    #           actually show up, while the accompaniment's beat 1 right after does.\n",
    "    #           Actually on second thought: melody/comp start on Ab, and resolve to\n",
    "    #           the same key (Ab) so could actually just cut out last measure to loop.\n",
    "    #           Decided: just cut out the last measure. \n",
    "    #del chords[len(chords) - 1]\n",
    "    #assert len(chords) == len(measures)\n",
    "\n",
    "    return measures, chords\n"
   ]
  },
  {
   "cell_type": "code",
   "execution_count": null,
   "metadata": {},
   "outputs": [],
   "source": []
  },
  {
   "cell_type": "code",
   "execution_count": 24,
   "metadata": {},
   "outputs": [],
   "source": [
    "#from preprocess import * \n",
    "from data_utils import *"
   ]
  },
  {
   "cell_type": "code",
   "execution_count": null,
   "metadata": {},
   "outputs": [],
   "source": [
    "IPython.display.Audio('./data/30s_seq.mp3')"
   ]
  },
  {
   "cell_type": "code",
   "execution_count": 57,
   "metadata": {},
   "outputs": [
    {
     "ename": "NameError",
     "evalue": "name 'play_music' is not defined",
     "output_type": "error",
     "traceback": [
      "\u001b[0;31m---------------------------------------------------------------------------\u001b[0m",
      "\u001b[0;31mNameError\u001b[0m                                 Traceback (most recent call last)",
      "\u001b[0;32m<ipython-input-57-7223ec60f454>\u001b[0m in \u001b[0;36m<module>\u001b[0;34m()\u001b[0m\n\u001b[0;32m----> 1\u001b[0;31m \u001b[0mplay_music\u001b[0m\u001b[0;34m(\u001b[0m\u001b[0;34m'original_metheny.mid'\u001b[0m\u001b[0;34m)\u001b[0m\u001b[0;34m\u001b[0m\u001b[0m\n\u001b[0m",
      "\u001b[0;31mNameError\u001b[0m: name 'play_music' is not defined"
     ]
    }
   ],
   "source": [
    "play_music('original_metheny.mid')"
   ]
  },
  {
   "cell_type": "code",
   "execution_count": 14,
   "metadata": {},
   "outputs": [
    {
     "ename": "ValueError",
     "evalue": "too many values to unpack (expected 2)",
     "output_type": "error",
     "traceback": [
      "\u001b[0;31m---------------------------------------------------------------------------\u001b[0m",
      "\u001b[0;31mValueError\u001b[0m                                Traceback (most recent call last)",
      "\u001b[0;32m<ipython-input-14-55b356233615>\u001b[0m in \u001b[0;36m<module>\u001b[0;34m()\u001b[0m\n\u001b[1;32m      3\u001b[0m \u001b[0;32mfrom\u001b[0m \u001b[0mkeras\u001b[0m\u001b[0;34m.\u001b[0m\u001b[0mutils\u001b[0m \u001b[0;32mimport\u001b[0m \u001b[0mto_categorical\u001b[0m\u001b[0;34m\u001b[0m\u001b[0m\n\u001b[1;32m      4\u001b[0m \u001b[0;34m\u001b[0m\u001b[0m\n\u001b[0;32m----> 5\u001b[0;31m \u001b[0mchords\u001b[0m\u001b[0;34m,\u001b[0m \u001b[0mabstract_grammars\u001b[0m \u001b[0;34m=\u001b[0m \u001b[0mget_musical_data\u001b[0m\u001b[0;34m(\u001b[0m\u001b[0;34m'data/original_metheny.mid'\u001b[0m\u001b[0;34m)\u001b[0m\u001b[0;34m\u001b[0m\u001b[0m\n\u001b[0m\u001b[1;32m      6\u001b[0m \u001b[0mcorpus\u001b[0m\u001b[0;34m,\u001b[0m \u001b[0mtones\u001b[0m\u001b[0;34m,\u001b[0m \u001b[0mtones_indices\u001b[0m\u001b[0;34m,\u001b[0m \u001b[0mindices_tones\u001b[0m \u001b[0;34m=\u001b[0m \u001b[0mget_corpus_data\u001b[0m\u001b[0;34m(\u001b[0m\u001b[0mabstract_grammars\u001b[0m\u001b[0;34m)\u001b[0m\u001b[0;34m\u001b[0m\u001b[0m\n\u001b[1;32m      7\u001b[0m \u001b[0mN_tones\u001b[0m \u001b[0;34m=\u001b[0m \u001b[0mlen\u001b[0m\u001b[0;34m(\u001b[0m\u001b[0mset\u001b[0m\u001b[0;34m(\u001b[0m\u001b[0mcorpus\u001b[0m\u001b[0;34m)\u001b[0m\u001b[0;34m)\u001b[0m\u001b[0;34m\u001b[0m\u001b[0m\n",
      "\u001b[0;32m~/1xvidia/Audio_research/preprocess.py\u001b[0m in \u001b[0;36mget_musical_data\u001b[0;34m(data_fn)\u001b[0m\n\u001b[1;32m    133\u001b[0m \u001b[0;32mdef\u001b[0m \u001b[0mget_musical_data\u001b[0m\u001b[0;34m(\u001b[0m\u001b[0mdata_fn\u001b[0m\u001b[0;34m)\u001b[0m\u001b[0;34m:\u001b[0m\u001b[0;34m\u001b[0m\u001b[0m\n\u001b[1;32m    134\u001b[0m \u001b[0;34m\u001b[0m\u001b[0m\n\u001b[0;32m--> 135\u001b[0;31m     \u001b[0mmeasures\u001b[0m\u001b[0;34m,\u001b[0m \u001b[0mchords\u001b[0m \u001b[0;34m=\u001b[0m \u001b[0m__parse_midi\u001b[0m\u001b[0;34m(\u001b[0m\u001b[0mdata_fn\u001b[0m\u001b[0;34m)\u001b[0m\u001b[0;34m\u001b[0m\u001b[0m\n\u001b[0m\u001b[1;32m    136\u001b[0m     \u001b[0mabstract_grammars\u001b[0m \u001b[0;34m=\u001b[0m \u001b[0m__get_abstract_grammars\u001b[0m\u001b[0;34m(\u001b[0m\u001b[0mmeasures\u001b[0m\u001b[0;34m,\u001b[0m \u001b[0mchords\u001b[0m\u001b[0;34m)\u001b[0m\u001b[0;34m\u001b[0m\u001b[0m\n\u001b[1;32m    137\u001b[0m \u001b[0;34m\u001b[0m\u001b[0m\n",
      "\u001b[0;32m~/1xvidia/Audio_research/preprocess.py\u001b[0m in \u001b[0;36m__parse_midi\u001b[0;34m(data_fn)\u001b[0m\n\u001b[1;32m     27\u001b[0m     \u001b[0;31m# Get melody part, compress into single voice.\u001b[0m\u001b[0;34m\u001b[0m\u001b[0;34m\u001b[0m\u001b[0m\n\u001b[1;32m     28\u001b[0m     \u001b[0mmelody_stream\u001b[0m \u001b[0;34m=\u001b[0m \u001b[0mmidi_data\u001b[0m\u001b[0;34m[\u001b[0m\u001b[0;36m0\u001b[0m\u001b[0;34m]\u001b[0m     \u001b[0;31m# For Metheny piece, Melody is Part #5.\u001b[0m\u001b[0;34m\u001b[0m\u001b[0m\n\u001b[0;32m---> 29\u001b[0;31m     \u001b[0mmelody1\u001b[0m\u001b[0;34m,\u001b[0m \u001b[0mmelody2\u001b[0m \u001b[0;34m=\u001b[0m \u001b[0mmelody_stream\u001b[0m\u001b[0;34m.\u001b[0m\u001b[0mgetElementsByClass\u001b[0m\u001b[0;34m(\u001b[0m\u001b[0mstream\u001b[0m\u001b[0;34m.\u001b[0m\u001b[0mVoice\u001b[0m\u001b[0;34m)\u001b[0m\u001b[0;34m\u001b[0m\u001b[0m\n\u001b[0m\u001b[1;32m     30\u001b[0m     \u001b[0;32mfor\u001b[0m \u001b[0mj\u001b[0m \u001b[0;32min\u001b[0m \u001b[0mmelody2\u001b[0m\u001b[0;34m:\u001b[0m\u001b[0;34m\u001b[0m\u001b[0m\n\u001b[1;32m     31\u001b[0m         \u001b[0mmelody1\u001b[0m\u001b[0;34m.\u001b[0m\u001b[0minsert\u001b[0m\u001b[0;34m(\u001b[0m\u001b[0mj\u001b[0m\u001b[0;34m.\u001b[0m\u001b[0moffset\u001b[0m\u001b[0;34m,\u001b[0m \u001b[0mj\u001b[0m\u001b[0;34m)\u001b[0m\u001b[0;34m\u001b[0m\u001b[0m\n",
      "\u001b[0;31mValueError\u001b[0m: too many values to unpack (expected 2)"
     ]
    }
   ],
   "source": [
    "from music_utils import * \n",
    "from preprocess import * \n",
    "from keras.utils import to_categorical\n",
    "\n",
    "chords, abstract_grammars = get_musical_data('data/original_metheny.mid')\n",
    "corpus, tones, tones_indices, indices_tones = get_corpus_data(abstract_grammars)\n",
    "N_tones = len(set(corpus))\n",
    "n_a = 64\n",
    "x_initializer = np.zeros((1, 1, 78))\n",
    "a_initializer = np.zeros((1, n_a))\n",
    "c_initializer = np.zeros((1, n_a))\n",
    "\n",
    "def load_music_utils():\n",
    "    chords, abstract_grammars = get_musical_data('data/original_metheny.mid')\n",
    "    corpus, tones, tones_indices, indices_tones = get_corpus_data(abstract_grammars)\n",
    "    N_tones = len(set(corpus))\n",
    "    X, Y, N_tones = data_processing(corpus, tones_indices, 60, 30)   \n",
    "    return (X, Y, N_tones, indices_tones)\n",
    "\n"
   ]
  },
  {
   "cell_type": "code",
   "execution_count": 2,
   "metadata": {},
   "outputs": [
    {
     "name": "stdout",
     "output_type": "stream",
     "text": [
      "78\n",
      "shape of X: (60, 30, 78)\n",
      "shape of Y: (30, 60, 78)\n",
      "number of training examples: 60\n",
      "Tx (length of sequence): 30\n",
      "total # of unique values: 78\n",
      "Shape of Y: (30, 60, 78)\n"
     ]
    }
   ],
   "source": [
    "X, Y, n_values, indices_values = load_music_utils()\n",
    "print(n_values)\n",
    "print('shape of X:', X.shape)\n",
    "print('shape of Y:', Y.shape)\n",
    "print('number of training examples:', X.shape[0])\n",
    "print('Tx (length of sequence):', X.shape[1])\n",
    "print('total # of unique values:', n_values)\n",
    "print('Shape of Y:', Y.shape)"
   ]
  },
  {
   "cell_type": "code",
   "execution_count": 7,
   "metadata": {},
   "outputs": [],
   "source": [
    "n_a = 64 \n",
    "reshapor = Reshape((1, 78))                        # Used in Step 2.B of djmodel(), below\n",
    "#reshapor = Reshape((1, 1)) \n",
    "LSTM_cell = LSTM(n_a, return_state = True)         # Used in Step 2.C\n",
    "densor = Dense(n_values, activation='softmax')     # Used in Step 2.D\n",
    "#densor = Dense(58, activation='softmax') "
   ]
  },
  {
   "cell_type": "code",
   "execution_count": 8,
   "metadata": {},
   "outputs": [],
   "source": [
    "# GRADED FUNCTION: djmodel\n",
    "\n",
    "def djmodel(Tx, n_a, n_values):\n",
    "    \"\"\"\n",
    "    Implement the model\n",
    "    \n",
    "    Arguments:\n",
    "    Tx -- length of the sequence in a corpus\n",
    "    n_a -- the number of activations used in our model\n",
    "    n_values -- number of unique values in the music data \n",
    "    \n",
    "    Returns:\n",
    "    model -- a keras model with the \n",
    "    \"\"\"\n",
    "    \n",
    "    # Define the input of your model with a shape \n",
    "    X = Input(shape=(Tx, n_values))#(60,78)\n",
    "    \n",
    "    # Define s0, initial hidden state for the decoder LSTM\n",
    "    a0 = Input(shape=(n_a,), name='a0')\n",
    "    c0 = Input(shape=(n_a,), name='c0')\n",
    "    a = a0\n",
    "    c = c0\n",
    "    \n",
    "    ### START CODE HERE ### \n",
    "    # Step 1: Create empty list to append the outputs while you iterate (≈1 line)\n",
    "    outputs = []\n",
    "    \n",
    "    # Step 2: Loop\n",
    "    for t in range(Tx):\n",
    "        \n",
    "        # Step 2.A: select the \"t\"th time step vector from X. \n",
    "        x = Lambda(lambda x: X[:,t,:])(X)\n",
    "        # Step 2.B: Use reshapor to reshape x to be (1, n_values) (≈1 line)\n",
    "        x = reshapor(x)\n",
    "        # Step 2.C: Perform one step of the LSTM_cell\n",
    "        a, _, c = LSTM_cell(x, initial_state=[a, c])\n",
    "        # Step 2.D: Apply densor to the hidden state output of LSTM_Cell\n",
    "        out = densor(a)\n",
    "        # Step 2.E: add the output to \"outputs\"\n",
    "        outputs.append(out)\n",
    "        \n",
    "    # Step 3: Create model instance\n",
    "    model = Model(inputs=[X, a0, c0], outputs=outputs)\n",
    "    \n",
    "    ### END CODE HERE ###\n",
    "    \n",
    "    return model"
   ]
  },
  {
   "cell_type": "code",
   "execution_count": 9,
   "metadata": {},
   "outputs": [],
   "source": [
    "model = djmodel(Tx = 30 , n_a = 64, n_values = 78)\n",
    "#model = djmodel(Tx = 100 , n_a = 64, n_values = 1)"
   ]
  },
  {
   "cell_type": "code",
   "execution_count": 10,
   "metadata": {},
   "outputs": [
    {
     "name": "stdout",
     "output_type": "stream",
     "text": [
      "WARNING:tensorflow:From /usr/local/lib/python3.5/dist-packages/Keras-2.1.1-py3.5.egg/keras/backend/tensorflow_backend.py:2880: calling reduce_sum (from tensorflow.python.ops.math_ops) with keep_dims is deprecated and will be removed in a future version.\n",
      "Instructions for updating:\n",
      "keep_dims is deprecated, use keepdims instead\n",
      "WARNING:tensorflow:From /usr/local/lib/python3.5/dist-packages/Keras-2.1.1-py3.5.egg/keras/backend/tensorflow_backend.py:1344: calling reduce_mean (from tensorflow.python.ops.math_ops) with keep_dims is deprecated and will be removed in a future version.\n",
      "Instructions for updating:\n",
      "keep_dims is deprecated, use keepdims instead\n"
     ]
    }
   ],
   "source": [
    "opt = Adam(lr=0.01, beta_1=0.9, beta_2=0.999, decay=0.01)\n",
    "\n",
    "model.compile(optimizer=opt, loss='categorical_crossentropy', metrics=['accuracy'])"
   ]
  },
  {
   "cell_type": "code",
   "execution_count": 11,
   "metadata": {},
   "outputs": [],
   "source": [
    "m = 60\n",
    "#m = 58\n",
    "a0 = np.zeros((m, n_a))\n",
    "c0 = np.zeros((m, n_a))"
   ]
  },
  {
   "cell_type": "code",
   "execution_count": 16,
   "metadata": {},
   "outputs": [
    {
     "name": "stdout",
     "output_type": "stream",
     "text": [
      "849\n"
     ]
    }
   ],
   "source": [
    "print(len(X))"
   ]
  },
  {
   "cell_type": "code",
   "execution_count": 12,
   "metadata": {},
   "outputs": [
    {
     "name": "stdout",
     "output_type": "stream",
     "text": [
      "Epoch 1/100\n",
      "60/60 [==============================] - 12s 204ms/step - loss: 125.7586 - dense_1_loss_1: 4.3549 - dense_1_loss_2: 4.3508 - dense_1_loss_3: 4.3406 - dense_1_loss_4: 4.3399 - dense_1_loss_5: 4.3369 - dense_1_loss_6: 4.3377 - dense_1_loss_7: 4.3424 - dense_1_loss_8: 4.3351 - dense_1_loss_9: 4.3410 - dense_1_loss_10: 4.3378 - dense_1_loss_11: 4.3343 - dense_1_loss_12: 4.3293 - dense_1_loss_13: 4.3270 - dense_1_loss_14: 4.3273 - dense_1_loss_15: 4.3383 - dense_1_loss_16: 4.3294 - dense_1_loss_17: 4.3323 - dense_1_loss_18: 4.3375 - dense_1_loss_19: 4.3369 - dense_1_loss_20: 4.3387 - dense_1_loss_21: 4.3382 - dense_1_loss_22: 4.3282 - dense_1_loss_23: 4.3371 - dense_1_loss_24: 4.3350 - dense_1_loss_25: 4.3368 - dense_1_loss_26: 4.3273 - dense_1_loss_27: 4.3322 - dense_1_loss_28: 4.3375 - dense_1_loss_29: 4.3382 - dense_1_loss_30: 0.0000e+00 - dense_1_acc_1: 0.0000e+00 - dense_1_acc_2: 0.0333 - dense_1_acc_3: 0.1000 - dense_1_acc_4: 0.0333 - dense_1_acc_5: 0.0667 - dense_1_acc_6: 0.0333 - dense_1_acc_7: 0.0333 - dense_1_acc_8: 0.0833 - dense_1_acc_9: 0.0667 - dense_1_acc_10: 0.1000 - dense_1_acc_11: 0.0667 - dense_1_acc_12: 0.0667 - dense_1_acc_13: 0.0833 - dense_1_acc_14: 0.1167 - dense_1_acc_15: 0.0333 - dense_1_acc_16: 0.0667 - dense_1_acc_17: 0.0500 - dense_1_acc_18: 0.0167 - dense_1_acc_19: 0.0500 - dense_1_acc_20: 0.0167 - dense_1_acc_21: 0.0333 - dense_1_acc_22: 0.0667 - dense_1_acc_23: 0.0667 - dense_1_acc_24: 0.0833 - dense_1_acc_25: 0.0667 - dense_1_acc_26: 0.0833 - dense_1_acc_27: 0.0333 - dense_1_acc_28: 0.0500 - dense_1_acc_29: 0.0500 - dense_1_acc_30: 0.0000e+00                                                                              \n",
      "Epoch 2/100\n",
      "60/60 [==============================] - 0s 2ms/step - loss: 121.7597 - dense_1_loss_1: 4.3327 - dense_1_loss_2: 4.3046 - dense_1_loss_3: 4.2756 - dense_1_loss_4: 4.2712 - dense_1_loss_5: 4.2421 - dense_1_loss_6: 4.2479 - dense_1_loss_7: 4.2464 - dense_1_loss_8: 4.2101 - dense_1_loss_9: 4.2210 - dense_1_loss_10: 4.2178 - dense_1_loss_11: 4.1678 - dense_1_loss_12: 4.2211 - dense_1_loss_13: 4.1783 - dense_1_loss_14: 4.1519 - dense_1_loss_15: 4.1699 - dense_1_loss_16: 4.1626 - dense_1_loss_17: 4.1522 - dense_1_loss_18: 4.2140 - dense_1_loss_19: 4.1635 - dense_1_loss_20: 4.1948 - dense_1_loss_21: 4.2230 - dense_1_loss_22: 4.1237 - dense_1_loss_23: 4.1341 - dense_1_loss_24: 4.2009 - dense_1_loss_25: 4.1879 - dense_1_loss_26: 4.0703 - dense_1_loss_27: 4.1324 - dense_1_loss_28: 4.1347 - dense_1_loss_29: 4.2071 - dense_1_loss_30: 0.0000e+00 - dense_1_acc_1: 0.1000 - dense_1_acc_2: 0.2000 - dense_1_acc_3: 0.1833 - dense_1_acc_4: 0.2000 - dense_1_acc_5: 0.1500 - dense_1_acc_6: 0.1000 - dense_1_acc_7: 0.1167 - dense_1_acc_8: 0.2000 - dense_1_acc_9: 0.1667 - dense_1_acc_10: 0.1500 - dense_1_acc_11: 0.1167 - dense_1_acc_12: 0.0833 - dense_1_acc_13: 0.1833 - dense_1_acc_14: 0.0833 - dense_1_acc_15: 0.0833 - dense_1_acc_16: 0.1167 - dense_1_acc_17: 0.1167 - dense_1_acc_18: 0.0500 - dense_1_acc_19: 0.1167 - dense_1_acc_20: 0.0833 - dense_1_acc_21: 0.1000 - dense_1_acc_22: 0.0833 - dense_1_acc_23: 0.1167 - dense_1_acc_24: 0.1167 - dense_1_acc_25: 0.0333 - dense_1_acc_26: 0.1333 - dense_1_acc_27: 0.1167 - dense_1_acc_28: 0.1167 - dense_1_acc_29: 0.0333 - dense_1_acc_30: 0.0000e+00\n",
      "Epoch 3/100\n",
      "60/60 [==============================] - 0s 2ms/step - loss: 116.1600 - dense_1_loss_1: 4.3099 - dense_1_loss_2: 4.2540 - dense_1_loss_3: 4.1910 - dense_1_loss_4: 4.1678 - dense_1_loss_5: 4.1150 - dense_1_loss_6: 4.1192 - dense_1_loss_7: 4.0907 - dense_1_loss_8: 3.9631 - dense_1_loss_9: 3.9497 - dense_1_loss_10: 3.9236 - dense_1_loss_11: 3.8036 - dense_1_loss_12: 4.0623 - dense_1_loss_13: 3.9069 - dense_1_loss_14: 3.8504 - dense_1_loss_15: 3.9064 - dense_1_loss_16: 3.9036 - dense_1_loss_17: 4.0169 - dense_1_loss_18: 4.1209 - dense_1_loss_19: 3.8995 - dense_1_loss_20: 4.0855 - dense_1_loss_21: 4.1416 - dense_1_loss_22: 3.9228 - dense_1_loss_23: 3.8215 - dense_1_loss_24: 3.9396 - dense_1_loss_25: 4.1283 - dense_1_loss_26: 3.7245 - dense_1_loss_27: 3.7716 - dense_1_loss_28: 3.8614 - dense_1_loss_29: 4.2088 - dense_1_loss_30: 0.0000e+00 - dense_1_acc_1: 0.1000 - dense_1_acc_2: 0.1667 - dense_1_acc_3: 0.1833 - dense_1_acc_4: 0.2167 - dense_1_acc_5: 0.1500 - dense_1_acc_6: 0.0667 - dense_1_acc_7: 0.1000 - dense_1_acc_8: 0.1500 - dense_1_acc_9: 0.1333 - dense_1_acc_10: 0.1000 - dense_1_acc_11: 0.0833 - dense_1_acc_12: 0.0167 - dense_1_acc_13: 0.1000 - dense_1_acc_14: 0.1167 - dense_1_acc_15: 0.0833 - dense_1_acc_16: 0.0833 - dense_1_acc_17: 0.0667 - dense_1_acc_18: 0.0500 - dense_1_acc_19: 0.1167 - dense_1_acc_20: 0.0500 - dense_1_acc_21: 0.0667 - dense_1_acc_22: 0.0833 - dense_1_acc_23: 0.0833 - dense_1_acc_24: 0.1000 - dense_1_acc_25: 0.0333 - dense_1_acc_26: 0.0833 - dense_1_acc_27: 0.0833 - dense_1_acc_28: 0.0667 - dense_1_acc_29: 0.0167 - dense_1_acc_30: 0.0000e+00        \n",
      "Epoch 4/100\n",
      "60/60 [==============================] - 0s 2ms/step - loss: 112.3863 - dense_1_loss_1: 4.2885 - dense_1_loss_2: 4.2090 - dense_1_loss_3: 4.1033 - dense_1_loss_4: 4.0800 - dense_1_loss_5: 3.9806 - dense_1_loss_6: 4.0039 - dense_1_loss_7: 3.9522 - dense_1_loss_8: 3.7273 - dense_1_loss_9: 3.8251 - dense_1_loss_10: 3.7205 - dense_1_loss_11: 3.7361 - dense_1_loss_12: 3.9867 - dense_1_loss_13: 3.7824 - dense_1_loss_14: 3.7214 - dense_1_loss_15: 3.7507 - dense_1_loss_16: 3.7832 - dense_1_loss_17: 3.8676 - dense_1_loss_18: 3.8997 - dense_1_loss_19: 3.7318 - dense_1_loss_20: 3.9047 - dense_1_loss_21: 3.9409 - dense_1_loss_22: 3.8038 - dense_1_loss_23: 3.7916 - dense_1_loss_24: 3.7414 - dense_1_loss_25: 3.9692 - dense_1_loss_26: 3.5890 - dense_1_loss_27: 3.7005 - dense_1_loss_28: 3.8048 - dense_1_loss_29: 3.9903 - dense_1_loss_30: 0.0000e+00 - dense_1_acc_1: 0.1000 - dense_1_acc_2: 0.1167 - dense_1_acc_3: 0.1500 - dense_1_acc_4: 0.2000 - dense_1_acc_5: 0.2333 - dense_1_acc_6: 0.0833 - dense_1_acc_7: 0.1167 - dense_1_acc_8: 0.2500 - dense_1_acc_9: 0.2000 - dense_1_acc_10: 0.1167 - dense_1_acc_11: 0.1333 - dense_1_acc_12: 0.1000 - dense_1_acc_13: 0.1000 - dense_1_acc_14: 0.1333 - dense_1_acc_15: 0.0833 - dense_1_acc_16: 0.0833 - dense_1_acc_17: 0.2167 - dense_1_acc_18: 0.0833 - dense_1_acc_19: 0.0833 - dense_1_acc_20: 0.1500 - dense_1_acc_21: 0.1000 - dense_1_acc_22: 0.0500 - dense_1_acc_23: 0.0667 - dense_1_acc_24: 0.0667 - dense_1_acc_25: 0.0833 - dense_1_acc_26: 0.1500 - dense_1_acc_27: 0.0833 - dense_1_acc_28: 0.0833 - dense_1_acc_29: 0.1167 - dense_1_acc_30: 0.0000e+00\n",
      "Epoch 5/100\n",
      "60/60 [==============================] - 0s 2ms/step - loss: 109.8705 - dense_1_loss_1: 4.2705 - dense_1_loss_2: 4.1671 - dense_1_loss_3: 4.0350 - dense_1_loss_4: 4.0119 - dense_1_loss_5: 3.8927 - dense_1_loss_6: 3.9390 - dense_1_loss_7: 3.8848 - dense_1_loss_8: 3.6590 - dense_1_loss_9: 3.7857 - dense_1_loss_10: 3.6259 - dense_1_loss_11: 3.7009 - dense_1_loss_12: 3.9006 - dense_1_loss_13: 3.6912 - dense_1_loss_14: 3.6179 - dense_1_loss_15: 3.6788 - dense_1_loss_16: 3.6917 - dense_1_loss_17: 3.7795 - dense_1_loss_18: 3.7621 - dense_1_loss_19: 3.6029 - dense_1_loss_20: 3.7704 - dense_1_loss_21: 3.8210 - dense_1_loss_22: 3.6732 - dense_1_loss_23: 3.6395 - dense_1_loss_24: 3.6451 - dense_1_loss_25: 3.8595 - dense_1_loss_26: 3.4740 - dense_1_loss_27: 3.6210 - dense_1_loss_28: 3.7747 - dense_1_loss_29: 3.8946 - dense_1_loss_30: 0.0000e+00 - dense_1_acc_1: 0.1000 - dense_1_acc_2: 0.1167 - dense_1_acc_3: 0.1833 - dense_1_acc_4: 0.2167 - dense_1_acc_5: 0.2833 - dense_1_acc_6: 0.1000 - dense_1_acc_7: 0.1333 - dense_1_acc_8: 0.2333 - dense_1_acc_9: 0.1500 - dense_1_acc_10: 0.1500 - dense_1_acc_11: 0.1667 - dense_1_acc_12: 0.1333 - dense_1_acc_13: 0.1833 - dense_1_acc_14: 0.2000 - dense_1_acc_15: 0.2167 - dense_1_acc_16: 0.1333 - dense_1_acc_17: 0.1167 - dense_1_acc_18: 0.1333 - dense_1_acc_19: 0.1833 - dense_1_acc_20: 0.1167 - dense_1_acc_21: 0.1000 - dense_1_acc_22: 0.1500 - dense_1_acc_23: 0.1833 - dense_1_acc_24: 0.1167 - dense_1_acc_25: 0.0833 - dense_1_acc_26: 0.2167 - dense_1_acc_27: 0.1833 - dense_1_acc_28: 0.1833 - dense_1_acc_29: 0.1333 - dense_1_acc_30: 0.0000e+00\n",
      "Epoch 6/100\n",
      "60/60 [==============================] - 0s 2ms/step - loss: 107.3205 - dense_1_loss_1: 4.2520 - dense_1_loss_2: 4.1267 - dense_1_loss_3: 3.9617 - dense_1_loss_4: 3.9258 - dense_1_loss_5: 3.7984 - dense_1_loss_6: 3.8798 - dense_1_loss_7: 3.7883 - dense_1_loss_8: 3.5276 - dense_1_loss_9: 3.6908 - dense_1_loss_10: 3.4983 - dense_1_loss_11: 3.6180 - dense_1_loss_12: 3.7852 - dense_1_loss_13: 3.5275 - dense_1_loss_14: 3.4908 - dense_1_loss_15: 3.5983 - dense_1_loss_16: 3.6065 - dense_1_loss_17: 3.6554 - dense_1_loss_18: 3.6644 - dense_1_loss_19: 3.4971 - dense_1_loss_20: 3.7735 - dense_1_loss_21: 3.7283 - dense_1_loss_22: 3.5932 - dense_1_loss_23: 3.5942 - dense_1_loss_24: 3.5795 - dense_1_loss_25: 3.8107 - dense_1_loss_26: 3.3648 - dense_1_loss_27: 3.5056 - dense_1_loss_28: 3.6835 - dense_1_loss_29: 3.7946 - dense_1_loss_30: 0.0000e+00 - dense_1_acc_1: 0.1000 - dense_1_acc_2: 0.1000 - dense_1_acc_3: 0.1833 - dense_1_acc_4: 0.2167 - dense_1_acc_5: 0.2500 - dense_1_acc_6: 0.1167 - dense_1_acc_7: 0.1333 - dense_1_acc_8: 0.2500 - dense_1_acc_9: 0.1667 - dense_1_acc_10: 0.1167 - dense_1_acc_11: 0.2000 - dense_1_acc_12: 0.1000 - dense_1_acc_13: 0.2000 - dense_1_acc_14: 0.1667 - dense_1_acc_15: 0.1833 - dense_1_acc_16: 0.1333 - dense_1_acc_17: 0.1167 - dense_1_acc_18: 0.1000 - dense_1_acc_19: 0.1333 - dense_1_acc_20: 0.1000 - dense_1_acc_21: 0.0833 - dense_1_acc_22: 0.1500 - dense_1_acc_23: 0.1833 - dense_1_acc_24: 0.0833 - dense_1_acc_25: 0.0667 - dense_1_acc_26: 0.2000 - dense_1_acc_27: 0.1500 - dense_1_acc_28: 0.1167 - dense_1_acc_29: 0.0667 - dense_1_acc_30: 0.0000e+00\n",
      "Epoch 7/100\n",
      "60/60 [==============================] - 0s 2ms/step - loss: 103.6528 - dense_1_loss_1: 4.2349 - dense_1_loss_2: 4.0864 - dense_1_loss_3: 3.8879 - dense_1_loss_4: 3.8448 - dense_1_loss_5: 3.6979 - dense_1_loss_6: 3.8127 - dense_1_loss_7: 3.7017 - dense_1_loss_8: 3.4021 - dense_1_loss_9: 3.5477 - dense_1_loss_10: 3.3639 - dense_1_loss_11: 3.5209 - dense_1_loss_12: 3.6651 - dense_1_loss_13: 3.3847 - dense_1_loss_14: 3.3334 - dense_1_loss_15: 3.4967 - dense_1_loss_16: 3.4646 - dense_1_loss_17: 3.4568 - dense_1_loss_18: 3.5233 - dense_1_loss_19: 3.3020 - dense_1_loss_20: 3.5866 - dense_1_loss_21: 3.5507 - dense_1_loss_22: 3.4073 - dense_1_loss_23: 3.4301 - dense_1_loss_24: 3.3913 - dense_1_loss_25: 3.6963 - dense_1_loss_26: 3.2203 - dense_1_loss_27: 3.4100 - dense_1_loss_28: 3.5669 - dense_1_loss_29: 3.6657 - dense_1_loss_30: 0.0000e+00 - dense_1_acc_1: 0.0667 - dense_1_acc_2: 0.1000 - dense_1_acc_3: 0.2000 - dense_1_acc_4: 0.2000 - dense_1_acc_5: 0.2500 - dense_1_acc_6: 0.1333 - dense_1_acc_7: 0.1500 - dense_1_acc_8: 0.2500 - dense_1_acc_9: 0.2333 - dense_1_acc_10: 0.1500 - dense_1_acc_11: 0.2000 - dense_1_acc_12: 0.1000 - dense_1_acc_13: 0.2167 - dense_1_acc_14: 0.2167 - dense_1_acc_15: 0.1833 - dense_1_acc_16: 0.2000 - dense_1_acc_17: 0.1833 - dense_1_acc_18: 0.1000 - dense_1_acc_19: 0.2000 - dense_1_acc_20: 0.1667 - dense_1_acc_21: 0.1333 - dense_1_acc_22: 0.1667 - dense_1_acc_23: 0.2500 - dense_1_acc_24: 0.1000 - dense_1_acc_25: 0.0500 - dense_1_acc_26: 0.2500 - dense_1_acc_27: 0.1833 - dense_1_acc_28: 0.1333 - dense_1_acc_29: 0.1167 - dense_1_acc_30: 0.0000e+00\n",
      "Epoch 8/100\n",
      "60/60 [==============================] - 0s 2ms/step - loss: 100.2763 - dense_1_loss_1: 4.2202 - dense_1_loss_2: 4.0405 - dense_1_loss_3: 3.8216 - dense_1_loss_4: 3.7705 - dense_1_loss_5: 3.5989 - dense_1_loss_6: 3.7218 - dense_1_loss_7: 3.5874 - dense_1_loss_8: 3.2982 - dense_1_loss_9: 3.4197 - dense_1_loss_10: 3.2247 - dense_1_loss_11: 3.3761 - dense_1_loss_12: 3.5144 - dense_1_loss_13: 3.2300 - dense_1_loss_14: 3.1807 - dense_1_loss_15: 3.3644 - dense_1_loss_16: 3.3154 - dense_1_loss_17: 3.3142 - dense_1_loss_18: 3.3882 - dense_1_loss_19: 3.1464 - dense_1_loss_20: 3.4760 - dense_1_loss_21: 3.4156 - dense_1_loss_22: 3.2752 - dense_1_loss_23: 3.3220 - dense_1_loss_24: 3.2595 - dense_1_loss_25: 3.6236 - dense_1_loss_26: 3.1477 - dense_1_loss_27: 3.2874 - dense_1_loss_28: 3.4006 - dense_1_loss_29: 3.5353 - dense_1_loss_30: 0.0000e+00 - dense_1_acc_1: 0.0667 - dense_1_acc_2: 0.1500 - dense_1_acc_3: 0.1833 - dense_1_acc_4: 0.1667 - dense_1_acc_5: 0.2500 - dense_1_acc_6: 0.1333 - dense_1_acc_7: 0.1500 - dense_1_acc_8: 0.2500 - dense_1_acc_9: 0.1833 - dense_1_acc_10: 0.2000 - dense_1_acc_11: 0.2000 - dense_1_acc_12: 0.1500 - dense_1_acc_13: 0.2333 - dense_1_acc_14: 0.3000 - dense_1_acc_15: 0.2167 - dense_1_acc_16: 0.2000 - dense_1_acc_17: 0.2000 - dense_1_acc_18: 0.1333 - dense_1_acc_19: 0.2667 - dense_1_acc_20: 0.1333 - dense_1_acc_21: 0.1500 - dense_1_acc_22: 0.2500 - dense_1_acc_23: 0.1167 - dense_1_acc_24: 0.1500 - dense_1_acc_25: 0.1000 - dense_1_acc_26: 0.3000 - dense_1_acc_27: 0.1333 - dense_1_acc_28: 0.1500 - dense_1_acc_29: 0.1167 - dense_1_acc_30: 0.0000e+00\n",
      "Epoch 9/100\n",
      "60/60 [==============================] - 0s 2ms/step - loss: 96.1086 - dense_1_loss_1: 4.2076 - dense_1_loss_2: 3.9992 - dense_1_loss_3: 3.7514 - dense_1_loss_4: 3.6976 - dense_1_loss_5: 3.4925 - dense_1_loss_6: 3.6094 - dense_1_loss_7: 3.4656 - dense_1_loss_8: 3.1814 - dense_1_loss_9: 3.2523 - dense_1_loss_10: 3.0544 - dense_1_loss_11: 3.2497 - dense_1_loss_12: 3.3581 - dense_1_loss_13: 3.0677 - dense_1_loss_14: 3.0167 - dense_1_loss_15: 3.2161 - dense_1_loss_16: 3.1532 - dense_1_loss_17: 3.0858 - dense_1_loss_18: 3.1934 - dense_1_loss_19: 3.0021 - dense_1_loss_20: 3.2602 - dense_1_loss_21: 3.2541 - dense_1_loss_22: 3.1132 - dense_1_loss_23: 3.1389 - dense_1_loss_24: 3.0549 - dense_1_loss_25: 3.5311 - dense_1_loss_26: 2.9890 - dense_1_loss_27: 3.2015 - dense_1_loss_28: 3.1880 - dense_1_loss_29: 3.3240 - dense_1_loss_30: 0.0000e+00 - dense_1_acc_1: 0.0833 - dense_1_acc_2: 0.1333 - dense_1_acc_3: 0.2000 - dense_1_acc_4: 0.1667 - dense_1_acc_5: 0.2500 - dense_1_acc_6: 0.1167 - dense_1_acc_7: 0.1333 - dense_1_acc_8: 0.2667 - dense_1_acc_9: 0.2833 - dense_1_acc_10: 0.2167 - dense_1_acc_11: 0.1833 - dense_1_acc_12: 0.1500 - dense_1_acc_13: 0.1833 - dense_1_acc_14: 0.2667 - dense_1_acc_15: 0.2167 - dense_1_acc_16: 0.1667 - dense_1_acc_17: 0.1833 - dense_1_acc_18: 0.1333 - dense_1_acc_19: 0.1833 - dense_1_acc_20: 0.2000 - dense_1_acc_21: 0.1667 - dense_1_acc_22: 0.1833 - dense_1_acc_23: 0.2000 - dense_1_acc_24: 0.1667 - dense_1_acc_25: 0.0833 - dense_1_acc_26: 0.2500 - dense_1_acc_27: 0.2000 - dense_1_acc_28: 0.2167 - dense_1_acc_29: 0.1500 - dense_1_acc_30: 0.0000e+00\n",
      "Epoch 10/100\n",
      "60/60 [==============================] - 0s 2ms/step - loss: 91.4746 - dense_1_loss_1: 4.1981 - dense_1_loss_2: 3.9584 - dense_1_loss_3: 3.6800 - dense_1_loss_4: 3.6250 - dense_1_loss_5: 3.3754 - dense_1_loss_6: 3.4804 - dense_1_loss_7: 3.3363 - dense_1_loss_8: 3.0465 - dense_1_loss_9: 3.1141 - dense_1_loss_10: 2.9160 - dense_1_loss_11: 3.1008 - dense_1_loss_12: 3.1711 - dense_1_loss_13: 2.9004 - dense_1_loss_14: 2.8530 - dense_1_loss_15: 3.0568 - dense_1_loss_16: 2.9953 - dense_1_loss_17: 2.9006 - dense_1_loss_18: 3.0228 - dense_1_loss_19: 2.7787 - dense_1_loss_20: 3.0744 - dense_1_loss_21: 3.0407 - dense_1_loss_22: 2.9098 - dense_1_loss_23: 2.9661 - dense_1_loss_24: 2.8577 - dense_1_loss_25: 3.3117 - dense_1_loss_26: 2.7412 - dense_1_loss_27: 2.9658 - dense_1_loss_28: 2.9748 - dense_1_loss_29: 3.1226 - dense_1_loss_30: 0.0000e+00 - dense_1_acc_1: 0.1000 - dense_1_acc_2: 0.1500 - dense_1_acc_3: 0.2000 - dense_1_acc_4: 0.1833 - dense_1_acc_5: 0.2667 - dense_1_acc_6: 0.1333 - dense_1_acc_7: 0.1833 - dense_1_acc_8: 0.2667 - dense_1_acc_9: 0.2333 - dense_1_acc_10: 0.2333 - dense_1_acc_11: 0.1833 - dense_1_acc_12: 0.1667 - dense_1_acc_13: 0.2167 - dense_1_acc_14: 0.2833 - dense_1_acc_15: 0.1833 - dense_1_acc_16: 0.2000 - dense_1_acc_17: 0.1833 - dense_1_acc_18: 0.1500 - dense_1_acc_19: 0.2167 - dense_1_acc_20: 0.2167 - dense_1_acc_21: 0.2167 - dense_1_acc_22: 0.2333 - dense_1_acc_23: 0.2000 - dense_1_acc_24: 0.1833 - dense_1_acc_25: 0.1333 - dense_1_acc_26: 0.3333 - dense_1_acc_27: 0.2167 - dense_1_acc_28: 0.1833 - dense_1_acc_29: 0.2000 - dense_1_acc_30: 0.0000e+00\n",
      "Epoch 11/100\n"
     ]
    },
    {
     "name": "stdout",
     "output_type": "stream",
     "text": [
      "60/60 [==============================] - 0s 2ms/step - loss: 87.0138 - dense_1_loss_1: 4.1899 - dense_1_loss_2: 3.9190 - dense_1_loss_3: 3.6098 - dense_1_loss_4: 3.5404 - dense_1_loss_5: 3.2557 - dense_1_loss_6: 3.3309 - dense_1_loss_7: 3.2007 - dense_1_loss_8: 2.9048 - dense_1_loss_9: 2.9868 - dense_1_loss_10: 2.7740 - dense_1_loss_11: 2.9300 - dense_1_loss_12: 2.9986 - dense_1_loss_13: 2.7589 - dense_1_loss_14: 2.6624 - dense_1_loss_15: 2.8888 - dense_1_loss_16: 2.8381 - dense_1_loss_17: 2.7315 - dense_1_loss_18: 2.8468 - dense_1_loss_19: 2.6551 - dense_1_loss_20: 2.8800 - dense_1_loss_21: 2.8184 - dense_1_loss_22: 2.6309 - dense_1_loss_23: 2.7665 - dense_1_loss_24: 2.7153 - dense_1_loss_25: 3.0795 - dense_1_loss_26: 2.5446 - dense_1_loss_27: 2.7985 - dense_1_loss_28: 2.8073 - dense_1_loss_29: 2.9508 - dense_1_loss_30: 0.0000e+00 - dense_1_acc_1: 0.1000 - dense_1_acc_2: 0.1500 - dense_1_acc_3: 0.2000 - dense_1_acc_4: 0.1833 - dense_1_acc_5: 0.2667 - dense_1_acc_6: 0.1333 - dense_1_acc_7: 0.2333 - dense_1_acc_8: 0.3167 - dense_1_acc_9: 0.2333 - dense_1_acc_10: 0.2333 - dense_1_acc_11: 0.2167 - dense_1_acc_12: 0.2000 - dense_1_acc_13: 0.2500 - dense_1_acc_14: 0.3333 - dense_1_acc_15: 0.2333 - dense_1_acc_16: 0.2000 - dense_1_acc_17: 0.2500 - dense_1_acc_18: 0.1833 - dense_1_acc_19: 0.2167 - dense_1_acc_20: 0.2333 - dense_1_acc_21: 0.2333 - dense_1_acc_22: 0.2333 - dense_1_acc_23: 0.1667 - dense_1_acc_24: 0.2000 - dense_1_acc_25: 0.1167 - dense_1_acc_26: 0.3333 - dense_1_acc_27: 0.2000 - dense_1_acc_28: 0.2000 - dense_1_acc_29: 0.2167 - dense_1_acc_30: 0.0000e+00\n",
      "Epoch 12/100\n",
      "60/60 [==============================] - 0s 2ms/step - loss: 83.6979 - dense_1_loss_1: 4.1818 - dense_1_loss_2: 3.8785 - dense_1_loss_3: 3.5287 - dense_1_loss_4: 3.4403 - dense_1_loss_5: 3.1106 - dense_1_loss_6: 3.1579 - dense_1_loss_7: 3.0690 - dense_1_loss_8: 2.7538 - dense_1_loss_9: 2.8168 - dense_1_loss_10: 2.6379 - dense_1_loss_11: 2.7668 - dense_1_loss_12: 2.8059 - dense_1_loss_13: 2.6285 - dense_1_loss_14: 2.4990 - dense_1_loss_15: 2.7499 - dense_1_loss_16: 2.6630 - dense_1_loss_17: 2.6133 - dense_1_loss_18: 2.6818 - dense_1_loss_19: 2.6621 - dense_1_loss_20: 2.7293 - dense_1_loss_21: 2.7686 - dense_1_loss_22: 2.4848 - dense_1_loss_23: 2.7025 - dense_1_loss_24: 2.6048 - dense_1_loss_25: 2.9983 - dense_1_loss_26: 2.4378 - dense_1_loss_27: 2.7847 - dense_1_loss_28: 2.6434 - dense_1_loss_29: 2.8982 - dense_1_loss_30: 0.0000e+00 - dense_1_acc_1: 0.0500 - dense_1_acc_2: 0.1667 - dense_1_acc_3: 0.2000 - dense_1_acc_4: 0.2167 - dense_1_acc_5: 0.3000 - dense_1_acc_6: 0.1500 - dense_1_acc_7: 0.2333 - dense_1_acc_8: 0.3333 - dense_1_acc_9: 0.2333 - dense_1_acc_10: 0.2500 - dense_1_acc_11: 0.2500 - dense_1_acc_12: 0.1667 - dense_1_acc_13: 0.2167 - dense_1_acc_14: 0.2833 - dense_1_acc_15: 0.2500 - dense_1_acc_16: 0.2333 - dense_1_acc_17: 0.2833 - dense_1_acc_18: 0.2500 - dense_1_acc_19: 0.2167 - dense_1_acc_20: 0.2500 - dense_1_acc_21: 0.2000 - dense_1_acc_22: 0.3167 - dense_1_acc_23: 0.1667 - dense_1_acc_24: 0.2333 - dense_1_acc_25: 0.1500 - dense_1_acc_26: 0.3167 - dense_1_acc_27: 0.1833 - dense_1_acc_28: 0.2667 - dense_1_acc_29: 0.1833 - dense_1_acc_30: 0.0000e+00\n",
      "Epoch 13/100\n",
      "60/60 [==============================] - 0s 2ms/step - loss: 80.2175 - dense_1_loss_1: 4.1734 - dense_1_loss_2: 3.8442 - dense_1_loss_3: 3.4551 - dense_1_loss_4: 3.3407 - dense_1_loss_5: 2.9766 - dense_1_loss_6: 3.0046 - dense_1_loss_7: 2.9458 - dense_1_loss_8: 2.6443 - dense_1_loss_9: 2.7224 - dense_1_loss_10: 2.5713 - dense_1_loss_11: 2.7036 - dense_1_loss_12: 2.6437 - dense_1_loss_13: 2.4771 - dense_1_loss_14: 2.2851 - dense_1_loss_15: 2.6755 - dense_1_loss_16: 2.5277 - dense_1_loss_17: 2.5021 - dense_1_loss_18: 2.6289 - dense_1_loss_19: 2.5539 - dense_1_loss_20: 2.5666 - dense_1_loss_21: 2.5239 - dense_1_loss_22: 2.4392 - dense_1_loss_23: 2.6511 - dense_1_loss_24: 2.5160 - dense_1_loss_25: 2.8081 - dense_1_loss_26: 2.3297 - dense_1_loss_27: 2.6382 - dense_1_loss_28: 2.4380 - dense_1_loss_29: 2.6306 - dense_1_loss_30: 0.0000e+00 - dense_1_acc_1: 0.0500 - dense_1_acc_2: 0.1167 - dense_1_acc_3: 0.2167 - dense_1_acc_4: 0.2167 - dense_1_acc_5: 0.3333 - dense_1_acc_6: 0.1833 - dense_1_acc_7: 0.2333 - dense_1_acc_8: 0.3333 - dense_1_acc_9: 0.2167 - dense_1_acc_10: 0.2667 - dense_1_acc_11: 0.2667 - dense_1_acc_12: 0.2000 - dense_1_acc_13: 0.3500 - dense_1_acc_14: 0.3833 - dense_1_acc_15: 0.2500 - dense_1_acc_16: 0.2333 - dense_1_acc_17: 0.4167 - dense_1_acc_18: 0.2833 - dense_1_acc_19: 0.2500 - dense_1_acc_20: 0.2667 - dense_1_acc_21: 0.2833 - dense_1_acc_22: 0.2833 - dense_1_acc_23: 0.2167 - dense_1_acc_24: 0.2167 - dense_1_acc_25: 0.1667 - dense_1_acc_26: 0.3167 - dense_1_acc_27: 0.2500 - dense_1_acc_28: 0.3500 - dense_1_acc_29: 0.2167 - dense_1_acc_30: 0.0000e+00\n",
      "Epoch 14/100\n",
      "60/60 [==============================] - 0s 2ms/step - loss: 76.4183 - dense_1_loss_1: 4.1664 - dense_1_loss_2: 3.8098 - dense_1_loss_3: 3.3862 - dense_1_loss_4: 3.2379 - dense_1_loss_5: 2.8682 - dense_1_loss_6: 2.8668 - dense_1_loss_7: 2.8270 - dense_1_loss_8: 2.5575 - dense_1_loss_9: 2.5765 - dense_1_loss_10: 2.4728 - dense_1_loss_11: 2.5630 - dense_1_loss_12: 2.4961 - dense_1_loss_13: 2.3262 - dense_1_loss_14: 2.1858 - dense_1_loss_15: 2.5243 - dense_1_loss_16: 2.4380 - dense_1_loss_17: 2.3170 - dense_1_loss_18: 2.4883 - dense_1_loss_19: 2.4085 - dense_1_loss_20: 2.3909 - dense_1_loss_21: 2.4014 - dense_1_loss_22: 2.2813 - dense_1_loss_23: 2.3720 - dense_1_loss_24: 2.3171 - dense_1_loss_25: 2.6493 - dense_1_loss_26: 2.2291 - dense_1_loss_27: 2.4844 - dense_1_loss_28: 2.2901 - dense_1_loss_29: 2.4865 - dense_1_loss_30: 0.0000e+00 - dense_1_acc_1: 0.0333 - dense_1_acc_2: 0.1333 - dense_1_acc_3: 0.2333 - dense_1_acc_4: 0.2333 - dense_1_acc_5: 0.3500 - dense_1_acc_6: 0.2167 - dense_1_acc_7: 0.2333 - dense_1_acc_8: 0.3500 - dense_1_acc_9: 0.2833 - dense_1_acc_10: 0.2833 - dense_1_acc_11: 0.3000 - dense_1_acc_12: 0.2667 - dense_1_acc_13: 0.3833 - dense_1_acc_14: 0.4167 - dense_1_acc_15: 0.2667 - dense_1_acc_16: 0.2833 - dense_1_acc_17: 0.3833 - dense_1_acc_18: 0.2833 - dense_1_acc_19: 0.2833 - dense_1_acc_20: 0.3667 - dense_1_acc_21: 0.3500 - dense_1_acc_22: 0.2833 - dense_1_acc_23: 0.2667 - dense_1_acc_24: 0.2667 - dense_1_acc_25: 0.2500 - dense_1_acc_26: 0.3667 - dense_1_acc_27: 0.3167 - dense_1_acc_28: 0.4667 - dense_1_acc_29: 0.3167 - dense_1_acc_30: 0.0000e+00\n",
      "Epoch 15/100\n",
      "60/60 [==============================] - 0s 2ms/step - loss: 73.4149 - dense_1_loss_1: 4.1584 - dense_1_loss_2: 3.7747 - dense_1_loss_3: 3.3144 - dense_1_loss_4: 3.1334 - dense_1_loss_5: 2.7671 - dense_1_loss_6: 2.7299 - dense_1_loss_7: 2.6898 - dense_1_loss_8: 2.4687 - dense_1_loss_9: 2.4194 - dense_1_loss_10: 2.3386 - dense_1_loss_11: 2.4109 - dense_1_loss_12: 2.3392 - dense_1_loss_13: 2.1467 - dense_1_loss_14: 2.1193 - dense_1_loss_15: 2.4041 - dense_1_loss_16: 2.4211 - dense_1_loss_17: 2.1958 - dense_1_loss_18: 2.3542 - dense_1_loss_19: 2.2387 - dense_1_loss_20: 2.2204 - dense_1_loss_21: 2.2939 - dense_1_loss_22: 2.1001 - dense_1_loss_23: 2.3572 - dense_1_loss_24: 2.2924 - dense_1_loss_25: 2.5406 - dense_1_loss_26: 2.1753 - dense_1_loss_27: 2.4378 - dense_1_loss_28: 2.2314 - dense_1_loss_29: 2.3413 - dense_1_loss_30: 0.0000e+00 - dense_1_acc_1: 0.0333 - dense_1_acc_2: 0.1333 - dense_1_acc_3: 0.3000 - dense_1_acc_4: 0.2167 - dense_1_acc_5: 0.3500 - dense_1_acc_6: 0.2833 - dense_1_acc_7: 0.2667 - dense_1_acc_8: 0.3500 - dense_1_acc_9: 0.3333 - dense_1_acc_10: 0.3500 - dense_1_acc_11: 0.3000 - dense_1_acc_12: 0.3167 - dense_1_acc_13: 0.4667 - dense_1_acc_14: 0.5333 - dense_1_acc_15: 0.3000 - dense_1_acc_16: 0.3333 - dense_1_acc_17: 0.4500 - dense_1_acc_18: 0.2833 - dense_1_acc_19: 0.3333 - dense_1_acc_20: 0.3833 - dense_1_acc_21: 0.3167 - dense_1_acc_22: 0.3333 - dense_1_acc_23: 0.3000 - dense_1_acc_24: 0.2833 - dense_1_acc_25: 0.2833 - dense_1_acc_26: 0.3667 - dense_1_acc_27: 0.3667 - dense_1_acc_28: 0.4000 - dense_1_acc_29: 0.2000 - dense_1_acc_30: 0.0000e+00\n",
      "Epoch 16/100\n",
      "60/60 [==============================] - 0s 2ms/step - loss: 69.9501 - dense_1_loss_1: 4.1494 - dense_1_loss_2: 3.7360 - dense_1_loss_3: 3.2328 - dense_1_loss_4: 3.0183 - dense_1_loss_5: 2.6394 - dense_1_loss_6: 2.6158 - dense_1_loss_7: 2.5489 - dense_1_loss_8: 2.3050 - dense_1_loss_9: 2.3509 - dense_1_loss_10: 2.2820 - dense_1_loss_11: 2.2645 - dense_1_loss_12: 2.1881 - dense_1_loss_13: 2.0065 - dense_1_loss_14: 1.8791 - dense_1_loss_15: 2.2759 - dense_1_loss_16: 2.2539 - dense_1_loss_17: 2.1292 - dense_1_loss_18: 2.1503 - dense_1_loss_19: 2.0574 - dense_1_loss_20: 2.1897 - dense_1_loss_21: 2.2222 - dense_1_loss_22: 1.9792 - dense_1_loss_23: 2.1549 - dense_1_loss_24: 2.1851 - dense_1_loss_25: 2.3884 - dense_1_loss_26: 2.0812 - dense_1_loss_27: 2.3156 - dense_1_loss_28: 2.0616 - dense_1_loss_29: 2.2887 - dense_1_loss_30: 0.0000e+00 - dense_1_acc_1: 0.0333 - dense_1_acc_2: 0.1333 - dense_1_acc_3: 0.3000 - dense_1_acc_4: 0.2333 - dense_1_acc_5: 0.3000 - dense_1_acc_6: 0.2167 - dense_1_acc_7: 0.2833 - dense_1_acc_8: 0.3667 - dense_1_acc_9: 0.2667 - dense_1_acc_10: 0.3500 - dense_1_acc_11: 0.4000 - dense_1_acc_12: 0.5167 - dense_1_acc_13: 0.5500 - dense_1_acc_14: 0.5333 - dense_1_acc_15: 0.2833 - dense_1_acc_16: 0.3167 - dense_1_acc_17: 0.3667 - dense_1_acc_18: 0.2833 - dense_1_acc_19: 0.4333 - dense_1_acc_20: 0.4500 - dense_1_acc_21: 0.3167 - dense_1_acc_22: 0.4333 - dense_1_acc_23: 0.4000 - dense_1_acc_24: 0.3500 - dense_1_acc_25: 0.3833 - dense_1_acc_26: 0.5167 - dense_1_acc_27: 0.3333 - dense_1_acc_28: 0.5000 - dense_1_acc_29: 0.3500 - dense_1_acc_30: 0.0000e+00\n",
      "Epoch 17/100\n",
      "60/60 [==============================] - 0s 2ms/step - loss: 66.4597 - dense_1_loss_1: 4.1402 - dense_1_loss_2: 3.6932 - dense_1_loss_3: 3.1443 - dense_1_loss_4: 2.9169 - dense_1_loss_5: 2.5180 - dense_1_loss_6: 2.4977 - dense_1_loss_7: 2.3876 - dense_1_loss_8: 2.2048 - dense_1_loss_9: 2.2381 - dense_1_loss_10: 2.1301 - dense_1_loss_11: 2.1356 - dense_1_loss_12: 2.0913 - dense_1_loss_13: 1.9008 - dense_1_loss_14: 1.8375 - dense_1_loss_15: 2.1840 - dense_1_loss_16: 2.1359 - dense_1_loss_17: 2.0245 - dense_1_loss_18: 1.9761 - dense_1_loss_19: 1.8972 - dense_1_loss_20: 2.0619 - dense_1_loss_21: 2.0360 - dense_1_loss_22: 1.8855 - dense_1_loss_23: 2.0676 - dense_1_loss_24: 2.0409 - dense_1_loss_25: 2.2350 - dense_1_loss_26: 1.9186 - dense_1_loss_27: 2.0292 - dense_1_loss_28: 2.0019 - dense_1_loss_29: 2.1295 - dense_1_loss_30: 0.0000e+00 - dense_1_acc_1: 0.0333 - dense_1_acc_2: 0.1667 - dense_1_acc_3: 0.3000 - dense_1_acc_4: 0.2333 - dense_1_acc_5: 0.3333 - dense_1_acc_6: 0.2167 - dense_1_acc_7: 0.3167 - dense_1_acc_8: 0.3667 - dense_1_acc_9: 0.3500 - dense_1_acc_10: 0.3833 - dense_1_acc_11: 0.4000 - dense_1_acc_12: 0.4000 - dense_1_acc_13: 0.4667 - dense_1_acc_14: 0.5167 - dense_1_acc_15: 0.3167 - dense_1_acc_16: 0.3667 - dense_1_acc_17: 0.3833 - dense_1_acc_18: 0.4000 - dense_1_acc_19: 0.4333 - dense_1_acc_20: 0.4500 - dense_1_acc_21: 0.3500 - dense_1_acc_22: 0.3833 - dense_1_acc_23: 0.3833 - dense_1_acc_24: 0.3667 - dense_1_acc_25: 0.3500 - dense_1_acc_26: 0.6000 - dense_1_acc_27: 0.3667 - dense_1_acc_28: 0.4500 - dense_1_acc_29: 0.3667 - dense_1_acc_30: 0.0000e+00\n",
      "Epoch 18/100\n",
      "60/60 [==============================] - 0s 2ms/step - loss: 63.3218 - dense_1_loss_1: 4.1298 - dense_1_loss_2: 3.6467 - dense_1_loss_3: 3.0629 - dense_1_loss_4: 2.7987 - dense_1_loss_5: 2.4069 - dense_1_loss_6: 2.3817 - dense_1_loss_7: 2.2555 - dense_1_loss_8: 2.0733 - dense_1_loss_9: 2.0773 - dense_1_loss_10: 1.9621 - dense_1_loss_11: 2.0223 - dense_1_loss_12: 1.9516 - dense_1_loss_13: 1.8054 - dense_1_loss_14: 1.7557 - dense_1_loss_15: 2.0937 - dense_1_loss_16: 2.0397 - dense_1_loss_17: 1.9042 - dense_1_loss_18: 1.8689 - dense_1_loss_19: 1.7748 - dense_1_loss_20: 1.9398 - dense_1_loss_21: 1.9390 - dense_1_loss_22: 1.8008 - dense_1_loss_23: 1.9828 - dense_1_loss_24: 1.9263 - dense_1_loss_25: 2.0748 - dense_1_loss_26: 1.8136 - dense_1_loss_27: 1.9982 - dense_1_loss_28: 1.8671 - dense_1_loss_29: 1.9682 - dense_1_loss_30: 0.0000e+00 - dense_1_acc_1: 0.0333 - dense_1_acc_2: 0.1667 - dense_1_acc_3: 0.3000 - dense_1_acc_4: 0.2333 - dense_1_acc_5: 0.3667 - dense_1_acc_6: 0.2667 - dense_1_acc_7: 0.3500 - dense_1_acc_8: 0.4500 - dense_1_acc_9: 0.4000 - dense_1_acc_10: 0.4667 - dense_1_acc_11: 0.4167 - dense_1_acc_12: 0.4000 - dense_1_acc_13: 0.5000 - dense_1_acc_14: 0.5167 - dense_1_acc_15: 0.3000 - dense_1_acc_16: 0.4167 - dense_1_acc_17: 0.4667 - dense_1_acc_18: 0.3833 - dense_1_acc_19: 0.4833 - dense_1_acc_20: 0.4667 - dense_1_acc_21: 0.3667 - dense_1_acc_22: 0.3833 - dense_1_acc_23: 0.4333 - dense_1_acc_24: 0.4000 - dense_1_acc_25: 0.3667 - dense_1_acc_26: 0.5667 - dense_1_acc_27: 0.3667 - dense_1_acc_28: 0.4500 - dense_1_acc_29: 0.3833 - dense_1_acc_30: 0.0000e+00\n",
      "Epoch 19/100\n",
      "60/60 [==============================] - 0s 2ms/step - loss: 59.9517 - dense_1_loss_1: 4.1203 - dense_1_loss_2: 3.5999 - dense_1_loss_3: 2.9799 - dense_1_loss_4: 2.6844 - dense_1_loss_5: 2.2867 - dense_1_loss_6: 2.2459 - dense_1_loss_7: 2.1349 - dense_1_loss_8: 1.9773 - dense_1_loss_9: 1.9393 - dense_1_loss_10: 1.8855 - dense_1_loss_11: 1.8686 - dense_1_loss_12: 1.7987 - dense_1_loss_13: 1.6228 - dense_1_loss_14: 1.5931 - dense_1_loss_15: 1.9662 - dense_1_loss_16: 1.9084 - dense_1_loss_17: 1.7684 - dense_1_loss_18: 1.7640 - dense_1_loss_19: 1.6626 - dense_1_loss_20: 1.7891 - dense_1_loss_21: 1.8007 - dense_1_loss_22: 1.6374 - dense_1_loss_23: 1.8103 - dense_1_loss_24: 1.8379 - dense_1_loss_25: 1.8971 - dense_1_loss_26: 1.7897 - dense_1_loss_27: 1.9031 - dense_1_loss_28: 1.8125 - dense_1_loss_29: 1.8669 - dense_1_loss_30: 0.0000e+00 - dense_1_acc_1: 0.0333 - dense_1_acc_2: 0.1667 - dense_1_acc_3: 0.3000 - dense_1_acc_4: 0.2333 - dense_1_acc_5: 0.3667 - dense_1_acc_6: 0.3167 - dense_1_acc_7: 0.4333 - dense_1_acc_8: 0.4833 - dense_1_acc_9: 0.5667 - dense_1_acc_10: 0.4667 - dense_1_acc_11: 0.4333 - dense_1_acc_12: 0.4833 - dense_1_acc_13: 0.6500 - dense_1_acc_14: 0.5167 - dense_1_acc_15: 0.3500 - dense_1_acc_16: 0.3833 - dense_1_acc_17: 0.4500 - dense_1_acc_18: 0.3833 - dense_1_acc_19: 0.4833 - dense_1_acc_20: 0.5167 - dense_1_acc_21: 0.3833 - dense_1_acc_22: 0.5667 - dense_1_acc_23: 0.5333 - dense_1_acc_24: 0.4333 - dense_1_acc_25: 0.3667 - dense_1_acc_26: 0.5667 - dense_1_acc_27: 0.4333 - dense_1_acc_28: 0.4833 - dense_1_acc_29: 0.5333 - dense_1_acc_30: 0.0000e+00\n",
      "Epoch 20/100\n",
      "60/60 [==============================] - 0s 2ms/step - loss: 56.8397 - dense_1_loss_1: 4.1107 - dense_1_loss_2: 3.5504 - dense_1_loss_3: 2.8972 - dense_1_loss_4: 2.5783 - dense_1_loss_5: 2.1999 - dense_1_loss_6: 2.1485 - dense_1_loss_7: 2.0008 - dense_1_loss_8: 1.8986 - dense_1_loss_9: 1.8201 - dense_1_loss_10: 1.7412 - dense_1_loss_11: 1.8061 - dense_1_loss_12: 1.6684 - dense_1_loss_13: 1.5275 - dense_1_loss_14: 1.5626 - dense_1_loss_15: 1.8066 - dense_1_loss_16: 1.7629 - dense_1_loss_17: 1.6554 - dense_1_loss_18: 1.6782 - dense_1_loss_19: 1.5769 - dense_1_loss_20: 1.6571 - dense_1_loss_21: 1.6680 - dense_1_loss_22: 1.5504 - dense_1_loss_23: 1.7041 - dense_1_loss_24: 1.6666 - dense_1_loss_25: 1.7991 - dense_1_loss_26: 1.6138 - dense_1_loss_27: 1.7819 - dense_1_loss_28: 1.6668 - dense_1_loss_29: 1.7417 - dense_1_loss_30: 0.0000e+00 - dense_1_acc_1: 0.0333 - dense_1_acc_2: 0.1833 - dense_1_acc_3: 0.3167 - dense_1_acc_4: 0.2667 - dense_1_acc_5: 0.3667 - dense_1_acc_6: 0.3167 - dense_1_acc_7: 0.5333 - dense_1_acc_8: 0.4833 - dense_1_acc_9: 0.5833 - dense_1_acc_10: 0.5500 - dense_1_acc_11: 0.4500 - dense_1_acc_12: 0.5167 - dense_1_acc_13: 0.7500 - dense_1_acc_14: 0.5833 - dense_1_acc_15: 0.4333 - dense_1_acc_16: 0.4833 - dense_1_acc_17: 0.5167 - dense_1_acc_18: 0.5000 - dense_1_acc_19: 0.6500 - dense_1_acc_20: 0.6000 - dense_1_acc_21: 0.4833 - dense_1_acc_22: 0.6833 - dense_1_acc_23: 0.5667 - dense_1_acc_24: 0.5333 - dense_1_acc_25: 0.4333 - dense_1_acc_26: 0.6000 - dense_1_acc_27: 0.4000 - dense_1_acc_28: 0.5167 - dense_1_acc_29: 0.5167 - dense_1_acc_30: 0.0000e+00\n",
      "Epoch 21/100\n"
     ]
    },
    {
     "name": "stdout",
     "output_type": "stream",
     "text": [
      "60/60 [==============================] - 0s 2ms/step - loss: 53.8173 - dense_1_loss_1: 4.1002 - dense_1_loss_2: 3.4999 - dense_1_loss_3: 2.8035 - dense_1_loss_4: 2.4795 - dense_1_loss_5: 2.1034 - dense_1_loss_6: 2.0339 - dense_1_loss_7: 1.8905 - dense_1_loss_8: 1.8429 - dense_1_loss_9: 1.6912 - dense_1_loss_10: 1.5652 - dense_1_loss_11: 1.7177 - dense_1_loss_12: 1.5802 - dense_1_loss_13: 1.4225 - dense_1_loss_14: 1.5051 - dense_1_loss_15: 1.6730 - dense_1_loss_16: 1.6389 - dense_1_loss_17: 1.5452 - dense_1_loss_18: 1.5446 - dense_1_loss_19: 1.4998 - dense_1_loss_20: 1.5588 - dense_1_loss_21: 1.5548 - dense_1_loss_22: 1.4799 - dense_1_loss_23: 1.5791 - dense_1_loss_24: 1.5335 - dense_1_loss_25: 1.6667 - dense_1_loss_26: 1.5065 - dense_1_loss_27: 1.6666 - dense_1_loss_28: 1.5370 - dense_1_loss_29: 1.5972 - dense_1_loss_30: 0.0000e+00 - dense_1_acc_1: 0.0333 - dense_1_acc_2: 0.1833 - dense_1_acc_3: 0.3500 - dense_1_acc_4: 0.3000 - dense_1_acc_5: 0.3833 - dense_1_acc_6: 0.3667 - dense_1_acc_7: 0.5333 - dense_1_acc_8: 0.4833 - dense_1_acc_9: 0.5500 - dense_1_acc_10: 0.7000 - dense_1_acc_11: 0.4667 - dense_1_acc_12: 0.6000 - dense_1_acc_13: 0.7333 - dense_1_acc_14: 0.6000 - dense_1_acc_15: 0.5000 - dense_1_acc_16: 0.4667 - dense_1_acc_17: 0.6000 - dense_1_acc_18: 0.6000 - dense_1_acc_19: 0.6167 - dense_1_acc_20: 0.5833 - dense_1_acc_21: 0.6000 - dense_1_acc_22: 0.6833 - dense_1_acc_23: 0.6167 - dense_1_acc_24: 0.5500 - dense_1_acc_25: 0.4667 - dense_1_acc_26: 0.6833 - dense_1_acc_27: 0.5167 - dense_1_acc_28: 0.5833 - dense_1_acc_29: 0.5667 - dense_1_acc_30: 0.0000e+00\n",
      "Epoch 22/100\n",
      "60/60 [==============================] - 0s 2ms/step - loss: 50.8283 - dense_1_loss_1: 4.0916 - dense_1_loss_2: 3.4495 - dense_1_loss_3: 2.7042 - dense_1_loss_4: 2.3710 - dense_1_loss_5: 1.9972 - dense_1_loss_6: 1.8940 - dense_1_loss_7: 1.7604 - dense_1_loss_8: 1.7431 - dense_1_loss_9: 1.5766 - dense_1_loss_10: 1.4482 - dense_1_loss_11: 1.5845 - dense_1_loss_12: 1.4695 - dense_1_loss_13: 1.3038 - dense_1_loss_14: 1.3407 - dense_1_loss_15: 1.5688 - dense_1_loss_16: 1.4834 - dense_1_loss_17: 1.4161 - dense_1_loss_18: 1.4614 - dense_1_loss_19: 1.3745 - dense_1_loss_20: 1.4629 - dense_1_loss_21: 1.4425 - dense_1_loss_22: 1.3806 - dense_1_loss_23: 1.5168 - dense_1_loss_24: 1.4569 - dense_1_loss_25: 1.5646 - dense_1_loss_26: 1.4002 - dense_1_loss_27: 1.5610 - dense_1_loss_28: 1.4696 - dense_1_loss_29: 1.5345 - dense_1_loss_30: 0.0000e+00 - dense_1_acc_1: 0.0333 - dense_1_acc_2: 0.2000 - dense_1_acc_3: 0.3667 - dense_1_acc_4: 0.3000 - dense_1_acc_5: 0.4000 - dense_1_acc_6: 0.4167 - dense_1_acc_7: 0.5333 - dense_1_acc_8: 0.4833 - dense_1_acc_9: 0.5833 - dense_1_acc_10: 0.7000 - dense_1_acc_11: 0.5000 - dense_1_acc_12: 0.6500 - dense_1_acc_13: 0.8167 - dense_1_acc_14: 0.6833 - dense_1_acc_15: 0.4667 - dense_1_acc_16: 0.5333 - dense_1_acc_17: 0.6500 - dense_1_acc_18: 0.6000 - dense_1_acc_19: 0.6500 - dense_1_acc_20: 0.5833 - dense_1_acc_21: 0.6333 - dense_1_acc_22: 0.7167 - dense_1_acc_23: 0.6167 - dense_1_acc_24: 0.6167 - dense_1_acc_25: 0.5833 - dense_1_acc_26: 0.6500 - dense_1_acc_27: 0.5167 - dense_1_acc_28: 0.6000 - dense_1_acc_29: 0.5333 - dense_1_acc_30: 0.0000e+00\n",
      "Epoch 23/100\n",
      "60/60 [==============================] - 0s 2ms/step - loss: 48.0511 - dense_1_loss_1: 4.0819 - dense_1_loss_2: 3.3978 - dense_1_loss_3: 2.6092 - dense_1_loss_4: 2.2747 - dense_1_loss_5: 1.9039 - dense_1_loss_6: 1.7852 - dense_1_loss_7: 1.6358 - dense_1_loss_8: 1.6390 - dense_1_loss_9: 1.4779 - dense_1_loss_10: 1.3476 - dense_1_loss_11: 1.4721 - dense_1_loss_12: 1.3729 - dense_1_loss_13: 1.2326 - dense_1_loss_14: 1.2365 - dense_1_loss_15: 1.4094 - dense_1_loss_16: 1.3830 - dense_1_loss_17: 1.3327 - dense_1_loss_18: 1.3603 - dense_1_loss_19: 1.3153 - dense_1_loss_20: 1.4065 - dense_1_loss_21: 1.3449 - dense_1_loss_22: 1.3042 - dense_1_loss_23: 1.3753 - dense_1_loss_24: 1.3560 - dense_1_loss_25: 1.4359 - dense_1_loss_26: 1.3184 - dense_1_loss_27: 1.4579 - dense_1_loss_28: 1.3559 - dense_1_loss_29: 1.4284 - dense_1_loss_30: 0.0000e+00 - dense_1_acc_1: 0.0333 - dense_1_acc_2: 0.2167 - dense_1_acc_3: 0.3667 - dense_1_acc_4: 0.3500 - dense_1_acc_5: 0.4833 - dense_1_acc_6: 0.4667 - dense_1_acc_7: 0.6333 - dense_1_acc_8: 0.5833 - dense_1_acc_9: 0.6833 - dense_1_acc_10: 0.7667 - dense_1_acc_11: 0.5167 - dense_1_acc_12: 0.6833 - dense_1_acc_13: 0.8500 - dense_1_acc_14: 0.7833 - dense_1_acc_15: 0.5833 - dense_1_acc_16: 0.6833 - dense_1_acc_17: 0.7667 - dense_1_acc_18: 0.6500 - dense_1_acc_19: 0.7000 - dense_1_acc_20: 0.5833 - dense_1_acc_21: 0.7000 - dense_1_acc_22: 0.7500 - dense_1_acc_23: 0.6500 - dense_1_acc_24: 0.6333 - dense_1_acc_25: 0.6667 - dense_1_acc_26: 0.7667 - dense_1_acc_27: 0.6333 - dense_1_acc_28: 0.7500 - dense_1_acc_29: 0.7000 - dense_1_acc_30: 0.0000e+00\n",
      "Epoch 24/100\n",
      "60/60 [==============================] - 0s 2ms/step - loss: 45.4841 - dense_1_loss_1: 4.0733 - dense_1_loss_2: 3.3491 - dense_1_loss_3: 2.5239 - dense_1_loss_4: 2.1703 - dense_1_loss_5: 1.8194 - dense_1_loss_6: 1.6759 - dense_1_loss_7: 1.5322 - dense_1_loss_8: 1.5392 - dense_1_loss_9: 1.3759 - dense_1_loss_10: 1.2648 - dense_1_loss_11: 1.3988 - dense_1_loss_12: 1.2903 - dense_1_loss_13: 1.1414 - dense_1_loss_14: 1.1691 - dense_1_loss_15: 1.3203 - dense_1_loss_16: 1.2896 - dense_1_loss_17: 1.2544 - dense_1_loss_18: 1.2343 - dense_1_loss_19: 1.1941 - dense_1_loss_20: 1.3248 - dense_1_loss_21: 1.2589 - dense_1_loss_22: 1.2135 - dense_1_loss_23: 1.2882 - dense_1_loss_24: 1.2367 - dense_1_loss_25: 1.3440 - dense_1_loss_26: 1.2387 - dense_1_loss_27: 1.3572 - dense_1_loss_28: 1.2795 - dense_1_loss_29: 1.3264 - dense_1_loss_30: 0.0000e+00 - dense_1_acc_1: 0.0167 - dense_1_acc_2: 0.3333 - dense_1_acc_3: 0.3833 - dense_1_acc_4: 0.4167 - dense_1_acc_5: 0.4667 - dense_1_acc_6: 0.5500 - dense_1_acc_7: 0.6000 - dense_1_acc_8: 0.5667 - dense_1_acc_9: 0.6833 - dense_1_acc_10: 0.7333 - dense_1_acc_11: 0.4833 - dense_1_acc_12: 0.6833 - dense_1_acc_13: 0.8667 - dense_1_acc_14: 0.7833 - dense_1_acc_15: 0.6000 - dense_1_acc_16: 0.6333 - dense_1_acc_17: 0.7500 - dense_1_acc_18: 0.7667 - dense_1_acc_19: 0.8167 - dense_1_acc_20: 0.6500 - dense_1_acc_21: 0.7333 - dense_1_acc_22: 0.7667 - dense_1_acc_23: 0.7333 - dense_1_acc_24: 0.7167 - dense_1_acc_25: 0.6333 - dense_1_acc_26: 0.7000 - dense_1_acc_27: 0.6667 - dense_1_acc_28: 0.7667 - dense_1_acc_29: 0.7667 - dense_1_acc_30: 0.0000e+00\n",
      "Epoch 25/100\n",
      "60/60 [==============================] - 0s 2ms/step - loss: 42.9127 - dense_1_loss_1: 4.0640 - dense_1_loss_2: 3.2985 - dense_1_loss_3: 2.4374 - dense_1_loss_4: 2.0777 - dense_1_loss_5: 1.7324 - dense_1_loss_6: 1.5854 - dense_1_loss_7: 1.4077 - dense_1_loss_8: 1.4389 - dense_1_loss_9: 1.2873 - dense_1_loss_10: 1.1749 - dense_1_loss_11: 1.2728 - dense_1_loss_12: 1.1839 - dense_1_loss_13: 1.0724 - dense_1_loss_14: 1.0724 - dense_1_loss_15: 1.2181 - dense_1_loss_16: 1.2186 - dense_1_loss_17: 1.1562 - dense_1_loss_18: 1.1494 - dense_1_loss_19: 1.1111 - dense_1_loss_20: 1.2509 - dense_1_loss_21: 1.1877 - dense_1_loss_22: 1.0819 - dense_1_loss_23: 1.1644 - dense_1_loss_24: 1.1772 - dense_1_loss_25: 1.2444 - dense_1_loss_26: 1.1600 - dense_1_loss_27: 1.2550 - dense_1_loss_28: 1.1889 - dense_1_loss_29: 1.2434 - dense_1_loss_30: 0.0000e+00 - dense_1_acc_1: 0.0667 - dense_1_acc_2: 0.3333 - dense_1_acc_3: 0.4000 - dense_1_acc_4: 0.4333 - dense_1_acc_5: 0.5000 - dense_1_acc_6: 0.5667 - dense_1_acc_7: 0.6500 - dense_1_acc_8: 0.6000 - dense_1_acc_9: 0.7000 - dense_1_acc_10: 0.7833 - dense_1_acc_11: 0.6333 - dense_1_acc_12: 0.7333 - dense_1_acc_13: 0.8667 - dense_1_acc_14: 0.8167 - dense_1_acc_15: 0.6500 - dense_1_acc_16: 0.7000 - dense_1_acc_17: 0.8000 - dense_1_acc_18: 0.8333 - dense_1_acc_19: 0.7667 - dense_1_acc_20: 0.6667 - dense_1_acc_21: 0.7667 - dense_1_acc_22: 0.8667 - dense_1_acc_23: 0.8500 - dense_1_acc_24: 0.7500 - dense_1_acc_25: 0.7833 - dense_1_acc_26: 0.8000 - dense_1_acc_27: 0.7333 - dense_1_acc_28: 0.8167 - dense_1_acc_29: 0.8167 - dense_1_acc_30: 0.0000e+00\n",
      "Epoch 26/100\n",
      "60/60 [==============================] - 0s 2ms/step - loss: 40.4570 - dense_1_loss_1: 4.0549 - dense_1_loss_2: 3.2462 - dense_1_loss_3: 2.3533 - dense_1_loss_4: 1.9861 - dense_1_loss_5: 1.6449 - dense_1_loss_6: 1.5026 - dense_1_loss_7: 1.3234 - dense_1_loss_8: 1.3330 - dense_1_loss_9: 1.1849 - dense_1_loss_10: 1.0777 - dense_1_loss_11: 1.2051 - dense_1_loss_12: 1.0868 - dense_1_loss_13: 0.9816 - dense_1_loss_14: 0.9706 - dense_1_loss_15: 1.1175 - dense_1_loss_16: 1.1094 - dense_1_loss_17: 1.0443 - dense_1_loss_18: 1.0495 - dense_1_loss_19: 1.0452 - dense_1_loss_20: 1.1540 - dense_1_loss_21: 1.0734 - dense_1_loss_22: 0.9991 - dense_1_loss_23: 1.1137 - dense_1_loss_24: 1.1088 - dense_1_loss_25: 1.1699 - dense_1_loss_26: 1.0797 - dense_1_loss_27: 1.1492 - dense_1_loss_28: 1.1197 - dense_1_loss_29: 1.1724 - dense_1_loss_30: 0.0000e+00 - dense_1_acc_1: 0.0667 - dense_1_acc_2: 0.3333 - dense_1_acc_3: 0.4667 - dense_1_acc_4: 0.4833 - dense_1_acc_5: 0.5333 - dense_1_acc_6: 0.5667 - dense_1_acc_7: 0.6833 - dense_1_acc_8: 0.6500 - dense_1_acc_9: 0.6833 - dense_1_acc_10: 0.8000 - dense_1_acc_11: 0.7333 - dense_1_acc_12: 0.8167 - dense_1_acc_13: 0.9167 - dense_1_acc_14: 0.9167 - dense_1_acc_15: 0.7667 - dense_1_acc_16: 0.7333 - dense_1_acc_17: 0.8833 - dense_1_acc_18: 0.9000 - dense_1_acc_19: 0.8500 - dense_1_acc_20: 0.7667 - dense_1_acc_21: 0.9000 - dense_1_acc_22: 0.9167 - dense_1_acc_23: 0.8667 - dense_1_acc_24: 0.8833 - dense_1_acc_25: 0.7667 - dense_1_acc_26: 0.8500 - dense_1_acc_27: 0.7500 - dense_1_acc_28: 0.8333 - dense_1_acc_29: 0.8667 - dense_1_acc_30: 0.0000e+00\n",
      "Epoch 27/100\n",
      "60/60 [==============================] - 0s 2ms/step - loss: 38.1894 - dense_1_loss_1: 4.0462 - dense_1_loss_2: 3.1958 - dense_1_loss_3: 2.2790 - dense_1_loss_4: 1.8862 - dense_1_loss_5: 1.5597 - dense_1_loss_6: 1.4163 - dense_1_loss_7: 1.2458 - dense_1_loss_8: 1.2474 - dense_1_loss_9: 1.1200 - dense_1_loss_10: 1.0078 - dense_1_loss_11: 1.1159 - dense_1_loss_12: 1.0127 - dense_1_loss_13: 0.9046 - dense_1_loss_14: 0.9186 - dense_1_loss_15: 1.0509 - dense_1_loss_16: 1.0465 - dense_1_loss_17: 0.9714 - dense_1_loss_18: 0.9479 - dense_1_loss_19: 0.9804 - dense_1_loss_20: 1.0651 - dense_1_loss_21: 1.0067 - dense_1_loss_22: 0.9454 - dense_1_loss_23: 1.0042 - dense_1_loss_24: 1.0027 - dense_1_loss_25: 1.0598 - dense_1_loss_26: 1.0027 - dense_1_loss_27: 1.0520 - dense_1_loss_28: 1.0200 - dense_1_loss_29: 1.0779 - dense_1_loss_30: 0.0000e+00 - dense_1_acc_1: 0.0667 - dense_1_acc_2: 0.3333 - dense_1_acc_3: 0.4667 - dense_1_acc_4: 0.5000 - dense_1_acc_5: 0.5333 - dense_1_acc_6: 0.5667 - dense_1_acc_7: 0.7333 - dense_1_acc_8: 0.7833 - dense_1_acc_9: 0.8000 - dense_1_acc_10: 0.8667 - dense_1_acc_11: 0.7833 - dense_1_acc_12: 0.8667 - dense_1_acc_13: 0.9333 - dense_1_acc_14: 0.9667 - dense_1_acc_15: 0.7833 - dense_1_acc_16: 0.8500 - dense_1_acc_17: 0.8833 - dense_1_acc_18: 0.9333 - dense_1_acc_19: 0.9000 - dense_1_acc_20: 0.8667 - dense_1_acc_21: 0.9167 - dense_1_acc_22: 0.9667 - dense_1_acc_23: 0.9000 - dense_1_acc_24: 0.9000 - dense_1_acc_25: 0.8500 - dense_1_acc_26: 0.8833 - dense_1_acc_27: 0.8500 - dense_1_acc_28: 0.8667 - dense_1_acc_29: 0.8667 - dense_1_acc_30: 0.0000e+00\n",
      "Epoch 28/100\n",
      "60/60 [==============================] - 0s 2ms/step - loss: 36.0537 - dense_1_loss_1: 4.0386 - dense_1_loss_2: 3.1428 - dense_1_loss_3: 2.1975 - dense_1_loss_4: 1.7919 - dense_1_loss_5: 1.4667 - dense_1_loss_6: 1.2985 - dense_1_loss_7: 1.1453 - dense_1_loss_8: 1.1555 - dense_1_loss_9: 1.0538 - dense_1_loss_10: 0.9460 - dense_1_loss_11: 1.0195 - dense_1_loss_12: 0.9097 - dense_1_loss_13: 0.8410 - dense_1_loss_14: 0.8711 - dense_1_loss_15: 0.9547 - dense_1_loss_16: 0.9577 - dense_1_loss_17: 0.8906 - dense_1_loss_18: 0.8941 - dense_1_loss_19: 0.8942 - dense_1_loss_20: 0.9897 - dense_1_loss_21: 0.9677 - dense_1_loss_22: 0.8688 - dense_1_loss_23: 0.9321 - dense_1_loss_24: 0.9340 - dense_1_loss_25: 0.9894 - dense_1_loss_26: 0.9268 - dense_1_loss_27: 0.9877 - dense_1_loss_28: 0.9685 - dense_1_loss_29: 1.0200 - dense_1_loss_30: 0.0000e+00 - dense_1_acc_1: 0.0667 - dense_1_acc_2: 0.3333 - dense_1_acc_3: 0.5167 - dense_1_acc_4: 0.5833 - dense_1_acc_5: 0.5167 - dense_1_acc_6: 0.7167 - dense_1_acc_7: 0.8167 - dense_1_acc_8: 0.8333 - dense_1_acc_9: 0.8500 - dense_1_acc_10: 0.9333 - dense_1_acc_11: 0.8333 - dense_1_acc_12: 0.9500 - dense_1_acc_13: 0.9500 - dense_1_acc_14: 0.9833 - dense_1_acc_15: 0.8667 - dense_1_acc_16: 0.9167 - dense_1_acc_17: 0.9333 - dense_1_acc_18: 0.9667 - dense_1_acc_19: 0.9500 - dense_1_acc_20: 0.9167 - dense_1_acc_21: 0.9333 - dense_1_acc_22: 0.9833 - dense_1_acc_23: 0.9167 - dense_1_acc_24: 0.9333 - dense_1_acc_25: 0.8167 - dense_1_acc_26: 0.9500 - dense_1_acc_27: 0.9000 - dense_1_acc_28: 0.8833 - dense_1_acc_29: 0.8833 - dense_1_acc_30: 0.0000e+00\n",
      "Epoch 29/100\n",
      "60/60 [==============================] - 0s 2ms/step - loss: 33.9402 - dense_1_loss_1: 4.0306 - dense_1_loss_2: 3.0915 - dense_1_loss_3: 2.1166 - dense_1_loss_4: 1.7042 - dense_1_loss_5: 1.3781 - dense_1_loss_6: 1.2094 - dense_1_loss_7: 1.0473 - dense_1_loss_8: 1.0627 - dense_1_loss_9: 0.9642 - dense_1_loss_10: 0.8832 - dense_1_loss_11: 0.9325 - dense_1_loss_12: 0.8549 - dense_1_loss_13: 0.7685 - dense_1_loss_14: 0.7997 - dense_1_loss_15: 0.8869 - dense_1_loss_16: 0.8816 - dense_1_loss_17: 0.8338 - dense_1_loss_18: 0.8191 - dense_1_loss_19: 0.8304 - dense_1_loss_20: 0.9017 - dense_1_loss_21: 0.8958 - dense_1_loss_22: 0.8006 - dense_1_loss_23: 0.8646 - dense_1_loss_24: 0.8715 - dense_1_loss_25: 0.9018 - dense_1_loss_26: 0.8390 - dense_1_loss_27: 0.9192 - dense_1_loss_28: 0.9069 - dense_1_loss_29: 0.9441 - dense_1_loss_30: 0.0000e+00 - dense_1_acc_1: 0.0667 - dense_1_acc_2: 0.3333 - dense_1_acc_3: 0.5167 - dense_1_acc_4: 0.6000 - dense_1_acc_5: 0.6167 - dense_1_acc_6: 0.7833 - dense_1_acc_7: 0.8167 - dense_1_acc_8: 0.8500 - dense_1_acc_9: 0.8667 - dense_1_acc_10: 0.9167 - dense_1_acc_11: 0.8500 - dense_1_acc_12: 0.9667 - dense_1_acc_13: 0.9667 - dense_1_acc_14: 0.9833 - dense_1_acc_15: 0.8833 - dense_1_acc_16: 0.8833 - dense_1_acc_17: 0.9167 - dense_1_acc_18: 0.9667 - dense_1_acc_19: 0.9500 - dense_1_acc_20: 0.9333 - dense_1_acc_21: 0.9333 - dense_1_acc_22: 0.9833 - dense_1_acc_23: 0.9167 - dense_1_acc_24: 0.9333 - dense_1_acc_25: 0.8333 - dense_1_acc_26: 0.9667 - dense_1_acc_27: 0.9000 - dense_1_acc_28: 0.9000 - dense_1_acc_29: 0.8833 - dense_1_acc_30: 0.0000e+00\n",
      "Epoch 30/100\n",
      "60/60 [==============================] - 0s 2ms/step - loss: 31.9876 - dense_1_loss_1: 4.0231 - dense_1_loss_2: 3.0352 - dense_1_loss_3: 2.0382 - dense_1_loss_4: 1.6280 - dense_1_loss_5: 1.2900 - dense_1_loss_6: 1.1386 - dense_1_loss_7: 0.9704 - dense_1_loss_8: 0.9706 - dense_1_loss_9: 0.9100 - dense_1_loss_10: 0.8080 - dense_1_loss_11: 0.8709 - dense_1_loss_12: 0.7945 - dense_1_loss_13: 0.7140 - dense_1_loss_14: 0.7530 - dense_1_loss_15: 0.7736 - dense_1_loss_16: 0.8131 - dense_1_loss_17: 0.7565 - dense_1_loss_18: 0.7595 - dense_1_loss_19: 0.7795 - dense_1_loss_20: 0.8435 - dense_1_loss_21: 0.8143 - dense_1_loss_22: 0.7432 - dense_1_loss_23: 0.7950 - dense_1_loss_24: 0.8008 - dense_1_loss_25: 0.8236 - dense_1_loss_26: 0.7755 - dense_1_loss_27: 0.8502 - dense_1_loss_28: 0.8329 - dense_1_loss_29: 0.8819 - dense_1_loss_30: 0.0000e+00 - dense_1_acc_1: 0.0667 - dense_1_acc_2: 0.3333 - dense_1_acc_3: 0.5333 - dense_1_acc_4: 0.6333 - dense_1_acc_5: 0.6167 - dense_1_acc_6: 0.8000 - dense_1_acc_7: 0.9000 - dense_1_acc_8: 0.8500 - dense_1_acc_9: 0.9000 - dense_1_acc_10: 0.9500 - dense_1_acc_11: 0.8500 - dense_1_acc_12: 0.9667 - dense_1_acc_13: 0.9500 - dense_1_acc_14: 0.9333 - dense_1_acc_15: 0.9500 - dense_1_acc_16: 0.9833 - dense_1_acc_17: 0.9500 - dense_1_acc_18: 0.9833 - dense_1_acc_19: 0.9667 - dense_1_acc_20: 0.9500 - dense_1_acc_21: 1.0000 - dense_1_acc_22: 1.0000 - dense_1_acc_23: 0.9000 - dense_1_acc_24: 0.9500 - dense_1_acc_25: 0.8667 - dense_1_acc_26: 0.9667 - dense_1_acc_27: 0.9167 - dense_1_acc_28: 0.9500 - dense_1_acc_29: 0.9167 - dense_1_acc_30: 0.0000e+00\n",
      "Epoch 31/100\n"
     ]
    },
    {
     "name": "stdout",
     "output_type": "stream",
     "text": [
      "60/60 [==============================] - 0s 2ms/step - loss: 30.1081 - dense_1_loss_1: 4.0149 - dense_1_loss_2: 2.9840 - dense_1_loss_3: 1.9582 - dense_1_loss_4: 1.5450 - dense_1_loss_5: 1.2149 - dense_1_loss_6: 1.0520 - dense_1_loss_7: 0.9033 - dense_1_loss_8: 0.8973 - dense_1_loss_9: 0.8511 - dense_1_loss_10: 0.7516 - dense_1_loss_11: 0.8116 - dense_1_loss_12: 0.7309 - dense_1_loss_13: 0.6632 - dense_1_loss_14: 0.6800 - dense_1_loss_15: 0.7248 - dense_1_loss_16: 0.7515 - dense_1_loss_17: 0.6965 - dense_1_loss_18: 0.6913 - dense_1_loss_19: 0.6984 - dense_1_loss_20: 0.7819 - dense_1_loss_21: 0.7478 - dense_1_loss_22: 0.6781 - dense_1_loss_23: 0.7224 - dense_1_loss_24: 0.7329 - dense_1_loss_25: 0.7617 - dense_1_loss_26: 0.7130 - dense_1_loss_27: 0.7582 - dense_1_loss_28: 0.7780 - dense_1_loss_29: 0.8135 - dense_1_loss_30: 0.0000e+00 - dense_1_acc_1: 0.0667 - dense_1_acc_2: 0.3500 - dense_1_acc_3: 0.5500 - dense_1_acc_4: 0.6667 - dense_1_acc_5: 0.6500 - dense_1_acc_6: 0.8000 - dense_1_acc_7: 0.9333 - dense_1_acc_8: 0.8333 - dense_1_acc_9: 0.8833 - dense_1_acc_10: 0.9500 - dense_1_acc_11: 0.8667 - dense_1_acc_12: 0.9667 - dense_1_acc_13: 0.9333 - dense_1_acc_14: 0.9333 - dense_1_acc_15: 0.9333 - dense_1_acc_16: 0.9667 - dense_1_acc_17: 0.9833 - dense_1_acc_18: 1.0000 - dense_1_acc_19: 0.9667 - dense_1_acc_20: 0.9667 - dense_1_acc_21: 1.0000 - dense_1_acc_22: 0.9833 - dense_1_acc_23: 0.9500 - dense_1_acc_24: 0.9667 - dense_1_acc_25: 0.9167 - dense_1_acc_26: 0.9833 - dense_1_acc_27: 0.9500 - dense_1_acc_28: 0.9333 - dense_1_acc_29: 0.9333 - dense_1_acc_30: 0.0000e+00\n",
      "Epoch 32/100\n",
      "60/60 [==============================] - 0s 2ms/step - loss: 28.3113 - dense_1_loss_1: 4.0080 - dense_1_loss_2: 2.9296 - dense_1_loss_3: 1.8846 - dense_1_loss_4: 1.4606 - dense_1_loss_5: 1.1350 - dense_1_loss_6: 0.9689 - dense_1_loss_7: 0.8300 - dense_1_loss_8: 0.8184 - dense_1_loss_9: 0.7635 - dense_1_loss_10: 0.6866 - dense_1_loss_11: 0.7497 - dense_1_loss_12: 0.6673 - dense_1_loss_13: 0.5961 - dense_1_loss_14: 0.6254 - dense_1_loss_15: 0.6655 - dense_1_loss_16: 0.6908 - dense_1_loss_17: 0.6378 - dense_1_loss_18: 0.6238 - dense_1_loss_19: 0.6415 - dense_1_loss_20: 0.7160 - dense_1_loss_21: 0.7003 - dense_1_loss_22: 0.6164 - dense_1_loss_23: 0.6744 - dense_1_loss_24: 0.6807 - dense_1_loss_25: 0.7074 - dense_1_loss_26: 0.6613 - dense_1_loss_27: 0.6921 - dense_1_loss_28: 0.7325 - dense_1_loss_29: 0.7472 - dense_1_loss_30: 0.0000e+00 - dense_1_acc_1: 0.0667 - dense_1_acc_2: 0.3500 - dense_1_acc_3: 0.5667 - dense_1_acc_4: 0.6500 - dense_1_acc_5: 0.7167 - dense_1_acc_6: 0.8000 - dense_1_acc_7: 0.9667 - dense_1_acc_8: 0.8667 - dense_1_acc_9: 0.9333 - dense_1_acc_10: 0.9667 - dense_1_acc_11: 0.9333 - dense_1_acc_12: 0.9667 - dense_1_acc_13: 0.9667 - dense_1_acc_14: 0.9833 - dense_1_acc_15: 0.9667 - dense_1_acc_16: 0.9833 - dense_1_acc_17: 0.9833 - dense_1_acc_18: 1.0000 - dense_1_acc_19: 0.9667 - dense_1_acc_20: 0.9833 - dense_1_acc_21: 1.0000 - dense_1_acc_22: 1.0000 - dense_1_acc_23: 0.9500 - dense_1_acc_24: 0.9667 - dense_1_acc_25: 0.9333 - dense_1_acc_26: 0.9833 - dense_1_acc_27: 0.9500 - dense_1_acc_28: 0.9667 - dense_1_acc_29: 0.9667 - dense_1_acc_30: 0.0000e+00\n",
      "Epoch 33/100\n",
      "60/60 [==============================] - 0s 2ms/step - loss: 26.6600 - dense_1_loss_1: 4.0015 - dense_1_loss_2: 2.8751 - dense_1_loss_3: 1.8099 - dense_1_loss_4: 1.3763 - dense_1_loss_5: 1.0596 - dense_1_loss_6: 0.8932 - dense_1_loss_7: 0.7710 - dense_1_loss_8: 0.7473 - dense_1_loss_9: 0.7036 - dense_1_loss_10: 0.6362 - dense_1_loss_11: 0.6851 - dense_1_loss_12: 0.6123 - dense_1_loss_13: 0.5470 - dense_1_loss_14: 0.5829 - dense_1_loss_15: 0.6057 - dense_1_loss_16: 0.6264 - dense_1_loss_17: 0.5833 - dense_1_loss_18: 0.5701 - dense_1_loss_19: 0.5961 - dense_1_loss_20: 0.6637 - dense_1_loss_21: 0.6454 - dense_1_loss_22: 0.5708 - dense_1_loss_23: 0.6200 - dense_1_loss_24: 0.6213 - dense_1_loss_25: 0.6466 - dense_1_loss_26: 0.6095 - dense_1_loss_27: 0.6429 - dense_1_loss_28: 0.6590 - dense_1_loss_29: 0.6983 - dense_1_loss_30: 0.0000e+00 - dense_1_acc_1: 0.0667 - dense_1_acc_2: 0.3500 - dense_1_acc_3: 0.6000 - dense_1_acc_4: 0.7000 - dense_1_acc_5: 0.7833 - dense_1_acc_6: 0.8500 - dense_1_acc_7: 0.9667 - dense_1_acc_8: 0.9167 - dense_1_acc_9: 0.9500 - dense_1_acc_10: 0.9833 - dense_1_acc_11: 0.9500 - dense_1_acc_12: 0.9667 - dense_1_acc_13: 0.9833 - dense_1_acc_14: 0.9833 - dense_1_acc_15: 0.9833 - dense_1_acc_16: 1.0000 - dense_1_acc_17: 0.9833 - dense_1_acc_18: 1.0000 - dense_1_acc_19: 0.9667 - dense_1_acc_20: 0.9833 - dense_1_acc_21: 1.0000 - dense_1_acc_22: 1.0000 - dense_1_acc_23: 0.9500 - dense_1_acc_24: 1.0000 - dense_1_acc_25: 0.9333 - dense_1_acc_26: 0.9833 - dense_1_acc_27: 0.9500 - dense_1_acc_28: 0.9833 - dense_1_acc_29: 0.9667 - dense_1_acc_30: 0.0000e+00\n",
      "Epoch 34/100\n",
      "60/60 [==============================] - 0s 2ms/step - loss: 25.0803 - dense_1_loss_1: 3.9945 - dense_1_loss_2: 2.8261 - dense_1_loss_3: 1.7382 - dense_1_loss_4: 1.2986 - dense_1_loss_5: 0.9805 - dense_1_loss_6: 0.8258 - dense_1_loss_7: 0.7096 - dense_1_loss_8: 0.6812 - dense_1_loss_9: 0.6449 - dense_1_loss_10: 0.5922 - dense_1_loss_11: 0.6308 - dense_1_loss_12: 0.5632 - dense_1_loss_13: 0.5033 - dense_1_loss_14: 0.5249 - dense_1_loss_15: 0.5570 - dense_1_loss_16: 0.5760 - dense_1_loss_17: 0.5323 - dense_1_loss_18: 0.5321 - dense_1_loss_19: 0.5346 - dense_1_loss_20: 0.6074 - dense_1_loss_21: 0.5799 - dense_1_loss_22: 0.5278 - dense_1_loss_23: 0.5625 - dense_1_loss_24: 0.5656 - dense_1_loss_25: 0.6007 - dense_1_loss_26: 0.5472 - dense_1_loss_27: 0.5899 - dense_1_loss_28: 0.5943 - dense_1_loss_29: 0.6592 - dense_1_loss_30: 0.0000e+00 - dense_1_acc_1: 0.0667 - dense_1_acc_2: 0.3500 - dense_1_acc_3: 0.6000 - dense_1_acc_4: 0.7333 - dense_1_acc_5: 0.8167 - dense_1_acc_6: 0.9000 - dense_1_acc_7: 0.9667 - dense_1_acc_8: 0.9333 - dense_1_acc_9: 0.9667 - dense_1_acc_10: 0.9667 - dense_1_acc_11: 1.0000 - dense_1_acc_12: 0.9667 - dense_1_acc_13: 0.9833 - dense_1_acc_14: 0.9833 - dense_1_acc_15: 1.0000 - dense_1_acc_16: 1.0000 - dense_1_acc_17: 0.9833 - dense_1_acc_18: 1.0000 - dense_1_acc_19: 0.9833 - dense_1_acc_20: 0.9833 - dense_1_acc_21: 1.0000 - dense_1_acc_22: 1.0000 - dense_1_acc_23: 0.9500 - dense_1_acc_24: 1.0000 - dense_1_acc_25: 0.9167 - dense_1_acc_26: 0.9833 - dense_1_acc_27: 0.9500 - dense_1_acc_28: 0.9833 - dense_1_acc_29: 0.9667 - dense_1_acc_30: 0.0000e+00\n",
      "Epoch 35/100\n",
      "60/60 [==============================] - 0s 2ms/step - loss: 23.6554 - dense_1_loss_1: 3.9875 - dense_1_loss_2: 2.7736 - dense_1_loss_3: 1.6677 - dense_1_loss_4: 1.2154 - dense_1_loss_5: 0.9103 - dense_1_loss_6: 0.7744 - dense_1_loss_7: 0.6505 - dense_1_loss_8: 0.6213 - dense_1_loss_9: 0.5760 - dense_1_loss_10: 0.5434 - dense_1_loss_11: 0.5757 - dense_1_loss_12: 0.5224 - dense_1_loss_13: 0.4433 - dense_1_loss_14: 0.4950 - dense_1_loss_15: 0.5089 - dense_1_loss_16: 0.5235 - dense_1_loss_17: 0.4944 - dense_1_loss_18: 0.4781 - dense_1_loss_19: 0.4886 - dense_1_loss_20: 0.5529 - dense_1_loss_21: 0.5416 - dense_1_loss_22: 0.4924 - dense_1_loss_23: 0.5180 - dense_1_loss_24: 0.5212 - dense_1_loss_25: 0.5557 - dense_1_loss_26: 0.5201 - dense_1_loss_27: 0.5394 - dense_1_loss_28: 0.5638 - dense_1_loss_29: 0.6004 - dense_1_loss_30: 0.0000e+00 - dense_1_acc_1: 0.0667 - dense_1_acc_2: 0.3667 - dense_1_acc_3: 0.6000 - dense_1_acc_4: 0.7333 - dense_1_acc_5: 0.8333 - dense_1_acc_6: 0.9167 - dense_1_acc_7: 0.9833 - dense_1_acc_8: 0.9500 - dense_1_acc_9: 0.9667 - dense_1_acc_10: 0.9667 - dense_1_acc_11: 1.0000 - dense_1_acc_12: 0.9667 - dense_1_acc_13: 1.0000 - dense_1_acc_14: 0.9833 - dense_1_acc_15: 1.0000 - dense_1_acc_16: 1.0000 - dense_1_acc_17: 0.9833 - dense_1_acc_18: 1.0000 - dense_1_acc_19: 1.0000 - dense_1_acc_20: 0.9833 - dense_1_acc_21: 1.0000 - dense_1_acc_22: 1.0000 - dense_1_acc_23: 1.0000 - dense_1_acc_24: 1.0000 - dense_1_acc_25: 1.0000 - dense_1_acc_26: 0.9833 - dense_1_acc_27: 1.0000 - dense_1_acc_28: 0.9833 - dense_1_acc_29: 0.9667 - dense_1_acc_30: 0.0000e+00\n",
      "Epoch 36/100\n",
      "60/60 [==============================] - 0s 2ms/step - loss: 22.2160 - dense_1_loss_1: 3.9813 - dense_1_loss_2: 2.7228 - dense_1_loss_3: 1.6034 - dense_1_loss_4: 1.1301 - dense_1_loss_5: 0.8467 - dense_1_loss_6: 0.7132 - dense_1_loss_7: 0.5970 - dense_1_loss_8: 0.5718 - dense_1_loss_9: 0.5237 - dense_1_loss_10: 0.5009 - dense_1_loss_11: 0.5167 - dense_1_loss_12: 0.4664 - dense_1_loss_13: 0.4130 - dense_1_loss_14: 0.4465 - dense_1_loss_15: 0.4595 - dense_1_loss_16: 0.4797 - dense_1_loss_17: 0.4606 - dense_1_loss_18: 0.4237 - dense_1_loss_19: 0.4422 - dense_1_loss_20: 0.5113 - dense_1_loss_21: 0.4959 - dense_1_loss_22: 0.4455 - dense_1_loss_23: 0.4591 - dense_1_loss_24: 0.4701 - dense_1_loss_25: 0.5062 - dense_1_loss_26: 0.4751 - dense_1_loss_27: 0.4890 - dense_1_loss_28: 0.5109 - dense_1_loss_29: 0.5537 - dense_1_loss_30: 0.0000e+00 - dense_1_acc_1: 0.0667 - dense_1_acc_2: 0.3667 - dense_1_acc_3: 0.7000 - dense_1_acc_4: 0.7500 - dense_1_acc_5: 0.8500 - dense_1_acc_6: 0.9500 - dense_1_acc_7: 0.9833 - dense_1_acc_8: 0.9667 - dense_1_acc_9: 0.9667 - dense_1_acc_10: 1.0000 - dense_1_acc_11: 1.0000 - dense_1_acc_12: 0.9833 - dense_1_acc_13: 1.0000 - dense_1_acc_14: 0.9833 - dense_1_acc_15: 1.0000 - dense_1_acc_16: 1.0000 - dense_1_acc_17: 1.0000 - dense_1_acc_18: 1.0000 - dense_1_acc_19: 1.0000 - dense_1_acc_20: 0.9833 - dense_1_acc_21: 1.0000 - dense_1_acc_22: 1.0000 - dense_1_acc_23: 1.0000 - dense_1_acc_24: 1.0000 - dense_1_acc_25: 1.0000 - dense_1_acc_26: 0.9833 - dense_1_acc_27: 1.0000 - dense_1_acc_28: 0.9833 - dense_1_acc_29: 0.9667 - dense_1_acc_30: 0.0000e+00\n",
      "Epoch 37/100\n",
      "60/60 [==============================] - 0s 2ms/step - loss: 20.9884 - dense_1_loss_1: 3.9750 - dense_1_loss_2: 2.6741 - dense_1_loss_3: 1.5387 - dense_1_loss_4: 1.0586 - dense_1_loss_5: 0.7813 - dense_1_loss_6: 0.6578 - dense_1_loss_7: 0.5562 - dense_1_loss_8: 0.5285 - dense_1_loss_9: 0.4843 - dense_1_loss_10: 0.4676 - dense_1_loss_11: 0.4769 - dense_1_loss_12: 0.4196 - dense_1_loss_13: 0.3941 - dense_1_loss_14: 0.3989 - dense_1_loss_15: 0.4230 - dense_1_loss_16: 0.4347 - dense_1_loss_17: 0.4182 - dense_1_loss_18: 0.3922 - dense_1_loss_19: 0.4097 - dense_1_loss_20: 0.4611 - dense_1_loss_21: 0.4577 - dense_1_loss_22: 0.4064 - dense_1_loss_23: 0.4217 - dense_1_loss_24: 0.4290 - dense_1_loss_25: 0.4609 - dense_1_loss_26: 0.4239 - dense_1_loss_27: 0.4565 - dense_1_loss_28: 0.4611 - dense_1_loss_29: 0.5208 - dense_1_loss_30: 0.0000e+00 - dense_1_acc_1: 0.0667 - dense_1_acc_2: 0.3833 - dense_1_acc_3: 0.7000 - dense_1_acc_4: 0.7500 - dense_1_acc_5: 0.8500 - dense_1_acc_6: 0.9667 - dense_1_acc_7: 0.9833 - dense_1_acc_8: 0.9667 - dense_1_acc_9: 0.9667 - dense_1_acc_10: 1.0000 - dense_1_acc_11: 1.0000 - dense_1_acc_12: 0.9833 - dense_1_acc_13: 1.0000 - dense_1_acc_14: 0.9833 - dense_1_acc_15: 1.0000 - dense_1_acc_16: 1.0000 - dense_1_acc_17: 1.0000 - dense_1_acc_18: 1.0000 - dense_1_acc_19: 1.0000 - dense_1_acc_20: 1.0000 - dense_1_acc_21: 1.0000 - dense_1_acc_22: 1.0000 - dense_1_acc_23: 1.0000 - dense_1_acc_24: 1.0000 - dense_1_acc_25: 1.0000 - dense_1_acc_26: 0.9833 - dense_1_acc_27: 1.0000 - dense_1_acc_28: 0.9833 - dense_1_acc_29: 0.9667 - dense_1_acc_30: 0.0000e+00\n",
      "Epoch 38/100\n",
      "60/60 [==============================] - 0s 2ms/step - loss: 19.7730 - dense_1_loss_1: 3.9687 - dense_1_loss_2: 2.6260 - dense_1_loss_3: 1.4771 - dense_1_loss_4: 0.9918 - dense_1_loss_5: 0.7216 - dense_1_loss_6: 0.6063 - dense_1_loss_7: 0.5077 - dense_1_loss_8: 0.4769 - dense_1_loss_9: 0.4375 - dense_1_loss_10: 0.4190 - dense_1_loss_11: 0.4216 - dense_1_loss_12: 0.3840 - dense_1_loss_13: 0.3486 - dense_1_loss_14: 0.3558 - dense_1_loss_15: 0.3861 - dense_1_loss_16: 0.3979 - dense_1_loss_17: 0.3812 - dense_1_loss_18: 0.3637 - dense_1_loss_19: 0.3719 - dense_1_loss_20: 0.4074 - dense_1_loss_21: 0.4179 - dense_1_loss_22: 0.3804 - dense_1_loss_23: 0.3948 - dense_1_loss_24: 0.3898 - dense_1_loss_25: 0.4178 - dense_1_loss_26: 0.3942 - dense_1_loss_27: 0.4254 - dense_1_loss_28: 0.4260 - dense_1_loss_29: 0.4759 - dense_1_loss_30: 0.0000e+00 - dense_1_acc_1: 0.0667 - dense_1_acc_2: 0.4000 - dense_1_acc_3: 0.7167 - dense_1_acc_4: 0.8000 - dense_1_acc_5: 0.8833 - dense_1_acc_6: 0.9667 - dense_1_acc_7: 0.9833 - dense_1_acc_8: 0.9667 - dense_1_acc_9: 0.9833 - dense_1_acc_10: 1.0000 - dense_1_acc_11: 1.0000 - dense_1_acc_12: 0.9833 - dense_1_acc_13: 1.0000 - dense_1_acc_14: 1.0000 - dense_1_acc_15: 1.0000 - dense_1_acc_16: 1.0000 - dense_1_acc_17: 1.0000 - dense_1_acc_18: 1.0000 - dense_1_acc_19: 1.0000 - dense_1_acc_20: 1.0000 - dense_1_acc_21: 1.0000 - dense_1_acc_22: 1.0000 - dense_1_acc_23: 1.0000 - dense_1_acc_24: 1.0000 - dense_1_acc_25: 1.0000 - dense_1_acc_26: 0.9833 - dense_1_acc_27: 1.0000 - dense_1_acc_28: 1.0000 - dense_1_acc_29: 0.9667 - dense_1_acc_30: 0.0000e+00\n",
      "Epoch 39/100\n",
      "60/60 [==============================] - 0s 2ms/step - loss: 18.6784 - dense_1_loss_1: 3.9632 - dense_1_loss_2: 2.5754 - dense_1_loss_3: 1.4164 - dense_1_loss_4: 0.9212 - dense_1_loss_5: 0.6632 - dense_1_loss_6: 0.5614 - dense_1_loss_7: 0.4661 - dense_1_loss_8: 0.4341 - dense_1_loss_9: 0.3946 - dense_1_loss_10: 0.3830 - dense_1_loss_11: 0.3889 - dense_1_loss_12: 0.3539 - dense_1_loss_13: 0.3092 - dense_1_loss_14: 0.3383 - dense_1_loss_15: 0.3532 - dense_1_loss_16: 0.3634 - dense_1_loss_17: 0.3450 - dense_1_loss_18: 0.3315 - dense_1_loss_19: 0.3337 - dense_1_loss_20: 0.3804 - dense_1_loss_21: 0.3825 - dense_1_loss_22: 0.3453 - dense_1_loss_23: 0.3538 - dense_1_loss_24: 0.3527 - dense_1_loss_25: 0.3861 - dense_1_loss_26: 0.3581 - dense_1_loss_27: 0.3816 - dense_1_loss_28: 0.3968 - dense_1_loss_29: 0.4454 - dense_1_loss_30: 0.0000e+00 - dense_1_acc_1: 0.0667 - dense_1_acc_2: 0.4167 - dense_1_acc_3: 0.7167 - dense_1_acc_4: 0.8333 - dense_1_acc_5: 0.9333 - dense_1_acc_6: 0.9667 - dense_1_acc_7: 0.9833 - dense_1_acc_8: 0.9667 - dense_1_acc_9: 0.9833 - dense_1_acc_10: 1.0000 - dense_1_acc_11: 1.0000 - dense_1_acc_12: 1.0000 - dense_1_acc_13: 1.0000 - dense_1_acc_14: 0.9833 - dense_1_acc_15: 1.0000 - dense_1_acc_16: 1.0000 - dense_1_acc_17: 1.0000 - dense_1_acc_18: 1.0000 - dense_1_acc_19: 1.0000 - dense_1_acc_20: 1.0000 - dense_1_acc_21: 1.0000 - dense_1_acc_22: 1.0000 - dense_1_acc_23: 1.0000 - dense_1_acc_24: 1.0000 - dense_1_acc_25: 1.0000 - dense_1_acc_26: 0.9833 - dense_1_acc_27: 1.0000 - dense_1_acc_28: 1.0000 - dense_1_acc_29: 0.9667 - dense_1_acc_30: 0.0000e+00\n",
      "Epoch 40/100\n",
      "60/60 [==============================] - 0s 2ms/step - loss: 17.6761 - dense_1_loss_1: 3.9575 - dense_1_loss_2: 2.5275 - dense_1_loss_3: 1.3605 - dense_1_loss_4: 0.8527 - dense_1_loss_5: 0.6152 - dense_1_loss_6: 0.5138 - dense_1_loss_7: 0.4333 - dense_1_loss_8: 0.4012 - dense_1_loss_9: 0.3681 - dense_1_loss_10: 0.3475 - dense_1_loss_11: 0.3556 - dense_1_loss_12: 0.3200 - dense_1_loss_13: 0.2874 - dense_1_loss_14: 0.2997 - dense_1_loss_15: 0.3273 - dense_1_loss_16: 0.3319 - dense_1_loss_17: 0.3169 - dense_1_loss_18: 0.3006 - dense_1_loss_19: 0.3094 - dense_1_loss_20: 0.3522 - dense_1_loss_21: 0.3444 - dense_1_loss_22: 0.3094 - dense_1_loss_23: 0.3155 - dense_1_loss_24: 0.3141 - dense_1_loss_25: 0.3581 - dense_1_loss_26: 0.3282 - dense_1_loss_27: 0.3497 - dense_1_loss_28: 0.3586 - dense_1_loss_29: 0.4199 - dense_1_loss_30: 0.0000e+00 - dense_1_acc_1: 0.0667 - dense_1_acc_2: 0.4333 - dense_1_acc_3: 0.7167 - dense_1_acc_4: 0.8500 - dense_1_acc_5: 0.9333 - dense_1_acc_6: 0.9667 - dense_1_acc_7: 0.9833 - dense_1_acc_8: 0.9833 - dense_1_acc_9: 0.9833 - dense_1_acc_10: 1.0000 - dense_1_acc_11: 1.0000 - dense_1_acc_12: 1.0000 - dense_1_acc_13: 1.0000 - dense_1_acc_14: 1.0000 - dense_1_acc_15: 1.0000 - dense_1_acc_16: 1.0000 - dense_1_acc_17: 1.0000 - dense_1_acc_18: 1.0000 - dense_1_acc_19: 1.0000 - dense_1_acc_20: 1.0000 - dense_1_acc_21: 1.0000 - dense_1_acc_22: 1.0000 - dense_1_acc_23: 1.0000 - dense_1_acc_24: 1.0000 - dense_1_acc_25: 1.0000 - dense_1_acc_26: 0.9833 - dense_1_acc_27: 1.0000 - dense_1_acc_28: 0.9833 - dense_1_acc_29: 0.9667 - dense_1_acc_30: 0.0000e+00\n",
      "Epoch 41/100\n"
     ]
    },
    {
     "name": "stdout",
     "output_type": "stream",
     "text": [
      "60/60 [==============================] - 0s 2ms/step - loss: 16.7306 - dense_1_loss_1: 3.9524 - dense_1_loss_2: 2.4794 - dense_1_loss_3: 1.3034 - dense_1_loss_4: 0.7956 - dense_1_loss_5: 0.5665 - dense_1_loss_6: 0.4752 - dense_1_loss_7: 0.3947 - dense_1_loss_8: 0.3705 - dense_1_loss_9: 0.3294 - dense_1_loss_10: 0.3249 - dense_1_loss_11: 0.3256 - dense_1_loss_12: 0.2867 - dense_1_loss_13: 0.2681 - dense_1_loss_14: 0.2829 - dense_1_loss_15: 0.2943 - dense_1_loss_16: 0.3005 - dense_1_loss_17: 0.2860 - dense_1_loss_18: 0.2711 - dense_1_loss_19: 0.2778 - dense_1_loss_20: 0.3211 - dense_1_loss_21: 0.3129 - dense_1_loss_22: 0.2835 - dense_1_loss_23: 0.2870 - dense_1_loss_24: 0.2870 - dense_1_loss_25: 0.3210 - dense_1_loss_26: 0.2998 - dense_1_loss_27: 0.3189 - dense_1_loss_28: 0.3314 - dense_1_loss_29: 0.3828 - dense_1_loss_30: 0.0000e+00 - dense_1_acc_1: 0.0667 - dense_1_acc_2: 0.4667 - dense_1_acc_3: 0.7333 - dense_1_acc_4: 0.8500 - dense_1_acc_5: 0.9333 - dense_1_acc_6: 0.9667 - dense_1_acc_7: 0.9833 - dense_1_acc_8: 0.9833 - dense_1_acc_9: 1.0000 - dense_1_acc_10: 1.0000 - dense_1_acc_11: 1.0000 - dense_1_acc_12: 1.0000 - dense_1_acc_13: 1.0000 - dense_1_acc_14: 0.9833 - dense_1_acc_15: 1.0000 - dense_1_acc_16: 1.0000 - dense_1_acc_17: 1.0000 - dense_1_acc_18: 1.0000 - dense_1_acc_19: 1.0000 - dense_1_acc_20: 1.0000 - dense_1_acc_21: 1.0000 - dense_1_acc_22: 1.0000 - dense_1_acc_23: 1.0000 - dense_1_acc_24: 1.0000 - dense_1_acc_25: 1.0000 - dense_1_acc_26: 0.9833 - dense_1_acc_27: 1.0000 - dense_1_acc_28: 1.0000 - dense_1_acc_29: 0.9667 - dense_1_acc_30: 0.0000e+00\n",
      "Epoch 42/100\n",
      "60/60 [==============================] - 0s 2ms/step - loss: 15.8958 - dense_1_loss_1: 3.9467 - dense_1_loss_2: 2.4359 - dense_1_loss_3: 1.2502 - dense_1_loss_4: 0.7463 - dense_1_loss_5: 0.5235 - dense_1_loss_6: 0.4400 - dense_1_loss_7: 0.3654 - dense_1_loss_8: 0.3365 - dense_1_loss_9: 0.3015 - dense_1_loss_10: 0.2915 - dense_1_loss_11: 0.2966 - dense_1_loss_12: 0.2613 - dense_1_loss_13: 0.2432 - dense_1_loss_14: 0.2582 - dense_1_loss_15: 0.2693 - dense_1_loss_16: 0.2714 - dense_1_loss_17: 0.2624 - dense_1_loss_18: 0.2472 - dense_1_loss_19: 0.2567 - dense_1_loss_20: 0.2902 - dense_1_loss_21: 0.2827 - dense_1_loss_22: 0.2609 - dense_1_loss_23: 0.2722 - dense_1_loss_24: 0.2663 - dense_1_loss_25: 0.2853 - dense_1_loss_26: 0.2761 - dense_1_loss_27: 0.2986 - dense_1_loss_28: 0.3075 - dense_1_loss_29: 0.3524 - dense_1_loss_30: 0.0000e+00 - dense_1_acc_1: 0.0667 - dense_1_acc_2: 0.5000 - dense_1_acc_3: 0.7667 - dense_1_acc_4: 0.8500 - dense_1_acc_5: 0.9500 - dense_1_acc_6: 0.9667 - dense_1_acc_7: 0.9833 - dense_1_acc_8: 0.9833 - dense_1_acc_9: 1.0000 - dense_1_acc_10: 1.0000 - dense_1_acc_11: 1.0000 - dense_1_acc_12: 1.0000 - dense_1_acc_13: 1.0000 - dense_1_acc_14: 0.9833 - dense_1_acc_15: 1.0000 - dense_1_acc_16: 1.0000 - dense_1_acc_17: 1.0000 - dense_1_acc_18: 1.0000 - dense_1_acc_19: 1.0000 - dense_1_acc_20: 1.0000 - dense_1_acc_21: 1.0000 - dense_1_acc_22: 1.0000 - dense_1_acc_23: 1.0000 - dense_1_acc_24: 1.0000 - dense_1_acc_25: 1.0000 - dense_1_acc_26: 0.9833 - dense_1_acc_27: 1.0000 - dense_1_acc_28: 1.0000 - dense_1_acc_29: 0.9667 - dense_1_acc_30: 0.0000e+00\n",
      "Epoch 43/100\n",
      "60/60 [==============================] - 0s 2ms/step - loss: 15.1083 - dense_1_loss_1: 3.9421 - dense_1_loss_2: 2.3897 - dense_1_loss_3: 1.2011 - dense_1_loss_4: 0.6964 - dense_1_loss_5: 0.4841 - dense_1_loss_6: 0.4075 - dense_1_loss_7: 0.3363 - dense_1_loss_8: 0.3080 - dense_1_loss_9: 0.2807 - dense_1_loss_10: 0.2588 - dense_1_loss_11: 0.2753 - dense_1_loss_12: 0.2356 - dense_1_loss_13: 0.2267 - dense_1_loss_14: 0.2309 - dense_1_loss_15: 0.2453 - dense_1_loss_16: 0.2515 - dense_1_loss_17: 0.2375 - dense_1_loss_18: 0.2214 - dense_1_loss_19: 0.2420 - dense_1_loss_20: 0.2647 - dense_1_loss_21: 0.2591 - dense_1_loss_22: 0.2376 - dense_1_loss_23: 0.2423 - dense_1_loss_24: 0.2393 - dense_1_loss_25: 0.2609 - dense_1_loss_26: 0.2471 - dense_1_loss_27: 0.2692 - dense_1_loss_28: 0.2778 - dense_1_loss_29: 0.3395 - dense_1_loss_30: 0.0000e+00 - dense_1_acc_1: 0.0667 - dense_1_acc_2: 0.5000 - dense_1_acc_3: 0.7667 - dense_1_acc_4: 0.8667 - dense_1_acc_5: 0.9500 - dense_1_acc_6: 0.9667 - dense_1_acc_7: 0.9833 - dense_1_acc_8: 0.9833 - dense_1_acc_9: 1.0000 - dense_1_acc_10: 1.0000 - dense_1_acc_11: 1.0000 - dense_1_acc_12: 1.0000 - dense_1_acc_13: 1.0000 - dense_1_acc_14: 1.0000 - dense_1_acc_15: 1.0000 - dense_1_acc_16: 1.0000 - dense_1_acc_17: 1.0000 - dense_1_acc_18: 1.0000 - dense_1_acc_19: 1.0000 - dense_1_acc_20: 1.0000 - dense_1_acc_21: 1.0000 - dense_1_acc_22: 1.0000 - dense_1_acc_23: 1.0000 - dense_1_acc_24: 1.0000 - dense_1_acc_25: 1.0000 - dense_1_acc_26: 0.9833 - dense_1_acc_27: 1.0000 - dense_1_acc_28: 1.0000 - dense_1_acc_29: 0.9667 - dense_1_acc_30: 0.0000e+00\n",
      "Epoch 44/100\n",
      "60/60 [==============================] - 0s 2ms/step - loss: 14.4025 - dense_1_loss_1: 3.9369 - dense_1_loss_2: 2.3452 - dense_1_loss_3: 1.1542 - dense_1_loss_4: 0.6484 - dense_1_loss_5: 0.4502 - dense_1_loss_6: 0.3735 - dense_1_loss_7: 0.3112 - dense_1_loss_8: 0.2825 - dense_1_loss_9: 0.2585 - dense_1_loss_10: 0.2364 - dense_1_loss_11: 0.2528 - dense_1_loss_12: 0.2144 - dense_1_loss_13: 0.2070 - dense_1_loss_14: 0.2051 - dense_1_loss_15: 0.2277 - dense_1_loss_16: 0.2349 - dense_1_loss_17: 0.2156 - dense_1_loss_18: 0.2040 - dense_1_loss_19: 0.2193 - dense_1_loss_20: 0.2444 - dense_1_loss_21: 0.2393 - dense_1_loss_22: 0.2138 - dense_1_loss_23: 0.2206 - dense_1_loss_24: 0.2192 - dense_1_loss_25: 0.2449 - dense_1_loss_26: 0.2286 - dense_1_loss_27: 0.2437 - dense_1_loss_28: 0.2553 - dense_1_loss_29: 0.3150 - dense_1_loss_30: 0.0000e+00 - dense_1_acc_1: 0.0667 - dense_1_acc_2: 0.5000 - dense_1_acc_3: 0.7667 - dense_1_acc_4: 0.8667 - dense_1_acc_5: 0.9500 - dense_1_acc_6: 0.9667 - dense_1_acc_7: 0.9833 - dense_1_acc_8: 0.9833 - dense_1_acc_9: 1.0000 - dense_1_acc_10: 1.0000 - dense_1_acc_11: 1.0000 - dense_1_acc_12: 1.0000 - dense_1_acc_13: 1.0000 - dense_1_acc_14: 1.0000 - dense_1_acc_15: 1.0000 - dense_1_acc_16: 1.0000 - dense_1_acc_17: 1.0000 - dense_1_acc_18: 1.0000 - dense_1_acc_19: 1.0000 - dense_1_acc_20: 1.0000 - dense_1_acc_21: 1.0000 - dense_1_acc_22: 1.0000 - dense_1_acc_23: 1.0000 - dense_1_acc_24: 1.0000 - dense_1_acc_25: 1.0000 - dense_1_acc_26: 0.9833 - dense_1_acc_27: 1.0000 - dense_1_acc_28: 1.0000 - dense_1_acc_29: 0.9667 - dense_1_acc_30: 0.0000e+00\n",
      "Epoch 45/100\n",
      "60/60 [==============================] - 0s 2ms/step - loss: 13.7382 - dense_1_loss_1: 3.9327 - dense_1_loss_2: 2.3026 - dense_1_loss_3: 1.1057 - dense_1_loss_4: 0.6068 - dense_1_loss_5: 0.4172 - dense_1_loss_6: 0.3429 - dense_1_loss_7: 0.2841 - dense_1_loss_8: 0.2609 - dense_1_loss_9: 0.2333 - dense_1_loss_10: 0.2176 - dense_1_loss_11: 0.2267 - dense_1_loss_12: 0.1981 - dense_1_loss_13: 0.1865 - dense_1_loss_14: 0.1875 - dense_1_loss_15: 0.2076 - dense_1_loss_16: 0.2179 - dense_1_loss_17: 0.1975 - dense_1_loss_18: 0.1920 - dense_1_loss_19: 0.1938 - dense_1_loss_20: 0.2198 - dense_1_loss_21: 0.2217 - dense_1_loss_22: 0.1989 - dense_1_loss_23: 0.2014 - dense_1_loss_24: 0.1998 - dense_1_loss_25: 0.2223 - dense_1_loss_26: 0.2171 - dense_1_loss_27: 0.2232 - dense_1_loss_28: 0.2390 - dense_1_loss_29: 0.2834 - dense_1_loss_30: 0.0000e+00 - dense_1_acc_1: 0.0667 - dense_1_acc_2: 0.5000 - dense_1_acc_3: 0.7667 - dense_1_acc_4: 0.8667 - dense_1_acc_5: 0.9667 - dense_1_acc_6: 0.9667 - dense_1_acc_7: 0.9833 - dense_1_acc_8: 0.9833 - dense_1_acc_9: 1.0000 - dense_1_acc_10: 1.0000 - dense_1_acc_11: 1.0000 - dense_1_acc_12: 1.0000 - dense_1_acc_13: 1.0000 - dense_1_acc_14: 1.0000 - dense_1_acc_15: 1.0000 - dense_1_acc_16: 1.0000 - dense_1_acc_17: 1.0000 - dense_1_acc_18: 1.0000 - dense_1_acc_19: 1.0000 - dense_1_acc_20: 1.0000 - dense_1_acc_21: 1.0000 - dense_1_acc_22: 1.0000 - dense_1_acc_23: 1.0000 - dense_1_acc_24: 1.0000 - dense_1_acc_25: 1.0000 - dense_1_acc_26: 0.9833 - dense_1_acc_27: 1.0000 - dense_1_acc_28: 1.0000 - dense_1_acc_29: 0.9667 - dense_1_acc_30: 0.0000e+00\n",
      "Epoch 46/100\n",
      "60/60 [==============================] - 0s 2ms/step - loss: 13.1343 - dense_1_loss_1: 3.9270 - dense_1_loss_2: 2.2589 - dense_1_loss_3: 1.0633 - dense_1_loss_4: 0.5673 - dense_1_loss_5: 0.3886 - dense_1_loss_6: 0.3173 - dense_1_loss_7: 0.2643 - dense_1_loss_8: 0.2364 - dense_1_loss_9: 0.2168 - dense_1_loss_10: 0.1987 - dense_1_loss_11: 0.2105 - dense_1_loss_12: 0.1821 - dense_1_loss_13: 0.1713 - dense_1_loss_14: 0.1730 - dense_1_loss_15: 0.1864 - dense_1_loss_16: 0.1986 - dense_1_loss_17: 0.1796 - dense_1_loss_18: 0.1777 - dense_1_loss_19: 0.1815 - dense_1_loss_20: 0.1993 - dense_1_loss_21: 0.1978 - dense_1_loss_22: 0.1833 - dense_1_loss_23: 0.1847 - dense_1_loss_24: 0.1833 - dense_1_loss_25: 0.2025 - dense_1_loss_26: 0.1976 - dense_1_loss_27: 0.2063 - dense_1_loss_28: 0.2186 - dense_1_loss_29: 0.2615 - dense_1_loss_30: 0.0000e+00 - dense_1_acc_1: 0.0667 - dense_1_acc_2: 0.5000 - dense_1_acc_3: 0.8000 - dense_1_acc_4: 0.9000 - dense_1_acc_5: 0.9667 - dense_1_acc_6: 0.9833 - dense_1_acc_7: 0.9833 - dense_1_acc_8: 0.9833 - dense_1_acc_9: 1.0000 - dense_1_acc_10: 1.0000 - dense_1_acc_11: 1.0000 - dense_1_acc_12: 1.0000 - dense_1_acc_13: 1.0000 - dense_1_acc_14: 1.0000 - dense_1_acc_15: 1.0000 - dense_1_acc_16: 1.0000 - dense_1_acc_17: 1.0000 - dense_1_acc_18: 1.0000 - dense_1_acc_19: 1.0000 - dense_1_acc_20: 1.0000 - dense_1_acc_21: 1.0000 - dense_1_acc_22: 1.0000 - dense_1_acc_23: 1.0000 - dense_1_acc_24: 1.0000 - dense_1_acc_25: 1.0000 - dense_1_acc_26: 0.9833 - dense_1_acc_27: 1.0000 - dense_1_acc_28: 1.0000 - dense_1_acc_29: 0.9667 - dense_1_acc_30: 0.0000e+00\n",
      "Epoch 47/100\n",
      "60/60 [==============================] - 0s 2ms/step - loss: 12.6095 - dense_1_loss_1: 3.9225 - dense_1_loss_2: 2.2174 - dense_1_loss_3: 1.0226 - dense_1_loss_4: 0.5290 - dense_1_loss_5: 0.3628 - dense_1_loss_6: 0.2943 - dense_1_loss_7: 0.2454 - dense_1_loss_8: 0.2176 - dense_1_loss_9: 0.2034 - dense_1_loss_10: 0.1810 - dense_1_loss_11: 0.1939 - dense_1_loss_12: 0.1696 - dense_1_loss_13: 0.1560 - dense_1_loss_14: 0.1584 - dense_1_loss_15: 0.1748 - dense_1_loss_16: 0.1830 - dense_1_loss_17: 0.1704 - dense_1_loss_18: 0.1640 - dense_1_loss_19: 0.1707 - dense_1_loss_20: 0.1860 - dense_1_loss_21: 0.1806 - dense_1_loss_22: 0.1677 - dense_1_loss_23: 0.1679 - dense_1_loss_24: 0.1689 - dense_1_loss_25: 0.1862 - dense_1_loss_26: 0.1810 - dense_1_loss_27: 0.1912 - dense_1_loss_28: 0.1998 - dense_1_loss_29: 0.2435 - dense_1_loss_30: 0.0000e+00 - dense_1_acc_1: 0.0667 - dense_1_acc_2: 0.5000 - dense_1_acc_3: 0.8000 - dense_1_acc_4: 0.9333 - dense_1_acc_5: 0.9667 - dense_1_acc_6: 0.9833 - dense_1_acc_7: 0.9833 - dense_1_acc_8: 1.0000 - dense_1_acc_9: 1.0000 - dense_1_acc_10: 1.0000 - dense_1_acc_11: 1.0000 - dense_1_acc_12: 1.0000 - dense_1_acc_13: 1.0000 - dense_1_acc_14: 1.0000 - dense_1_acc_15: 1.0000 - dense_1_acc_16: 1.0000 - dense_1_acc_17: 1.0000 - dense_1_acc_18: 1.0000 - dense_1_acc_19: 1.0000 - dense_1_acc_20: 1.0000 - dense_1_acc_21: 1.0000 - dense_1_acc_22: 1.0000 - dense_1_acc_23: 1.0000 - dense_1_acc_24: 1.0000 - dense_1_acc_25: 1.0000 - dense_1_acc_26: 1.0000 - dense_1_acc_27: 1.0000 - dense_1_acc_28: 1.0000 - dense_1_acc_29: 0.9667 - dense_1_acc_30: 0.0000e+00\n",
      "Epoch 48/100\n",
      "60/60 [==============================] - 0s 2ms/step - loss: 12.1202 - dense_1_loss_1: 3.9178 - dense_1_loss_2: 2.1772 - dense_1_loss_3: 0.9843 - dense_1_loss_4: 0.4922 - dense_1_loss_5: 0.3401 - dense_1_loss_6: 0.2762 - dense_1_loss_7: 0.2259 - dense_1_loss_8: 0.2055 - dense_1_loss_9: 0.1836 - dense_1_loss_10: 0.1689 - dense_1_loss_11: 0.1809 - dense_1_loss_12: 0.1557 - dense_1_loss_13: 0.1445 - dense_1_loss_14: 0.1542 - dense_1_loss_15: 0.1587 - dense_1_loss_16: 0.1666 - dense_1_loss_17: 0.1563 - dense_1_loss_18: 0.1464 - dense_1_loss_19: 0.1523 - dense_1_loss_20: 0.1736 - dense_1_loss_21: 0.1690 - dense_1_loss_22: 0.1550 - dense_1_loss_23: 0.1532 - dense_1_loss_24: 0.1557 - dense_1_loss_25: 0.1725 - dense_1_loss_26: 0.1658 - dense_1_loss_27: 0.1763 - dense_1_loss_28: 0.1862 - dense_1_loss_29: 0.2258 - dense_1_loss_30: 0.0000e+00 - dense_1_acc_1: 0.0667 - dense_1_acc_2: 0.5167 - dense_1_acc_3: 0.8000 - dense_1_acc_4: 0.9500 - dense_1_acc_5: 0.9667 - dense_1_acc_6: 1.0000 - dense_1_acc_7: 0.9833 - dense_1_acc_8: 0.9833 - dense_1_acc_9: 1.0000 - dense_1_acc_10: 1.0000 - dense_1_acc_11: 1.0000 - dense_1_acc_12: 1.0000 - dense_1_acc_13: 1.0000 - dense_1_acc_14: 1.0000 - dense_1_acc_15: 1.0000 - dense_1_acc_16: 1.0000 - dense_1_acc_17: 1.0000 - dense_1_acc_18: 1.0000 - dense_1_acc_19: 1.0000 - dense_1_acc_20: 1.0000 - dense_1_acc_21: 1.0000 - dense_1_acc_22: 1.0000 - dense_1_acc_23: 1.0000 - dense_1_acc_24: 1.0000 - dense_1_acc_25: 1.0000 - dense_1_acc_26: 1.0000 - dense_1_acc_27: 1.0000 - dense_1_acc_28: 1.0000 - dense_1_acc_29: 0.9667 - dense_1_acc_30: 0.0000e+00\n",
      "Epoch 49/100\n",
      "60/60 [==============================] - 0s 2ms/step - loss: 11.6739 - dense_1_loss_1: 3.9134 - dense_1_loss_2: 2.1393 - dense_1_loss_3: 0.9463 - dense_1_loss_4: 0.4627 - dense_1_loss_5: 0.3175 - dense_1_loss_6: 0.2575 - dense_1_loss_7: 0.2080 - dense_1_loss_8: 0.1922 - dense_1_loss_9: 0.1695 - dense_1_loss_10: 0.1558 - dense_1_loss_11: 0.1667 - dense_1_loss_12: 0.1435 - dense_1_loss_13: 0.1349 - dense_1_loss_14: 0.1403 - dense_1_loss_15: 0.1470 - dense_1_loss_16: 0.1550 - dense_1_loss_17: 0.1455 - dense_1_loss_18: 0.1349 - dense_1_loss_19: 0.1408 - dense_1_loss_20: 0.1584 - dense_1_loss_21: 0.1576 - dense_1_loss_22: 0.1416 - dense_1_loss_23: 0.1425 - dense_1_loss_24: 0.1430 - dense_1_loss_25: 0.1572 - dense_1_loss_26: 0.1550 - dense_1_loss_27: 0.1639 - dense_1_loss_28: 0.1752 - dense_1_loss_29: 0.2086 - dense_1_loss_30: 0.0000e+00 - dense_1_acc_1: 0.0667 - dense_1_acc_2: 0.5167 - dense_1_acc_3: 0.8167 - dense_1_acc_4: 0.9500 - dense_1_acc_5: 0.9667 - dense_1_acc_6: 1.0000 - dense_1_acc_7: 0.9833 - dense_1_acc_8: 0.9833 - dense_1_acc_9: 1.0000 - dense_1_acc_10: 1.0000 - dense_1_acc_11: 1.0000 - dense_1_acc_12: 1.0000 - dense_1_acc_13: 1.0000 - dense_1_acc_14: 1.0000 - dense_1_acc_15: 1.0000 - dense_1_acc_16: 1.0000 - dense_1_acc_17: 1.0000 - dense_1_acc_18: 1.0000 - dense_1_acc_19: 1.0000 - dense_1_acc_20: 1.0000 - dense_1_acc_21: 1.0000 - dense_1_acc_22: 1.0000 - dense_1_acc_23: 1.0000 - dense_1_acc_24: 1.0000 - dense_1_acc_25: 1.0000 - dense_1_acc_26: 1.0000 - dense_1_acc_27: 1.0000 - dense_1_acc_28: 1.0000 - dense_1_acc_29: 0.9667 - dense_1_acc_30: 0.0000e+00\n",
      "Epoch 50/100\n",
      "60/60 [==============================] - 0s 2ms/step - loss: 11.2529 - dense_1_loss_1: 3.9088 - dense_1_loss_2: 2.1022 - dense_1_loss_3: 0.9114 - dense_1_loss_4: 0.4349 - dense_1_loss_5: 0.2980 - dense_1_loss_6: 0.2371 - dense_1_loss_7: 0.1910 - dense_1_loss_8: 0.1772 - dense_1_loss_9: 0.1582 - dense_1_loss_10: 0.1413 - dense_1_loss_11: 0.1543 - dense_1_loss_12: 0.1325 - dense_1_loss_13: 0.1249 - dense_1_loss_14: 0.1239 - dense_1_loss_15: 0.1370 - dense_1_loss_16: 0.1450 - dense_1_loss_17: 0.1338 - dense_1_loss_18: 0.1247 - dense_1_loss_19: 0.1326 - dense_1_loss_20: 0.1463 - dense_1_loss_21: 0.1430 - dense_1_loss_22: 0.1314 - dense_1_loss_23: 0.1331 - dense_1_loss_24: 0.1322 - dense_1_loss_25: 0.1452 - dense_1_loss_26: 0.1430 - dense_1_loss_27: 0.1526 - dense_1_loss_28: 0.1603 - dense_1_loss_29: 0.1972 - dense_1_loss_30: 0.0000e+00 - dense_1_acc_1: 0.0667 - dense_1_acc_2: 0.5167 - dense_1_acc_3: 0.8167 - dense_1_acc_4: 0.9500 - dense_1_acc_5: 0.9667 - dense_1_acc_6: 1.0000 - dense_1_acc_7: 1.0000 - dense_1_acc_8: 1.0000 - dense_1_acc_9: 1.0000 - dense_1_acc_10: 1.0000 - dense_1_acc_11: 1.0000 - dense_1_acc_12: 1.0000 - dense_1_acc_13: 1.0000 - dense_1_acc_14: 1.0000 - dense_1_acc_15: 1.0000 - dense_1_acc_16: 1.0000 - dense_1_acc_17: 1.0000 - dense_1_acc_18: 1.0000 - dense_1_acc_19: 1.0000 - dense_1_acc_20: 1.0000 - dense_1_acc_21: 1.0000 - dense_1_acc_22: 1.0000 - dense_1_acc_23: 1.0000 - dense_1_acc_24: 1.0000 - dense_1_acc_25: 1.0000 - dense_1_acc_26: 1.0000 - dense_1_acc_27: 1.0000 - dense_1_acc_28: 1.0000 - dense_1_acc_29: 0.9833 - dense_1_acc_30: 0.0000e+00\n",
      "Epoch 51/100\n"
     ]
    },
    {
     "name": "stdout",
     "output_type": "stream",
     "text": [
      "60/60 [==============================] - 0s 2ms/step - loss: 10.8830 - dense_1_loss_1: 3.9043 - dense_1_loss_2: 2.0641 - dense_1_loss_3: 0.8776 - dense_1_loss_4: 0.4073 - dense_1_loss_5: 0.2807 - dense_1_loss_6: 0.2201 - dense_1_loss_7: 0.1779 - dense_1_loss_8: 0.1649 - dense_1_loss_9: 0.1492 - dense_1_loss_10: 0.1292 - dense_1_loss_11: 0.1449 - dense_1_loss_12: 0.1231 - dense_1_loss_13: 0.1163 - dense_1_loss_14: 0.1135 - dense_1_loss_15: 0.1283 - dense_1_loss_16: 0.1357 - dense_1_loss_17: 0.1244 - dense_1_loss_18: 0.1169 - dense_1_loss_19: 0.1236 - dense_1_loss_20: 0.1364 - dense_1_loss_21: 0.1317 - dense_1_loss_22: 0.1231 - dense_1_loss_23: 0.1243 - dense_1_loss_24: 0.1218 - dense_1_loss_25: 0.1371 - dense_1_loss_26: 0.1361 - dense_1_loss_27: 0.1403 - dense_1_loss_28: 0.1467 - dense_1_loss_29: 0.1835 - dense_1_loss_30: 0.0000e+00 - dense_1_acc_1: 0.0667 - dense_1_acc_2: 0.5167 - dense_1_acc_3: 0.8167 - dense_1_acc_4: 0.9500 - dense_1_acc_5: 0.9667 - dense_1_acc_6: 1.0000 - dense_1_acc_7: 1.0000 - dense_1_acc_8: 1.0000 - dense_1_acc_9: 1.0000 - dense_1_acc_10: 1.0000 - dense_1_acc_11: 1.0000 - dense_1_acc_12: 1.0000 - dense_1_acc_13: 1.0000 - dense_1_acc_14: 1.0000 - dense_1_acc_15: 1.0000 - dense_1_acc_16: 1.0000 - dense_1_acc_17: 1.0000 - dense_1_acc_18: 1.0000 - dense_1_acc_19: 1.0000 - dense_1_acc_20: 1.0000 - dense_1_acc_21: 1.0000 - dense_1_acc_22: 1.0000 - dense_1_acc_23: 1.0000 - dense_1_acc_24: 1.0000 - dense_1_acc_25: 1.0000 - dense_1_acc_26: 1.0000 - dense_1_acc_27: 1.0000 - dense_1_acc_28: 1.0000 - dense_1_acc_29: 0.9833 - dense_1_acc_30: 0.0000e+00\n",
      "Epoch 52/100\n",
      "60/60 [==============================] - 0s 2ms/step - loss: 10.5372 - dense_1_loss_1: 3.9002 - dense_1_loss_2: 2.0297 - dense_1_loss_3: 0.8460 - dense_1_loss_4: 0.3831 - dense_1_loss_5: 0.2652 - dense_1_loss_6: 0.2066 - dense_1_loss_7: 0.1666 - dense_1_loss_8: 0.1545 - dense_1_loss_9: 0.1389 - dense_1_loss_10: 0.1214 - dense_1_loss_11: 0.1313 - dense_1_loss_12: 0.1149 - dense_1_loss_13: 0.1065 - dense_1_loss_14: 0.1069 - dense_1_loss_15: 0.1178 - dense_1_loss_16: 0.1260 - dense_1_loss_17: 0.1154 - dense_1_loss_18: 0.1099 - dense_1_loss_19: 0.1117 - dense_1_loss_20: 0.1261 - dense_1_loss_21: 0.1234 - dense_1_loss_22: 0.1149 - dense_1_loss_23: 0.1155 - dense_1_loss_24: 0.1118 - dense_1_loss_25: 0.1282 - dense_1_loss_26: 0.1264 - dense_1_loss_27: 0.1296 - dense_1_loss_28: 0.1393 - dense_1_loss_29: 0.1691 - dense_1_loss_30: 0.0000e+00 - dense_1_acc_1: 0.0667 - dense_1_acc_2: 0.5167 - dense_1_acc_3: 0.8167 - dense_1_acc_4: 0.9667 - dense_1_acc_5: 0.9667 - dense_1_acc_6: 1.0000 - dense_1_acc_7: 1.0000 - dense_1_acc_8: 1.0000 - dense_1_acc_9: 1.0000 - dense_1_acc_10: 1.0000 - dense_1_acc_11: 1.0000 - dense_1_acc_12: 1.0000 - dense_1_acc_13: 1.0000 - dense_1_acc_14: 1.0000 - dense_1_acc_15: 1.0000 - dense_1_acc_16: 1.0000 - dense_1_acc_17: 1.0000 - dense_1_acc_18: 1.0000 - dense_1_acc_19: 1.0000 - dense_1_acc_20: 1.0000 - dense_1_acc_21: 1.0000 - dense_1_acc_22: 1.0000 - dense_1_acc_23: 1.0000 - dense_1_acc_24: 1.0000 - dense_1_acc_25: 1.0000 - dense_1_acc_26: 1.0000 - dense_1_acc_27: 1.0000 - dense_1_acc_28: 1.0000 - dense_1_acc_29: 0.9833 - dense_1_acc_30: 0.0000e+00\n",
      "Epoch 53/100\n",
      "60/60 [==============================] - 0s 2ms/step - loss: 10.2331 - dense_1_loss_1: 3.8956 - dense_1_loss_2: 1.9948 - dense_1_loss_3: 0.8147 - dense_1_loss_4: 0.3596 - dense_1_loss_5: 0.2502 - dense_1_loss_6: 0.1941 - dense_1_loss_7: 0.1572 - dense_1_loss_8: 0.1447 - dense_1_loss_9: 0.1292 - dense_1_loss_10: 0.1146 - dense_1_loss_11: 0.1225 - dense_1_loss_12: 0.1070 - dense_1_loss_13: 0.0996 - dense_1_loss_14: 0.1017 - dense_1_loss_15: 0.1102 - dense_1_loss_16: 0.1181 - dense_1_loss_17: 0.1067 - dense_1_loss_18: 0.1036 - dense_1_loss_19: 0.1038 - dense_1_loss_20: 0.1181 - dense_1_loss_21: 0.1163 - dense_1_loss_22: 0.1072 - dense_1_loss_23: 0.1075 - dense_1_loss_24: 0.1055 - dense_1_loss_25: 0.1201 - dense_1_loss_26: 0.1172 - dense_1_loss_27: 0.1231 - dense_1_loss_28: 0.1307 - dense_1_loss_29: 0.1592 - dense_1_loss_30: 0.0000e+00 - dense_1_acc_1: 0.0667 - dense_1_acc_2: 0.5167 - dense_1_acc_3: 0.8167 - dense_1_acc_4: 0.9667 - dense_1_acc_5: 0.9667 - dense_1_acc_6: 1.0000 - dense_1_acc_7: 1.0000 - dense_1_acc_8: 1.0000 - dense_1_acc_9: 1.0000 - dense_1_acc_10: 1.0000 - dense_1_acc_11: 1.0000 - dense_1_acc_12: 1.0000 - dense_1_acc_13: 1.0000 - dense_1_acc_14: 1.0000 - dense_1_acc_15: 1.0000 - dense_1_acc_16: 1.0000 - dense_1_acc_17: 1.0000 - dense_1_acc_18: 1.0000 - dense_1_acc_19: 1.0000 - dense_1_acc_20: 1.0000 - dense_1_acc_21: 1.0000 - dense_1_acc_22: 1.0000 - dense_1_acc_23: 1.0000 - dense_1_acc_24: 1.0000 - dense_1_acc_25: 1.0000 - dense_1_acc_26: 1.0000 - dense_1_acc_27: 1.0000 - dense_1_acc_28: 1.0000 - dense_1_acc_29: 0.9833 - dense_1_acc_30: 0.0000e+00\n",
      "Epoch 54/100\n",
      "60/60 [==============================] - 0s 2ms/step - loss: 9.9448 - dense_1_loss_1: 3.8915 - dense_1_loss_2: 1.9619 - dense_1_loss_3: 0.7874 - dense_1_loss_4: 0.3396 - dense_1_loss_5: 0.2362 - dense_1_loss_6: 0.1813 - dense_1_loss_7: 0.1456 - dense_1_loss_8: 0.1352 - dense_1_loss_9: 0.1209 - dense_1_loss_10: 0.1075 - dense_1_loss_11: 0.1150 - dense_1_loss_12: 0.1009 - dense_1_loss_13: 0.0933 - dense_1_loss_14: 0.0954 - dense_1_loss_15: 0.1027 - dense_1_loss_16: 0.1101 - dense_1_loss_17: 0.0991 - dense_1_loss_18: 0.0969 - dense_1_loss_19: 0.0984 - dense_1_loss_20: 0.1094 - dense_1_loss_21: 0.1083 - dense_1_loss_22: 0.1003 - dense_1_loss_23: 0.1002 - dense_1_loss_24: 0.0988 - dense_1_loss_25: 0.1104 - dense_1_loss_26: 0.1100 - dense_1_loss_27: 0.1155 - dense_1_loss_28: 0.1246 - dense_1_loss_29: 0.1481 - dense_1_loss_30: 0.0000e+00 - dense_1_acc_1: 0.0667 - dense_1_acc_2: 0.5333 - dense_1_acc_3: 0.8333 - dense_1_acc_4: 0.9667 - dense_1_acc_5: 0.9667 - dense_1_acc_6: 1.0000 - dense_1_acc_7: 1.0000 - dense_1_acc_8: 1.0000 - dense_1_acc_9: 1.0000 - dense_1_acc_10: 1.0000 - dense_1_acc_11: 1.0000 - dense_1_acc_12: 1.0000 - dense_1_acc_13: 1.0000 - dense_1_acc_14: 1.0000 - dense_1_acc_15: 1.0000 - dense_1_acc_16: 1.0000 - dense_1_acc_17: 1.0000 - dense_1_acc_18: 1.0000 - dense_1_acc_19: 1.0000 - dense_1_acc_20: 1.0000 - dense_1_acc_21: 1.0000 - dense_1_acc_22: 1.0000 - dense_1_acc_23: 1.0000 - dense_1_acc_24: 1.0000 - dense_1_acc_25: 1.0000 - dense_1_acc_26: 1.0000 - dense_1_acc_27: 1.0000 - dense_1_acc_28: 1.0000 - dense_1_acc_29: 0.9833 - dense_1_acc_30: 0.0000e+00\n",
      "Epoch 55/100\n",
      "60/60 [==============================] - 0s 2ms/step - loss: 9.6864 - dense_1_loss_1: 3.8871 - dense_1_loss_2: 1.9285 - dense_1_loss_3: 0.7611 - dense_1_loss_4: 0.3210 - dense_1_loss_5: 0.2259 - dense_1_loss_6: 0.1722 - dense_1_loss_7: 0.1362 - dense_1_loss_8: 0.1277 - dense_1_loss_9: 0.1149 - dense_1_loss_10: 0.1003 - dense_1_loss_11: 0.1082 - dense_1_loss_12: 0.0953 - dense_1_loss_13: 0.0885 - dense_1_loss_14: 0.0893 - dense_1_loss_15: 0.0963 - dense_1_loss_16: 0.1033 - dense_1_loss_17: 0.0931 - dense_1_loss_18: 0.0902 - dense_1_loss_19: 0.0935 - dense_1_loss_20: 0.1026 - dense_1_loss_21: 0.1005 - dense_1_loss_22: 0.0938 - dense_1_loss_23: 0.0934 - dense_1_loss_24: 0.0931 - dense_1_loss_25: 0.1023 - dense_1_loss_26: 0.1032 - dense_1_loss_27: 0.1086 - dense_1_loss_28: 0.1175 - dense_1_loss_29: 0.1386 - dense_1_loss_30: 0.0000e+00 - dense_1_acc_1: 0.0667 - dense_1_acc_2: 0.5500 - dense_1_acc_3: 0.8333 - dense_1_acc_4: 0.9833 - dense_1_acc_5: 0.9833 - dense_1_acc_6: 1.0000 - dense_1_acc_7: 1.0000 - dense_1_acc_8: 1.0000 - dense_1_acc_9: 1.0000 - dense_1_acc_10: 1.0000 - dense_1_acc_11: 1.0000 - dense_1_acc_12: 1.0000 - dense_1_acc_13: 1.0000 - dense_1_acc_14: 1.0000 - dense_1_acc_15: 1.0000 - dense_1_acc_16: 1.0000 - dense_1_acc_17: 1.0000 - dense_1_acc_18: 1.0000 - dense_1_acc_19: 1.0000 - dense_1_acc_20: 1.0000 - dense_1_acc_21: 1.0000 - dense_1_acc_22: 1.0000 - dense_1_acc_23: 1.0000 - dense_1_acc_24: 1.0000 - dense_1_acc_25: 1.0000 - dense_1_acc_26: 1.0000 - dense_1_acc_27: 1.0000 - dense_1_acc_28: 1.0000 - dense_1_acc_29: 1.0000 - dense_1_acc_30: 0.0000e+00\n",
      "Epoch 56/100\n",
      "60/60 [==============================] - 0s 2ms/step - loss: 9.4394 - dense_1_loss_1: 3.8834 - dense_1_loss_2: 1.8984 - dense_1_loss_3: 0.7353 - dense_1_loss_4: 0.3034 - dense_1_loss_5: 0.2140 - dense_1_loss_6: 0.1629 - dense_1_loss_7: 0.1270 - dense_1_loss_8: 0.1199 - dense_1_loss_9: 0.1082 - dense_1_loss_10: 0.0938 - dense_1_loss_11: 0.1017 - dense_1_loss_12: 0.0897 - dense_1_loss_13: 0.0834 - dense_1_loss_14: 0.0832 - dense_1_loss_15: 0.0907 - dense_1_loss_16: 0.0970 - dense_1_loss_17: 0.0882 - dense_1_loss_18: 0.0848 - dense_1_loss_19: 0.0866 - dense_1_loss_20: 0.0976 - dense_1_loss_21: 0.0937 - dense_1_loss_22: 0.0880 - dense_1_loss_23: 0.0887 - dense_1_loss_24: 0.0870 - dense_1_loss_25: 0.0973 - dense_1_loss_26: 0.0992 - dense_1_loss_27: 0.1008 - dense_1_loss_28: 0.1060 - dense_1_loss_29: 0.1293 - dense_1_loss_30: 0.0000e+00 - dense_1_acc_1: 0.0667 - dense_1_acc_2: 0.5500 - dense_1_acc_3: 0.8333 - dense_1_acc_4: 0.9833 - dense_1_acc_5: 0.9833 - dense_1_acc_6: 1.0000 - dense_1_acc_7: 1.0000 - dense_1_acc_8: 1.0000 - dense_1_acc_9: 1.0000 - dense_1_acc_10: 1.0000 - dense_1_acc_11: 1.0000 - dense_1_acc_12: 1.0000 - dense_1_acc_13: 1.0000 - dense_1_acc_14: 1.0000 - dense_1_acc_15: 1.0000 - dense_1_acc_16: 1.0000 - dense_1_acc_17: 1.0000 - dense_1_acc_18: 1.0000 - dense_1_acc_19: 1.0000 - dense_1_acc_20: 1.0000 - dense_1_acc_21: 1.0000 - dense_1_acc_22: 1.0000 - dense_1_acc_23: 1.0000 - dense_1_acc_24: 1.0000 - dense_1_acc_25: 1.0000 - dense_1_acc_26: 1.0000 - dense_1_acc_27: 1.0000 - dense_1_acc_28: 1.0000 - dense_1_acc_29: 1.0000 - dense_1_acc_30: 0.0000e+00\n",
      "Epoch 57/100\n",
      "60/60 [==============================] - 0s 2ms/step - loss: 9.2186 - dense_1_loss_1: 3.8792 - dense_1_loss_2: 1.8678 - dense_1_loss_3: 0.7121 - dense_1_loss_4: 0.2878 - dense_1_loss_5: 0.2042 - dense_1_loss_6: 0.1545 - dense_1_loss_7: 0.1198 - dense_1_loss_8: 0.1126 - dense_1_loss_9: 0.1022 - dense_1_loss_10: 0.0887 - dense_1_loss_11: 0.0950 - dense_1_loss_12: 0.0847 - dense_1_loss_13: 0.0790 - dense_1_loss_14: 0.0776 - dense_1_loss_15: 0.0863 - dense_1_loss_16: 0.0911 - dense_1_loss_17: 0.0842 - dense_1_loss_18: 0.0802 - dense_1_loss_19: 0.0806 - dense_1_loss_20: 0.0913 - dense_1_loss_21: 0.0884 - dense_1_loss_22: 0.0834 - dense_1_loss_23: 0.0834 - dense_1_loss_24: 0.0818 - dense_1_loss_25: 0.0924 - dense_1_loss_26: 0.0922 - dense_1_loss_27: 0.0944 - dense_1_loss_28: 0.1022 - dense_1_loss_29: 0.1215 - dense_1_loss_30: 0.0000e+00 - dense_1_acc_1: 0.0667 - dense_1_acc_2: 0.5500 - dense_1_acc_3: 0.8500 - dense_1_acc_4: 0.9833 - dense_1_acc_5: 0.9833 - dense_1_acc_6: 1.0000 - dense_1_acc_7: 1.0000 - dense_1_acc_8: 1.0000 - dense_1_acc_9: 1.0000 - dense_1_acc_10: 1.0000 - dense_1_acc_11: 1.0000 - dense_1_acc_12: 1.0000 - dense_1_acc_13: 1.0000 - dense_1_acc_14: 1.0000 - dense_1_acc_15: 1.0000 - dense_1_acc_16: 1.0000 - dense_1_acc_17: 1.0000 - dense_1_acc_18: 1.0000 - dense_1_acc_19: 1.0000 - dense_1_acc_20: 1.0000 - dense_1_acc_21: 1.0000 - dense_1_acc_22: 1.0000 - dense_1_acc_23: 1.0000 - dense_1_acc_24: 1.0000 - dense_1_acc_25: 1.0000 - dense_1_acc_26: 1.0000 - dense_1_acc_27: 1.0000 - dense_1_acc_28: 1.0000 - dense_1_acc_29: 1.0000 - dense_1_acc_30: 0.0000e+00\n",
      "Epoch 58/100\n",
      "60/60 [==============================] - 0s 2ms/step - loss: 9.0126 - dense_1_loss_1: 3.8750 - dense_1_loss_2: 1.8390 - dense_1_loss_3: 0.6912 - dense_1_loss_4: 0.2726 - dense_1_loss_5: 0.1945 - dense_1_loss_6: 0.1467 - dense_1_loss_7: 0.1129 - dense_1_loss_8: 0.1070 - dense_1_loss_9: 0.0962 - dense_1_loss_10: 0.0839 - dense_1_loss_11: 0.0894 - dense_1_loss_12: 0.0801 - dense_1_loss_13: 0.0749 - dense_1_loss_14: 0.0731 - dense_1_loss_15: 0.0810 - dense_1_loss_16: 0.0859 - dense_1_loss_17: 0.0800 - dense_1_loss_18: 0.0760 - dense_1_loss_19: 0.0758 - dense_1_loss_20: 0.0854 - dense_1_loss_21: 0.0841 - dense_1_loss_22: 0.0783 - dense_1_loss_23: 0.0782 - dense_1_loss_24: 0.0778 - dense_1_loss_25: 0.0870 - dense_1_loss_26: 0.0852 - dense_1_loss_27: 0.0903 - dense_1_loss_28: 0.0972 - dense_1_loss_29: 0.1140 - dense_1_loss_30: 0.0000e+00 - dense_1_acc_1: 0.0667 - dense_1_acc_2: 0.5500 - dense_1_acc_3: 0.8500 - dense_1_acc_4: 0.9833 - dense_1_acc_5: 0.9833 - dense_1_acc_6: 1.0000 - dense_1_acc_7: 1.0000 - dense_1_acc_8: 1.0000 - dense_1_acc_9: 1.0000 - dense_1_acc_10: 1.0000 - dense_1_acc_11: 1.0000 - dense_1_acc_12: 1.0000 - dense_1_acc_13: 1.0000 - dense_1_acc_14: 1.0000 - dense_1_acc_15: 1.0000 - dense_1_acc_16: 1.0000 - dense_1_acc_17: 1.0000 - dense_1_acc_18: 1.0000 - dense_1_acc_19: 1.0000 - dense_1_acc_20: 1.0000 - dense_1_acc_21: 1.0000 - dense_1_acc_22: 1.0000 - dense_1_acc_23: 1.0000 - dense_1_acc_24: 1.0000 - dense_1_acc_25: 1.0000 - dense_1_acc_26: 1.0000 - dense_1_acc_27: 1.0000 - dense_1_acc_28: 1.0000 - dense_1_acc_29: 1.0000 - dense_1_acc_30: 0.0000e+00\n",
      "Epoch 59/100\n",
      "60/60 [==============================] - 0s 2ms/step - loss: 8.8218 - dense_1_loss_1: 3.8715 - dense_1_loss_2: 1.8119 - dense_1_loss_3: 0.6695 - dense_1_loss_4: 0.2598 - dense_1_loss_5: 0.1844 - dense_1_loss_6: 0.1393 - dense_1_loss_7: 0.1067 - dense_1_loss_8: 0.1020 - dense_1_loss_9: 0.0914 - dense_1_loss_10: 0.0792 - dense_1_loss_11: 0.0851 - dense_1_loss_12: 0.0757 - dense_1_loss_13: 0.0709 - dense_1_loss_14: 0.0699 - dense_1_loss_15: 0.0758 - dense_1_loss_16: 0.0813 - dense_1_loss_17: 0.0754 - dense_1_loss_18: 0.0715 - dense_1_loss_19: 0.0722 - dense_1_loss_20: 0.0807 - dense_1_loss_21: 0.0797 - dense_1_loss_22: 0.0733 - dense_1_loss_23: 0.0746 - dense_1_loss_24: 0.0734 - dense_1_loss_25: 0.0830 - dense_1_loss_26: 0.0806 - dense_1_loss_27: 0.0869 - dense_1_loss_28: 0.0879 - dense_1_loss_29: 0.1078 - dense_1_loss_30: 0.0000e+00 - dense_1_acc_1: 0.0667 - dense_1_acc_2: 0.5500 - dense_1_acc_3: 0.8500 - dense_1_acc_4: 0.9833 - dense_1_acc_5: 0.9833 - dense_1_acc_6: 1.0000 - dense_1_acc_7: 1.0000 - dense_1_acc_8: 1.0000 - dense_1_acc_9: 1.0000 - dense_1_acc_10: 1.0000 - dense_1_acc_11: 1.0000 - dense_1_acc_12: 1.0000 - dense_1_acc_13: 1.0000 - dense_1_acc_14: 1.0000 - dense_1_acc_15: 1.0000 - dense_1_acc_16: 1.0000 - dense_1_acc_17: 1.0000 - dense_1_acc_18: 1.0000 - dense_1_acc_19: 1.0000 - dense_1_acc_20: 1.0000 - dense_1_acc_21: 1.0000 - dense_1_acc_22: 1.0000 - dense_1_acc_23: 1.0000 - dense_1_acc_24: 1.0000 - dense_1_acc_25: 1.0000 - dense_1_acc_26: 1.0000 - dense_1_acc_27: 1.0000 - dense_1_acc_28: 1.0000 - dense_1_acc_29: 1.0000 - dense_1_acc_30: 0.0000e+00\n",
      "Epoch 60/100\n",
      "60/60 [==============================] - 0s 2ms/step - loss: 8.6442 - dense_1_loss_1: 3.8673 - dense_1_loss_2: 1.7846 - dense_1_loss_3: 0.6500 - dense_1_loss_4: 0.2479 - dense_1_loss_5: 0.1753 - dense_1_loss_6: 0.1324 - dense_1_loss_7: 0.1010 - dense_1_loss_8: 0.0969 - dense_1_loss_9: 0.0871 - dense_1_loss_10: 0.0750 - dense_1_loss_11: 0.0809 - dense_1_loss_12: 0.0716 - dense_1_loss_13: 0.0672 - dense_1_loss_14: 0.0662 - dense_1_loss_15: 0.0713 - dense_1_loss_16: 0.0772 - dense_1_loss_17: 0.0715 - dense_1_loss_18: 0.0675 - dense_1_loss_19: 0.0691 - dense_1_loss_20: 0.0759 - dense_1_loss_21: 0.0757 - dense_1_loss_22: 0.0698 - dense_1_loss_23: 0.0701 - dense_1_loss_24: 0.0691 - dense_1_loss_25: 0.0777 - dense_1_loss_26: 0.0768 - dense_1_loss_27: 0.0820 - dense_1_loss_28: 0.0857 - dense_1_loss_29: 0.1013 - dense_1_loss_30: 0.0000e+00 - dense_1_acc_1: 0.0667 - dense_1_acc_2: 0.5500 - dense_1_acc_3: 0.8500 - dense_1_acc_4: 0.9833 - dense_1_acc_5: 0.9833 - dense_1_acc_6: 1.0000 - dense_1_acc_7: 1.0000 - dense_1_acc_8: 1.0000 - dense_1_acc_9: 1.0000 - dense_1_acc_10: 1.0000 - dense_1_acc_11: 1.0000 - dense_1_acc_12: 1.0000 - dense_1_acc_13: 1.0000 - dense_1_acc_14: 1.0000 - dense_1_acc_15: 1.0000 - dense_1_acc_16: 1.0000 - dense_1_acc_17: 1.0000 - dense_1_acc_18: 1.0000 - dense_1_acc_19: 1.0000 - dense_1_acc_20: 1.0000 - dense_1_acc_21: 1.0000 - dense_1_acc_22: 1.0000 - dense_1_acc_23: 1.0000 - dense_1_acc_24: 1.0000 - dense_1_acc_25: 1.0000 - dense_1_acc_26: 1.0000 - dense_1_acc_27: 1.0000 - dense_1_acc_28: 1.0000 - dense_1_acc_29: 1.0000 - dense_1_acc_30: 0.0000e+00\n",
      "Epoch 61/100\n"
     ]
    },
    {
     "name": "stdout",
     "output_type": "stream",
     "text": [
      "60/60 [==============================] - 0s 2ms/step - loss: 8.4818 - dense_1_loss_1: 3.8633 - dense_1_loss_2: 1.7596 - dense_1_loss_3: 0.6310 - dense_1_loss_4: 0.2363 - dense_1_loss_5: 0.1681 - dense_1_loss_6: 0.1260 - dense_1_loss_7: 0.0962 - dense_1_loss_8: 0.0923 - dense_1_loss_9: 0.0830 - dense_1_loss_10: 0.0717 - dense_1_loss_11: 0.0766 - dense_1_loss_12: 0.0678 - dense_1_loss_13: 0.0640 - dense_1_loss_14: 0.0627 - dense_1_loss_15: 0.0679 - dense_1_loss_16: 0.0730 - dense_1_loss_17: 0.0679 - dense_1_loss_18: 0.0644 - dense_1_loss_19: 0.0650 - dense_1_loss_20: 0.0722 - dense_1_loss_21: 0.0714 - dense_1_loss_22: 0.0667 - dense_1_loss_23: 0.0660 - dense_1_loss_24: 0.0659 - dense_1_loss_25: 0.0735 - dense_1_loss_26: 0.0725 - dense_1_loss_27: 0.0768 - dense_1_loss_28: 0.0845 - dense_1_loss_29: 0.0955 - dense_1_loss_30: 0.0000e+00 - dense_1_acc_1: 0.0667 - dense_1_acc_2: 0.5500 - dense_1_acc_3: 0.8500 - dense_1_acc_4: 0.9833 - dense_1_acc_5: 0.9833 - dense_1_acc_6: 1.0000 - dense_1_acc_7: 1.0000 - dense_1_acc_8: 1.0000 - dense_1_acc_9: 1.0000 - dense_1_acc_10: 1.0000 - dense_1_acc_11: 1.0000 - dense_1_acc_12: 1.0000 - dense_1_acc_13: 1.0000 - dense_1_acc_14: 1.0000 - dense_1_acc_15: 1.0000 - dense_1_acc_16: 1.0000 - dense_1_acc_17: 1.0000 - dense_1_acc_18: 1.0000 - dense_1_acc_19: 1.0000 - dense_1_acc_20: 1.0000 - dense_1_acc_21: 1.0000 - dense_1_acc_22: 1.0000 - dense_1_acc_23: 1.0000 - dense_1_acc_24: 1.0000 - dense_1_acc_25: 1.0000 - dense_1_acc_26: 1.0000 - dense_1_acc_27: 1.0000 - dense_1_acc_28: 1.0000 - dense_1_acc_29: 1.0000 - dense_1_acc_30: 0.0000e+00\n",
      "Epoch 62/100\n",
      "60/60 [==============================] - 0s 2ms/step - loss: 8.3301 - dense_1_loss_1: 3.8594 - dense_1_loss_2: 1.7335 - dense_1_loss_3: 0.6140 - dense_1_loss_4: 0.2268 - dense_1_loss_5: 0.1604 - dense_1_loss_6: 0.1194 - dense_1_loss_7: 0.0919 - dense_1_loss_8: 0.0876 - dense_1_loss_9: 0.0784 - dense_1_loss_10: 0.0692 - dense_1_loss_11: 0.0733 - dense_1_loss_12: 0.0646 - dense_1_loss_13: 0.0611 - dense_1_loss_14: 0.0596 - dense_1_loss_15: 0.0653 - dense_1_loss_16: 0.0697 - dense_1_loss_17: 0.0642 - dense_1_loss_18: 0.0620 - dense_1_loss_19: 0.0615 - dense_1_loss_20: 0.0693 - dense_1_loss_21: 0.0674 - dense_1_loss_22: 0.0637 - dense_1_loss_23: 0.0634 - dense_1_loss_24: 0.0627 - dense_1_loss_25: 0.0712 - dense_1_loss_26: 0.0703 - dense_1_loss_27: 0.0728 - dense_1_loss_28: 0.0765 - dense_1_loss_29: 0.0910 - dense_1_loss_30: 0.0000e+00 - dense_1_acc_1: 0.0667 - dense_1_acc_2: 0.5500 - dense_1_acc_3: 0.8500 - dense_1_acc_4: 0.9833 - dense_1_acc_5: 0.9833 - dense_1_acc_6: 1.0000 - dense_1_acc_7: 1.0000 - dense_1_acc_8: 1.0000 - dense_1_acc_9: 1.0000 - dense_1_acc_10: 1.0000 - dense_1_acc_11: 1.0000 - dense_1_acc_12: 1.0000 - dense_1_acc_13: 1.0000 - dense_1_acc_14: 1.0000 - dense_1_acc_15: 1.0000 - dense_1_acc_16: 1.0000 - dense_1_acc_17: 1.0000 - dense_1_acc_18: 1.0000 - dense_1_acc_19: 1.0000 - dense_1_acc_20: 1.0000 - dense_1_acc_21: 1.0000 - dense_1_acc_22: 1.0000 - dense_1_acc_23: 1.0000 - dense_1_acc_24: 1.0000 - dense_1_acc_25: 1.0000 - dense_1_acc_26: 1.0000 - dense_1_acc_27: 1.0000 - dense_1_acc_28: 1.0000 - dense_1_acc_29: 1.0000 - dense_1_acc_30: 0.0000e+00\n",
      "Epoch 63/100\n",
      "60/60 [==============================] - 0s 2ms/step - loss: 8.1902 - dense_1_loss_1: 3.8558 - dense_1_loss_2: 1.7097 - dense_1_loss_3: 0.5967 - dense_1_loss_4: 0.2169 - dense_1_loss_5: 0.1536 - dense_1_loss_6: 0.1140 - dense_1_loss_7: 0.0878 - dense_1_loss_8: 0.0836 - dense_1_loss_9: 0.0746 - dense_1_loss_10: 0.0660 - dense_1_loss_11: 0.0695 - dense_1_loss_12: 0.0617 - dense_1_loss_13: 0.0581 - dense_1_loss_14: 0.0567 - dense_1_loss_15: 0.0625 - dense_1_loss_16: 0.0664 - dense_1_loss_17: 0.0611 - dense_1_loss_18: 0.0594 - dense_1_loss_19: 0.0583 - dense_1_loss_20: 0.0663 - dense_1_loss_21: 0.0645 - dense_1_loss_22: 0.0607 - dense_1_loss_23: 0.0612 - dense_1_loss_24: 0.0599 - dense_1_loss_25: 0.0689 - dense_1_loss_26: 0.0689 - dense_1_loss_27: 0.0701 - dense_1_loss_28: 0.0710 - dense_1_loss_29: 0.0862 - dense_1_loss_30: 0.0000e+00 - dense_1_acc_1: 0.0667 - dense_1_acc_2: 0.5500 - dense_1_acc_3: 0.8667 - dense_1_acc_4: 0.9833 - dense_1_acc_5: 0.9833 - dense_1_acc_6: 1.0000 - dense_1_acc_7: 1.0000 - dense_1_acc_8: 1.0000 - dense_1_acc_9: 1.0000 - dense_1_acc_10: 1.0000 - dense_1_acc_11: 1.0000 - dense_1_acc_12: 1.0000 - dense_1_acc_13: 1.0000 - dense_1_acc_14: 1.0000 - dense_1_acc_15: 1.0000 - dense_1_acc_16: 1.0000 - dense_1_acc_17: 1.0000 - dense_1_acc_18: 1.0000 - dense_1_acc_19: 1.0000 - dense_1_acc_20: 1.0000 - dense_1_acc_21: 1.0000 - dense_1_acc_22: 1.0000 - dense_1_acc_23: 1.0000 - dense_1_acc_24: 1.0000 - dense_1_acc_25: 1.0000 - dense_1_acc_26: 1.0000 - dense_1_acc_27: 1.0000 - dense_1_acc_28: 1.0000 - dense_1_acc_29: 1.0000 - dense_1_acc_30: 0.0000e+00\n",
      "Epoch 64/100\n",
      "60/60 [==============================] - 0s 2ms/step - loss: 8.0545 - dense_1_loss_1: 3.8520 - dense_1_loss_2: 1.6870 - dense_1_loss_3: 0.5799 - dense_1_loss_4: 0.2083 - dense_1_loss_5: 0.1467 - dense_1_loss_6: 0.1091 - dense_1_loss_7: 0.0838 - dense_1_loss_8: 0.0796 - dense_1_loss_9: 0.0716 - dense_1_loss_10: 0.0629 - dense_1_loss_11: 0.0654 - dense_1_loss_12: 0.0589 - dense_1_loss_13: 0.0553 - dense_1_loss_14: 0.0538 - dense_1_loss_15: 0.0597 - dense_1_loss_16: 0.0633 - dense_1_loss_17: 0.0590 - dense_1_loss_18: 0.0568 - dense_1_loss_19: 0.0556 - dense_1_loss_20: 0.0628 - dense_1_loss_21: 0.0619 - dense_1_loss_22: 0.0583 - dense_1_loss_23: 0.0575 - dense_1_loss_24: 0.0576 - dense_1_loss_25: 0.0638 - dense_1_loss_26: 0.0633 - dense_1_loss_27: 0.0667 - dense_1_loss_28: 0.0736 - dense_1_loss_29: 0.0805 - dense_1_loss_30: 0.0000e+00 - dense_1_acc_1: 0.0667 - dense_1_acc_2: 0.5500 - dense_1_acc_3: 0.8833 - dense_1_acc_4: 0.9833 - dense_1_acc_5: 0.9833 - dense_1_acc_6: 1.0000 - dense_1_acc_7: 1.0000 - dense_1_acc_8: 1.0000 - dense_1_acc_9: 1.0000 - dense_1_acc_10: 1.0000 - dense_1_acc_11: 1.0000 - dense_1_acc_12: 1.0000 - dense_1_acc_13: 1.0000 - dense_1_acc_14: 1.0000 - dense_1_acc_15: 1.0000 - dense_1_acc_16: 1.0000 - dense_1_acc_17: 1.0000 - dense_1_acc_18: 1.0000 - dense_1_acc_19: 1.0000 - dense_1_acc_20: 1.0000 - dense_1_acc_21: 1.0000 - dense_1_acc_22: 1.0000 - dense_1_acc_23: 1.0000 - dense_1_acc_24: 1.0000 - dense_1_acc_25: 1.0000 - dense_1_acc_26: 1.0000 - dense_1_acc_27: 1.0000 - dense_1_acc_28: 1.0000 - dense_1_acc_29: 1.0000 - dense_1_acc_30: 0.0000e+00\n",
      "Epoch 65/100\n",
      "60/60 [==============================] - 0s 2ms/step - loss: 7.9310 - dense_1_loss_1: 3.8485 - dense_1_loss_2: 1.6643 - dense_1_loss_3: 0.5661 - dense_1_loss_4: 0.2007 - dense_1_loss_5: 0.1409 - dense_1_loss_6: 0.1049 - dense_1_loss_7: 0.0801 - dense_1_loss_8: 0.0765 - dense_1_loss_9: 0.0687 - dense_1_loss_10: 0.0600 - dense_1_loss_11: 0.0630 - dense_1_loss_12: 0.0566 - dense_1_loss_13: 0.0529 - dense_1_loss_14: 0.0517 - dense_1_loss_15: 0.0568 - dense_1_loss_16: 0.0607 - dense_1_loss_17: 0.0562 - dense_1_loss_18: 0.0541 - dense_1_loss_19: 0.0536 - dense_1_loss_20: 0.0598 - dense_1_loss_21: 0.0591 - dense_1_loss_22: 0.0557 - dense_1_loss_23: 0.0549 - dense_1_loss_24: 0.0551 - dense_1_loss_25: 0.0607 - dense_1_loss_26: 0.0601 - dense_1_loss_27: 0.0639 - dense_1_loss_28: 0.0691 - dense_1_loss_29: 0.0763 - dense_1_loss_30: 0.0000e+00 - dense_1_acc_1: 0.0667 - dense_1_acc_2: 0.5500 - dense_1_acc_3: 0.8833 - dense_1_acc_4: 1.0000 - dense_1_acc_5: 0.9833 - dense_1_acc_6: 1.0000 - dense_1_acc_7: 1.0000 - dense_1_acc_8: 1.0000 - dense_1_acc_9: 1.0000 - dense_1_acc_10: 1.0000 - dense_1_acc_11: 1.0000 - dense_1_acc_12: 1.0000 - dense_1_acc_13: 1.0000 - dense_1_acc_14: 1.0000 - dense_1_acc_15: 1.0000 - dense_1_acc_16: 1.0000 - dense_1_acc_17: 1.0000 - dense_1_acc_18: 1.0000 - dense_1_acc_19: 1.0000 - dense_1_acc_20: 1.0000 - dense_1_acc_21: 1.0000 - dense_1_acc_22: 1.0000 - dense_1_acc_23: 1.0000 - dense_1_acc_24: 1.0000 - dense_1_acc_25: 1.0000 - dense_1_acc_26: 1.0000 - dense_1_acc_27: 1.0000 - dense_1_acc_28: 1.0000 - dense_1_acc_29: 1.0000 - dense_1_acc_30: 0.0000e+00\n",
      "Epoch 66/100\n",
      "60/60 [==============================] - 0s 2ms/step - loss: 7.8151 - dense_1_loss_1: 3.8448 - dense_1_loss_2: 1.6429 - dense_1_loss_3: 0.5511 - dense_1_loss_4: 0.1928 - dense_1_loss_5: 0.1347 - dense_1_loss_6: 0.1009 - dense_1_loss_7: 0.0764 - dense_1_loss_8: 0.0736 - dense_1_loss_9: 0.0658 - dense_1_loss_10: 0.0574 - dense_1_loss_11: 0.0611 - dense_1_loss_12: 0.0541 - dense_1_loss_13: 0.0508 - dense_1_loss_14: 0.0500 - dense_1_loss_15: 0.0540 - dense_1_loss_16: 0.0585 - dense_1_loss_17: 0.0533 - dense_1_loss_18: 0.0517 - dense_1_loss_19: 0.0516 - dense_1_loss_20: 0.0579 - dense_1_loss_21: 0.0564 - dense_1_loss_22: 0.0530 - dense_1_loss_23: 0.0531 - dense_1_loss_24: 0.0525 - dense_1_loss_25: 0.0598 - dense_1_loss_26: 0.0590 - dense_1_loss_27: 0.0627 - dense_1_loss_28: 0.0620 - dense_1_loss_29: 0.0733 - dense_1_loss_30: 0.0000e+00 - dense_1_acc_1: 0.0667 - dense_1_acc_2: 0.5667 - dense_1_acc_3: 0.8833 - dense_1_acc_4: 1.0000 - dense_1_acc_5: 0.9833 - dense_1_acc_6: 1.0000 - dense_1_acc_7: 1.0000 - dense_1_acc_8: 1.0000 - dense_1_acc_9: 1.0000 - dense_1_acc_10: 1.0000 - dense_1_acc_11: 1.0000 - dense_1_acc_12: 1.0000 - dense_1_acc_13: 1.0000 - dense_1_acc_14: 1.0000 - dense_1_acc_15: 1.0000 - dense_1_acc_16: 1.0000 - dense_1_acc_17: 1.0000 - dense_1_acc_18: 1.0000 - dense_1_acc_19: 1.0000 - dense_1_acc_20: 1.0000 - dense_1_acc_21: 1.0000 - dense_1_acc_22: 1.0000 - dense_1_acc_23: 1.0000 - dense_1_acc_24: 1.0000 - dense_1_acc_25: 1.0000 - dense_1_acc_26: 1.0000 - dense_1_acc_27: 1.0000 - dense_1_acc_28: 1.0000 - dense_1_acc_29: 1.0000 - dense_1_acc_30: 0.0000e+00\n",
      "Epoch 67/100\n",
      "60/60 [==============================] - 0s 2ms/step - loss: 7.7049 - dense_1_loss_1: 3.8409 - dense_1_loss_2: 1.6219 - dense_1_loss_3: 0.5380 - dense_1_loss_4: 0.1863 - dense_1_loss_5: 0.1297 - dense_1_loss_6: 0.0973 - dense_1_loss_7: 0.0734 - dense_1_loss_8: 0.0707 - dense_1_loss_9: 0.0635 - dense_1_loss_10: 0.0551 - dense_1_loss_11: 0.0584 - dense_1_loss_12: 0.0519 - dense_1_loss_13: 0.0486 - dense_1_loss_14: 0.0479 - dense_1_loss_15: 0.0515 - dense_1_loss_16: 0.0558 - dense_1_loss_17: 0.0514 - dense_1_loss_18: 0.0498 - dense_1_loss_19: 0.0489 - dense_1_loss_20: 0.0548 - dense_1_loss_21: 0.0542 - dense_1_loss_22: 0.0510 - dense_1_loss_23: 0.0501 - dense_1_loss_24: 0.0503 - dense_1_loss_25: 0.0560 - dense_1_loss_26: 0.0539 - dense_1_loss_27: 0.0603 - dense_1_loss_28: 0.0640 - dense_1_loss_29: 0.0693 - dense_1_loss_30: 0.0000e+00 - dense_1_acc_1: 0.0667 - dense_1_acc_2: 0.5833 - dense_1_acc_3: 0.8833 - dense_1_acc_4: 1.0000 - dense_1_acc_5: 0.9833 - dense_1_acc_6: 1.0000 - dense_1_acc_7: 1.0000 - dense_1_acc_8: 1.0000 - dense_1_acc_9: 1.0000 - dense_1_acc_10: 1.0000 - dense_1_acc_11: 1.0000 - dense_1_acc_12: 1.0000 - dense_1_acc_13: 1.0000 - dense_1_acc_14: 1.0000 - dense_1_acc_15: 1.0000 - dense_1_acc_16: 1.0000 - dense_1_acc_17: 1.0000 - dense_1_acc_18: 1.0000 - dense_1_acc_19: 1.0000 - dense_1_acc_20: 1.0000 - dense_1_acc_21: 1.0000 - dense_1_acc_22: 1.0000 - dense_1_acc_23: 1.0000 - dense_1_acc_24: 1.0000 - dense_1_acc_25: 1.0000 - dense_1_acc_26: 1.0000 - dense_1_acc_27: 1.0000 - dense_1_acc_28: 1.0000 - dense_1_acc_29: 1.0000 - dense_1_acc_30: 0.0000e+00\n",
      "Epoch 68/100\n",
      "60/60 [==============================] - 0s 2ms/step - loss: 7.6007 - dense_1_loss_1: 3.8374 - dense_1_loss_2: 1.6016 - dense_1_loss_3: 0.5248 - dense_1_loss_4: 0.1804 - dense_1_loss_5: 0.1241 - dense_1_loss_6: 0.0935 - dense_1_loss_7: 0.0704 - dense_1_loss_8: 0.0678 - dense_1_loss_9: 0.0608 - dense_1_loss_10: 0.0531 - dense_1_loss_11: 0.0564 - dense_1_loss_12: 0.0499 - dense_1_loss_13: 0.0468 - dense_1_loss_14: 0.0459 - dense_1_loss_15: 0.0497 - dense_1_loss_16: 0.0535 - dense_1_loss_17: 0.0494 - dense_1_loss_18: 0.0480 - dense_1_loss_19: 0.0470 - dense_1_loss_20: 0.0529 - dense_1_loss_21: 0.0519 - dense_1_loss_22: 0.0491 - dense_1_loss_23: 0.0482 - dense_1_loss_24: 0.0484 - dense_1_loss_25: 0.0543 - dense_1_loss_26: 0.0525 - dense_1_loss_27: 0.0567 - dense_1_loss_28: 0.0602 - dense_1_loss_29: 0.0662 - dense_1_loss_30: 0.0000e+00 - dense_1_acc_1: 0.0667 - dense_1_acc_2: 0.6167 - dense_1_acc_3: 0.8833 - dense_1_acc_4: 1.0000 - dense_1_acc_5: 0.9833 - dense_1_acc_6: 1.0000 - dense_1_acc_7: 1.0000 - dense_1_acc_8: 1.0000 - dense_1_acc_9: 1.0000 - dense_1_acc_10: 1.0000 - dense_1_acc_11: 1.0000 - dense_1_acc_12: 1.0000 - dense_1_acc_13: 1.0000 - dense_1_acc_14: 1.0000 - dense_1_acc_15: 1.0000 - dense_1_acc_16: 1.0000 - dense_1_acc_17: 1.0000 - dense_1_acc_18: 1.0000 - dense_1_acc_19: 1.0000 - dense_1_acc_20: 1.0000 - dense_1_acc_21: 1.0000 - dense_1_acc_22: 1.0000 - dense_1_acc_23: 1.0000 - dense_1_acc_24: 1.0000 - dense_1_acc_25: 1.0000 - dense_1_acc_26: 1.0000 - dense_1_acc_27: 1.0000 - dense_1_acc_28: 1.0000 - dense_1_acc_29: 1.0000 - dense_1_acc_30: 0.0000e+00\n",
      "Epoch 69/100\n",
      "60/60 [==============================] - 0s 2ms/step - loss: 7.5034 - dense_1_loss_1: 3.8339 - dense_1_loss_2: 1.5825 - dense_1_loss_3: 0.5121 - dense_1_loss_4: 0.1741 - dense_1_loss_5: 0.1190 - dense_1_loss_6: 0.0899 - dense_1_loss_7: 0.0677 - dense_1_loss_8: 0.0652 - dense_1_loss_9: 0.0582 - dense_1_loss_10: 0.0513 - dense_1_loss_11: 0.0544 - dense_1_loss_12: 0.0481 - dense_1_loss_13: 0.0449 - dense_1_loss_14: 0.0441 - dense_1_loss_15: 0.0479 - dense_1_loss_16: 0.0514 - dense_1_loss_17: 0.0474 - dense_1_loss_18: 0.0463 - dense_1_loss_19: 0.0451 - dense_1_loss_20: 0.0510 - dense_1_loss_21: 0.0498 - dense_1_loss_22: 0.0472 - dense_1_loss_23: 0.0466 - dense_1_loss_24: 0.0466 - dense_1_loss_25: 0.0528 - dense_1_loss_26: 0.0517 - dense_1_loss_27: 0.0541 - dense_1_loss_28: 0.0559 - dense_1_loss_29: 0.0640 - dense_1_loss_30: 0.0000e+00 - dense_1_acc_1: 0.0667 - dense_1_acc_2: 0.6167 - dense_1_acc_3: 0.8833 - dense_1_acc_4: 1.0000 - dense_1_acc_5: 0.9833 - dense_1_acc_6: 1.0000 - dense_1_acc_7: 1.0000 - dense_1_acc_8: 1.0000 - dense_1_acc_9: 1.0000 - dense_1_acc_10: 1.0000 - dense_1_acc_11: 1.0000 - dense_1_acc_12: 1.0000 - dense_1_acc_13: 1.0000 - dense_1_acc_14: 1.0000 - dense_1_acc_15: 1.0000 - dense_1_acc_16: 1.0000 - dense_1_acc_17: 1.0000 - dense_1_acc_18: 1.0000 - dense_1_acc_19: 1.0000 - dense_1_acc_20: 1.0000 - dense_1_acc_21: 1.0000 - dense_1_acc_22: 1.0000 - dense_1_acc_23: 1.0000 - dense_1_acc_24: 1.0000 - dense_1_acc_25: 1.0000 - dense_1_acc_26: 1.0000 - dense_1_acc_27: 1.0000 - dense_1_acc_28: 1.0000 - dense_1_acc_29: 1.0000 - dense_1_acc_30: 0.0000e+00\n",
      "Epoch 70/100\n",
      "60/60 [==============================] - 0s 2ms/step - loss: 7.4100 - dense_1_loss_1: 3.8305 - dense_1_loss_2: 1.5626 - dense_1_loss_3: 0.5001 - dense_1_loss_4: 0.1685 - dense_1_loss_5: 0.1144 - dense_1_loss_6: 0.0866 - dense_1_loss_7: 0.0653 - dense_1_loss_8: 0.0627 - dense_1_loss_9: 0.0562 - dense_1_loss_10: 0.0494 - dense_1_loss_11: 0.0522 - dense_1_loss_12: 0.0465 - dense_1_loss_13: 0.0430 - dense_1_loss_14: 0.0423 - dense_1_loss_15: 0.0463 - dense_1_loss_16: 0.0494 - dense_1_loss_17: 0.0458 - dense_1_loss_18: 0.0445 - dense_1_loss_19: 0.0437 - dense_1_loss_20: 0.0488 - dense_1_loss_21: 0.0481 - dense_1_loss_22: 0.0456 - dense_1_loss_23: 0.0448 - dense_1_loss_24: 0.0447 - dense_1_loss_25: 0.0505 - dense_1_loss_26: 0.0498 - dense_1_loss_27: 0.0518 - dense_1_loss_28: 0.0547 - dense_1_loss_29: 0.0614 - dense_1_loss_30: 0.0000e+00 - dense_1_acc_1: 0.0667 - dense_1_acc_2: 0.6167 - dense_1_acc_3: 0.8833 - dense_1_acc_4: 1.0000 - dense_1_acc_5: 0.9833 - dense_1_acc_6: 1.0000 - dense_1_acc_7: 1.0000 - dense_1_acc_8: 1.0000 - dense_1_acc_9: 1.0000 - dense_1_acc_10: 1.0000 - dense_1_acc_11: 1.0000 - dense_1_acc_12: 1.0000 - dense_1_acc_13: 1.0000 - dense_1_acc_14: 1.0000 - dense_1_acc_15: 1.0000 - dense_1_acc_16: 1.0000 - dense_1_acc_17: 1.0000 - dense_1_acc_18: 1.0000 - dense_1_acc_19: 1.0000 - dense_1_acc_20: 1.0000 - dense_1_acc_21: 1.0000 - dense_1_acc_22: 1.0000 - dense_1_acc_23: 1.0000 - dense_1_acc_24: 1.0000 - dense_1_acc_25: 1.0000 - dense_1_acc_26: 1.0000 - dense_1_acc_27: 1.0000 - dense_1_acc_28: 1.0000 - dense_1_acc_29: 1.0000 - dense_1_acc_30: 0.0000e+00\n",
      "Epoch 71/100\n"
     ]
    },
    {
     "name": "stdout",
     "output_type": "stream",
     "text": [
      "60/60 [==============================] - 0s 2ms/step - loss: 7.3232 - dense_1_loss_1: 3.8270 - dense_1_loss_2: 1.5441 - dense_1_loss_3: 0.4886 - dense_1_loss_4: 0.1627 - dense_1_loss_5: 0.1101 - dense_1_loss_6: 0.0838 - dense_1_loss_7: 0.0629 - dense_1_loss_8: 0.0605 - dense_1_loss_9: 0.0544 - dense_1_loss_10: 0.0477 - dense_1_loss_11: 0.0501 - dense_1_loss_12: 0.0448 - dense_1_loss_13: 0.0415 - dense_1_loss_14: 0.0406 - dense_1_loss_15: 0.0446 - dense_1_loss_16: 0.0476 - dense_1_loss_17: 0.0442 - dense_1_loss_18: 0.0429 - dense_1_loss_19: 0.0421 - dense_1_loss_20: 0.0469 - dense_1_loss_21: 0.0463 - dense_1_loss_22: 0.0439 - dense_1_loss_23: 0.0429 - dense_1_loss_24: 0.0433 - dense_1_loss_25: 0.0481 - dense_1_loss_26: 0.0470 - dense_1_loss_27: 0.0502 - dense_1_loss_28: 0.0551 - dense_1_loss_29: 0.0591 - dense_1_loss_30: 0.0000e+00 - dense_1_acc_1: 0.0667 - dense_1_acc_2: 0.6167 - dense_1_acc_3: 0.8833 - dense_1_acc_4: 1.0000 - dense_1_acc_5: 0.9833 - dense_1_acc_6: 1.0000 - dense_1_acc_7: 1.0000 - dense_1_acc_8: 1.0000 - dense_1_acc_9: 1.0000 - dense_1_acc_10: 1.0000 - dense_1_acc_11: 1.0000 - dense_1_acc_12: 1.0000 - dense_1_acc_13: 1.0000 - dense_1_acc_14: 1.0000 - dense_1_acc_15: 1.0000 - dense_1_acc_16: 1.0000 - dense_1_acc_17: 1.0000 - dense_1_acc_18: 1.0000 - dense_1_acc_19: 1.0000 - dense_1_acc_20: 1.0000 - dense_1_acc_21: 1.0000 - dense_1_acc_22: 1.0000 - dense_1_acc_23: 1.0000 - dense_1_acc_24: 1.0000 - dense_1_acc_25: 1.0000 - dense_1_acc_26: 1.0000 - dense_1_acc_27: 1.0000 - dense_1_acc_28: 1.0000 - dense_1_acc_29: 1.0000 - dense_1_acc_30: 0.0000e+00\n",
      "Epoch 72/100\n",
      "60/60 [==============================] - 0s 2ms/step - loss: 7.2389 - dense_1_loss_1: 3.8237 - dense_1_loss_2: 1.5258 - dense_1_loss_3: 0.4777 - dense_1_loss_4: 0.1581 - dense_1_loss_5: 0.1061 - dense_1_loss_6: 0.0810 - dense_1_loss_7: 0.0608 - dense_1_loss_8: 0.0584 - dense_1_loss_9: 0.0526 - dense_1_loss_10: 0.0461 - dense_1_loss_11: 0.0485 - dense_1_loss_12: 0.0433 - dense_1_loss_13: 0.0402 - dense_1_loss_14: 0.0392 - dense_1_loss_15: 0.0430 - dense_1_loss_16: 0.0460 - dense_1_loss_17: 0.0425 - dense_1_loss_18: 0.0413 - dense_1_loss_19: 0.0408 - dense_1_loss_20: 0.0456 - dense_1_loss_21: 0.0446 - dense_1_loss_22: 0.0422 - dense_1_loss_23: 0.0417 - dense_1_loss_24: 0.0416 - dense_1_loss_25: 0.0469 - dense_1_loss_26: 0.0461 - dense_1_loss_27: 0.0482 - dense_1_loss_28: 0.0507 - dense_1_loss_29: 0.0564 - dense_1_loss_30: 0.0000e+00 - dense_1_acc_1: 0.0667 - dense_1_acc_2: 0.6167 - dense_1_acc_3: 0.8833 - dense_1_acc_4: 1.0000 - dense_1_acc_5: 0.9833 - dense_1_acc_6: 1.0000 - dense_1_acc_7: 1.0000 - dense_1_acc_8: 1.0000 - dense_1_acc_9: 1.0000 - dense_1_acc_10: 1.0000 - dense_1_acc_11: 1.0000 - dense_1_acc_12: 1.0000 - dense_1_acc_13: 1.0000 - dense_1_acc_14: 1.0000 - dense_1_acc_15: 1.0000 - dense_1_acc_16: 1.0000 - dense_1_acc_17: 1.0000 - dense_1_acc_18: 1.0000 - dense_1_acc_19: 1.0000 - dense_1_acc_20: 1.0000 - dense_1_acc_21: 1.0000 - dense_1_acc_22: 1.0000 - dense_1_acc_23: 1.0000 - dense_1_acc_24: 1.0000 - dense_1_acc_25: 1.0000 - dense_1_acc_26: 1.0000 - dense_1_acc_27: 1.0000 - dense_1_acc_28: 1.0000 - dense_1_acc_29: 1.0000 - dense_1_acc_30: 0.0000e+00\n",
      "Epoch 73/100\n",
      "60/60 [==============================] - 0s 2ms/step - loss: 7.1618 - dense_1_loss_1: 3.8201 - dense_1_loss_2: 1.5086 - dense_1_loss_3: 0.4676 - dense_1_loss_4: 0.1532 - dense_1_loss_5: 0.1029 - dense_1_loss_6: 0.0784 - dense_1_loss_7: 0.0588 - dense_1_loss_8: 0.0565 - dense_1_loss_9: 0.0508 - dense_1_loss_10: 0.0448 - dense_1_loss_11: 0.0468 - dense_1_loss_12: 0.0419 - dense_1_loss_13: 0.0389 - dense_1_loss_14: 0.0380 - dense_1_loss_15: 0.0415 - dense_1_loss_16: 0.0445 - dense_1_loss_17: 0.0411 - dense_1_loss_18: 0.0399 - dense_1_loss_19: 0.0393 - dense_1_loss_20: 0.0440 - dense_1_loss_21: 0.0430 - dense_1_loss_22: 0.0408 - dense_1_loss_23: 0.0405 - dense_1_loss_24: 0.0404 - dense_1_loss_25: 0.0453 - dense_1_loss_26: 0.0444 - dense_1_loss_27: 0.0467 - dense_1_loss_28: 0.0487 - dense_1_loss_29: 0.0546 - dense_1_loss_30: 0.0000e+00 - dense_1_acc_1: 0.0667 - dense_1_acc_2: 0.6167 - dense_1_acc_3: 0.8833 - dense_1_acc_4: 1.0000 - dense_1_acc_5: 1.0000 - dense_1_acc_6: 1.0000 - dense_1_acc_7: 1.0000 - dense_1_acc_8: 1.0000 - dense_1_acc_9: 1.0000 - dense_1_acc_10: 1.0000 - dense_1_acc_11: 1.0000 - dense_1_acc_12: 1.0000 - dense_1_acc_13: 1.0000 - dense_1_acc_14: 1.0000 - dense_1_acc_15: 1.0000 - dense_1_acc_16: 1.0000 - dense_1_acc_17: 1.0000 - dense_1_acc_18: 1.0000 - dense_1_acc_19: 1.0000 - dense_1_acc_20: 1.0000 - dense_1_acc_21: 1.0000 - dense_1_acc_22: 1.0000 - dense_1_acc_23: 1.0000 - dense_1_acc_24: 1.0000 - dense_1_acc_25: 1.0000 - dense_1_acc_26: 1.0000 - dense_1_acc_27: 1.0000 - dense_1_acc_28: 1.0000 - dense_1_acc_29: 1.0000 - dense_1_acc_30: 0.0000e+00\n",
      "Epoch 74/100\n",
      "60/60 [==============================] - 0s 2ms/step - loss: 7.0850 - dense_1_loss_1: 3.8167 - dense_1_loss_2: 1.4919 - dense_1_loss_3: 0.4568 - dense_1_loss_4: 0.1485 - dense_1_loss_5: 0.0990 - dense_1_loss_6: 0.0759 - dense_1_loss_7: 0.0567 - dense_1_loss_8: 0.0546 - dense_1_loss_9: 0.0489 - dense_1_loss_10: 0.0433 - dense_1_loss_11: 0.0452 - dense_1_loss_12: 0.0405 - dense_1_loss_13: 0.0376 - dense_1_loss_14: 0.0367 - dense_1_loss_15: 0.0401 - dense_1_loss_16: 0.0430 - dense_1_loss_17: 0.0398 - dense_1_loss_18: 0.0386 - dense_1_loss_19: 0.0377 - dense_1_loss_20: 0.0425 - dense_1_loss_21: 0.0416 - dense_1_loss_22: 0.0395 - dense_1_loss_23: 0.0390 - dense_1_loss_24: 0.0391 - dense_1_loss_25: 0.0434 - dense_1_loss_26: 0.0423 - dense_1_loss_27: 0.0453 - dense_1_loss_28: 0.0484 - dense_1_loss_29: 0.0523 - dense_1_loss_30: 0.0000e+00 - dense_1_acc_1: 0.0667 - dense_1_acc_2: 0.6167 - dense_1_acc_3: 0.8833 - dense_1_acc_4: 1.0000 - dense_1_acc_5: 1.0000 - dense_1_acc_6: 1.0000 - dense_1_acc_7: 1.0000 - dense_1_acc_8: 1.0000 - dense_1_acc_9: 1.0000 - dense_1_acc_10: 1.0000 - dense_1_acc_11: 1.0000 - dense_1_acc_12: 1.0000 - dense_1_acc_13: 1.0000 - dense_1_acc_14: 1.0000 - dense_1_acc_15: 1.0000 - dense_1_acc_16: 1.0000 - dense_1_acc_17: 1.0000 - dense_1_acc_18: 1.0000 - dense_1_acc_19: 1.0000 - dense_1_acc_20: 1.0000 - dense_1_acc_21: 1.0000 - dense_1_acc_22: 1.0000 - dense_1_acc_23: 1.0000 - dense_1_acc_24: 1.0000 - dense_1_acc_25: 1.0000 - dense_1_acc_26: 1.0000 - dense_1_acc_27: 1.0000 - dense_1_acc_28: 1.0000 - dense_1_acc_29: 1.0000 - dense_1_acc_30: 0.0000e+00\n",
      "Epoch 75/100\n",
      "60/60 [==============================] - 0s 2ms/step - loss: 7.0147 - dense_1_loss_1: 3.8136 - dense_1_loss_2: 1.4752 - dense_1_loss_3: 0.4471 - dense_1_loss_4: 0.1446 - dense_1_loss_5: 0.0956 - dense_1_loss_6: 0.0735 - dense_1_loss_7: 0.0550 - dense_1_loss_8: 0.0527 - dense_1_loss_9: 0.0474 - dense_1_loss_10: 0.0420 - dense_1_loss_11: 0.0438 - dense_1_loss_12: 0.0392 - dense_1_loss_13: 0.0363 - dense_1_loss_14: 0.0356 - dense_1_loss_15: 0.0388 - dense_1_loss_16: 0.0416 - dense_1_loss_17: 0.0384 - dense_1_loss_18: 0.0375 - dense_1_loss_19: 0.0365 - dense_1_loss_20: 0.0411 - dense_1_loss_21: 0.0403 - dense_1_loss_22: 0.0383 - dense_1_loss_23: 0.0377 - dense_1_loss_24: 0.0379 - dense_1_loss_25: 0.0422 - dense_1_loss_26: 0.0410 - dense_1_loss_27: 0.0439 - dense_1_loss_28: 0.0469 - dense_1_loss_29: 0.0507 - dense_1_loss_30: 0.0000e+00 - dense_1_acc_1: 0.0667 - dense_1_acc_2: 0.6167 - dense_1_acc_3: 0.8833 - dense_1_acc_4: 1.0000 - dense_1_acc_5: 1.0000 - dense_1_acc_6: 1.0000 - dense_1_acc_7: 1.0000 - dense_1_acc_8: 1.0000 - dense_1_acc_9: 1.0000 - dense_1_acc_10: 1.0000 - dense_1_acc_11: 1.0000 - dense_1_acc_12: 1.0000 - dense_1_acc_13: 1.0000 - dense_1_acc_14: 1.0000 - dense_1_acc_15: 1.0000 - dense_1_acc_16: 1.0000 - dense_1_acc_17: 1.0000 - dense_1_acc_18: 1.0000 - dense_1_acc_19: 1.0000 - dense_1_acc_20: 1.0000 - dense_1_acc_21: 1.0000 - dense_1_acc_22: 1.0000 - dense_1_acc_23: 1.0000 - dense_1_acc_24: 1.0000 - dense_1_acc_25: 1.0000 - dense_1_acc_26: 1.0000 - dense_1_acc_27: 1.0000 - dense_1_acc_28: 1.0000 - dense_1_acc_29: 1.0000 - dense_1_acc_30: 0.0000e+00\n",
      "Epoch 76/100\n",
      "60/60 [==============================] - 0s 2ms/step - loss: 6.9453 - dense_1_loss_1: 3.8102 - dense_1_loss_2: 1.4588 - dense_1_loss_3: 0.4374 - dense_1_loss_4: 0.1405 - dense_1_loss_5: 0.0924 - dense_1_loss_6: 0.0712 - dense_1_loss_7: 0.0534 - dense_1_loss_8: 0.0510 - dense_1_loss_9: 0.0460 - dense_1_loss_10: 0.0408 - dense_1_loss_11: 0.0426 - dense_1_loss_12: 0.0380 - dense_1_loss_13: 0.0351 - dense_1_loss_14: 0.0345 - dense_1_loss_15: 0.0377 - dense_1_loss_16: 0.0403 - dense_1_loss_17: 0.0372 - dense_1_loss_18: 0.0363 - dense_1_loss_19: 0.0354 - dense_1_loss_20: 0.0399 - dense_1_loss_21: 0.0391 - dense_1_loss_22: 0.0371 - dense_1_loss_23: 0.0367 - dense_1_loss_24: 0.0366 - dense_1_loss_25: 0.0413 - dense_1_loss_26: 0.0402 - dense_1_loss_27: 0.0426 - dense_1_loss_28: 0.0440 - dense_1_loss_29: 0.0490 - dense_1_loss_30: 0.0000e+00 - dense_1_acc_1: 0.0667 - dense_1_acc_2: 0.6333 - dense_1_acc_3: 0.9000 - dense_1_acc_4: 1.0000 - dense_1_acc_5: 1.0000 - dense_1_acc_6: 1.0000 - dense_1_acc_7: 1.0000 - dense_1_acc_8: 1.0000 - dense_1_acc_9: 1.0000 - dense_1_acc_10: 1.0000 - dense_1_acc_11: 1.0000 - dense_1_acc_12: 1.0000 - dense_1_acc_13: 1.0000 - dense_1_acc_14: 1.0000 - dense_1_acc_15: 1.0000 - dense_1_acc_16: 1.0000 - dense_1_acc_17: 1.0000 - dense_1_acc_18: 1.0000 - dense_1_acc_19: 1.0000 - dense_1_acc_20: 1.0000 - dense_1_acc_21: 1.0000 - dense_1_acc_22: 1.0000 - dense_1_acc_23: 1.0000 - dense_1_acc_24: 1.0000 - dense_1_acc_25: 1.0000 - dense_1_acc_26: 1.0000 - dense_1_acc_27: 1.0000 - dense_1_acc_28: 1.0000 - dense_1_acc_29: 1.0000 - dense_1_acc_30: 0.0000e+00\n",
      "Epoch 77/100\n",
      "60/60 [==============================] - 0s 2ms/step - loss: 6.8814 - dense_1_loss_1: 3.8070 - dense_1_loss_2: 1.4435 - dense_1_loss_3: 0.4287 - dense_1_loss_4: 0.1369 - dense_1_loss_5: 0.0899 - dense_1_loss_6: 0.0692 - dense_1_loss_7: 0.0518 - dense_1_loss_8: 0.0496 - dense_1_loss_9: 0.0448 - dense_1_loss_10: 0.0394 - dense_1_loss_11: 0.0414 - dense_1_loss_12: 0.0369 - dense_1_loss_13: 0.0341 - dense_1_loss_14: 0.0334 - dense_1_loss_15: 0.0366 - dense_1_loss_16: 0.0391 - dense_1_loss_17: 0.0360 - dense_1_loss_18: 0.0352 - dense_1_loss_19: 0.0344 - dense_1_loss_20: 0.0386 - dense_1_loss_21: 0.0379 - dense_1_loss_22: 0.0359 - dense_1_loss_23: 0.0355 - dense_1_loss_24: 0.0355 - dense_1_loss_25: 0.0398 - dense_1_loss_26: 0.0385 - dense_1_loss_27: 0.0412 - dense_1_loss_28: 0.0431 - dense_1_loss_29: 0.0475 - dense_1_loss_30: 0.0000e+00 - dense_1_acc_1: 0.0667 - dense_1_acc_2: 0.6333 - dense_1_acc_3: 0.9000 - dense_1_acc_4: 1.0000 - dense_1_acc_5: 1.0000 - dense_1_acc_6: 1.0000 - dense_1_acc_7: 1.0000 - dense_1_acc_8: 1.0000 - dense_1_acc_9: 1.0000 - dense_1_acc_10: 1.0000 - dense_1_acc_11: 1.0000 - dense_1_acc_12: 1.0000 - dense_1_acc_13: 1.0000 - dense_1_acc_14: 1.0000 - dense_1_acc_15: 1.0000 - dense_1_acc_16: 1.0000 - dense_1_acc_17: 1.0000 - dense_1_acc_18: 1.0000 - dense_1_acc_19: 1.0000 - dense_1_acc_20: 1.0000 - dense_1_acc_21: 1.0000 - dense_1_acc_22: 1.0000 - dense_1_acc_23: 1.0000 - dense_1_acc_24: 1.0000 - dense_1_acc_25: 1.0000 - dense_1_acc_26: 1.0000 - dense_1_acc_27: 1.0000 - dense_1_acc_28: 1.0000 - dense_1_acc_29: 1.0000 - dense_1_acc_30: 0.0000e+00\n",
      "Epoch 78/100\n",
      "60/60 [==============================] - 0s 2ms/step - loss: 6.8187 - dense_1_loss_1: 3.8036 - dense_1_loss_2: 1.4282 - dense_1_loss_3: 0.4204 - dense_1_loss_4: 0.1333 - dense_1_loss_5: 0.0870 - dense_1_loss_6: 0.0671 - dense_1_loss_7: 0.0501 - dense_1_loss_8: 0.0482 - dense_1_loss_9: 0.0435 - dense_1_loss_10: 0.0383 - dense_1_loss_11: 0.0400 - dense_1_loss_12: 0.0358 - dense_1_loss_13: 0.0330 - dense_1_loss_14: 0.0323 - dense_1_loss_15: 0.0354 - dense_1_loss_16: 0.0379 - dense_1_loss_17: 0.0350 - dense_1_loss_18: 0.0340 - dense_1_loss_19: 0.0334 - dense_1_loss_20: 0.0373 - dense_1_loss_21: 0.0369 - dense_1_loss_22: 0.0348 - dense_1_loss_23: 0.0344 - dense_1_loss_24: 0.0344 - dense_1_loss_25: 0.0385 - dense_1_loss_26: 0.0373 - dense_1_loss_27: 0.0401 - dense_1_loss_28: 0.0424 - dense_1_loss_29: 0.0460 - dense_1_loss_30: 0.0000e+00 - dense_1_acc_1: 0.0667 - dense_1_acc_2: 0.6333 - dense_1_acc_3: 0.9000 - dense_1_acc_4: 1.0000 - dense_1_acc_5: 1.0000 - dense_1_acc_6: 1.0000 - dense_1_acc_7: 1.0000 - dense_1_acc_8: 1.0000 - dense_1_acc_9: 1.0000 - dense_1_acc_10: 1.0000 - dense_1_acc_11: 1.0000 - dense_1_acc_12: 1.0000 - dense_1_acc_13: 1.0000 - dense_1_acc_14: 1.0000 - dense_1_acc_15: 1.0000 - dense_1_acc_16: 1.0000 - dense_1_acc_17: 1.0000 - dense_1_acc_18: 1.0000 - dense_1_acc_19: 1.0000 - dense_1_acc_20: 1.0000 - dense_1_acc_21: 1.0000 - dense_1_acc_22: 1.0000 - dense_1_acc_23: 1.0000 - dense_1_acc_24: 1.0000 - dense_1_acc_25: 1.0000 - dense_1_acc_26: 1.0000 - dense_1_acc_27: 1.0000 - dense_1_acc_28: 1.0000 - dense_1_acc_29: 1.0000 - dense_1_acc_30: 0.0000e+00\n",
      "Epoch 79/100\n",
      "60/60 [==============================] - 0s 2ms/step - loss: 6.7568 - dense_1_loss_1: 3.8007 - dense_1_loss_2: 1.4135 - dense_1_loss_3: 0.4103 - dense_1_loss_4: 0.1298 - dense_1_loss_5: 0.0842 - dense_1_loss_6: 0.0651 - dense_1_loss_7: 0.0486 - dense_1_loss_8: 0.0468 - dense_1_loss_9: 0.0421 - dense_1_loss_10: 0.0372 - dense_1_loss_11: 0.0388 - dense_1_loss_12: 0.0348 - dense_1_loss_13: 0.0320 - dense_1_loss_14: 0.0313 - dense_1_loss_15: 0.0345 - dense_1_loss_16: 0.0369 - dense_1_loss_17: 0.0339 - dense_1_loss_18: 0.0331 - dense_1_loss_19: 0.0324 - dense_1_loss_20: 0.0363 - dense_1_loss_21: 0.0358 - dense_1_loss_22: 0.0338 - dense_1_loss_23: 0.0334 - dense_1_loss_24: 0.0334 - dense_1_loss_25: 0.0374 - dense_1_loss_26: 0.0362 - dense_1_loss_27: 0.0389 - dense_1_loss_28: 0.0410 - dense_1_loss_29: 0.0447 - dense_1_loss_30: 0.0000e+00 - dense_1_acc_1: 0.0667 - dense_1_acc_2: 0.6333 - dense_1_acc_3: 0.9000 - dense_1_acc_4: 1.0000 - dense_1_acc_5: 1.0000 - dense_1_acc_6: 1.0000 - dense_1_acc_7: 1.0000 - dense_1_acc_8: 1.0000 - dense_1_acc_9: 1.0000 - dense_1_acc_10: 1.0000 - dense_1_acc_11: 1.0000 - dense_1_acc_12: 1.0000 - dense_1_acc_13: 1.0000 - dense_1_acc_14: 1.0000 - dense_1_acc_15: 1.0000 - dense_1_acc_16: 1.0000 - dense_1_acc_17: 1.0000 - dense_1_acc_18: 1.0000 - dense_1_acc_19: 1.0000 - dense_1_acc_20: 1.0000 - dense_1_acc_21: 1.0000 - dense_1_acc_22: 1.0000 - dense_1_acc_23: 1.0000 - dense_1_acc_24: 1.0000 - dense_1_acc_25: 1.0000 - dense_1_acc_26: 1.0000 - dense_1_acc_27: 1.0000 - dense_1_acc_28: 1.0000 - dense_1_acc_29: 1.0000 - dense_1_acc_30: 0.0000e+00\n",
      "Epoch 80/100\n",
      "60/60 [==============================] - 0s 2ms/step - loss: 6.7004 - dense_1_loss_1: 3.7974 - dense_1_loss_2: 1.3986 - dense_1_loss_3: 0.4032 - dense_1_loss_4: 0.1268 - dense_1_loss_5: 0.0820 - dense_1_loss_6: 0.0632 - dense_1_loss_7: 0.0474 - dense_1_loss_8: 0.0457 - dense_1_loss_9: 0.0409 - dense_1_loss_10: 0.0362 - dense_1_loss_11: 0.0378 - dense_1_loss_12: 0.0339 - dense_1_loss_13: 0.0311 - dense_1_loss_14: 0.0304 - dense_1_loss_15: 0.0336 - dense_1_loss_16: 0.0359 - dense_1_loss_17: 0.0328 - dense_1_loss_18: 0.0322 - dense_1_loss_19: 0.0314 - dense_1_loss_20: 0.0352 - dense_1_loss_21: 0.0348 - dense_1_loss_22: 0.0329 - dense_1_loss_23: 0.0326 - dense_1_loss_24: 0.0325 - dense_1_loss_25: 0.0366 - dense_1_loss_26: 0.0355 - dense_1_loss_27: 0.0377 - dense_1_loss_28: 0.0391 - dense_1_loss_29: 0.0433 - dense_1_loss_30: 0.0000e+00 - dense_1_acc_1: 0.0667 - dense_1_acc_2: 0.6333 - dense_1_acc_3: 0.9167 - dense_1_acc_4: 1.0000 - dense_1_acc_5: 1.0000 - dense_1_acc_6: 1.0000 - dense_1_acc_7: 1.0000 - dense_1_acc_8: 1.0000 - dense_1_acc_9: 1.0000 - dense_1_acc_10: 1.0000 - dense_1_acc_11: 1.0000 - dense_1_acc_12: 1.0000 - dense_1_acc_13: 1.0000 - dense_1_acc_14: 1.0000 - dense_1_acc_15: 1.0000 - dense_1_acc_16: 1.0000 - dense_1_acc_17: 1.0000 - dense_1_acc_18: 1.0000 - dense_1_acc_19: 1.0000 - dense_1_acc_20: 1.0000 - dense_1_acc_21: 1.0000 - dense_1_acc_22: 1.0000 - dense_1_acc_23: 1.0000 - dense_1_acc_24: 1.0000 - dense_1_acc_25: 1.0000 - dense_1_acc_26: 1.0000 - dense_1_acc_27: 1.0000 - dense_1_acc_28: 1.0000 - dense_1_acc_29: 1.0000 - dense_1_acc_30: 0.0000e+00\n",
      "Epoch 81/100\n"
     ]
    },
    {
     "name": "stdout",
     "output_type": "stream",
     "text": [
      "60/60 [==============================] - 0s 2ms/step - loss: 6.6445 - dense_1_loss_1: 3.7943 - dense_1_loss_2: 1.3845 - dense_1_loss_3: 0.3946 - dense_1_loss_4: 0.1239 - dense_1_loss_5: 0.0794 - dense_1_loss_6: 0.0615 - dense_1_loss_7: 0.0461 - dense_1_loss_8: 0.0443 - dense_1_loss_9: 0.0397 - dense_1_loss_10: 0.0352 - dense_1_loss_11: 0.0368 - dense_1_loss_12: 0.0329 - dense_1_loss_13: 0.0303 - dense_1_loss_14: 0.0296 - dense_1_loss_15: 0.0327 - dense_1_loss_16: 0.0348 - dense_1_loss_17: 0.0319 - dense_1_loss_18: 0.0314 - dense_1_loss_19: 0.0304 - dense_1_loss_20: 0.0342 - dense_1_loss_21: 0.0339 - dense_1_loss_22: 0.0320 - dense_1_loss_23: 0.0316 - dense_1_loss_24: 0.0316 - dense_1_loss_25: 0.0354 - dense_1_loss_26: 0.0343 - dense_1_loss_27: 0.0368 - dense_1_loss_28: 0.0386 - dense_1_loss_29: 0.0421 - dense_1_loss_30: 0.0000e+00 - dense_1_acc_1: 0.0667 - dense_1_acc_2: 0.6333 - dense_1_acc_3: 0.9167 - dense_1_acc_4: 1.0000 - dense_1_acc_5: 1.0000 - dense_1_acc_6: 1.0000 - dense_1_acc_7: 1.0000 - dense_1_acc_8: 1.0000 - dense_1_acc_9: 1.0000 - dense_1_acc_10: 1.0000 - dense_1_acc_11: 1.0000 - dense_1_acc_12: 1.0000 - dense_1_acc_13: 1.0000 - dense_1_acc_14: 1.0000 - dense_1_acc_15: 1.0000 - dense_1_acc_16: 1.0000 - dense_1_acc_17: 1.0000 - dense_1_acc_18: 1.0000 - dense_1_acc_19: 1.0000 - dense_1_acc_20: 1.0000 - dense_1_acc_21: 1.0000 - dense_1_acc_22: 1.0000 - dense_1_acc_23: 1.0000 - dense_1_acc_24: 1.0000 - dense_1_acc_25: 1.0000 - dense_1_acc_26: 1.0000 - dense_1_acc_27: 1.0000 - dense_1_acc_28: 1.0000 - dense_1_acc_29: 1.0000 - dense_1_acc_30: 0.0000e+00\n",
      "Epoch 82/100\n",
      "60/60 [==============================] - 0s 2ms/step - loss: 6.5929 - dense_1_loss_1: 3.7911 - dense_1_loss_2: 1.3708 - dense_1_loss_3: 0.3873 - dense_1_loss_4: 0.1210 - dense_1_loss_5: 0.0774 - dense_1_loss_6: 0.0600 - dense_1_loss_7: 0.0449 - dense_1_loss_8: 0.0432 - dense_1_loss_9: 0.0387 - dense_1_loss_10: 0.0343 - dense_1_loss_11: 0.0357 - dense_1_loss_12: 0.0320 - dense_1_loss_13: 0.0295 - dense_1_loss_14: 0.0288 - dense_1_loss_15: 0.0319 - dense_1_loss_16: 0.0339 - dense_1_loss_17: 0.0312 - dense_1_loss_18: 0.0305 - dense_1_loss_19: 0.0296 - dense_1_loss_20: 0.0332 - dense_1_loss_21: 0.0329 - dense_1_loss_22: 0.0311 - dense_1_loss_23: 0.0307 - dense_1_loss_24: 0.0308 - dense_1_loss_25: 0.0341 - dense_1_loss_26: 0.0327 - dense_1_loss_27: 0.0360 - dense_1_loss_28: 0.0386 - dense_1_loss_29: 0.0409 - dense_1_loss_30: 0.0000e+00 - dense_1_acc_1: 0.0667 - dense_1_acc_2: 0.6333 - dense_1_acc_3: 0.9167 - dense_1_acc_4: 1.0000 - dense_1_acc_5: 1.0000 - dense_1_acc_6: 1.0000 - dense_1_acc_7: 1.0000 - dense_1_acc_8: 1.0000 - dense_1_acc_9: 1.0000 - dense_1_acc_10: 1.0000 - dense_1_acc_11: 1.0000 - dense_1_acc_12: 1.0000 - dense_1_acc_13: 1.0000 - dense_1_acc_14: 1.0000 - dense_1_acc_15: 1.0000 - dense_1_acc_16: 1.0000 - dense_1_acc_17: 1.0000 - dense_1_acc_18: 1.0000 - dense_1_acc_19: 1.0000 - dense_1_acc_20: 1.0000 - dense_1_acc_21: 1.0000 - dense_1_acc_22: 1.0000 - dense_1_acc_23: 1.0000 - dense_1_acc_24: 1.0000 - dense_1_acc_25: 1.0000 - dense_1_acc_26: 1.0000 - dense_1_acc_27: 1.0000 - dense_1_acc_28: 1.0000 - dense_1_acc_29: 1.0000 - dense_1_acc_30: 0.0000e+00\n",
      "Epoch 83/100\n",
      "60/60 [==============================] - 0s 2ms/step - loss: 6.5388 - dense_1_loss_1: 3.7880 - dense_1_loss_2: 1.3565 - dense_1_loss_3: 0.3794 - dense_1_loss_4: 0.1180 - dense_1_loss_5: 0.0752 - dense_1_loss_6: 0.0583 - dense_1_loss_7: 0.0437 - dense_1_loss_8: 0.0418 - dense_1_loss_9: 0.0378 - dense_1_loss_10: 0.0333 - dense_1_loss_11: 0.0349 - dense_1_loss_12: 0.0312 - dense_1_loss_13: 0.0287 - dense_1_loss_14: 0.0280 - dense_1_loss_15: 0.0309 - dense_1_loss_16: 0.0330 - dense_1_loss_17: 0.0303 - dense_1_loss_18: 0.0297 - dense_1_loss_19: 0.0289 - dense_1_loss_20: 0.0324 - dense_1_loss_21: 0.0320 - dense_1_loss_22: 0.0303 - dense_1_loss_23: 0.0300 - dense_1_loss_24: 0.0298 - dense_1_loss_25: 0.0335 - dense_1_loss_26: 0.0323 - dense_1_loss_27: 0.0349 - dense_1_loss_28: 0.0363 - dense_1_loss_29: 0.0396 - dense_1_loss_30: 0.0000e+00 - dense_1_acc_1: 0.0667 - dense_1_acc_2: 0.6333 - dense_1_acc_3: 0.9167 - dense_1_acc_4: 1.0000 - dense_1_acc_5: 1.0000 - dense_1_acc_6: 1.0000 - dense_1_acc_7: 1.0000 - dense_1_acc_8: 1.0000 - dense_1_acc_9: 1.0000 - dense_1_acc_10: 1.0000 - dense_1_acc_11: 1.0000 - dense_1_acc_12: 1.0000 - dense_1_acc_13: 1.0000 - dense_1_acc_14: 1.0000 - dense_1_acc_15: 1.0000 - dense_1_acc_16: 1.0000 - dense_1_acc_17: 1.0000 - dense_1_acc_18: 1.0000 - dense_1_acc_19: 1.0000 - dense_1_acc_20: 1.0000 - dense_1_acc_21: 1.0000 - dense_1_acc_22: 1.0000 - dense_1_acc_23: 1.0000 - dense_1_acc_24: 1.0000 - dense_1_acc_25: 1.0000 - dense_1_acc_26: 1.0000 - dense_1_acc_27: 1.0000 - dense_1_acc_28: 1.0000 - dense_1_acc_29: 1.0000 - dense_1_acc_30: 0.0000e+00\n",
      "Epoch 84/100\n",
      "60/60 [==============================] - 0s 2ms/step - loss: 6.4901 - dense_1_loss_1: 3.7850 - dense_1_loss_2: 1.3430 - dense_1_loss_3: 0.3726 - dense_1_loss_4: 0.1154 - dense_1_loss_5: 0.0732 - dense_1_loss_6: 0.0568 - dense_1_loss_7: 0.0426 - dense_1_loss_8: 0.0409 - dense_1_loss_9: 0.0368 - dense_1_loss_10: 0.0326 - dense_1_loss_11: 0.0340 - dense_1_loss_12: 0.0304 - dense_1_loss_13: 0.0279 - dense_1_loss_14: 0.0273 - dense_1_loss_15: 0.0302 - dense_1_loss_16: 0.0322 - dense_1_loss_17: 0.0294 - dense_1_loss_18: 0.0289 - dense_1_loss_19: 0.0282 - dense_1_loss_20: 0.0315 - dense_1_loss_21: 0.0311 - dense_1_loss_22: 0.0295 - dense_1_loss_23: 0.0293 - dense_1_loss_24: 0.0291 - dense_1_loss_25: 0.0328 - dense_1_loss_26: 0.0319 - dense_1_loss_27: 0.0338 - dense_1_loss_28: 0.0350 - dense_1_loss_29: 0.0387 - dense_1_loss_30: 0.0000e+00 - dense_1_acc_1: 0.0667 - dense_1_acc_2: 0.6333 - dense_1_acc_3: 0.9167 - dense_1_acc_4: 1.0000 - dense_1_acc_5: 1.0000 - dense_1_acc_6: 1.0000 - dense_1_acc_7: 1.0000 - dense_1_acc_8: 1.0000 - dense_1_acc_9: 1.0000 - dense_1_acc_10: 1.0000 - dense_1_acc_11: 1.0000 - dense_1_acc_12: 1.0000 - dense_1_acc_13: 1.0000 - dense_1_acc_14: 1.0000 - dense_1_acc_15: 1.0000 - dense_1_acc_16: 1.0000 - dense_1_acc_17: 1.0000 - dense_1_acc_18: 1.0000 - dense_1_acc_19: 1.0000 - dense_1_acc_20: 1.0000 - dense_1_acc_21: 1.0000 - dense_1_acc_22: 1.0000 - dense_1_acc_23: 1.0000 - dense_1_acc_24: 1.0000 - dense_1_acc_25: 1.0000 - dense_1_acc_26: 1.0000 - dense_1_acc_27: 1.0000 - dense_1_acc_28: 1.0000 - dense_1_acc_29: 1.0000 - dense_1_acc_30: 0.0000e+00\n",
      "Epoch 85/100\n",
      "60/60 [==============================] - 0s 2ms/step - loss: 6.4420 - dense_1_loss_1: 3.7818 - dense_1_loss_2: 1.3307 - dense_1_loss_3: 0.3650 - dense_1_loss_4: 0.1128 - dense_1_loss_5: 0.0713 - dense_1_loss_6: 0.0554 - dense_1_loss_7: 0.0415 - dense_1_loss_8: 0.0399 - dense_1_loss_9: 0.0358 - dense_1_loss_10: 0.0318 - dense_1_loss_11: 0.0330 - dense_1_loss_12: 0.0297 - dense_1_loss_13: 0.0272 - dense_1_loss_14: 0.0265 - dense_1_loss_15: 0.0294 - dense_1_loss_16: 0.0314 - dense_1_loss_17: 0.0287 - dense_1_loss_18: 0.0282 - dense_1_loss_19: 0.0274 - dense_1_loss_20: 0.0307 - dense_1_loss_21: 0.0304 - dense_1_loss_22: 0.0288 - dense_1_loss_23: 0.0285 - dense_1_loss_24: 0.0283 - dense_1_loss_25: 0.0318 - dense_1_loss_26: 0.0309 - dense_1_loss_27: 0.0328 - dense_1_loss_28: 0.0345 - dense_1_loss_29: 0.0377 - dense_1_loss_30: 0.0000e+00 - dense_1_acc_1: 0.0667 - dense_1_acc_2: 0.6333 - dense_1_acc_3: 0.9167 - dense_1_acc_4: 1.0000 - dense_1_acc_5: 1.0000 - dense_1_acc_6: 1.0000 - dense_1_acc_7: 1.0000 - dense_1_acc_8: 1.0000 - dense_1_acc_9: 1.0000 - dense_1_acc_10: 1.0000 - dense_1_acc_11: 1.0000 - dense_1_acc_12: 1.0000 - dense_1_acc_13: 1.0000 - dense_1_acc_14: 1.0000 - dense_1_acc_15: 1.0000 - dense_1_acc_16: 1.0000 - dense_1_acc_17: 1.0000 - dense_1_acc_18: 1.0000 - dense_1_acc_19: 1.0000 - dense_1_acc_20: 1.0000 - dense_1_acc_21: 1.0000 - dense_1_acc_22: 1.0000 - dense_1_acc_23: 1.0000 - dense_1_acc_24: 1.0000 - dense_1_acc_25: 1.0000 - dense_1_acc_26: 1.0000 - dense_1_acc_27: 1.0000 - dense_1_acc_28: 1.0000 - dense_1_acc_29: 1.0000 - dense_1_acc_30: 0.0000e+00\n",
      "Epoch 86/100\n",
      "60/60 [==============================] - 0s 2ms/step - loss: 6.3965 - dense_1_loss_1: 3.7791 - dense_1_loss_2: 1.3175 - dense_1_loss_3: 0.3584 - dense_1_loss_4: 0.1105 - dense_1_loss_5: 0.0696 - dense_1_loss_6: 0.0541 - dense_1_loss_7: 0.0405 - dense_1_loss_8: 0.0390 - dense_1_loss_9: 0.0350 - dense_1_loss_10: 0.0311 - dense_1_loss_11: 0.0322 - dense_1_loss_12: 0.0290 - dense_1_loss_13: 0.0265 - dense_1_loss_14: 0.0258 - dense_1_loss_15: 0.0287 - dense_1_loss_16: 0.0306 - dense_1_loss_17: 0.0280 - dense_1_loss_18: 0.0275 - dense_1_loss_19: 0.0267 - dense_1_loss_20: 0.0298 - dense_1_loss_21: 0.0297 - dense_1_loss_22: 0.0281 - dense_1_loss_23: 0.0277 - dense_1_loss_24: 0.0276 - dense_1_loss_25: 0.0309 - dense_1_loss_26: 0.0298 - dense_1_loss_27: 0.0320 - dense_1_loss_28: 0.0343 - dense_1_loss_29: 0.0368 - dense_1_loss_30: 0.0000e+00 - dense_1_acc_1: 0.0667 - dense_1_acc_2: 0.6333 - dense_1_acc_3: 0.9167 - dense_1_acc_4: 1.0000 - dense_1_acc_5: 1.0000 - dense_1_acc_6: 1.0000 - dense_1_acc_7: 1.0000 - dense_1_acc_8: 1.0000 - dense_1_acc_9: 1.0000 - dense_1_acc_10: 1.0000 - dense_1_acc_11: 1.0000 - dense_1_acc_12: 1.0000 - dense_1_acc_13: 1.0000 - dense_1_acc_14: 1.0000 - dense_1_acc_15: 1.0000 - dense_1_acc_16: 1.0000 - dense_1_acc_17: 1.0000 - dense_1_acc_18: 1.0000 - dense_1_acc_19: 1.0000 - dense_1_acc_20: 1.0000 - dense_1_acc_21: 1.0000 - dense_1_acc_22: 1.0000 - dense_1_acc_23: 1.0000 - dense_1_acc_24: 1.0000 - dense_1_acc_25: 1.0000 - dense_1_acc_26: 1.0000 - dense_1_acc_27: 1.0000 - dense_1_acc_28: 1.0000 - dense_1_acc_29: 1.0000 - dense_1_acc_30: 0.0000e+00\n",
      "Epoch 87/100\n",
      "60/60 [==============================] - 0s 2ms/step - loss: 6.3527 - dense_1_loss_1: 3.7757 - dense_1_loss_2: 1.3059 - dense_1_loss_3: 0.3522 - dense_1_loss_4: 0.1082 - dense_1_loss_5: 0.0681 - dense_1_loss_6: 0.0528 - dense_1_loss_7: 0.0396 - dense_1_loss_8: 0.0381 - dense_1_loss_9: 0.0342 - dense_1_loss_10: 0.0304 - dense_1_loss_11: 0.0315 - dense_1_loss_12: 0.0283 - dense_1_loss_13: 0.0258 - dense_1_loss_14: 0.0252 - dense_1_loss_15: 0.0280 - dense_1_loss_16: 0.0298 - dense_1_loss_17: 0.0273 - dense_1_loss_18: 0.0268 - dense_1_loss_19: 0.0261 - dense_1_loss_20: 0.0291 - dense_1_loss_21: 0.0289 - dense_1_loss_22: 0.0274 - dense_1_loss_23: 0.0271 - dense_1_loss_24: 0.0270 - dense_1_loss_25: 0.0302 - dense_1_loss_26: 0.0292 - dense_1_loss_27: 0.0311 - dense_1_loss_28: 0.0332 - dense_1_loss_29: 0.0357 - dense_1_loss_30: 0.0000e+00 - dense_1_acc_1: 0.0667 - dense_1_acc_2: 0.6333 - dense_1_acc_3: 0.9167 - dense_1_acc_4: 1.0000 - dense_1_acc_5: 1.0000 - dense_1_acc_6: 1.0000 - dense_1_acc_7: 1.0000 - dense_1_acc_8: 1.0000 - dense_1_acc_9: 1.0000 - dense_1_acc_10: 1.0000 - dense_1_acc_11: 1.0000 - dense_1_acc_12: 1.0000 - dense_1_acc_13: 1.0000 - dense_1_acc_14: 1.0000 - dense_1_acc_15: 1.0000 - dense_1_acc_16: 1.0000 - dense_1_acc_17: 1.0000 - dense_1_acc_18: 1.0000 - dense_1_acc_19: 1.0000 - dense_1_acc_20: 1.0000 - dense_1_acc_21: 1.0000 - dense_1_acc_22: 1.0000 - dense_1_acc_23: 1.0000 - dense_1_acc_24: 1.0000 - dense_1_acc_25: 1.0000 - dense_1_acc_26: 1.0000 - dense_1_acc_27: 1.0000 - dense_1_acc_28: 1.0000 - dense_1_acc_29: 1.0000 - dense_1_acc_30: 0.0000e+00\n",
      "Epoch 88/100\n",
      "60/60 [==============================] - 0s 2ms/step - loss: 6.3089 - dense_1_loss_1: 3.7727 - dense_1_loss_2: 1.2936 - dense_1_loss_3: 0.3455 - dense_1_loss_4: 0.1060 - dense_1_loss_5: 0.0663 - dense_1_loss_6: 0.0515 - dense_1_loss_7: 0.0387 - dense_1_loss_8: 0.0372 - dense_1_loss_9: 0.0333 - dense_1_loss_10: 0.0297 - dense_1_loss_11: 0.0308 - dense_1_loss_12: 0.0276 - dense_1_loss_13: 0.0252 - dense_1_loss_14: 0.0247 - dense_1_loss_15: 0.0273 - dense_1_loss_16: 0.0291 - dense_1_loss_17: 0.0266 - dense_1_loss_18: 0.0262 - dense_1_loss_19: 0.0254 - dense_1_loss_20: 0.0285 - dense_1_loss_21: 0.0282 - dense_1_loss_22: 0.0267 - dense_1_loss_23: 0.0265 - dense_1_loss_24: 0.0264 - dense_1_loss_25: 0.0296 - dense_1_loss_26: 0.0286 - dense_1_loss_27: 0.0304 - dense_1_loss_28: 0.0320 - dense_1_loss_29: 0.0349 - dense_1_loss_30: 0.0000e+00 - dense_1_acc_1: 0.0667 - dense_1_acc_2: 0.6333 - dense_1_acc_3: 0.9167 - dense_1_acc_4: 1.0000 - dense_1_acc_5: 1.0000 - dense_1_acc_6: 1.0000 - dense_1_acc_7: 1.0000 - dense_1_acc_8: 1.0000 - dense_1_acc_9: 1.0000 - dense_1_acc_10: 1.0000 - dense_1_acc_11: 1.0000 - dense_1_acc_12: 1.0000 - dense_1_acc_13: 1.0000 - dense_1_acc_14: 1.0000 - dense_1_acc_15: 1.0000 - dense_1_acc_16: 1.0000 - dense_1_acc_17: 1.0000 - dense_1_acc_18: 1.0000 - dense_1_acc_19: 1.0000 - dense_1_acc_20: 1.0000 - dense_1_acc_21: 1.0000 - dense_1_acc_22: 1.0000 - dense_1_acc_23: 1.0000 - dense_1_acc_24: 1.0000 - dense_1_acc_25: 1.0000 - dense_1_acc_26: 1.0000 - dense_1_acc_27: 1.0000 - dense_1_acc_28: 1.0000 - dense_1_acc_29: 1.0000 - dense_1_acc_30: 0.0000e+00\n",
      "Epoch 89/100\n",
      "60/60 [==============================] - 0s 2ms/step - loss: 6.2663 - dense_1_loss_1: 3.7696 - dense_1_loss_2: 1.2815 - dense_1_loss_3: 0.3391 - dense_1_loss_4: 0.1036 - dense_1_loss_5: 0.0646 - dense_1_loss_6: 0.0501 - dense_1_loss_7: 0.0379 - dense_1_loss_8: 0.0362 - dense_1_loss_9: 0.0325 - dense_1_loss_10: 0.0290 - dense_1_loss_11: 0.0301 - dense_1_loss_12: 0.0270 - dense_1_loss_13: 0.0246 - dense_1_loss_14: 0.0241 - dense_1_loss_15: 0.0267 - dense_1_loss_16: 0.0285 - dense_1_loss_17: 0.0259 - dense_1_loss_18: 0.0255 - dense_1_loss_19: 0.0248 - dense_1_loss_20: 0.0278 - dense_1_loss_21: 0.0276 - dense_1_loss_22: 0.0261 - dense_1_loss_23: 0.0258 - dense_1_loss_24: 0.0258 - dense_1_loss_25: 0.0289 - dense_1_loss_26: 0.0278 - dense_1_loss_27: 0.0298 - dense_1_loss_28: 0.0314 - dense_1_loss_29: 0.0341 - dense_1_loss_30: 0.0000e+00 - dense_1_acc_1: 0.0667 - dense_1_acc_2: 0.6333 - dense_1_acc_3: 0.9167 - dense_1_acc_4: 1.0000 - dense_1_acc_5: 1.0000 - dense_1_acc_6: 1.0000 - dense_1_acc_7: 1.0000 - dense_1_acc_8: 1.0000 - dense_1_acc_9: 1.0000 - dense_1_acc_10: 1.0000 - dense_1_acc_11: 1.0000 - dense_1_acc_12: 1.0000 - dense_1_acc_13: 1.0000 - dense_1_acc_14: 1.0000 - dense_1_acc_15: 1.0000 - dense_1_acc_16: 1.0000 - dense_1_acc_17: 1.0000 - dense_1_acc_18: 1.0000 - dense_1_acc_19: 1.0000 - dense_1_acc_20: 1.0000 - dense_1_acc_21: 1.0000 - dense_1_acc_22: 1.0000 - dense_1_acc_23: 1.0000 - dense_1_acc_24: 1.0000 - dense_1_acc_25: 1.0000 - dense_1_acc_26: 1.0000 - dense_1_acc_27: 1.0000 - dense_1_acc_28: 1.0000 - dense_1_acc_29: 1.0000 - dense_1_acc_30: 0.0000e+00\n",
      "Epoch 90/100\n",
      "60/60 [==============================] - 0s 2ms/step - loss: 6.2271 - dense_1_loss_1: 3.7667 - dense_1_loss_2: 1.2703 - dense_1_loss_3: 0.3333 - dense_1_loss_4: 0.1015 - dense_1_loss_5: 0.0632 - dense_1_loss_6: 0.0490 - dense_1_loss_7: 0.0371 - dense_1_loss_8: 0.0354 - dense_1_loss_9: 0.0318 - dense_1_loss_10: 0.0284 - dense_1_loss_11: 0.0294 - dense_1_loss_12: 0.0264 - dense_1_loss_13: 0.0241 - dense_1_loss_14: 0.0235 - dense_1_loss_15: 0.0262 - dense_1_loss_16: 0.0278 - dense_1_loss_17: 0.0253 - dense_1_loss_18: 0.0250 - dense_1_loss_19: 0.0243 - dense_1_loss_20: 0.0271 - dense_1_loss_21: 0.0269 - dense_1_loss_22: 0.0255 - dense_1_loss_23: 0.0253 - dense_1_loss_24: 0.0252 - dense_1_loss_25: 0.0281 - dense_1_loss_26: 0.0269 - dense_1_loss_27: 0.0293 - dense_1_loss_28: 0.0309 - dense_1_loss_29: 0.0333 - dense_1_loss_30: 0.0000e+00 - dense_1_acc_1: 0.1000 - dense_1_acc_2: 0.6333 - dense_1_acc_3: 0.9167 - dense_1_acc_4: 1.0000 - dense_1_acc_5: 1.0000 - dense_1_acc_6: 1.0000 - dense_1_acc_7: 1.0000 - dense_1_acc_8: 1.0000 - dense_1_acc_9: 1.0000 - dense_1_acc_10: 1.0000 - dense_1_acc_11: 1.0000 - dense_1_acc_12: 1.0000 - dense_1_acc_13: 1.0000 - dense_1_acc_14: 1.0000 - dense_1_acc_15: 1.0000 - dense_1_acc_16: 1.0000 - dense_1_acc_17: 1.0000 - dense_1_acc_18: 1.0000 - dense_1_acc_19: 1.0000 - dense_1_acc_20: 1.0000 - dense_1_acc_21: 1.0000 - dense_1_acc_22: 1.0000 - dense_1_acc_23: 1.0000 - dense_1_acc_24: 1.0000 - dense_1_acc_25: 1.0000 - dense_1_acc_26: 1.0000 - dense_1_acc_27: 1.0000 - dense_1_acc_28: 1.0000 - dense_1_acc_29: 1.0000 - dense_1_acc_30: 0.0000e+00\n",
      "Epoch 91/100\n"
     ]
    },
    {
     "name": "stdout",
     "output_type": "stream",
     "text": [
      "60/60 [==============================] - 0s 2ms/step - loss: 6.1888 - dense_1_loss_1: 3.7639 - dense_1_loss_2: 1.2590 - dense_1_loss_3: 0.3282 - dense_1_loss_4: 0.0995 - dense_1_loss_5: 0.0618 - dense_1_loss_6: 0.0478 - dense_1_loss_7: 0.0363 - dense_1_loss_8: 0.0346 - dense_1_loss_9: 0.0311 - dense_1_loss_10: 0.0277 - dense_1_loss_11: 0.0287 - dense_1_loss_12: 0.0258 - dense_1_loss_13: 0.0235 - dense_1_loss_14: 0.0230 - dense_1_loss_15: 0.0256 - dense_1_loss_16: 0.0272 - dense_1_loss_17: 0.0247 - dense_1_loss_18: 0.0244 - dense_1_loss_19: 0.0237 - dense_1_loss_20: 0.0265 - dense_1_loss_21: 0.0263 - dense_1_loss_22: 0.0249 - dense_1_loss_23: 0.0247 - dense_1_loss_24: 0.0246 - dense_1_loss_25: 0.0275 - dense_1_loss_26: 0.0263 - dense_1_loss_27: 0.0286 - dense_1_loss_28: 0.0301 - dense_1_loss_29: 0.0326 - dense_1_loss_30: 0.0000e+00 - dense_1_acc_1: 0.1000 - dense_1_acc_2: 0.6333 - dense_1_acc_3: 0.9167 - dense_1_acc_4: 1.0000 - dense_1_acc_5: 1.0000 - dense_1_acc_6: 1.0000 - dense_1_acc_7: 1.0000 - dense_1_acc_8: 1.0000 - dense_1_acc_9: 1.0000 - dense_1_acc_10: 1.0000 - dense_1_acc_11: 1.0000 - dense_1_acc_12: 1.0000 - dense_1_acc_13: 1.0000 - dense_1_acc_14: 1.0000 - dense_1_acc_15: 1.0000 - dense_1_acc_16: 1.0000 - dense_1_acc_17: 1.0000 - dense_1_acc_18: 1.0000 - dense_1_acc_19: 1.0000 - dense_1_acc_20: 1.0000 - dense_1_acc_21: 1.0000 - dense_1_acc_22: 1.0000 - dense_1_acc_23: 1.0000 - dense_1_acc_24: 1.0000 - dense_1_acc_25: 1.0000 - dense_1_acc_26: 1.0000 - dense_1_acc_27: 1.0000 - dense_1_acc_28: 1.0000 - dense_1_acc_29: 1.0000 - dense_1_acc_30: 0.0000e+00\n",
      "Epoch 92/100\n",
      "60/60 [==============================] - 0s 2ms/step - loss: 6.1496 - dense_1_loss_1: 3.7607 - dense_1_loss_2: 1.2476 - dense_1_loss_3: 0.3223 - dense_1_loss_4: 0.0974 - dense_1_loss_5: 0.0605 - dense_1_loss_6: 0.0466 - dense_1_loss_7: 0.0355 - dense_1_loss_8: 0.0339 - dense_1_loss_9: 0.0304 - dense_1_loss_10: 0.0271 - dense_1_loss_11: 0.0281 - dense_1_loss_12: 0.0253 - dense_1_loss_13: 0.0229 - dense_1_loss_14: 0.0224 - dense_1_loss_15: 0.0251 - dense_1_loss_16: 0.0266 - dense_1_loss_17: 0.0242 - dense_1_loss_18: 0.0239 - dense_1_loss_19: 0.0232 - dense_1_loss_20: 0.0259 - dense_1_loss_21: 0.0257 - dense_1_loss_22: 0.0244 - dense_1_loss_23: 0.0242 - dense_1_loss_24: 0.0240 - dense_1_loss_25: 0.0271 - dense_1_loss_26: 0.0259 - dense_1_loss_27: 0.0279 - dense_1_loss_28: 0.0291 - dense_1_loss_29: 0.0318 - dense_1_loss_30: 0.0000e+00 - dense_1_acc_1: 0.1000 - dense_1_acc_2: 0.6500 - dense_1_acc_3: 0.9167 - dense_1_acc_4: 1.0000 - dense_1_acc_5: 1.0000 - dense_1_acc_6: 1.0000 - dense_1_acc_7: 1.0000 - dense_1_acc_8: 1.0000 - dense_1_acc_9: 1.0000 - dense_1_acc_10: 1.0000 - dense_1_acc_11: 1.0000 - dense_1_acc_12: 1.0000 - dense_1_acc_13: 1.0000 - dense_1_acc_14: 1.0000 - dense_1_acc_15: 1.0000 - dense_1_acc_16: 1.0000 - dense_1_acc_17: 1.0000 - dense_1_acc_18: 1.0000 - dense_1_acc_19: 1.0000 - dense_1_acc_20: 1.0000 - dense_1_acc_21: 1.0000 - dense_1_acc_22: 1.0000 - dense_1_acc_23: 1.0000 - dense_1_acc_24: 1.0000 - dense_1_acc_25: 1.0000 - dense_1_acc_26: 1.0000 - dense_1_acc_27: 1.0000 - dense_1_acc_28: 1.0000 - dense_1_acc_29: 1.0000 - dense_1_acc_30: 0.0000e+00\n",
      "Epoch 93/100\n",
      "60/60 [==============================] - 0s 2ms/step - loss: 6.1139 - dense_1_loss_1: 3.7577 - dense_1_loss_2: 1.2372 - dense_1_loss_3: 0.3172 - dense_1_loss_4: 0.0957 - dense_1_loss_5: 0.0593 - dense_1_loss_6: 0.0456 - dense_1_loss_7: 0.0347 - dense_1_loss_8: 0.0332 - dense_1_loss_9: 0.0297 - dense_1_loss_10: 0.0266 - dense_1_loss_11: 0.0275 - dense_1_loss_12: 0.0247 - dense_1_loss_13: 0.0224 - dense_1_loss_14: 0.0219 - dense_1_loss_15: 0.0246 - dense_1_loss_16: 0.0261 - dense_1_loss_17: 0.0236 - dense_1_loss_18: 0.0234 - dense_1_loss_19: 0.0227 - dense_1_loss_20: 0.0254 - dense_1_loss_21: 0.0251 - dense_1_loss_22: 0.0239 - dense_1_loss_23: 0.0236 - dense_1_loss_24: 0.0235 - dense_1_loss_25: 0.0264 - dense_1_loss_26: 0.0253 - dense_1_loss_27: 0.0272 - dense_1_loss_28: 0.0286 - dense_1_loss_29: 0.0311 - dense_1_loss_30: 0.0000e+00 - dense_1_acc_1: 0.1000 - dense_1_acc_2: 0.6500 - dense_1_acc_3: 0.9167 - dense_1_acc_4: 1.0000 - dense_1_acc_5: 1.0000 - dense_1_acc_6: 1.0000 - dense_1_acc_7: 1.0000 - dense_1_acc_8: 1.0000 - dense_1_acc_9: 1.0000 - dense_1_acc_10: 1.0000 - dense_1_acc_11: 1.0000 - dense_1_acc_12: 1.0000 - dense_1_acc_13: 1.0000 - dense_1_acc_14: 1.0000 - dense_1_acc_15: 1.0000 - dense_1_acc_16: 1.0000 - dense_1_acc_17: 1.0000 - dense_1_acc_18: 1.0000 - dense_1_acc_19: 1.0000 - dense_1_acc_20: 1.0000 - dense_1_acc_21: 1.0000 - dense_1_acc_22: 1.0000 - dense_1_acc_23: 1.0000 - dense_1_acc_24: 1.0000 - dense_1_acc_25: 1.0000 - dense_1_acc_26: 1.0000 - dense_1_acc_27: 1.0000 - dense_1_acc_28: 1.0000 - dense_1_acc_29: 1.0000 - dense_1_acc_30: 0.0000e+00\n",
      "Epoch 94/100\n",
      "60/60 [==============================] - 0s 2ms/step - loss: 6.0784 - dense_1_loss_1: 3.7552 - dense_1_loss_2: 1.2262 - dense_1_loss_3: 0.3115 - dense_1_loss_4: 0.0941 - dense_1_loss_5: 0.0579 - dense_1_loss_6: 0.0448 - dense_1_loss_7: 0.0341 - dense_1_loss_8: 0.0325 - dense_1_loss_9: 0.0291 - dense_1_loss_10: 0.0260 - dense_1_loss_11: 0.0269 - dense_1_loss_12: 0.0242 - dense_1_loss_13: 0.0220 - dense_1_loss_14: 0.0214 - dense_1_loss_15: 0.0241 - dense_1_loss_16: 0.0255 - dense_1_loss_17: 0.0232 - dense_1_loss_18: 0.0228 - dense_1_loss_19: 0.0222 - dense_1_loss_20: 0.0248 - dense_1_loss_21: 0.0246 - dense_1_loss_22: 0.0234 - dense_1_loss_23: 0.0231 - dense_1_loss_24: 0.0230 - dense_1_loss_25: 0.0257 - dense_1_loss_26: 0.0247 - dense_1_loss_27: 0.0266 - dense_1_loss_28: 0.0282 - dense_1_loss_29: 0.0305 - dense_1_loss_30: 0.0000e+00 - dense_1_acc_1: 0.0667 - dense_1_acc_2: 0.6500 - dense_1_acc_3: 0.9167 - dense_1_acc_4: 1.0000 - dense_1_acc_5: 1.0000 - dense_1_acc_6: 1.0000 - dense_1_acc_7: 1.0000 - dense_1_acc_8: 1.0000 - dense_1_acc_9: 1.0000 - dense_1_acc_10: 1.0000 - dense_1_acc_11: 1.0000 - dense_1_acc_12: 1.0000 - dense_1_acc_13: 1.0000 - dense_1_acc_14: 1.0000 - dense_1_acc_15: 1.0000 - dense_1_acc_16: 1.0000 - dense_1_acc_17: 1.0000 - dense_1_acc_18: 1.0000 - dense_1_acc_19: 1.0000 - dense_1_acc_20: 1.0000 - dense_1_acc_21: 1.0000 - dense_1_acc_22: 1.0000 - dense_1_acc_23: 1.0000 - dense_1_acc_24: 1.0000 - dense_1_acc_25: 1.0000 - dense_1_acc_26: 1.0000 - dense_1_acc_27: 1.0000 - dense_1_acc_28: 1.0000 - dense_1_acc_29: 1.0000 - dense_1_acc_30: 0.0000e+00\n",
      "Epoch 95/100\n",
      "60/60 [==============================] - 0s 2ms/step - loss: 6.0438 - dense_1_loss_1: 3.7522 - dense_1_loss_2: 1.2161 - dense_1_loss_3: 0.3060 - dense_1_loss_4: 0.0924 - dense_1_loss_5: 0.0567 - dense_1_loss_6: 0.0438 - dense_1_loss_7: 0.0334 - dense_1_loss_8: 0.0318 - dense_1_loss_9: 0.0284 - dense_1_loss_10: 0.0255 - dense_1_loss_11: 0.0264 - dense_1_loss_12: 0.0237 - dense_1_loss_13: 0.0215 - dense_1_loss_14: 0.0210 - dense_1_loss_15: 0.0236 - dense_1_loss_16: 0.0250 - dense_1_loss_17: 0.0227 - dense_1_loss_18: 0.0224 - dense_1_loss_19: 0.0217 - dense_1_loss_20: 0.0243 - dense_1_loss_21: 0.0241 - dense_1_loss_22: 0.0229 - dense_1_loss_23: 0.0226 - dense_1_loss_24: 0.0225 - dense_1_loss_25: 0.0252 - dense_1_loss_26: 0.0242 - dense_1_loss_27: 0.0261 - dense_1_loss_28: 0.0276 - dense_1_loss_29: 0.0299 - dense_1_loss_30: 0.0000e+00 - dense_1_acc_1: 0.1000 - dense_1_acc_2: 0.6500 - dense_1_acc_3: 0.9167 - dense_1_acc_4: 1.0000 - dense_1_acc_5: 1.0000 - dense_1_acc_6: 1.0000 - dense_1_acc_7: 1.0000 - dense_1_acc_8: 1.0000 - dense_1_acc_9: 1.0000 - dense_1_acc_10: 1.0000 - dense_1_acc_11: 1.0000 - dense_1_acc_12: 1.0000 - dense_1_acc_13: 1.0000 - dense_1_acc_14: 1.0000 - dense_1_acc_15: 1.0000 - dense_1_acc_16: 1.0000 - dense_1_acc_17: 1.0000 - dense_1_acc_18: 1.0000 - dense_1_acc_19: 1.0000 - dense_1_acc_20: 1.0000 - dense_1_acc_21: 1.0000 - dense_1_acc_22: 1.0000 - dense_1_acc_23: 1.0000 - dense_1_acc_24: 1.0000 - dense_1_acc_25: 1.0000 - dense_1_acc_26: 1.0000 - dense_1_acc_27: 1.0000 - dense_1_acc_28: 1.0000 - dense_1_acc_29: 1.0000 - dense_1_acc_30: 0.0000e+00\n",
      "Epoch 96/100\n",
      "60/60 [==============================] - 0s 2ms/step - loss: 6.0104 - dense_1_loss_1: 3.7493 - dense_1_loss_2: 1.2057 - dense_1_loss_3: 0.3010 - dense_1_loss_4: 0.0908 - dense_1_loss_5: 0.0556 - dense_1_loss_6: 0.0430 - dense_1_loss_7: 0.0328 - dense_1_loss_8: 0.0312 - dense_1_loss_9: 0.0279 - dense_1_loss_10: 0.0250 - dense_1_loss_11: 0.0260 - dense_1_loss_12: 0.0232 - dense_1_loss_13: 0.0211 - dense_1_loss_14: 0.0206 - dense_1_loss_15: 0.0230 - dense_1_loss_16: 0.0245 - dense_1_loss_17: 0.0222 - dense_1_loss_18: 0.0219 - dense_1_loss_19: 0.0213 - dense_1_loss_20: 0.0238 - dense_1_loss_21: 0.0236 - dense_1_loss_22: 0.0224 - dense_1_loss_23: 0.0222 - dense_1_loss_24: 0.0221 - dense_1_loss_25: 0.0246 - dense_1_loss_26: 0.0237 - dense_1_loss_27: 0.0257 - dense_1_loss_28: 0.0269 - dense_1_loss_29: 0.0293 - dense_1_loss_30: 0.0000e+00 - dense_1_acc_1: 0.1000 - dense_1_acc_2: 0.6500 - dense_1_acc_3: 0.9333 - dense_1_acc_4: 1.0000 - dense_1_acc_5: 1.0000 - dense_1_acc_6: 1.0000 - dense_1_acc_7: 1.0000 - dense_1_acc_8: 1.0000 - dense_1_acc_9: 1.0000 - dense_1_acc_10: 1.0000 - dense_1_acc_11: 1.0000 - dense_1_acc_12: 1.0000 - dense_1_acc_13: 1.0000 - dense_1_acc_14: 1.0000 - dense_1_acc_15: 1.0000 - dense_1_acc_16: 1.0000 - dense_1_acc_17: 1.0000 - dense_1_acc_18: 1.0000 - dense_1_acc_19: 1.0000 - dense_1_acc_20: 1.0000 - dense_1_acc_21: 1.0000 - dense_1_acc_22: 1.0000 - dense_1_acc_23: 1.0000 - dense_1_acc_24: 1.0000 - dense_1_acc_25: 1.0000 - dense_1_acc_26: 1.0000 - dense_1_acc_27: 1.0000 - dense_1_acc_28: 1.0000 - dense_1_acc_29: 1.0000 - dense_1_acc_30: 0.0000e+00\n",
      "Epoch 97/100\n",
      "60/60 [==============================] - 0s 2ms/step - loss: 5.9771 - dense_1_loss_1: 3.7464 - dense_1_loss_2: 1.1953 - dense_1_loss_3: 0.2962 - dense_1_loss_4: 0.0891 - dense_1_loss_5: 0.0544 - dense_1_loss_6: 0.0420 - dense_1_loss_7: 0.0322 - dense_1_loss_8: 0.0306 - dense_1_loss_9: 0.0273 - dense_1_loss_10: 0.0245 - dense_1_loss_11: 0.0254 - dense_1_loss_12: 0.0228 - dense_1_loss_13: 0.0206 - dense_1_loss_14: 0.0202 - dense_1_loss_15: 0.0225 - dense_1_loss_16: 0.0240 - dense_1_loss_17: 0.0217 - dense_1_loss_18: 0.0215 - dense_1_loss_19: 0.0210 - dense_1_loss_20: 0.0232 - dense_1_loss_21: 0.0231 - dense_1_loss_22: 0.0220 - dense_1_loss_23: 0.0218 - dense_1_loss_24: 0.0216 - dense_1_loss_25: 0.0241 - dense_1_loss_26: 0.0233 - dense_1_loss_27: 0.0252 - dense_1_loss_28: 0.0264 - dense_1_loss_29: 0.0286 - dense_1_loss_30: 0.0000e+00 - dense_1_acc_1: 0.1000 - dense_1_acc_2: 0.6500 - dense_1_acc_3: 0.9500 - dense_1_acc_4: 1.0000 - dense_1_acc_5: 1.0000 - dense_1_acc_6: 1.0000 - dense_1_acc_7: 1.0000 - dense_1_acc_8: 1.0000 - dense_1_acc_9: 1.0000 - dense_1_acc_10: 1.0000 - dense_1_acc_11: 1.0000 - dense_1_acc_12: 1.0000 - dense_1_acc_13: 1.0000 - dense_1_acc_14: 1.0000 - dense_1_acc_15: 1.0000 - dense_1_acc_16: 1.0000 - dense_1_acc_17: 1.0000 - dense_1_acc_18: 1.0000 - dense_1_acc_19: 1.0000 - dense_1_acc_20: 1.0000 - dense_1_acc_21: 1.0000 - dense_1_acc_22: 1.0000 - dense_1_acc_23: 1.0000 - dense_1_acc_24: 1.0000 - dense_1_acc_25: 1.0000 - dense_1_acc_26: 1.0000 - dense_1_acc_27: 1.0000 - dense_1_acc_28: 1.0000 - dense_1_acc_29: 1.0000 - dense_1_acc_30: 0.0000e+00\n",
      "Epoch 98/100\n",
      "60/60 [==============================] - 0s 2ms/step - loss: 5.9469 - dense_1_loss_1: 3.7436 - dense_1_loss_2: 1.1862 - dense_1_loss_3: 0.2919 - dense_1_loss_4: 0.0876 - dense_1_loss_5: 0.0533 - dense_1_loss_6: 0.0412 - dense_1_loss_7: 0.0316 - dense_1_loss_8: 0.0301 - dense_1_loss_9: 0.0268 - dense_1_loss_10: 0.0240 - dense_1_loss_11: 0.0250 - dense_1_loss_12: 0.0224 - dense_1_loss_13: 0.0202 - dense_1_loss_14: 0.0198 - dense_1_loss_15: 0.0221 - dense_1_loss_16: 0.0235 - dense_1_loss_17: 0.0213 - dense_1_loss_18: 0.0211 - dense_1_loss_19: 0.0206 - dense_1_loss_20: 0.0228 - dense_1_loss_21: 0.0227 - dense_1_loss_22: 0.0215 - dense_1_loss_23: 0.0214 - dense_1_loss_24: 0.0212 - dense_1_loss_25: 0.0236 - dense_1_loss_26: 0.0227 - dense_1_loss_27: 0.0247 - dense_1_loss_28: 0.0261 - dense_1_loss_29: 0.0280 - dense_1_loss_30: 0.0000e+00 - dense_1_acc_1: 0.1000 - dense_1_acc_2: 0.6500 - dense_1_acc_3: 0.9500 - dense_1_acc_4: 1.0000 - dense_1_acc_5: 1.0000 - dense_1_acc_6: 1.0000 - dense_1_acc_7: 1.0000 - dense_1_acc_8: 1.0000 - dense_1_acc_9: 1.0000 - dense_1_acc_10: 1.0000 - dense_1_acc_11: 1.0000 - dense_1_acc_12: 1.0000 - dense_1_acc_13: 1.0000 - dense_1_acc_14: 1.0000 - dense_1_acc_15: 1.0000 - dense_1_acc_16: 1.0000 - dense_1_acc_17: 1.0000 - dense_1_acc_18: 1.0000 - dense_1_acc_19: 1.0000 - dense_1_acc_20: 1.0000 - dense_1_acc_21: 1.0000 - dense_1_acc_22: 1.0000 - dense_1_acc_23: 1.0000 - dense_1_acc_24: 1.0000 - dense_1_acc_25: 1.0000 - dense_1_acc_26: 1.0000 - dense_1_acc_27: 1.0000 - dense_1_acc_28: 1.0000 - dense_1_acc_29: 1.0000 - dense_1_acc_30: 0.0000e+00\n",
      "Epoch 99/100\n",
      "60/60 [==============================] - 0s 2ms/step - loss: 5.9163 - dense_1_loss_1: 3.7408 - dense_1_loss_2: 1.1765 - dense_1_loss_3: 0.2876 - dense_1_loss_4: 0.0861 - dense_1_loss_5: 0.0524 - dense_1_loss_6: 0.0405 - dense_1_loss_7: 0.0310 - dense_1_loss_8: 0.0295 - dense_1_loss_9: 0.0263 - dense_1_loss_10: 0.0236 - dense_1_loss_11: 0.0244 - dense_1_loss_12: 0.0220 - dense_1_loss_13: 0.0198 - dense_1_loss_14: 0.0194 - dense_1_loss_15: 0.0217 - dense_1_loss_16: 0.0231 - dense_1_loss_17: 0.0209 - dense_1_loss_18: 0.0206 - dense_1_loss_19: 0.0202 - dense_1_loss_20: 0.0224 - dense_1_loss_21: 0.0223 - dense_1_loss_22: 0.0211 - dense_1_loss_23: 0.0209 - dense_1_loss_24: 0.0208 - dense_1_loss_25: 0.0232 - dense_1_loss_26: 0.0223 - dense_1_loss_27: 0.0241 - dense_1_loss_28: 0.0255 - dense_1_loss_29: 0.0275 - dense_1_loss_30: 0.0000e+00 - dense_1_acc_1: 0.1000 - dense_1_acc_2: 0.6500 - dense_1_acc_3: 0.9500 - dense_1_acc_4: 1.0000 - dense_1_acc_5: 1.0000 - dense_1_acc_6: 1.0000 - dense_1_acc_7: 1.0000 - dense_1_acc_8: 1.0000 - dense_1_acc_9: 1.0000 - dense_1_acc_10: 1.0000 - dense_1_acc_11: 1.0000 - dense_1_acc_12: 1.0000 - dense_1_acc_13: 1.0000 - dense_1_acc_14: 1.0000 - dense_1_acc_15: 1.0000 - dense_1_acc_16: 1.0000 - dense_1_acc_17: 1.0000 - dense_1_acc_18: 1.0000 - dense_1_acc_19: 1.0000 - dense_1_acc_20: 1.0000 - dense_1_acc_21: 1.0000 - dense_1_acc_22: 1.0000 - dense_1_acc_23: 1.0000 - dense_1_acc_24: 1.0000 - dense_1_acc_25: 1.0000 - dense_1_acc_26: 1.0000 - dense_1_acc_27: 1.0000 - dense_1_acc_28: 1.0000 - dense_1_acc_29: 1.0000 - dense_1_acc_30: 0.0000e+00\n",
      "Epoch 100/100\n",
      "60/60 [==============================] - 0s 2ms/step - loss: 5.8864 - dense_1_loss_1: 3.7381 - dense_1_loss_2: 1.1673 - dense_1_loss_3: 0.2828 - dense_1_loss_4: 0.0846 - dense_1_loss_5: 0.0514 - dense_1_loss_6: 0.0397 - dense_1_loss_7: 0.0304 - dense_1_loss_8: 0.0290 - dense_1_loss_9: 0.0258 - dense_1_loss_10: 0.0231 - dense_1_loss_11: 0.0239 - dense_1_loss_12: 0.0215 - dense_1_loss_13: 0.0194 - dense_1_loss_14: 0.0190 - dense_1_loss_15: 0.0213 - dense_1_loss_16: 0.0227 - dense_1_loss_17: 0.0205 - dense_1_loss_18: 0.0202 - dense_1_loss_19: 0.0198 - dense_1_loss_20: 0.0220 - dense_1_loss_21: 0.0219 - dense_1_loss_22: 0.0207 - dense_1_loss_23: 0.0206 - dense_1_loss_24: 0.0204 - dense_1_loss_25: 0.0228 - dense_1_loss_26: 0.0220 - dense_1_loss_27: 0.0237 - dense_1_loss_28: 0.0249 - dense_1_loss_29: 0.0270 - dense_1_loss_30: 0.0000e+00 - dense_1_acc_1: 0.1000 - dense_1_acc_2: 0.6500 - dense_1_acc_3: 0.9500 - dense_1_acc_4: 1.0000 - dense_1_acc_5: 1.0000 - dense_1_acc_6: 1.0000 - dense_1_acc_7: 1.0000 - dense_1_acc_8: 1.0000 - dense_1_acc_9: 1.0000 - dense_1_acc_10: 1.0000 - dense_1_acc_11: 1.0000 - dense_1_acc_12: 1.0000 - dense_1_acc_13: 1.0000 - dense_1_acc_14: 1.0000 - dense_1_acc_15: 1.0000 - dense_1_acc_16: 1.0000 - dense_1_acc_17: 1.0000 - dense_1_acc_18: 1.0000 - dense_1_acc_19: 1.0000 - dense_1_acc_20: 1.0000 - dense_1_acc_21: 1.0000 - dense_1_acc_22: 1.0000 - dense_1_acc_23: 1.0000 - dense_1_acc_24: 1.0000 - dense_1_acc_25: 1.0000 - dense_1_acc_26: 1.0000 - dense_1_acc_27: 1.0000 - dense_1_acc_28: 1.0000 - dense_1_acc_29: 1.0000 - dense_1_acc_30: 0.0000e+00\n"
     ]
    },
    {
     "data": {
      "text/plain": [
       "<keras.callbacks.History at 0x7f14d53b0748>"
      ]
     },
     "execution_count": 12,
     "metadata": {},
     "output_type": "execute_result"
    }
   ],
   "source": [
    "model.fit([X, a0, c0], list(Y), epochs=100)"
   ]
  },
  {
   "cell_type": "code",
   "execution_count": 44,
   "metadata": {},
   "outputs": [
    {
     "name": "stdout",
     "output_type": "stream",
     "text": [
      "849\n"
     ]
    }
   ],
   "source": [
    "print(len(X))"
   ]
  },
  {
   "cell_type": "code",
   "execution_count": 44,
   "metadata": {},
   "outputs": [],
   "source": [
    "# GRADED FUNCTION: music_inference_model\n",
    "\n",
    "def music_inference_model(LSTM_cell, densor, n_values = 78, n_a = 64, Ty = 100):\n",
    "    \"\"\"\n",
    "    Uses the trained \"LSTM_cell\" and \"densor\" from model() to generate a sequence of values.\n",
    "    \n",
    "    Arguments:\n",
    "    LSTM_cell -- the trained \"LSTM_cell\" from model(), Keras layer object\n",
    "    densor -- the trained \"densor\" from model(), Keras layer object\n",
    "    n_values -- integer, umber of unique values\n",
    "    n_a -- number of units in the LSTM_cell\n",
    "    Ty -- integer, number of time steps to generate\n",
    "    \n",
    "    Returns:\n",
    "    inference_model -- Keras model instance\n",
    "    \"\"\"\n",
    "    \n",
    "    # Define the input of your model with a shape \n",
    "    x0 = Input(shape=(1, n_values))\n",
    "    \n",
    "    # Define s0, initial hidden state for the decoder LSTM\n",
    "    a0 = Input(shape=(n_a,), name='a0')\n",
    "    c0 = Input(shape=(n_a,), name='c0')\n",
    "    a = a0\n",
    "    c = c0\n",
    "    x = x0\n",
    "\n",
    "    ### START CODE HERE ###\n",
    "    # Step 1: Create an empty list of \"outputs\" to later store your predicted values (≈1 line)\n",
    "    outputs = []\n",
    "    \n",
    "    # Step 2: Loop over Ty and generate a value at every time step\n",
    "    for t in range(Ty):\n",
    "        \n",
    "        # Step 2.A: Perform one step of LSTM_cell (≈1 line)\n",
    "        a, _, c = LSTM_cell(x, initial_state=[a, c])\n",
    "        \n",
    "        # Step 2.B: Apply Dense layer to the hidden state output of the LSTM_cell (≈1 line)\n",
    "        out = densor(a)\n",
    "\n",
    "        # Step 2.C: Append the prediction \"out\" to \"outputs\". out.shape = (None, 78) (≈1 line)\n",
    "        outputs.append(out)\n",
    "        \n",
    "        # Step 2.D: Select the next value according to \"out\", and set \"x\" to be the one-hot representation of the\n",
    "        #           selected value, which will be passed as the input to LSTM_cell on the next step. We have provided \n",
    "        #           the line of code you need to do this. \n",
    "        x = Lambda(one_hot)(out)\n",
    "        \n",
    "    # Step 3: Create model instance with the correct \"inputs\" and \"outputs\" (≈1 line)\n",
    "    inference_model = Model(inputs=[x0, a0, c0], outputs=outputs)\n",
    "    \n",
    "    ### END CODE HERE ###\n",
    "    \n",
    "    return inference_model"
   ]
  },
  {
   "cell_type": "code",
   "execution_count": 45,
   "metadata": {},
   "outputs": [],
   "source": [
    "inference_model = music_inference_model(LSTM_cell, densor, n_values = 78, n_a = 64, Ty = 50)"
   ]
  },
  {
   "cell_type": "code",
   "execution_count": 46,
   "metadata": {},
   "outputs": [],
   "source": [
    "x_initializer = np.zeros((1, 1, 78))\n",
    "a_initializer = np.zeros((1, n_a))\n",
    "c_initializer = np.zeros((1, n_a))"
   ]
  },
  {
   "cell_type": "code",
   "execution_count": 47,
   "metadata": {},
   "outputs": [],
   "source": [
    "# GRADED FUNCTION: predict_and_sample\n",
    "\n",
    "def predict_and_sample(inference_model, x_initializer = x_initializer, a_initializer = a_initializer, \n",
    "                       c_initializer = c_initializer):\n",
    "    \"\"\"\n",
    "    Predicts the next value of values using the inference model.\n",
    "    \n",
    "    Arguments:\n",
    "    inference_model -- Keras model instance for inference time\n",
    "    x_initializer -- numpy array of shape (1, 1, 78), one-hot vector initializing the values generation\n",
    "    a_initializer -- numpy array of shape (1, n_a), initializing the hidden state of the LSTM_cell\n",
    "    c_initializer -- numpy array of shape (1, n_a), initializing the cell state of the LSTM_cel\n",
    "    \n",
    "    Returns:\n",
    "    results -- numpy-array of shape (Ty, 78), matrix of one-hot vectors representing the values generated\n",
    "    indices -- numpy-array of shape (Ty, 1), matrix of indices representing the values generated\n",
    "    \"\"\"\n",
    "    \n",
    "    ### START CODE HERE ###\n",
    "    # Step 1: Use your inference model to predict an output sequence given x_initializer, a_initializer and c_initializer.\n",
    "    pred = inference_model.predict([x_initializer, a_initializer, c_initializer])\n",
    "    # Step 2: Convert \"pred\" into an np.array() of indices with the maximum probabilities\n",
    "    indices = np.argmax(pred, axis=-1)\n",
    "    # Step 3: Convert indices to one-hot vectors, the shape of the results should be (1, )\n",
    "    results = to_categorical(indices, num_classes=78)\n",
    "    ### END CODE HERE ###\n",
    "    \n",
    "    return results, indices"
   ]
  },
  {
   "cell_type": "code",
   "execution_count": 48,
   "metadata": {},
   "outputs": [
    {
     "name": "stdout",
     "output_type": "stream",
     "text": [
      "np.argmax(results[12]) = 59\n",
      "np.argmax(results[17]) = 73\n",
      "list(indices[12:18]) = [array([59]), array([67]), array([59]), array([3]), array([31]), array([73])]\n"
     ]
    }
   ],
   "source": [
    "results, indices = predict_and_sample(inference_model, x_initializer, a_initializer, c_initializer)\n",
    "print(\"np.argmax(results[12]) =\", np.argmax(results[12]))\n",
    "print(\"np.argmax(results[17]) =\", np.argmax(results[17]))\n",
    "print(\"list(indices[12:18]) =\", list(indices[12:18]))"
   ]
  },
  {
   "cell_type": "code",
   "execution_count": 50,
   "metadata": {},
   "outputs": [
    {
     "name": "stdout",
     "output_type": "stream",
     "text": [
      "Predicting new values for different set of chords.\n",
      "Generated 51 sounds using the predicted values for the set of chords (\"1\") and after pruning\n",
      "Generated 51 sounds using the predicted values for the set of chords (\"2\") and after pruning\n",
      "Generated 51 sounds using the predicted values for the set of chords (\"3\") and after pruning\n",
      "Generated 51 sounds using the predicted values for the set of chords (\"4\") and after pruning\n",
      "Generated 51 sounds using the predicted values for the set of chords (\"5\") and after pruning\n",
      "Your generated music is saved in output/my_music.midi\n"
     ]
    }
   ],
   "source": [
    "out_stream = generate_music(inference_model)"
   ]
  },
  {
   "cell_type": "markdown",
   "metadata": {},
   "source": [
    "####Trail"
   ]
  },
  {
   "cell_type": "code",
   "execution_count": 46,
   "metadata": {},
   "outputs": [],
   "source": [
    "import glob\n",
    "from music21 import converter, instrument, note, chord\n",
    "\n",
    "notes = []\n",
    "\n",
    "for file in glob.glob(\"midi_songs/*.mid\"):\n",
    "    midi = converter.parse(file)\n",
    "    notes_to_parse = None\n",
    "\n",
    "    parts = instrument.partitionByInstrument(midi)\n",
    "\n",
    "    if parts: # file has instrument parts\n",
    "        notes_to_parse = parts.parts[0].recurse()\n",
    "    else: # file has notes in a flat structure\n",
    "        notes_to_parse = midi.flat.notes\n",
    "\n",
    "    for element in notes_to_parse:\n",
    "        if isinstance(element, note.Note):\n",
    "            notes.append(str(element.pitch))\n",
    "        elif isinstance(element, chord.Chord):\n",
    "            notes.append('.'.join(str(n) for n in element.normalOrder))"
   ]
  },
  {
   "cell_type": "code",
   "execution_count": 4,
   "metadata": {},
   "outputs": [],
   "source": [
    "#print(notes)"
   ]
  },
  {
   "cell_type": "code",
   "execution_count": 47,
   "metadata": {},
   "outputs": [],
   "source": [
    "import numpy\n",
    "from keras.utils import np_utils\n",
    "sequence_length = 100\n",
    "\n",
    "# get all pitch names\n",
    "pitchnames = sorted(set(item for item in notes))\n",
    "\n",
    "# create a dictionary to map pitches to integers\n",
    "note_to_int = dict((note, number) for number, note in enumerate(pitchnames))\n",
    "\n",
    "network_input = []\n",
    "network_output = []\n",
    "\n",
    "# create input sequences and the corresponding outputs\n",
    "for i in range(0, len(notes) - sequence_length, 1):\n",
    "    sequence_in = notes[i:i + sequence_length]\n",
    "    sequence_out = notes[i + sequence_length]\n",
    "    network_input.append([note_to_int[char] for char in sequence_in])\n",
    "    network_output.append(note_to_int[sequence_out])\n",
    "\n",
    "n_patterns = len(network_input)\n",
    "n_vocab=n_patterns\n",
    "# reshape the input into a format compatible with LSTM layers\n",
    "network_input = numpy.reshape(network_input, (n_patterns, sequence_length, 1))\n",
    "# normalize input\n",
    "network_input = network_input #/ float(n_vocab)\n",
    "\n",
    "network_output = np_utils.to_categorical(network_output)"
   ]
  },
  {
   "cell_type": "code",
   "execution_count": 48,
   "metadata": {},
   "outputs": [],
   "source": [
    "#print(network_input)"
   ]
  },
  {
   "cell_type": "code",
   "execution_count": 49,
   "metadata": {},
   "outputs": [],
   "source": [
    "#print(network_output)"
   ]
  },
  {
   "cell_type": "code",
   "execution_count": 32,
   "metadata": {},
   "outputs": [],
   "source": [
    "X=network_input\n",
    "Y=network_output"
   ]
  },
  {
   "cell_type": "code",
   "execution_count": 50,
   "metadata": {},
   "outputs": [
    {
     "name": "stdout",
     "output_type": "stream",
     "text": [
      "(3165, 100, 1)\n",
      "(3165, 143)\n"
     ]
    }
   ],
   "source": [
    "print(network_input.shape)\n",
    "print(network_output.shape)"
   ]
  },
  {
   "cell_type": "code",
   "execution_count": 51,
   "metadata": {},
   "outputs": [],
   "source": [
    "def get_musical_data(data_fn):\n",
    "    \n",
    "    measures, chords = __parse_midi(data_fn)\n",
    "    abstract_grammars = __get_abstract_grammars(measures, chords)\n",
    "\n",
    "    return chords, abstract_grammars\n",
    "\n",
    "''' Get corpus data from grammatical data '''\n",
    "def get_corpus_data(abstract_grammars):\n",
    "    corpus = [x for sublist in abstract_grammars for x in sublist.split(' ')]\n",
    "    values = set(corpus)\n",
    "    val_indices = dict((v, i) for i, v in enumerate(values))\n",
    "    indices_val = dict((i, v) for i, v in enumerate(values))\n",
    "\n",
    "    return corpus, values, val_indices, indices_val"
   ]
  },
  {
   "cell_type": "code",
   "execution_count": 4,
   "metadata": {},
   "outputs": [],
   "source": [
    "chords, abstract_grammars = get_musical_data('data/original_metheny.mid')"
   ]
  },
  {
   "cell_type": "code",
   "execution_count": 22,
   "metadata": {},
   "outputs": [
    {
     "name": "stdout",
     "output_type": "stream",
     "text": [
      "Sitar\n",
      "Piano\n"
     ]
    }
   ],
   "source": [
    "#chords, abstract_grammars = get_musical_data('midi_songs/StereoLove.mid')\n",
    "midi_data = converter.parse('data/Bhairav.mid')\n",
    "for part in midi_data.parts:\n",
    "    print(part.partName)"
   ]
  },
  {
   "cell_type": "code",
   "execution_count": 2,
   "metadata": {},
   "outputs": [
    {
     "ename": "NameError",
     "evalue": "name 'converter' is not defined",
     "output_type": "error",
     "traceback": [
      "\u001b[0;31m---------------------------------------------------------------------------\u001b[0m",
      "\u001b[0;31mNameError\u001b[0m                                 Traceback (most recent call last)",
      "\u001b[0;32m<ipython-input-2-48d213b634bc>\u001b[0m in \u001b[0;36m<module>\u001b[0;34m()\u001b[0m\n\u001b[0;32m----> 1\u001b[0;31m \u001b[0mmidi_data\u001b[0m \u001b[0;34m=\u001b[0m \u001b[0mconverter\u001b[0m\u001b[0;34m.\u001b[0m\u001b[0mparse\u001b[0m\u001b[0;34m(\u001b[0m\u001b[0;34m'data/music2.mid'\u001b[0m\u001b[0;34m)\u001b[0m\u001b[0;34m\u001b[0m\u001b[0m\n\u001b[0m",
      "\u001b[0;31mNameError\u001b[0m: name 'converter' is not defined"
     ]
    }
   ],
   "source": [
    "midi_data = converter.parse('data/music2.mid')"
   ]
  },
  {
   "cell_type": "code",
   "execution_count": 17,
   "metadata": {},
   "outputs": [
    {
     "name": "stdout",
     "output_type": "stream",
     "text": [
      "<music21.stream.Part 0x7f9ddc9a99b0>\n"
     ]
    }
   ],
   "source": [
    "print(midi_data[0])"
   ]
  },
  {
   "cell_type": "code",
   "execution_count": 67,
   "metadata": {},
   "outputs": [
    {
     "name": "stdout",
     "output_type": "stream",
     "text": [
      "<music21.stream.Part 0x7f95b5c8c828>\n"
     ]
    }
   ],
   "source": [
    "print((midi_data[2]))"
   ]
  },
  {
   "cell_type": "code",
   "execution_count": 4,
   "metadata": {},
   "outputs": [
    {
     "name": "stdout",
     "output_type": "stream",
     "text": [
      "['C,0.500 C,0.333,<P1,d-5> C,0.250,<M-2,m-6> C,0.250,<M3,d-3> C,0.250,<d6,m2> C,0.250,<d5,P1> C,0.667,<M2,d-4> C,0.250,<d1,P-5> C,0.250,<P-4,d-8> S,0.250,<d4,M-2> S,0.250,<P5,A1> C,0.250,<d5,P1>', 'C,0.500 S,0.250,<m2,P-4> C,0.250,<P4,m-2> A,0.250,<P4,m-2> S,0.500,<d1,P-5> C,0.250,<P1,d-5> C,0.250,<m2,P-4> A,0.250,<m2,P-4> C,0.250,<M2,d-4> A,0.250,<d4,M-2> C,0.250,<P4,m-2> C,0.250,<P4,m-2>', 'C,0.250 C,0.250,<d2,A-4> A,0.250,<m-2,d-6> C,0.250,<d3,M-3> A,0.250,<M3,d-3> C,0.250,<d6,m2> C,0.250,<A4,d-2> C,0.250,<d3,M-3> C,0.250,<m2,P-4> A,0.250,<m2,P-4> S,0.250,<P1,d-5> C,0.250,<m2,P-4> C,0.250,<P1,d-5> C,0.250,<m2,P-4> A,0.250,<m2,P-4>', 'C,0.250 S,0.250,<d6,m2> X,0.250,<A4,d-2> S,0.250,<dd5,d1> C,0.250,<P4,m-2> C,0.250,<M3,d-3> C,0.250,<dd5,d1> S,0.250,<P4,m-2> C,0.250,<P4,m-2> C,0.250,<M3,d-3> C,0.250,<dd5,d1> A,0.250,<M3,d-3>', 'C,0.500 A,0.333,<M2,d-4> C,0.250,<d4,M-2> A,0.333,<M2,d-4> C,0.250,<m2,P-4> C,0.250,<A-4,P-8> C,0.250,<P4,m-2> A,0.250,<P4,m-2> S,0.250,<d5,P1> A,0.333,<P1,d-5> C,0.250,<d4,M-2> C,0.250,<P5,A1>', 'C,0.250 S,0.250,<d4,M-2> A,0.250,<m-2,d-6> C,0.250,<d5,P1> A,0.250,<P1,d-5> C,0.250,<d5,P1> C,0.250,<d1,P-5> A,0.333,<A4,d-2>', 'S,0.333 C,0.500,<m2,P-4> S,0.250,<P1,d-5> C,0.250,<m2,P-4> C,0.250,<P4,m-2> C,0.250,<m3,m-3> S,0.250,<m2,P-4> C,0.500,<m6,M2> C,0.250,<P1,d-5> C,0.250,<m7,M3> C,0.250,<d4,M-2>', 'C,0.250 C,0.333,<d1,P-5> S,0.250,<M-2,m-6> C,0.250,<P11,M7> C,0.250,<M-2,m-6> S,0.333,<d7,m3> C,0.667,<M2,d-4>', 'C,0.250 C,0.250,<d5,P1> C,0.250,<m7,M3> C,0.250,<m2,P-4> C,0.250,<P5,A1> C,0.750,<m3,m-3>', 'S,0.250 C,0.250,<m2,P-4> C,0.250,<M2,d-4> C,0.250,<m2,P-4> A,0.250,<M2,d-4> A,0.250,<m2,P-4> C,0.250,<m2,P-4> A,0.333,<M2,d-4> C,0.250,<d3,M-3> X,0.250,<d1,P-5> S,0.250,<A4,d-2> S,0.250,<d1,P-5>', 'C,0.250 C,0.250,<P1,d-5> C,0.333,<m3,m-3> S,0.333,<m2,P-4> C,0.333,<m2,P-4> C,0.250,<m3,m-3> C,0.250,<P1,d-5> C,0.333,<m3,m-3> C,0.250,<d5,P1> C,0.250,<P5,A1>', 'S,0.250 S,0.250,<P1,d-5> C,0.333,<m7,M3> S,0.333,<d1,P-5> S,0.500,<m7,M3> C,0.250,<P1,d-5> S,0.250,<m3,m-3> A,0.250,<P-4,d-8> C,0.250,<d4,M-2> C,0.250,<d5,P1> C,0.250,<P5,A1>', 'S,0.250 S,0.250,<d1,P-5> S,0.750,<m3,m-3> C,0.250,<P1,d-5> S,0.750,<d5,P1> C,0.250,<P1,d-5> C,0.250,<m3,m-3> S,0.250,<d5,P1> C,0.250,<P4,m-2> C,0.250,<d5,P1>', 'C,0.500 C,0.250,<d4,M-2> C,0.333,<M2,d-4> S,0.250,<d1,P-5> C,0.333,<P5,A1> S,0.250,<d1,P-5> C,0.333,<m3,m-3> C,0.250,<P1,d-5>', 'S,0.333 S,0.250,<d1,P-5> C,0.250,<P1,d-5> S,0.500,<m7,M3> S,0.250,<d1,P-5> C,0.250,<P4,m-2> C,0.250,<m3,m-3> C,0.250,<m-2,d-6> C,0.250,<d2,A-4> C,0.250,<P4,m-2> S,0.667,<d5,P1> C,0.250,<P1,d-5>', 'C,0.250 X,0.250,<A4,d-2> C,0.250,<d2,A-4> S,0.250,<P4,m-2> A,0.250,<P1,d-5> A,0.250,<P4,m-2> S,0.250,<d2,A-4> C,0.250,<P4,m-2> X,0.250,<A4,d-2> C,0.250,<d2,A-4> C,0.250,<m-2,d-6> A,0.250,<d5,P1> C,0.250,<d1,P-5> S,0.250,<d5,P1> A,0.250,<m-2,d-6> A,0.250,<d5,P1> S,0.250,<d1,P-5> C,0.250,<P4,m-2> A,0.250,<P1,d-5>', 'C,0.500 C,0.250,<P4,m-2> C,0.250,<M3,d-3> S,0.250,<dd5,d1> C,0.500,<P4,m-2> C,0.333,<A4,d-2> C,0.667,<d6,m2> C,0.500,<m2,P-4>', 'S,0.250 S,0.667,<m3,m-3> C,0.250,<M3,d-3> X,0.250,<d2,A-4> X,0.250,<m6,M2> X,0.250,<M-2,m-6> C,0.250,<m7,M3> S,0.250,<P4,m-2>']\n"
     ]
    }
   ],
   "source": [
    "print(abstract_grammars)"
   ]
  },
  {
   "cell_type": "code",
   "execution_count": 8,
   "metadata": {},
   "outputs": [
    {
     "name": "stdout",
     "output_type": "stream",
     "text": [
      "OrderedDict([(0, [<music21.instrument.Piano Piano>, <music21.instrument.ElectricGuitar Electric Guitar>, <music21.tempo.MetronomeMark Quarter=112.0>, <music21.key.Key of G major>, <music21.key.KeySignature of 1 sharp>, <music21.meter.TimeSignature 4/4>]), (1, [<music21.chord.Chord E-4 G4 C4 B-3 G#2>, <music21.chord.Chord B-3 F4 D4 A3>]), (2, [<music21.chord.Chord E-4 G3 G#3 C4>, <music21.chord.Chord F4 B-3 D4 G3>]), (3, [<music21.chord.Chord E-4 G#3 C4 F3>, <music21.chord.Chord F4 D4 B-3 G3>]), (4, [<music21.chord.Chord G#3 C#4 F3>, <music21.chord.Chord E-4 C#4 C4>, <music21.chord.Chord B-3 E-3 C4 G3 G#1>]), (5, [<music21.chord.Chord C4 A3 E4 G3 F2>, <music21.chord.Chord E4 C4 A3 G3 F2>, <music21.chord.Chord F3 B-3 A3 D4>]), (6, [<music21.chord.Chord D2 C4 E3 F3 A3>, <music21.chord.Chord B-2 F4 C4 D4 A4>]), (7, [<music21.chord.Chord B-3 E-3 F4 D4 G3>, <music21.chord.Chord F3 A3 C4 E4 D2>, <music21.chord.Chord A3 C4 E4 F3>, <music21.chord.Chord F3 A3 E4 C4 D2>, <music21.chord.Chord B-3 F4 D4 A3>]), (8, [<music21.chord.Chord B-3 A3 F3 D4>, <music21.chord.Chord C4 A3 E4 G3 F2>, <music21.chord.Chord C4 E4 A3 G3>, <music21.chord.Chord E4 C4 A3 G3 F2>, <music21.chord.Chord F3 B-3 A3 D4>]), (9, [<music21.chord.Chord D2 C4 E3 F3 A3>, <music21.chord.Chord A4 C4 D4 A2 F4>]), (10, [<music21.chord.Chord C#4 A3 B3 F4 G2 F3>, <music21.chord.Chord D4 B-3 A3 F4 G2>, <music21.chord.Chord G2 D4 B-3 A3 F4>]), (11, [<music21.chord.Chord G1 D4>, <music21.chord.Chord B-3 A3>, <music21.chord.Chord F4 B-3 D4>]), (12, [<music21.chord.Chord D4 F4 B-3 A3>, <music21.chord.Chord D4 B-3 A3 F4 G2>, <music21.chord.Chord G2 D4 B-3 A3 F4>]), (13, [<music21.chord.Chord G1 D4>, <music21.chord.Chord B-3 A3>, <music21.chord.Chord F4 B-3 D4>]), (14, [<music21.chord.Chord D4 F4 B-3 A3>, <music21.chord.Chord C#4 G#4 F4 C4 B-2 G#3>, <music21.chord.Chord G#4 C#4 F4 C4 B-2 G#3>]), (15, [<music21.chord.Chord G#3 B-2>, <music21.chord.Chord C#4 C4 F4>, <music21.chord.Chord G#4 F4 C4 C#4 G#3>]), (16, [<music21.chord.Chord G#4 F4 C#4 C4>, <music21.chord.Chord C#4 G#4 F4 C4 B-2 G#3>, <music21.chord.Chord G#4 C#4 F4 C4 B-2 G#3>]), (17, [<music21.chord.Chord G#3 C#4 F4>, <music21.chord.Chord F4 G#4 C4 C#4>, <music21.chord.Chord G#3 C#4>]), (18, [<music21.chord.Chord G#3 E-3 C5 G#4 F4 C#4>, <music21.chord.Chord B-3 G4 E-4 C4>])])\n"
     ]
    }
   ],
   "source": [
    "print(chords)"
   ]
  },
  {
   "cell_type": "code",
   "execution_count": 3,
   "metadata": {},
   "outputs": [
    {
     "name": "stdout",
     "output_type": "stream",
     "text": [
      "OrderedDict([(0, [<music21.instrument.Piano Piano>, <music21.tempo.MetronomeMark Quarter=112.0>, <music21.key.Key of G major>, <music21.meter.TimeSignature 4/4>]), (1, [<music21.chord.Chord E-4 G4 C4 B-3 G#2>, <music21.chord.Chord B-3 F4 D4 A3>]), (2, [<music21.chord.Chord E-4 G3 G#3 C4>, <music21.chord.Chord F4 B-3 D4 G3>]), (3, [<music21.chord.Chord E-4 G#3 C4 F3>, <music21.chord.Chord F4 D4 B-3 G3>]), (4, [<music21.chord.Chord G#3 C#4 F3>, <music21.chord.Chord E-4 C#4 C4>, <music21.chord.Chord B-3 E-3 C4 G3 G#1>]), (5, [<music21.chord.Chord C4 A3 E4 G3 F2>, <music21.chord.Chord E4 C4 A3 G3 F2>, <music21.chord.Chord F3 B-3 A3 D4>]), (6, [<music21.chord.Chord D2 C4 E3 F3 A3>, <music21.chord.Chord B-2 F4 C4 D4 A4>, <music21.chord.Chord B-3 E-3 F4 D4 G3>]), (7, [<music21.chord.Chord F3 A3 C4 E4 D2>, <music21.chord.Chord A3 C4 E4 F3>, <music21.chord.Chord F3 A3 E4 C4 D2>, <music21.chord.Chord B-3 F4 D4 A3>]), (8, [<music21.chord.Chord B-3 A3 F3 D4>]), (9, [<music21.chord.Chord C4 A3 E4 G3 F2>, <music21.chord.Chord C4 E4 A3 G3>, <music21.chord.Chord E4 C4 A3 G3 F2>, <music21.chord.Chord F3 B-3 A3 D4>]), (10, [<music21.chord.Chord D2 C4 E3 F3 A3>, <music21.chord.Chord A4 C4 D4 A2 F4>, <music21.chord.Chord C#4 A3 B3 F4 G2 F3>]), (11, [<music21.chord.Chord D4 B-3 A3 F4 G2>, <music21.chord.Chord G2 D4 B-3 A3 F4>]), (12, [<music21.chord.Chord G1 D4>, <music21.chord.Chord B-3 A3>, <music21.chord.Chord F4 B-3 D4>, <music21.chord.Chord D4 F4 B-3 A3>]), (13, [<music21.chord.Chord D4 B-3 A3 F4 G2>, <music21.chord.Chord G2 D4 B-3 A3 F4>]), (14, [<music21.chord.Chord G1 D4>, <music21.chord.Chord B-3 A3>, <music21.chord.Chord F4 B-3 D4>, <music21.chord.Chord D4 F4 B-3 A3>]), (15, [<music21.chord.Chord C#4 G#4 F4 C4 B-2 G#3>, <music21.chord.Chord G#4 C#4 F4 C4 B-2 G#3>]), (16, [<music21.chord.Chord G#3 B-2>, <music21.chord.Chord C#4 C4 F4>, <music21.chord.Chord G#4 F4 C4 C#4 G#3>, <music21.chord.Chord G#4 F4 C#4 C4>]), (17, [<music21.chord.Chord C#4 G#4 F4 C4 B-2 G#3>, <music21.chord.Chord G#4 C#4 F4 C4 B-2 G#3>]), (18, [<music21.chord.Chord G#3 C#4 F4>, <music21.chord.Chord F4 G#4 C4 C#4>, <music21.chord.Chord G#3 C#4>, <music21.chord.Chord G#3 E-3 C5 G#4 F4 C#4>]), (19, [<music21.chord.Chord B-3 G4 E-4 C4>])])\n"
     ]
    }
   ],
   "source": [
    "print(chords)"
   ]
  },
  {
   "cell_type": "code",
   "execution_count": 2,
   "metadata": {},
   "outputs": [
    {
     "name": "stdout",
     "output_type": "stream",
     "text": [
      "[]\n"
     ]
    }
   ],
   "source": [
    "print(abstract_grammars)"
   ]
  },
  {
   "cell_type": "code",
   "execution_count": null,
   "metadata": {},
   "outputs": [],
   "source": []
  }
 ],
 "metadata": {
  "kernelspec": {
   "display_name": "Python 3",
   "language": "python",
   "name": "python3"
  },
  "language_info": {
   "codemirror_mode": {
    "name": "ipython",
    "version": 3
   },
   "file_extension": ".py",
   "mimetype": "text/x-python",
   "name": "python",
   "nbconvert_exporter": "python",
   "pygments_lexer": "ipython3",
   "version": "3.5.2"
  }
 },
 "nbformat": 4,
 "nbformat_minor": 2
}
