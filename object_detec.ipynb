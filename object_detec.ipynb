{
 "cells": [
  {
   "cell_type": "code",
   "execution_count": 2,
   "metadata": {},
   "outputs": [],
   "source": [
    "import numpy as np\n",
    "import argparse\n",
    "import cv2\n",
    "from imutils.video import VideoStream\n",
    "from imutils.video import FPS\n",
    "import numpy as np\n",
    "import argparse\n",
    "import imutils\n",
    "import time\n",
    "import cv2"
   ]
  },
  {
   "cell_type": "code",
   "execution_count": 3,
   "metadata": {},
   "outputs": [],
   "source": [
    "CLASSES = [\"background\", \"aeroplane\", \"bicycle\", \"bird\", \"boat\",\n",
    "\"bottle\", \"bus\", \"car\", \"cat\", \"chair\", \"cow\", \"diningtable\",\n",
    "\"dog\", \"horse\", \"motorbike\", \"person\", \"pottedplant\", \"sheep\",\n",
    "\"sofa\", \"train\", \"tvmonitor\"]\n",
    "COLORS = np.random.uniform(0, 255, size=(len(CLASSES), 3))\n"
   ]
  },
  {
   "cell_type": "code",
   "execution_count": 4,
   "metadata": {},
   "outputs": [],
   "source": [
    "net = cv2.dnn.readNetFromCaffe('MobileNetSSD_deploy.prototxt.txt', 'MobileNetSSD_deploy.caffemodel')"
   ]
  },
  {
   "cell_type": "code",
   "execution_count": 5,
   "metadata": {},
   "outputs": [
    {
     "name": "stdout",
     "output_type": "stream",
     "text": [
      "[INFO] starting video stream...\n"
     ]
    }
   ],
   "source": [
    "print(\"[INFO] starting video stream...\")\n",
    "#vs = VideoStream(src=0).start()\n",
    "#vs=cv2.VideoCapture(\"/home/seshu/chainer-caption/sample_imgs/Ayyappacommunication791.103000.mp4\")\n",
    "vs=cv2.VideoCapture(0)\n",
    "time.sleep(2.0)\n",
    "fps = FPS().start()\n",
    "\n"
   ]
  },
  {
   "cell_type": "code",
   "execution_count": 6,
   "metadata": {},
   "outputs": [
    {
     "ename": "KeyboardInterrupt",
     "evalue": "",
     "output_type": "error",
     "traceback": [
      "\u001b[0;31m---------------------------------------------------------------------------\u001b[0m",
      "\u001b[0;31mKeyboardInterrupt\u001b[0m                         Traceback (most recent call last)",
      "\u001b[0;32m<ipython-input-6-0065c3a09c19>\u001b[0m in \u001b[0;36m<module>\u001b[0;34m()\u001b[0m\n\u001b[1;32m     28\u001b[0m  \u001b[0;31m# predictions\u001b[0m\u001b[0;34m\u001b[0m\u001b[0;34m\u001b[0m\u001b[0m\n\u001b[1;32m     29\u001b[0m  \u001b[0mnet\u001b[0m\u001b[0;34m.\u001b[0m\u001b[0msetInput\u001b[0m\u001b[0;34m(\u001b[0m\u001b[0mblob\u001b[0m\u001b[0;34m)\u001b[0m\u001b[0;34m\u001b[0m\u001b[0m\n\u001b[0;32m---> 30\u001b[0;31m  \u001b[0mdetections\u001b[0m \u001b[0;34m=\u001b[0m \u001b[0mnet\u001b[0m\u001b[0;34m.\u001b[0m\u001b[0mforward\u001b[0m\u001b[0;34m(\u001b[0m\u001b[0;34m)\u001b[0m\u001b[0;34m\u001b[0m\u001b[0m\n\u001b[0m\u001b[1;32m     31\u001b[0m  \u001b[0mcount\u001b[0m\u001b[0;34m=\u001b[0m\u001b[0;36m0\u001b[0m\u001b[0;34m\u001b[0m\u001b[0m\n\u001b[1;32m     32\u001b[0m \u001b[0;34m\u001b[0m\u001b[0m\n",
      "\u001b[0;31mKeyboardInterrupt\u001b[0m: "
     ]
    }
   ],
   "source": [
    "from imutils.video import VideoStream\n",
    "from imutils.video import FPS\n",
    "import numpy as np\n",
    "import argparse\n",
    "import imutils\n",
    "import time\n",
    "import cv2\n",
    "\n",
    "\n",
    "bottomLeftCornerOfText = (10,20)\n",
    "fontScale              = 1\n",
    "fontColor              = (255,255,255)\n",
    "lineType               = 2\n",
    "\n",
    "\n",
    "while True:\n",
    " # grab the frame from the threaded video stream and resize it\n",
    " # to have a maximum width of 400 pixels\n",
    "\n",
    " ret,frame = vs.read()\n",
    " frame = imutils.resize(frame, width=400)\n",
    " \n",
    " # grab the frame dimensions and convert it to a blob\n",
    " (h, w) = frame.shape[:2]\n",
    " blob = cv2.dnn.blobFromImage(cv2.resize(frame, (300, 300)),0.007843, (300, 300), 127.5)\n",
    " \n",
    " # pass the blob through the network and obtain the detections and\n",
    " # predictions\n",
    " net.setInput(blob)\n",
    " detections = net.forward()\n",
    " count=0\n",
    "\n",
    " for i in np.arange(0, detections.shape[2]):\n",
    "  # extract the confidence (i.e., probability) associated with\n",
    "  # the prediction\n",
    "  confidence = detections[0, 0, i, 2]\n",
    " \n",
    "  # filter out weak detections by ensuring the `confidence` is\n",
    "  # greater than the minimum confidence\n",
    "  if confidence > 0.2:\n",
    "  # extract the index of the class label from the\n",
    "  # `detections`, then compute the (x, y)-coordinates of\n",
    "  # the bounding box for the object\n",
    "    \n",
    "    idx = int(detections[0, 0, i, 1])\n",
    "    if idx==15:\n",
    "        count=count+1\n",
    "        box = detections[0, 0, i, 3:7] * np.array([w, h, w, h])\n",
    "        (startX, startY, endX, endY) = box.astype(\"int\")\n",
    " \n",
    "    # draw the prediction on the frame\n",
    "        label = \"{}: {:.2f}%\".format(CLASSES[idx],confidence * 100)\n",
    "        cv2.rectangle(frame, (startX, startY), (endX, endY),COLORS[idx], 2)\n",
    "        y = startY - 15 if startY - 15 > 15 else startY + 15\n",
    "        cv2.putText(frame,label, (startX, y),cv2.FONT_HERSHEY_SIMPLEX, 0.5, COLORS[idx], 2)\n",
    "    \n",
    "\n",
    "# show the output frame\n",
    " count = \"No of persons={}\".format(count)\n",
    " cv2.putText(frame,count, bottomLeftCornerOfText,cv2.FONT_HERSHEY_SIMPLEX, 0.5, fontColor, 2)\n",
    " cv2.imshow(\"Frame\", frame)\n",
    " key = cv2.waitKey(1) & 0xFF\n",
    " \n",
    "# if the `q` key was pressed, break from the loop\n",
    " if key == ord(\"q\"):\n",
    "   break\n",
    " \n",
    "# update the FPS counter\n",
    " fps.update()"
   ]
  },
  {
   "cell_type": "code",
   "execution_count": null,
   "metadata": {},
   "outputs": [],
   "source": []
  }
 ],
 "metadata": {
  "kernelspec": {
   "display_name": "Python 3",
   "language": "python",
   "name": "python3"
  },
  "language_info": {
   "codemirror_mode": {
    "name": "ipython",
    "version": 3
   },
   "file_extension": ".py",
   "mimetype": "text/x-python",
   "name": "python",
   "nbconvert_exporter": "python",
   "pygments_lexer": "ipython3",
   "version": "3.5.2"
  }
 },
 "nbformat": 4,
 "nbformat_minor": 2
}
