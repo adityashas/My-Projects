{
 "cells": [
  {
   "cell_type": "code",
   "execution_count": 106,
   "metadata": {},
   "outputs": [
    {
     "name": "stdout",
     "output_type": "stream",
     "text": [
      "The train data has 348978 rows and 51 columns\n",
      "The test data has 523466 rows and 50 columns\n"
     ]
    }
   ],
   "source": [
    "import pandas as pd\n",
    "import numpy as np\n",
    "train = pd.read_csv('train_1.csv')\n",
    "test = pd.read_csv('test_1.csv')\n",
    "print('The train data has {} rows and {} columns'.format(train.shape[0], train.shape[1]))\n",
    "print('The test data has {} rows and {} columns'.format(test.shape[0], test.shape[1]))"
   ]
  },
  {
   "cell_type": "code",
   "execution_count": 107,
   "metadata": {},
   "outputs": [],
   "source": [
    "target = train['target']\n",
    "train=train.drop('target',axis=1)\n"
   ]
  },
  {
   "cell_type": "code",
   "execution_count": 108,
   "metadata": {},
   "outputs": [],
   "source": [
    "train=train.drop('transaction_id',axis=1)\n",
    "test=test.drop('transaction_id',axis=1)\n"
   ]
  },
  {
   "cell_type": "code",
   "execution_count": 109,
   "metadata": {},
   "outputs": [],
   "source": [
    "df_all = pd.concat([train, test])"
   ]
  },
  {
   "cell_type": "code",
   "execution_count": 88,
   "metadata": {},
   "outputs": [],
   "source": [
    "total=df_all"
   ]
  },
  {
   "cell_type": "code",
   "execution_count": 105,
   "metadata": {},
   "outputs": [
    {
     "data": {
      "text/plain": [
       "num_var_1         0\n",
       "num_var_2         0\n",
       "num_var_3         0\n",
       "num_var_4         0\n",
       "num_var_5         0\n",
       "num_var_6         0\n",
       "num_var_7         0\n",
       "cat_var_1     34474\n",
       "cat_var_2         0\n",
       "cat_var_3     97215\n",
       "cat_var_4         0\n",
       "cat_var_5         0\n",
       "cat_var_6     21943\n",
       "cat_var_7         0\n",
       "cat_var_8         0\n",
       "cat_var_9         0\n",
       "cat_var_10        0\n",
       "cat_var_11        0\n",
       "cat_var_12        0\n",
       "cat_var_13        0\n",
       "cat_var_14        0\n",
       "cat_var_15        0\n",
       "cat_var_16        0\n",
       "cat_var_17        0\n",
       "cat_var_18        0\n",
       "cat_var_19        0\n",
       "cat_var_20        0\n",
       "cat_var_21        0\n",
       "cat_var_22        0\n",
       "cat_var_23        0\n",
       "cat_var_24        0\n",
       "cat_var_25        0\n",
       "cat_var_26        0\n",
       "cat_var_27        0\n",
       "cat_var_28        0\n",
       "cat_var_29        0\n",
       "cat_var_30        0\n",
       "cat_var_31        0\n",
       "cat_var_32        0\n",
       "cat_var_33        0\n",
       "cat_var_34        0\n",
       "cat_var_35        0\n",
       "cat_var_36        0\n",
       "cat_var_37        0\n",
       "cat_var_38        0\n",
       "cat_var_39        0\n",
       "cat_var_40        0\n",
       "cat_var_41        0\n",
       "cat_var_42        0\n",
       "dtype: int64"
      ]
     },
     "execution_count": 105,
     "metadata": {},
     "output_type": "execute_result"
    }
   ],
   "source": [
    "df_all.isnull().sum()"
   ]
  },
  {
   "cell_type": "code",
   "execution_count": 89,
   "metadata": {},
   "outputs": [],
   "source": [
    "data_to_pred=total.loc[total['cat_var_8'].isnull()]"
   ]
  },
  {
   "cell_type": "code",
   "execution_count": 90,
   "metadata": {},
   "outputs": [],
   "source": [
    "test_df=total.dropna(axis=0, how='any')"
   ]
  },
  {
   "cell_type": "code",
   "execution_count": 91,
   "metadata": {},
   "outputs": [
    {
     "name": "stdout",
     "output_type": "stream",
     "text": [
      "(630893, 49)\n"
     ]
    }
   ],
   "source": [
    "print (test_df.shape)\n",
    "target=test_df['cat_var_8']\n",
    "test_df=test_df.drop(['cat_var_8'],axis=1)\n",
    "data_to_pred=data_to_pred.drop(['cat_var_8'],axis=1)\n"
   ]
  },
  {
   "cell_type": "code",
   "execution_count": 93,
   "metadata": {},
   "outputs": [],
   "source": [
    "data_to_pred = data_to_pred.apply(lambda x:x.fillna(x.value_counts().index[0]))\n",
    "total= total.apply(lambda x:x.fillna(x.value_counts().index[0]))"
   ]
  },
  {
   "cell_type": "code",
   "execution_count": 94,
   "metadata": {},
   "outputs": [],
   "source": [
    "cf=test_df.select_dtypes(include=['object']).columns"
   ]
  },
  {
   "cell_type": "code",
   "execution_count": 95,
   "metadata": {},
   "outputs": [
    {
     "name": "stdout",
     "output_type": "stream",
     "text": [
      "Index(['cat_var_1', 'cat_var_2', 'cat_var_3', 'cat_var_4', 'cat_var_5',\n",
      "       'cat_var_6', 'cat_var_7', 'cat_var_9', 'cat_var_10', 'cat_var_11',\n",
      "       'cat_var_12', 'cat_var_13', 'cat_var_14', 'cat_var_15', 'cat_var_16',\n",
      "       'cat_var_17', 'cat_var_18'],\n",
      "      dtype='object')\n"
     ]
    }
   ],
   "source": [
    "print(cf)"
   ]
  },
  {
   "cell_type": "code",
   "execution_count": 96,
   "metadata": {},
   "outputs": [
    {
     "name": "stdout",
     "output_type": "stream",
     "text": [
      "cat_var_1\n",
      "cat_var_2\n",
      "cat_var_3\n",
      "cat_var_4\n",
      "cat_var_5\n",
      "cat_var_6\n",
      "cat_var_7\n",
      "cat_var_9\n",
      "cat_var_10\n",
      "cat_var_11\n",
      "cat_var_12\n",
      "cat_var_13\n",
      "cat_var_14\n",
      "cat_var_15\n",
      "cat_var_16\n",
      "cat_var_17\n",
      "cat_var_18\n"
     ]
    }
   ],
   "source": [
    "from sklearn import preprocessing\n",
    "le = preprocessing.LabelEncoder()\n",
    "for i in cf:\n",
    "    print(i)\n",
    "    le.fit(total[i])\n",
    "    test_df[i]=le.transform(test_df[i])\n",
    "    data_to_pred[i]=le.transform(data_to_pred[i])\n"
   ]
  },
  {
   "cell_type": "code",
   "execution_count": 44,
   "metadata": {},
   "outputs": [
    {
     "name": "stdout",
     "output_type": "stream",
     "text": [
      "      num_var_1  num_var_2  num_var_3     num_var_4     num_var_5  \\\n",
      "0  2.302632e-08   0.040182          0  1.800000e-07  2.302632e-08   \n",
      "1  7.965789e-06   0.157872          0  2.105000e-06  2.769737e-07   \n",
      "4  3.321053e-06   0.160410          0  2.105000e-06  2.769737e-07   \n",
      "7  5.789474e-08   0.152374          0  2.105000e-06  2.769737e-07   \n",
      "9  5.500000e-07   0.158401          0  2.105000e-06  2.769737e-07   \n",
      "\n",
      "      num_var_6     num_var_7 cat_var_1 cat_var_2 cat_var_3    ...      \\\n",
      "0  2.368421e-08  1.115205e-08        da        ce        db    ...       \n",
      "1  7.965789e-06  2.433058e-06        da        tn        zl    ...       \n",
      "4  3.340789e-06  2.152983e-06        da        tn        zn    ...       \n",
      "7  5.789474e-08  2.453451e-08        da        tn        xp    ...       \n",
      "9  5.500000e-07  3.138505e-07        da        tn        tl    ...       \n",
      "\n",
      "  cat_var_33 cat_var_34 cat_var_35 cat_var_36 cat_var_37 cat_var_38  \\\n",
      "0          0          0          0          0          0          0   \n",
      "1          0          0          0          0          0          0   \n",
      "4          0          0          0          0          0          0   \n",
      "7          0          0          0          0          0          0   \n",
      "9          0          0          0          0          0          0   \n",
      "\n",
      "  cat_var_39 cat_var_40 cat_var_41 cat_var_42  \n",
      "0          0          0          0          0  \n",
      "1          0          0          0          0  \n",
      "4          0          0          0          0  \n",
      "7          0          0          0          0  \n",
      "9          0          0          0          0  \n",
      "\n",
      "[5 rows x 48 columns]\n"
     ]
    }
   ],
   "source": [
    " print(data_to_pred.head())"
   ]
  },
  {
   "cell_type": "code",
   "execution_count": 97,
   "metadata": {},
   "outputs": [],
   "source": [
    "from sklearn.cross_validation import train_test_split\n",
    "X_tr,X_te,y_tr,y_te=train_test_split(test_df,target,test_size=0.2,random_state=400)\n"
   ]
  },
  {
   "cell_type": "code",
   "execution_count": 11,
   "metadata": {},
   "outputs": [
    {
     "name": "stdout",
     "output_type": "stream",
     "text": [
      "2     dn\n",
      "5     dn\n",
      "6     hn\n",
      "11    dn\n",
      "13    hd\n",
      "Name: cat_var_8, dtype: object\n"
     ]
    }
   ],
   "source": [
    "print(target.head(n=5))"
   ]
  },
  {
   "cell_type": "code",
   "execution_count": 11,
   "metadata": {},
   "outputs": [
    {
     "name": "stdout",
     "output_type": "stream",
     "text": [
      "464\n"
     ]
    }
   ],
   "source": [
    "from sklearn.preprocessing import LabelEncoder\n",
    "en=LabelEncoder()\n",
    "trail=en.fit_transform(target)\n",
    "print(len(en.classes_))"
   ]
  },
  {
   "cell_type": "code",
   "execution_count": 98,
   "metadata": {},
   "outputs": [
    {
     "name": "stdout",
     "output_type": "stream",
     "text": [
      "training complete\n",
      "r2 score train and evaluation of random forest is 0.9999861307592023,0.997883958503396\n"
     ]
    }
   ],
   "source": [
    "from sklearn.metrics import accuracy_score\n",
    "\n",
    "from sklearn.ensemble import RandomForestClassifier\n",
    "random=RandomForestClassifier()\n",
    "random.fit(X_tr, y_tr)\n",
    "\n",
    "random_pred=random.predict(X_tr)\n",
    "random_pred1=random.predict(X_te)\n",
    "r2=accuracy_score(y_tr,random_pred)\n",
    "r2_1=accuracy_score(y_te,random_pred1)\n",
    "print('training complete')\n",
    "print(\"r2 score train and evaluation of random forest is {},{}\".format(r2,r2_1))\n",
    "\n"
   ]
  },
  {
   "cell_type": "code",
   "execution_count": 21,
   "metadata": {},
   "outputs": [
    {
     "data": {
      "text/html": [
       "<div>\n",
       "<table border=\"1\" class=\"dataframe\">\n",
       "  <thead>\n",
       "    <tr style=\"text-align: right;\">\n",
       "      <th></th>\n",
       "      <th>num_var_1</th>\n",
       "      <th>num_var_2</th>\n",
       "      <th>num_var_3</th>\n",
       "      <th>num_var_4</th>\n",
       "      <th>num_var_5</th>\n",
       "      <th>num_var_6</th>\n",
       "      <th>num_var_7</th>\n",
       "      <th>cat_var_1</th>\n",
       "      <th>cat_var_2</th>\n",
       "      <th>cat_var_3</th>\n",
       "      <th>...</th>\n",
       "      <th>cat_var_33</th>\n",
       "      <th>cat_var_34</th>\n",
       "      <th>cat_var_35</th>\n",
       "      <th>cat_var_36</th>\n",
       "      <th>cat_var_37</th>\n",
       "      <th>cat_var_38</th>\n",
       "      <th>cat_var_39</th>\n",
       "      <th>cat_var_40</th>\n",
       "      <th>cat_var_41</th>\n",
       "      <th>cat_var_42</th>\n",
       "    </tr>\n",
       "  </thead>\n",
       "  <tbody>\n",
       "    <tr>\n",
       "      <th>125768</th>\n",
       "      <td>3.026316e-08</td>\n",
       "      <td>0.085439</td>\n",
       "      <td>0</td>\n",
       "      <td>3.550000e-07</td>\n",
       "      <td>4.671053e-08</td>\n",
       "      <td>4.407895e-08</td>\n",
       "      <td>1.465698e-08</td>\n",
       "      <td>127</td>\n",
       "      <td>3</td>\n",
       "      <td>174</td>\n",
       "      <td>...</td>\n",
       "      <td>0</td>\n",
       "      <td>0</td>\n",
       "      <td>0</td>\n",
       "      <td>0</td>\n",
       "      <td>0</td>\n",
       "      <td>0</td>\n",
       "      <td>0</td>\n",
       "      <td>0</td>\n",
       "      <td>0</td>\n",
       "      <td>0</td>\n",
       "    </tr>\n",
       "    <tr>\n",
       "      <th>503128</th>\n",
       "      <td>1.697368e-07</td>\n",
       "      <td>0.150048</td>\n",
       "      <td>0</td>\n",
       "      <td>2.105000e-06</td>\n",
       "      <td>2.769737e-07</td>\n",
       "      <td>1.697368e-07</td>\n",
       "      <td>1.822563e-07</td>\n",
       "      <td>65</td>\n",
       "      <td>50</td>\n",
       "      <td>26</td>\n",
       "      <td>...</td>\n",
       "      <td>0</td>\n",
       "      <td>0</td>\n",
       "      <td>0</td>\n",
       "      <td>0</td>\n",
       "      <td>0</td>\n",
       "      <td>0</td>\n",
       "      <td>0</td>\n",
       "      <td>0</td>\n",
       "      <td>0</td>\n",
       "      <td>0</td>\n",
       "    </tr>\n",
       "    <tr>\n",
       "      <th>111281</th>\n",
       "      <td>4.358487e-05</td>\n",
       "      <td>0.282859</td>\n",
       "      <td>0</td>\n",
       "      <td>9.310000e-06</td>\n",
       "      <td>5.032895e-07</td>\n",
       "      <td>4.548158e-05</td>\n",
       "      <td>1.493578e-05</td>\n",
       "      <td>368</td>\n",
       "      <td>3</td>\n",
       "      <td>419</td>\n",
       "      <td>...</td>\n",
       "      <td>0</td>\n",
       "      <td>0</td>\n",
       "      <td>0</td>\n",
       "      <td>0</td>\n",
       "      <td>0</td>\n",
       "      <td>0</td>\n",
       "      <td>0</td>\n",
       "      <td>0</td>\n",
       "      <td>0</td>\n",
       "      <td>0</td>\n",
       "    </tr>\n",
       "    <tr>\n",
       "      <th>446083</th>\n",
       "      <td>4.802632e-08</td>\n",
       "      <td>0.150788</td>\n",
       "      <td>0</td>\n",
       "      <td>2.105000e-06</td>\n",
       "      <td>2.769737e-07</td>\n",
       "      <td>4.802632e-08</td>\n",
       "      <td>2.134821e-08</td>\n",
       "      <td>65</td>\n",
       "      <td>50</td>\n",
       "      <td>567</td>\n",
       "      <td>...</td>\n",
       "      <td>0</td>\n",
       "      <td>0</td>\n",
       "      <td>0</td>\n",
       "      <td>0</td>\n",
       "      <td>0</td>\n",
       "      <td>0</td>\n",
       "      <td>0</td>\n",
       "      <td>0</td>\n",
       "      <td>0</td>\n",
       "      <td>0</td>\n",
       "    </tr>\n",
       "    <tr>\n",
       "      <th>428730</th>\n",
       "      <td>3.157895e-08</td>\n",
       "      <td>0.162314</td>\n",
       "      <td>0</td>\n",
       "      <td>2.105000e-06</td>\n",
       "      <td>2.769737e-07</td>\n",
       "      <td>3.157895e-08</td>\n",
       "      <td>1.274520e-08</td>\n",
       "      <td>65</td>\n",
       "      <td>50</td>\n",
       "      <td>107</td>\n",
       "      <td>...</td>\n",
       "      <td>0</td>\n",
       "      <td>0</td>\n",
       "      <td>0</td>\n",
       "      <td>0</td>\n",
       "      <td>0</td>\n",
       "      <td>0</td>\n",
       "      <td>0</td>\n",
       "      <td>0</td>\n",
       "      <td>0</td>\n",
       "      <td>0</td>\n",
       "    </tr>\n",
       "  </tbody>\n",
       "</table>\n",
       "<p>5 rows × 48 columns</p>\n",
       "</div>"
      ],
      "text/plain": [
       "           num_var_1  num_var_2  num_var_3     num_var_4     num_var_5  \\\n",
       "125768  3.026316e-08   0.085439          0  3.550000e-07  4.671053e-08   \n",
       "503128  1.697368e-07   0.150048          0  2.105000e-06  2.769737e-07   \n",
       "111281  4.358487e-05   0.282859          0  9.310000e-06  5.032895e-07   \n",
       "446083  4.802632e-08   0.150788          0  2.105000e-06  2.769737e-07   \n",
       "428730  3.157895e-08   0.162314          0  2.105000e-06  2.769737e-07   \n",
       "\n",
       "           num_var_6     num_var_7  cat_var_1  cat_var_2  cat_var_3  \\\n",
       "125768  4.407895e-08  1.465698e-08        127          3        174   \n",
       "503128  1.697368e-07  1.822563e-07         65         50         26   \n",
       "111281  4.548158e-05  1.493578e-05        368          3        419   \n",
       "446083  4.802632e-08  2.134821e-08         65         50        567   \n",
       "428730  3.157895e-08  1.274520e-08         65         50        107   \n",
       "\n",
       "           ...      cat_var_33  cat_var_34  cat_var_35  cat_var_36  \\\n",
       "125768     ...               0           0           0           0   \n",
       "503128     ...               0           0           0           0   \n",
       "111281     ...               0           0           0           0   \n",
       "446083     ...               0           0           0           0   \n",
       "428730     ...               0           0           0           0   \n",
       "\n",
       "        cat_var_37  cat_var_38  cat_var_39  cat_var_40  cat_var_41  cat_var_42  \n",
       "125768           0           0           0           0           0           0  \n",
       "503128           0           0           0           0           0           0  \n",
       "111281           0           0           0           0           0           0  \n",
       "446083           0           0           0           0           0           0  \n",
       "428730           0           0           0           0           0           0  \n",
       "\n",
       "[5 rows x 48 columns]"
      ]
     },
     "execution_count": 21,
     "metadata": {},
     "output_type": "execute_result"
    }
   ],
   "source": [
    "X_tr.head(n=5)"
   ]
  },
  {
   "cell_type": "code",
   "execution_count": 100,
   "metadata": {},
   "outputs": [],
   "source": [
    "#data_to_pred=data_to_pred.drop(['cat_var_8'],axis=1)"
   ]
  },
  {
   "cell_type": "code",
   "execution_count": 25,
   "metadata": {},
   "outputs": [],
   "source": [
    "#cf=data_to_pred.select_dtypes(include=['object']).columns"
   ]
  },
  {
   "cell_type": "code",
   "execution_count": 101,
   "metadata": {},
   "outputs": [],
   "source": [
    "#from sklearn import preprocessing\n",
    "#le = preprocessing.LabelEncoder()\n",
    "#for i in cf:\n",
    "    #le.fit(test_df[i])\n",
    "    #data_to_pred[i]=le.transform(data_to_pred[i])\n"
   ]
  },
  {
   "cell_type": "code",
   "execution_count": 99,
   "metadata": {},
   "outputs": [],
   "source": [
    "p=random.predict(data_to_pred)"
   ]
  },
  {
   "cell_type": "code",
   "execution_count": 102,
   "metadata": {},
   "outputs": [
    {
     "name": "stderr",
     "output_type": "stream",
     "text": [
      "/usr/local/lib/python3.5/dist-packages/pandas/core/indexing.py:115: SettingWithCopyWarning: \n",
      "A value is trying to be set on a copy of a slice from a DataFrame\n",
      "\n",
      "See the the caveats in the documentation: http://pandas.pydata.org/pandas-docs/stable/indexing.html#indexing-view-versus-copy\n",
      "  self._setitem_with_indexer(indexer, value)\n"
     ]
    }
   ],
   "source": [
    "df_all['cat_var_8'].loc[df_all['cat_var_8'].isnull()]=p"
   ]
  },
  {
   "cell_type": "code",
   "execution_count": 103,
   "metadata": {},
   "outputs": [],
   "source": [
    "\n",
    "df_all.to_csv('new_df_all.csv', index=False)\n"
   ]
  },
  {
   "cell_type": "code",
   "execution_count": 110,
   "metadata": {},
   "outputs": [
    {
     "name": "stdout",
     "output_type": "stream",
     "text": [
      "(872444, 49)\n"
     ]
    }
   ],
   "source": [
    "print(df_all.shape)"
   ]
  },
  {
   "cell_type": "markdown",
   "metadata": {},
   "source": [
    "# imputing another var"
   ]
  },
  {
   "cell_type": "code",
   "execution_count": 1,
   "metadata": {},
   "outputs": [
    {
     "name": "stdout",
     "output_type": "stream",
     "text": [
      "The train data has 348978 rows and 51 columns\n",
      "The test data has 523466 rows and 50 columns\n"
     ]
    }
   ],
   "source": [
    "import pandas as pd\n",
    "import numpy as np\n",
    "train = pd.read_csv('train_1.csv')\n",
    "test = pd.read_csv('test_1.csv')\n",
    "print('The train data has {} rows and {} columns'.format(train.shape[0], train.shape[1]))\n",
    "print('The test data has {} rows and {} columns'.format(test.shape[0], test.shape[1]))\n"
   ]
  },
  {
   "cell_type": "code",
   "execution_count": 2,
   "metadata": {},
   "outputs": [],
   "source": [
    "target = train['target']\n",
    "train=train.drop('target',axis=1)\n"
   ]
  },
  {
   "cell_type": "code",
   "execution_count": 3,
   "metadata": {},
   "outputs": [],
   "source": [
    "train=train.drop('transaction_id',axis=1)\n",
    "test=test.drop('transaction_id',axis=1)\n"
   ]
  },
  {
   "cell_type": "code",
   "execution_count": 4,
   "metadata": {},
   "outputs": [],
   "source": [
    "df_all = pd.concat([train, test])"
   ]
  },
  {
   "cell_type": "code",
   "execution_count": 5,
   "metadata": {},
   "outputs": [],
   "source": [
    "total=df_all"
   ]
  },
  {
   "cell_type": "code",
   "execution_count": 116,
   "metadata": {},
   "outputs": [
    {
     "data": {
      "text/plain": [
       "num_var_1          0\n",
       "num_var_2          0\n",
       "num_var_3          0\n",
       "num_var_4          0\n",
       "num_var_5          0\n",
       "num_var_6          0\n",
       "num_var_7          0\n",
       "cat_var_1      34474\n",
       "cat_var_2          0\n",
       "cat_var_3      97215\n",
       "cat_var_4          0\n",
       "cat_var_5          0\n",
       "cat_var_6      21943\n",
       "cat_var_7          0\n",
       "cat_var_8     117876\n",
       "cat_var_9          0\n",
       "cat_var_10         0\n",
       "cat_var_11         0\n",
       "cat_var_12         0\n",
       "cat_var_13         0\n",
       "cat_var_14         0\n",
       "cat_var_15         0\n",
       "cat_var_16         0\n",
       "cat_var_17         0\n",
       "cat_var_18         0\n",
       "cat_var_19         0\n",
       "cat_var_20         0\n",
       "cat_var_21         0\n",
       "cat_var_22         0\n",
       "cat_var_23         0\n",
       "cat_var_24         0\n",
       "cat_var_25         0\n",
       "cat_var_26         0\n",
       "cat_var_27         0\n",
       "cat_var_28         0\n",
       "cat_var_29         0\n",
       "cat_var_30         0\n",
       "cat_var_31         0\n",
       "cat_var_32         0\n",
       "cat_var_33         0\n",
       "cat_var_34         0\n",
       "cat_var_35         0\n",
       "cat_var_36         0\n",
       "cat_var_37         0\n",
       "cat_var_38         0\n",
       "cat_var_39         0\n",
       "cat_var_40         0\n",
       "cat_var_41         0\n",
       "cat_var_42         0\n",
       "dtype: int64"
      ]
     },
     "execution_count": 116,
     "metadata": {},
     "output_type": "execute_result"
    }
   ],
   "source": [
    "df_all.isnull().sum()"
   ]
  },
  {
   "cell_type": "code",
   "execution_count": 6,
   "metadata": {},
   "outputs": [],
   "source": [
    "data_to_pred=total.loc[total['cat_var_3'].isnull()]"
   ]
  },
  {
   "cell_type": "code",
   "execution_count": 7,
   "metadata": {},
   "outputs": [],
   "source": [
    "test_df=total.dropna(axis=0, how='any')"
   ]
  },
  {
   "cell_type": "code",
   "execution_count": 8,
   "metadata": {},
   "outputs": [
    {
     "name": "stdout",
     "output_type": "stream",
     "text": [
      "(630893, 49)\n"
     ]
    }
   ],
   "source": [
    "print (test_df.shape)\n",
    "target=test_df['cat_var_3']\n",
    "test_df=test_df.drop(['cat_var_3'],axis=1)\n",
    "data_to_pred=data_to_pred.drop(['cat_var_3'],axis=1)\n"
   ]
  },
  {
   "cell_type": "code",
   "execution_count": 9,
   "metadata": {},
   "outputs": [],
   "source": [
    "data_to_pred = data_to_pred.apply(lambda x:x.fillna(x.value_counts().index[0]))\n",
    "total= total.apply(lambda x:x.fillna(x.value_counts().index[0]))"
   ]
  },
  {
   "cell_type": "code",
   "execution_count": 10,
   "metadata": {},
   "outputs": [],
   "source": [
    "cf=test_df.select_dtypes(include=['object']).columns"
   ]
  },
  {
   "cell_type": "code",
   "execution_count": 11,
   "metadata": {},
   "outputs": [
    {
     "name": "stdout",
     "output_type": "stream",
     "text": [
      "cat_var_1\n",
      "cat_var_2\n",
      "cat_var_4\n",
      "cat_var_5\n",
      "cat_var_6\n",
      "cat_var_7\n",
      "cat_var_8\n",
      "cat_var_9\n",
      "cat_var_10\n",
      "cat_var_11\n",
      "cat_var_12\n",
      "cat_var_13\n",
      "cat_var_14\n",
      "cat_var_15\n",
      "cat_var_16\n",
      "cat_var_17\n",
      "cat_var_18\n"
     ]
    }
   ],
   "source": [
    "from sklearn import preprocessing\n",
    "le = preprocessing.LabelEncoder()\n",
    "for i in cf:\n",
    "    print(i)\n",
    "    le.fit(total[i])\n",
    "    test_df[i]=le.transform(test_df[i])\n",
    "    data_to_pred[i]=le.transform(data_to_pred[i])\n"
   ]
  },
  {
   "cell_type": "code",
   "execution_count": 12,
   "metadata": {},
   "outputs": [
    {
     "name": "stderr",
     "output_type": "stream",
     "text": [
      "/usr/local/lib/python3.5/dist-packages/sklearn/cross_validation.py:41: DeprecationWarning: This module was deprecated in version 0.18 in favor of the model_selection module into which all the refactored classes and functions are moved. Also note that the interface of the new CV iterators are different from that of this module. This module will be removed in 0.20.\n",
      "  \"This module will be removed in 0.20.\", DeprecationWarning)\n"
     ]
    }
   ],
   "source": [
    "from sklearn.cross_validation import train_test_split\n",
    "X_tr,X_te,y_tr,y_te=train_test_split(test_df,target,test_size=0.2,random_state=400)\n"
   ]
  },
  {
   "cell_type": "code",
   "execution_count": 13,
   "metadata": {},
   "outputs": [
    {
     "name": "stdout",
     "output_type": "stream",
     "text": [
      "training complete\n",
      "r2 score train and evaluation of random forest is 0.4231168542976815,0.256326330054922\n"
     ]
    }
   ],
   "source": [
    "from sklearn.metrics import accuracy_score\n",
    "\n",
    "from sklearn.ensemble import RandomForestClassifier\n",
    "random=RandomForestClassifier()\n",
    "random.fit(X_tr, y_tr)\n",
    "\n",
    "random_pred=random.predict(X_tr)\n",
    "random_pred1=random.predict(X_te)\n",
    "r2=accuracy_score(y_tr,random_pred)\n",
    "r2_1=accuracy_score(y_te,random_pred1)\n",
    "print('training complete')\n",
    "print(\"r2 score train and evaluation of random forest is {},{}\".format(r2,r2_1))\n",
    "\n"
   ]
  },
  {
   "cell_type": "code",
   "execution_count": 16,
   "metadata": {},
   "outputs": [
    {
     "data": {
      "text/plain": [
       "DecisionTreeClassifier(class_weight=None, criterion='gini', max_depth=None,\n",
       "            max_features=None, max_leaf_nodes=None,\n",
       "            min_impurity_decrease=0.0, min_impurity_split=None,\n",
       "            min_samples_leaf=1, min_samples_split=2,\n",
       "            min_weight_fraction_leaf=0.0, presort=False, random_state=None,\n",
       "            splitter='best')"
      ]
     },
     "execution_count": 16,
     "metadata": {},
     "output_type": "execute_result"
    }
   ],
   "source": [
    "from sklearn.metrics import accuracy_score\n",
    "\n",
    "from sklearn.tree import DecisionTreeClassifier\n",
    "clf=DecisionTreeClassifier()\n",
    "clf.fit(test_df,target)\n",
    "\n",
    "#random_pred2=clf.predict(X_tr)\n",
    "#random_pred3=clf.predict(X_te)\n",
    "#r2=accuracy_score(y_tr,random_pred2)\n",
    "#r2_1=accuracy_score(y_te,random_pred3)\n",
    "#print('training complete')\n",
    "#print(\"r2 score train and evaluation of random forest is {},{}\".format(r2,r2_1))\n",
    "\n"
   ]
  },
  {
   "cell_type": "code",
   "execution_count": 17,
   "metadata": {},
   "outputs": [],
   "source": [
    "p=clf.predict(data_to_pred)"
   ]
  },
  {
   "cell_type": "code",
   "execution_count": 18,
   "metadata": {},
   "outputs": [
    {
     "name": "stderr",
     "output_type": "stream",
     "text": [
      "/usr/local/lib/python3.5/dist-packages/pandas/core/indexing.py:115: SettingWithCopyWarning: \n",
      "A value is trying to be set on a copy of a slice from a DataFrame\n",
      "\n",
      "See the the caveats in the documentation: http://pandas.pydata.org/pandas-docs/stable/indexing.html#indexing-view-versus-copy\n",
      "  self._setitem_with_indexer(indexer, value)\n"
     ]
    }
   ],
   "source": [
    "df_all['cat_var_3'].loc[df_all['cat_var_3'].isnull()]=p"
   ]
  },
  {
   "cell_type": "code",
   "execution_count": 19,
   "metadata": {},
   "outputs": [],
   "source": [
    "df_all.to_csv('new_df_all_cat3.csv', index=False)\n"
   ]
  },
  {
   "cell_type": "code",
   "execution_count": 23,
   "metadata": {},
   "outputs": [],
   "source": [
    "df=pd.read_csv('new_df_all.csv')\n",
    "df_new=pd.read_csv('new_df_all_cat3.csv')"
   ]
  },
  {
   "cell_type": "code",
   "execution_count": 24,
   "metadata": {},
   "outputs": [],
   "source": [
    "df['cat_var_3_new']=df_new['cat_var_3']"
   ]
  },
  {
   "cell_type": "code",
   "execution_count": 19,
   "metadata": {},
   "outputs": [
    {
     "data": {
      "text/plain": [
       "num_var_1            0\n",
       "num_var_2            0\n",
       "num_var_3            0\n",
       "num_var_4            0\n",
       "num_var_5            0\n",
       "num_var_6            0\n",
       "num_var_7            0\n",
       "cat_var_1        34474\n",
       "cat_var_2            0\n",
       "cat_var_3        97215\n",
       "cat_var_4            0\n",
       "cat_var_5            0\n",
       "cat_var_6        21943\n",
       "cat_var_7            0\n",
       "cat_var_8            0\n",
       "cat_var_9            0\n",
       "cat_var_10           0\n",
       "cat_var_11           0\n",
       "cat_var_12           0\n",
       "cat_var_13           0\n",
       "cat_var_14           0\n",
       "cat_var_15           0\n",
       "cat_var_16           0\n",
       "cat_var_17           0\n",
       "cat_var_18           0\n",
       "cat_var_19           0\n",
       "cat_var_20           0\n",
       "cat_var_21           0\n",
       "cat_var_22           0\n",
       "cat_var_23           0\n",
       "cat_var_24           0\n",
       "cat_var_25           0\n",
       "cat_var_26           0\n",
       "cat_var_27           0\n",
       "cat_var_28           0\n",
       "cat_var_29           0\n",
       "cat_var_30           0\n",
       "cat_var_31           0\n",
       "cat_var_32           0\n",
       "cat_var_33           0\n",
       "cat_var_34           0\n",
       "cat_var_35           0\n",
       "cat_var_36           0\n",
       "cat_var_37           0\n",
       "cat_var_38           0\n",
       "cat_var_39           0\n",
       "cat_var_40           0\n",
       "cat_var_41           0\n",
       "cat_var_42           0\n",
       "cat_var_3_new        0\n",
       "cat_var_6_new        0\n",
       "dtype: int64"
      ]
     },
     "execution_count": 19,
     "metadata": {},
     "output_type": "execute_result"
    }
   ],
   "source": [
    "df.isnull().sum()"
   ]
  },
  {
   "cell_type": "code",
   "execution_count": 26,
   "metadata": {},
   "outputs": [],
   "source": [
    "df.to_csv('new_df_all_with_two.csv', index=False)\n"
   ]
  },
  {
   "cell_type": "markdown",
   "metadata": {},
   "source": [
    "# Third Variable"
   ]
  },
  {
   "cell_type": "code",
   "execution_count": 1,
   "metadata": {},
   "outputs": [
    {
     "name": "stdout",
     "output_type": "stream",
     "text": [
      "The train data has 348978 rows and 51 columns\n",
      "The test data has 523466 rows and 50 columns\n"
     ]
    }
   ],
   "source": [
    "import pandas as pd\n",
    "import numpy as np\n",
    "train = pd.read_csv('train_1.csv')\n",
    "test = pd.read_csv('test_1.csv')\n",
    "print('The train data has {} rows and {} columns'.format(train.shape[0], train.shape[1]))\n",
    "print('The test data has {} rows and {} columns'.format(test.shape[0], test.shape[1]))\n"
   ]
  },
  {
   "cell_type": "code",
   "execution_count": 2,
   "metadata": {},
   "outputs": [],
   "source": [
    "target = train['target']\n",
    "train=train.drop('target',axis=1)\n"
   ]
  },
  {
   "cell_type": "code",
   "execution_count": 3,
   "metadata": {},
   "outputs": [],
   "source": [
    "train=train.drop('transaction_id',axis=1)\n",
    "test=test.drop('transaction_id',axis=1)\n"
   ]
  },
  {
   "cell_type": "code",
   "execution_count": 4,
   "metadata": {},
   "outputs": [],
   "source": [
    "df_all = pd.concat([train, test])"
   ]
  },
  {
   "cell_type": "code",
   "execution_count": 5,
   "metadata": {},
   "outputs": [],
   "source": [
    "total=df_all"
   ]
  },
  {
   "cell_type": "code",
   "execution_count": 6,
   "metadata": {},
   "outputs": [],
   "source": [
    "data_to_pred=total.loc[total['cat_var_6'].isnull()]"
   ]
  },
  {
   "cell_type": "code",
   "execution_count": 7,
   "metadata": {},
   "outputs": [],
   "source": [
    "test_df=total.dropna(axis=0, how='any')"
   ]
  },
  {
   "cell_type": "code",
   "execution_count": 8,
   "metadata": {},
   "outputs": [
    {
     "name": "stdout",
     "output_type": "stream",
     "text": [
      "(630893, 49)\n"
     ]
    }
   ],
   "source": [
    "print (test_df.shape)\n",
    "target=test_df['cat_var_6']\n",
    "test_df=test_df.drop(['cat_var_6'],axis=1)\n",
    "data_to_pred=data_to_pred.drop(['cat_var_6'],axis=1)\n"
   ]
  },
  {
   "cell_type": "code",
   "execution_count": 9,
   "metadata": {},
   "outputs": [],
   "source": [
    "data_to_pred = data_to_pred.apply(lambda x:x.fillna(x.value_counts().index[0]))\n",
    "total= total.apply(lambda x:x.fillna(x.value_counts().index[0]))"
   ]
  },
  {
   "cell_type": "code",
   "execution_count": 10,
   "metadata": {},
   "outputs": [],
   "source": [
    "cf=test_df.select_dtypes(include=['object']).columns"
   ]
  },
  {
   "cell_type": "code",
   "execution_count": 11,
   "metadata": {},
   "outputs": [
    {
     "name": "stdout",
     "output_type": "stream",
     "text": [
      "cat_var_1\n",
      "cat_var_2\n",
      "cat_var_3\n",
      "cat_var_4\n",
      "cat_var_5\n",
      "cat_var_7\n",
      "cat_var_8\n",
      "cat_var_9\n",
      "cat_var_10\n",
      "cat_var_11\n",
      "cat_var_12\n",
      "cat_var_13\n",
      "cat_var_14\n",
      "cat_var_15\n",
      "cat_var_16\n",
      "cat_var_17\n",
      "cat_var_18\n"
     ]
    }
   ],
   "source": [
    "from sklearn import preprocessing\n",
    "le = preprocessing.LabelEncoder()\n",
    "for i in cf:\n",
    "    print(i)\n",
    "    le.fit(total[i])\n",
    "    test_df[i]=le.transform(test_df[i])\n",
    "    data_to_pred[i]=le.transform(data_to_pred[i])\n"
   ]
  },
  {
   "cell_type": "code",
   "execution_count": 12,
   "metadata": {},
   "outputs": [
    {
     "name": "stderr",
     "output_type": "stream",
     "text": [
      "/usr/local/lib/python3.5/dist-packages/sklearn/cross_validation.py:41: DeprecationWarning: This module was deprecated in version 0.18 in favor of the model_selection module into which all the refactored classes and functions are moved. Also note that the interface of the new CV iterators are different from that of this module. This module will be removed in 0.20.\n",
      "  \"This module will be removed in 0.20.\", DeprecationWarning)\n"
     ]
    }
   ],
   "source": [
    "from sklearn.cross_validation import train_test_split\n",
    "X_tr,X_te,y_tr,y_te=train_test_split(test_df,target,test_size=0.2,random_state=400)\n"
   ]
  },
  {
   "cell_type": "code",
   "execution_count": 13,
   "metadata": {},
   "outputs": [
    {
     "name": "stdout",
     "output_type": "stream",
     "text": [
      "training complete\n",
      "r2 score train and evaluation of random forest is 0.9630008281918077,0.905531031312659\n"
     ]
    }
   ],
   "source": [
    "from sklearn.metrics import accuracy_score\n",
    "\n",
    "from sklearn.ensemble import RandomForestClassifier\n",
    "random=RandomForestClassifier()\n",
    "random.fit(X_tr, y_tr)\n",
    "\n",
    "random_pred=random.predict(X_tr)\n",
    "random_pred1=random.predict(X_te)\n",
    "r2=accuracy_score(y_tr,random_pred)\n",
    "r2_1=accuracy_score(y_te,random_pred1)\n",
    "print('training complete')\n",
    "print(\"r2 score train and evaluation of random forest is {},{}\".format(r2,r2_1))\n"
   ]
  },
  {
   "cell_type": "code",
   "execution_count": 14,
   "metadata": {},
   "outputs": [],
   "source": [
    "p=random.predict(data_to_pred)"
   ]
  },
  {
   "cell_type": "code",
   "execution_count": 15,
   "metadata": {},
   "outputs": [
    {
     "name": "stderr",
     "output_type": "stream",
     "text": [
      "/usr/local/lib/python3.5/dist-packages/pandas/core/indexing.py:115: SettingWithCopyWarning: \n",
      "A value is trying to be set on a copy of a slice from a DataFrame\n",
      "\n",
      "See the the caveats in the documentation: http://pandas.pydata.org/pandas-docs/stable/indexing.html#indexing-view-versus-copy\n",
      "  self._setitem_with_indexer(indexer, value)\n"
     ]
    }
   ],
   "source": [
    "df_all['cat_var_6'].loc[df_all['cat_var_6'].isnull()]=p"
   ]
  },
  {
   "cell_type": "code",
   "execution_count": 16,
   "metadata": {},
   "outputs": [],
   "source": [
    "df_all.to_csv('new_df_all_cat6.csv', index=False)"
   ]
  },
  {
   "cell_type": "code",
   "execution_count": 17,
   "metadata": {},
   "outputs": [],
   "source": [
    "df=pd.read_csv('new_df_all_with_two.csv')\n",
    "df_new=pd.read_csv('new_df_all_cat6.csv')"
   ]
  },
  {
   "cell_type": "code",
   "execution_count": 18,
   "metadata": {},
   "outputs": [],
   "source": [
    "df['cat_var_6_new']=df_new['cat_var_6']"
   ]
  },
  {
   "cell_type": "code",
   "execution_count": 20,
   "metadata": {},
   "outputs": [],
   "source": [
    "df.to_csv('new_df_all_with_three.csv', index=False)"
   ]
  },
  {
   "cell_type": "markdown",
   "metadata": {},
   "source": [
    "# Imputing third"
   ]
  },
  {
   "cell_type": "code",
   "execution_count": 21,
   "metadata": {},
   "outputs": [
    {
     "name": "stdout",
     "output_type": "stream",
     "text": [
      "The train data has 348978 rows and 51 columns\n",
      "The test data has 523466 rows and 50 columns\n"
     ]
    }
   ],
   "source": [
    "import pandas as pd\n",
    "import numpy as np\n",
    "train = pd.read_csv('train_1.csv')\n",
    "test = pd.read_csv('test_1.csv')\n",
    "print('The train data has {} rows and {} columns'.format(train.shape[0], train.shape[1]))\n",
    "print('The test data has {} rows and {} columns'.format(test.shape[0], test.shape[1]))\n"
   ]
  },
  {
   "cell_type": "code",
   "execution_count": 22,
   "metadata": {},
   "outputs": [],
   "source": [
    "target = train['target']\n",
    "train=train.drop('target',axis=1)\n"
   ]
  },
  {
   "cell_type": "code",
   "execution_count": 23,
   "metadata": {},
   "outputs": [],
   "source": [
    "train=train.drop('transaction_id',axis=1)\n",
    "test=test.drop('transaction_id',axis=1)\n"
   ]
  },
  {
   "cell_type": "code",
   "execution_count": 24,
   "metadata": {},
   "outputs": [],
   "source": [
    "df_all = pd.concat([train, test])"
   ]
  },
  {
   "cell_type": "code",
   "execution_count": 25,
   "metadata": {},
   "outputs": [],
   "source": [
    "total=df_all"
   ]
  },
  {
   "cell_type": "code",
   "execution_count": 26,
   "metadata": {},
   "outputs": [],
   "source": [
    "data_to_pred=total.loc[total['cat_var_1'].isnull()]"
   ]
  },
  {
   "cell_type": "code",
   "execution_count": 27,
   "metadata": {},
   "outputs": [],
   "source": [
    "test_df=total.dropna(axis=0, how='any')"
   ]
  },
  {
   "cell_type": "code",
   "execution_count": 28,
   "metadata": {},
   "outputs": [
    {
     "name": "stdout",
     "output_type": "stream",
     "text": [
      "(630893, 49)\n"
     ]
    }
   ],
   "source": [
    "print (test_df.shape)\n",
    "target=test_df['cat_var_1']\n",
    "test_df=test_df.drop(['cat_var_1'],axis=1)\n",
    "data_to_pred=data_to_pred.drop(['cat_var_1'],axis=1)"
   ]
  },
  {
   "cell_type": "code",
   "execution_count": 29,
   "metadata": {},
   "outputs": [],
   "source": [
    "data_to_pred = data_to_pred.apply(lambda x:x.fillna(x.value_counts().index[0]))\n",
    "total= total.apply(lambda x:x.fillna(x.value_counts().index[0]))"
   ]
  },
  {
   "cell_type": "code",
   "execution_count": 30,
   "metadata": {},
   "outputs": [],
   "source": [
    "cf=test_df.select_dtypes(include=['object']).columns"
   ]
  },
  {
   "cell_type": "code",
   "execution_count": 31,
   "metadata": {},
   "outputs": [
    {
     "name": "stdout",
     "output_type": "stream",
     "text": [
      "cat_var_2\n",
      "cat_var_3\n",
      "cat_var_4\n",
      "cat_var_5\n",
      "cat_var_6\n",
      "cat_var_7\n",
      "cat_var_8\n",
      "cat_var_9\n",
      "cat_var_10\n",
      "cat_var_11\n",
      "cat_var_12\n",
      "cat_var_13\n",
      "cat_var_14\n",
      "cat_var_15\n",
      "cat_var_16\n",
      "cat_var_17\n",
      "cat_var_18\n"
     ]
    }
   ],
   "source": [
    "from sklearn import preprocessing\n",
    "le = preprocessing.LabelEncoder()\n",
    "for i in cf:\n",
    "    print(i)\n",
    "    le.fit(total[i])\n",
    "    test_df[i]=le.transform(test_df[i])\n",
    "    data_to_pred[i]=le.transform(data_to_pred[i])\n"
   ]
  },
  {
   "cell_type": "code",
   "execution_count": 32,
   "metadata": {},
   "outputs": [],
   "source": [
    "from sklearn.cross_validation import train_test_split\n",
    "X_tr,X_te,y_tr,y_te=train_test_split(test_df,target,test_size=0.2,random_state=400)\n"
   ]
  },
  {
   "cell_type": "code",
   "execution_count": 33,
   "metadata": {},
   "outputs": [
    {
     "name": "stdout",
     "output_type": "stream",
     "text": [
      "training complete\n",
      "r2 score train and evaluation of random forest is 0.9999445230368089,0.9957045150143843\n"
     ]
    }
   ],
   "source": [
    "from sklearn.metrics import accuracy_score\n",
    "\n",
    "from sklearn.ensemble import RandomForestClassifier\n",
    "random=RandomForestClassifier()\n",
    "random.fit(X_tr, y_tr)\n",
    "\n",
    "random_pred=random.predict(X_tr)\n",
    "random_pred1=random.predict(X_te)\n",
    "r2=accuracy_score(y_tr,random_pred)\n",
    "r2_1=accuracy_score(y_te,random_pred1)\n",
    "print('training complete')\n",
    "print(\"r2 score train and evaluation of random forest is {},{}\".format(r2,r2_1))\n"
   ]
  },
  {
   "cell_type": "code",
   "execution_count": 34,
   "metadata": {},
   "outputs": [],
   "source": [
    "p=random.predict(data_to_pred)"
   ]
  },
  {
   "cell_type": "code",
   "execution_count": 35,
   "metadata": {},
   "outputs": [
    {
     "name": "stderr",
     "output_type": "stream",
     "text": [
      "/usr/local/lib/python3.5/dist-packages/pandas/core/indexing.py:115: SettingWithCopyWarning: \n",
      "A value is trying to be set on a copy of a slice from a DataFrame\n",
      "\n",
      "See the the caveats in the documentation: http://pandas.pydata.org/pandas-docs/stable/indexing.html#indexing-view-versus-copy\n",
      "  self._setitem_with_indexer(indexer, value)\n"
     ]
    }
   ],
   "source": [
    "df_all['cat_var_1'].loc[df_all['cat_var_1'].isnull()]=p"
   ]
  },
  {
   "cell_type": "code",
   "execution_count": 36,
   "metadata": {},
   "outputs": [],
   "source": [
    "df_all.to_csv('new_df_all_cat1.csv', index=False)"
   ]
  },
  {
   "cell_type": "code",
   "execution_count": 37,
   "metadata": {},
   "outputs": [],
   "source": [
    "df=pd.read_csv('new_df_all_with_three.csv')\n",
    "df_new=pd.read_csv('new_df_all_cat1.csv')"
   ]
  },
  {
   "cell_type": "code",
   "execution_count": 38,
   "metadata": {},
   "outputs": [],
   "source": [
    "df['cat_var_1_new']=df_new['cat_var_1']"
   ]
  },
  {
   "cell_type": "code",
   "execution_count": 39,
   "metadata": {},
   "outputs": [],
   "source": [
    "df.to_csv('new_df_all_with_four.csv', index=False)"
   ]
  },
  {
   "cell_type": "code",
   "execution_count": null,
   "metadata": {},
   "outputs": [],
   "source": []
  }
 ],
 "metadata": {
  "kernelspec": {
   "display_name": "Python 3",
   "language": "python",
   "name": "python3"
  },
  "language_info": {
   "codemirror_mode": {
    "name": "ipython",
    "version": 3
   },
   "file_extension": ".py",
   "mimetype": "text/x-python",
   "name": "python",
   "nbconvert_exporter": "python",
   "pygments_lexer": "ipython3",
   "version": "3.5.2"
  }
 },
 "nbformat": 4,
 "nbformat_minor": 2
}
